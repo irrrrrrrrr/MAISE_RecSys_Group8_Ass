{
 "cells": [
  {
   "cell_type": "code",
   "execution_count": 1,
   "id": "7d53db52",
   "metadata": {},
   "source": [
    "import groups_config as cfg\n",
    "\n",
    "preprocessed_dataset_folder = cfg.preprocessed_dataset_folder\n",
    "group_sizes_to_create = cfg.group_sizes_to_create\n",
    "group_similarity_to_create = cfg.group_similarity_to_create\n",
    "group_number = cfg.group_number\n",
    "\n",
    "print(group_number)"
   ],
   "outputs": []
  },
  {
   "cell_type": "code",
   "execution_count": 2,
   "id": "7e7b2c7c",
   "metadata": {},
   "source": [
    "import pandas as pd\n",
    "\n",
    "ratings_df = pd.read_csv(preprocessed_dataset_folder+\"/XWines_Slim_150K_ratings.csv\") \n",
    "display(ratings_df.head(10))"
   ],
   "outputs": []
  },
  {
   "cell_type": "markdown",
   "id": "d0cc82e9",
   "metadata": {},
   "source": [
    "# Similarity evaluation\n",
    "\n",
    "Evaluation of the similarity between all the pairs o users in the dataset."
   ]
  },
  {
   "cell_type": "code",
   "execution_count": 3,
   "id": "235538d1",
   "metadata": {},
   "source": [
    "# computing similarity between each pair of users\n",
    "\n",
    "import numpy as np\n",
    "\n",
    "user_matrix = ratings_df.pivot_table(columns='WineID', index='UserID', values='Rating')\n",
    "\n",
    "user_id_set = set(ratings_df['UserID'])\n",
    "user_id_indexes = user_matrix.index.values\n",
    "user_matrix = user_matrix.fillna(0)\n",
    "numpy_array = user_matrix.to_numpy()\n",
    "sim_matrix = np.corrcoef(numpy_array)\n",
    "\n",
    "# display(sim_matrix)\n",
    "# display(list(user_id_indexes))\n",
    "# display(user_id_set)"
   ],
   "outputs": []
  },
  {
   "cell_type": "markdown",
   "id": "bc4148ac",
   "metadata": {},
   "source": [
    "## Visualization of the similarity distribution"
   ]
  },
  {
   "cell_type": "code",
   "execution_count": 4,
   "id": "00d2b20f",
   "metadata": {},
   "source": [
    "%matplotlib inline\n",
    "import matplotlib.pyplot as plt\n",
    "plt.hist(sim_matrix.flatten())\n",
    "plt.yscale(\"log\")\n",
    "plt.xlabel(\"Pearson's Correlation Coeficient\")\n"
   ],
   "outputs": []
  },
  {
   "cell_type": "code",
   "execution_count": 5,
   "id": "f5c10191",
   "metadata": {},
   "source": [
    "from groups_generators import GroupsGenerator\n",
    "\n",
    "group_list = list()\n",
    "for group_type in group_similarity_to_create:\n",
    "    print(group_type)\n",
    "    grpGenerator = GroupsGenerator.getGroupsGenerator(group_type)\n",
    "    current_list = grpGenerator.generateGroups(user_id_indexes, user_id_set, sim_matrix, group_sizes_to_create, group_number)\n",
    "    \n",
    "    display(pd.DataFrame.from_records(current_list))\n",
    "    \n",
    "    group_list = group_list + current_list"
   ],
   "outputs": []
  },
  {
   "cell_type": "code",
   "execution_count": 6,
   "id": "f1d269a1",
   "metadata": {},
   "source": [
    "# group_list = group_list_random + group_list_similar + group_list_divergent + group_list_sim_one_div\n",
    "#group_list = group_list_sim_one_div\n",
    "\n",
    "group_dict = dict()\n",
    "for group_id, group in zip(range(len(group_list)), group_list):\n",
    "    group_dict[group_id] = group\n",
    "display(group_dict)"
   ],
   "outputs": []
  },
  {
   "cell_type": "code",
   "execution_count": 7,
   "id": "2806e0e5",
   "metadata": {},
   "source": [
    "# simple similarity viewer per group\n",
    "np.set_printoptions(precision=4, suppress=True)\n",
    "idx = 200\n",
    "member_index = [user_id_indexes.tolist().index(member) for member in group_dict[idx][\"group_members\"]]\n",
    "s = sim_matrix[member_index]\n",
    "s[:,member_index]"
   ],
   "outputs": []
  },
  {
   "cell_type": "code",
   "execution_count": 8,
   "id": "583e757a",
   "metadata": {},
   "source": [
    "import pickle\n",
    "pickle.dump(group_dict, open(preprocessed_dataset_folder+\"/group_composition.pkl\", \"wb\"))"
   ],
   "outputs": []
  },
  {
   "cell_type": "code",
   "execution_count": 9,
   "id": "43952b7e",
   "metadata": {},
   "source": [
    "group_similarity = \"similar\"\n",
    "group_size = 8\n",
    "histogram_list = []\n",
    "for gid in group_dict.keys():\n",
    "    g = group_dict[gid]\n",
    "    if g[\"group_similarity\"] == group_similarity and g[\"group_size\"] == group_size:\n",
    "        member_index = [user_id_indexes.tolist().index(member) for member in g[\"group_members\"]]\n",
    "        s = sim_matrix[member_index]\n",
    "        histogram_list.extend(s[:,member_index].flatten().tolist())\n",
    "\n",
    "        \n",
    "plt.hist(histogram_list)\n",
    "#plt.yscale(\"log\")\n",
    "plt.xlabel(\"PCC for \"+group_similarity+\" groups, size:\"+str(group_size)+\" threshold:\"+str(cfg.similar_threshold))    \n",
    "# plt.savefig(\"pcc_\"+group_similarity+\"_\"+str(group_size)+\"_\"+str(int(cfg.similar_threshold*10))+\".png\", dpi=300)"
   ],
   "outputs": []
  },
  {
   "cell_type": "code",
   "execution_count": 10,
   "id": "ea739eb3",
   "metadata": {},
   "source": [
    "group_similarity = \"divergent\"\n",
    "group_size = 8\n",
    "histogram_list = []\n",
    "for gid in group_dict.keys():\n",
    "    g = group_dict[gid]\n",
    "    if g[\"group_similarity\"] == group_similarity and g[\"group_size\"] == group_size:\n",
    "        member_index = [user_id_indexes.tolist().index(member) for member in g[\"group_members\"]]\n",
    "        s = sim_matrix[member_index]\n",
    "        histogram_list.extend(s[:,member_index].flatten().tolist())\n",
    "\n",
    "        \n",
    "plt.hist(histogram_list)\n",
    "#plt.yscale(\"log\")\n",
    "plt.xlabel(\"PCC for \"+group_similarity+\" groups, size:\"+str(group_size)+\" threshold:\"+str(cfg.dissimilar_threshold))    \n",
    "# plt.savefig(\"pcc_\"+group_similarity+\"_\"+str(group_size)+\"_\"+str(int(cfg.dissimilar_threshold*10))+\".png\", dpi=300)"
   ],
   "outputs": []
  },
  {
   "cell_type": "code",
   "execution_count": 11,
   "id": "b2d6964c",
   "metadata": {},
   "source": [
    "groups_list = list()\n",
    "for group in group_dict:\n",
    "    groups_list.append(\n",
    "        {\n",
    "            'group_id': group,\n",
    "            'group_size': group_dict[group]['group_size'],\n",
    "            'group_similarity': group_dict[group]['group_similarity'],\n",
    "            'group_members': group_dict[group]['group_members'],\n",
    "            'avg_similarity': group_dict[group]['avg_similarity']\n",
    "        }\n",
    "    )\n",
    "\n",
    "groups_df = pd.DataFrame.from_records(groups_list)\n",
    "display(groups_df.head(10))"
   ],
   "outputs": []
  },
  {
   "cell_type": "markdown",
   "id": "8cd5c964",
   "metadata": {},
   "source": [
    "### Comparing groups internal average similarity between the different types and sizes "
   ]
  },
  {
   "cell_type": "code",
   "execution_count": 12,
   "id": "b17339dd",
   "metadata": {},
   "source": [
    "import seaborn as sns\n",
    "\n",
    "\n",
    "plt.rcParams[\"figure.figsize\"] = (20,10)\n",
    "sns.boxplot(x = groups_df['group_size'],\n",
    "            y = groups_df['avg_similarity'],\n",
    "            hue = groups_df['group_similarity'])\n",
    "import matplotlib.pyplot as plt"
   ],
   "outputs": []
  },
  {
   "cell_type": "code",
   "execution_count": 13,
   "id": "9cead201",
   "metadata": {},
   "source": [
    "groups_df.to_csv(preprocessed_dataset_folder+\"/group_composition.csv\")"
   ],
   "outputs": []
  },
  {
   "cell_type": "code",
   "execution_count": null,
   "id": "becba643",
   "metadata": {},
   "source": [],
   "outputs": []
  }
 ],
 "metadata": {
  "kernelspec": {
   "display_name": "Python 3",
   "language": "python",
   "name": "python3"
  },
  "language_info": {
   "codemirror_mode": {
    "name": "ipython",
    "version": 3
   },
   "file_extension": ".py",
   "mimetype": "text/x-python",
   "name": "python",
   "nbconvert_exporter": "python",
   "pygments_lexer": "ipython3",
   "version": "3.9.6"
  }
 },
 "nbformat": 4,
 "nbformat_minor": 5
}
