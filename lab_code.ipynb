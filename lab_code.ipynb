{
 "cells": [
  {
   "cell_type": "code",
   "execution_count": 1,
   "metadata": {},
   "outputs": [
    {
     "data": {
      "text/html": [
       "<div>\n",
       "<style scoped>\n",
       "    .dataframe tbody tr th:only-of-type {\n",
       "        vertical-align: middle;\n",
       "    }\n",
       "\n",
       "    .dataframe tbody tr th {\n",
       "        vertical-align: top;\n",
       "    }\n",
       "\n",
       "    .dataframe thead th {\n",
       "        text-align: right;\n",
       "    }\n",
       "</style>\n",
       "<table border=\"1\" class=\"dataframe\">\n",
       "  <thead>\n",
       "    <tr style=\"text-align: right;\">\n",
       "      <th></th>\n",
       "      <th>user</th>\n",
       "      <th>item</th>\n",
       "      <th>rating</th>\n",
       "    </tr>\n",
       "  </thead>\n",
       "  <tbody>\n",
       "    <tr>\n",
       "      <th>0</th>\n",
       "      <td>1173759</td>\n",
       "      <td>111415</td>\n",
       "      <td>5.0</td>\n",
       "    </tr>\n",
       "    <tr>\n",
       "      <th>1</th>\n",
       "      <td>1075841</td>\n",
       "      <td>111431</td>\n",
       "      <td>5.0</td>\n",
       "    </tr>\n",
       "    <tr>\n",
       "      <th>2</th>\n",
       "      <td>1225931</td>\n",
       "      <td>111431</td>\n",
       "      <td>5.0</td>\n",
       "    </tr>\n",
       "    <tr>\n",
       "      <th>3</th>\n",
       "      <td>1197513</td>\n",
       "      <td>111415</td>\n",
       "      <td>5.0</td>\n",
       "    </tr>\n",
       "    <tr>\n",
       "      <th>4</th>\n",
       "      <td>1173759</td>\n",
       "      <td>135885</td>\n",
       "      <td>5.0</td>\n",
       "    </tr>\n",
       "    <tr>\n",
       "      <th>5</th>\n",
       "      <td>1089224</td>\n",
       "      <td>111478</td>\n",
       "      <td>4.5</td>\n",
       "    </tr>\n",
       "    <tr>\n",
       "      <th>6</th>\n",
       "      <td>1174133</td>\n",
       "      <td>112229</td>\n",
       "      <td>5.0</td>\n",
       "    </tr>\n",
       "    <tr>\n",
       "      <th>7</th>\n",
       "      <td>1141874</td>\n",
       "      <td>111478</td>\n",
       "      <td>5.0</td>\n",
       "    </tr>\n",
       "    <tr>\n",
       "      <th>8</th>\n",
       "      <td>1203892</td>\n",
       "      <td>113240</td>\n",
       "      <td>5.0</td>\n",
       "    </tr>\n",
       "    <tr>\n",
       "      <th>9</th>\n",
       "      <td>1396037</td>\n",
       "      <td>102547</td>\n",
       "      <td>3.0</td>\n",
       "    </tr>\n",
       "  </tbody>\n",
       "</table>\n",
       "</div>"
      ],
      "text/plain": [
       "      user    item  rating\n",
       "0  1173759  111415     5.0\n",
       "1  1075841  111431     5.0\n",
       "2  1225931  111431     5.0\n",
       "3  1197513  111415     5.0\n",
       "4  1173759  135885     5.0\n",
       "5  1089224  111478     4.5\n",
       "6  1174133  112229     5.0\n",
       "7  1141874  111478     5.0\n",
       "8  1203892  113240     5.0\n",
       "9  1396037  102547     3.0"
      ]
     },
     "metadata": {},
     "output_type": "display_data"
    }
   ],
   "source": [
    "import pandas as pd\n",
    "\n",
    "ratings_df = pd.read_csv(\"Dataset/ratings_splits/temporal_global/filtered/train.csv\") \n",
    "\n",
    "ratings_df_cleaned = ratings_df.drop(columns=['RatingID', 'Date', 'Vintage']).rename(columns={'WineID': 'item', 'UserID': 'user', 'Rating': 'rating'})\n",
    "\n",
    "display(ratings_df_cleaned.head(10))"
   ]
  },
  {
   "cell_type": "code",
   "execution_count": 2,
   "metadata": {},
   "outputs": [],
   "source": [
    "wines_df = pd.read_csv('Dataset/last/Xwines_Slim_1K_wines.csv')\n",
    "wines_df['WineID'] = wines_df.index"
   ]
  },
  {
   "cell_type": "code",
   "execution_count": 3,
   "metadata": {},
   "outputs": [
    {
     "name": "stdout",
     "output_type": "stream",
     "text": [
      "Index(['WineID', 'WineName', 'Type', 'Elaborate', 'Grapes', 'Harmonize', 'ABV',\n",
      "       'Body', 'Acidity', 'Code', 'Country', 'RegionID', 'RegionName',\n",
      "       'WineryID', 'WineryName', 'Website', 'Vintages'],\n",
      "      dtype='object')\n"
     ]
    }
   ],
   "source": [
    "print(wines_df.columns)"
   ]
  },
  {
   "cell_type": "code",
   "execution_count": 4,
   "metadata": {},
   "outputs": [
    {
     "data": {
      "text/html": [
       "<div>\n",
       "<style scoped>\n",
       "    .dataframe tbody tr th:only-of-type {\n",
       "        vertical-align: middle;\n",
       "    }\n",
       "\n",
       "    .dataframe tbody tr th {\n",
       "        vertical-align: top;\n",
       "    }\n",
       "\n",
       "    .dataframe thead th {\n",
       "        text-align: right;\n",
       "    }\n",
       "</style>\n",
       "<table border=\"1\" class=\"dataframe\">\n",
       "  <thead>\n",
       "    <tr style=\"text-align: right;\">\n",
       "      <th></th>\n",
       "      <th>UserID</th>\n",
       "    </tr>\n",
       "    <tr>\n",
       "      <th>WineID</th>\n",
       "      <th></th>\n",
       "    </tr>\n",
       "  </thead>\n",
       "  <tbody>\n",
       "    <tr>\n",
       "      <th>100001</th>\n",
       "      <td>289</td>\n",
       "    </tr>\n",
       "    <tr>\n",
       "      <th>100002</th>\n",
       "      <td>4</td>\n",
       "    </tr>\n",
       "    <tr>\n",
       "      <th>100003</th>\n",
       "      <td>8</td>\n",
       "    </tr>\n",
       "    <tr>\n",
       "      <th>100005</th>\n",
       "      <td>10</td>\n",
       "    </tr>\n",
       "    <tr>\n",
       "      <th>100007</th>\n",
       "      <td>10</td>\n",
       "    </tr>\n",
       "    <tr>\n",
       "      <th>...</th>\n",
       "      <td>...</td>\n",
       "    </tr>\n",
       "    <tr>\n",
       "      <th>199408</th>\n",
       "      <td>2</td>\n",
       "    </tr>\n",
       "    <tr>\n",
       "      <th>199481</th>\n",
       "      <td>1</td>\n",
       "    </tr>\n",
       "    <tr>\n",
       "      <th>199533</th>\n",
       "      <td>3</td>\n",
       "    </tr>\n",
       "    <tr>\n",
       "      <th>199885</th>\n",
       "      <td>3</td>\n",
       "    </tr>\n",
       "    <tr>\n",
       "      <th>200139</th>\n",
       "      <td>1</td>\n",
       "    </tr>\n",
       "  </tbody>\n",
       "</table>\n",
       "<p>985 rows × 1 columns</p>\n",
       "</div>"
      ],
      "text/plain": [
       "        UserID\n",
       "WineID        \n",
       "100001     289\n",
       "100002       4\n",
       "100003       8\n",
       "100005      10\n",
       "100007      10\n",
       "...        ...\n",
       "199408       2\n",
       "199481       1\n",
       "199533       3\n",
       "199885       3\n",
       "200139       1\n",
       "\n",
       "[985 rows x 1 columns]"
      ]
     },
     "metadata": {},
     "output_type": "display_data"
    },
    {
     "data": {
      "text/plain": [
       "<seaborn.axisgrid.FacetGrid at 0x28d94be58d0>"
      ]
     },
     "execution_count": 4,
     "metadata": {},
     "output_type": "execute_result"
    },
    {
     "data": {
      "image/png": "[encoded data removed]",
      "text/plain": [
       "<Figure size 500x500 with 1 Axes>"
      ]
     },
     "metadata": {},
     "output_type": "display_data"
    }
   ],
   "source": [
    "import seaborn as sns\n",
    "\n",
    "count_ratings_df = ratings_df[['UserID','WineID']].groupby(['WineID']).count()\n",
    "display(count_ratings_df)\n",
    "sns.displot(data=count_ratings_df, x='UserID', binwidth=1)"
   ]
  },
  {
   "cell_type": "code",
   "execution_count": 5,
   "metadata": {},
   "outputs": [
    {
     "data": {
      "text/html": [
       "<div>\n",
       "<style scoped>\n",
       "    .dataframe tbody tr th:only-of-type {\n",
       "        vertical-align: middle;\n",
       "    }\n",
       "\n",
       "    .dataframe tbody tr th {\n",
       "        vertical-align: top;\n",
       "    }\n",
       "\n",
       "    .dataframe thead th {\n",
       "        text-align: right;\n",
       "    }\n",
       "</style>\n",
       "<table border=\"1\" class=\"dataframe\">\n",
       "  <thead>\n",
       "    <tr style=\"text-align: right;\">\n",
       "      <th></th>\n",
       "      <th>index</th>\n",
       "      <th>WineID</th>\n",
       "      <th>UserID</th>\n",
       "    </tr>\n",
       "  </thead>\n",
       "  <tbody>\n",
       "    <tr>\n",
       "      <th>0</th>\n",
       "      <td>0</td>\n",
       "      <td>167418</td>\n",
       "      <td>848</td>\n",
       "    </tr>\n",
       "    <tr>\n",
       "      <th>1</th>\n",
       "      <td>1</td>\n",
       "      <td>167419</td>\n",
       "      <td>796</td>\n",
       "    </tr>\n",
       "    <tr>\n",
       "      <th>2</th>\n",
       "      <td>2</td>\n",
       "      <td>179012</td>\n",
       "      <td>670</td>\n",
       "    </tr>\n",
       "    <tr>\n",
       "      <th>3</th>\n",
       "      <td>3</td>\n",
       "      <td>155308</td>\n",
       "      <td>590</td>\n",
       "    </tr>\n",
       "    <tr>\n",
       "      <th>4</th>\n",
       "      <td>4</td>\n",
       "      <td>193478</td>\n",
       "      <td>546</td>\n",
       "    </tr>\n",
       "    <tr>\n",
       "      <th>...</th>\n",
       "      <td>...</td>\n",
       "      <td>...</td>\n",
       "      <td>...</td>\n",
       "    </tr>\n",
       "    <tr>\n",
       "      <th>980</th>\n",
       "      <td>980</td>\n",
       "      <td>150820</td>\n",
       "      <td>1</td>\n",
       "    </tr>\n",
       "    <tr>\n",
       "      <th>981</th>\n",
       "      <td>981</td>\n",
       "      <td>185917</td>\n",
       "      <td>1</td>\n",
       "    </tr>\n",
       "    <tr>\n",
       "      <th>982</th>\n",
       "      <td>982</td>\n",
       "      <td>186079</td>\n",
       "      <td>1</td>\n",
       "    </tr>\n",
       "    <tr>\n",
       "      <th>983</th>\n",
       "      <td>983</td>\n",
       "      <td>106091</td>\n",
       "      <td>1</td>\n",
       "    </tr>\n",
       "    <tr>\n",
       "      <th>984</th>\n",
       "      <td>984</td>\n",
       "      <td>200139</td>\n",
       "      <td>1</td>\n",
       "    </tr>\n",
       "  </tbody>\n",
       "</table>\n",
       "<p>985 rows × 3 columns</p>\n",
       "</div>"
      ],
      "text/plain": [
       "     index  WineID  UserID\n",
       "0        0  167418     848\n",
       "1        1  167419     796\n",
       "2        2  179012     670\n",
       "3        3  155308     590\n",
       "4        4  193478     546\n",
       "..     ...     ...     ...\n",
       "980    980  150820       1\n",
       "981    981  185917       1\n",
       "982    982  186079       1\n",
       "983    983  106091       1\n",
       "984    984  200139       1\n",
       "\n",
       "[985 rows x 3 columns]"
      ]
     },
     "metadata": {},
     "output_type": "display_data"
    },
    {
     "data": {
      "text/plain": [
       "<Axes: xlabel='index', ylabel='UserID'>"
      ]
     },
     "execution_count": 5,
     "metadata": {},
     "output_type": "execute_result"
    },
    {
     "data": {
      "image/png": "[encoded data removed]",
      "text/plain": [
       "<Figure size 640x480 with 1 Axes>"
      ]
     },
     "metadata": {},
     "output_type": "display_data"
    }
   ],
   "source": [
    "count_ratings_df_ord = count_ratings_df.sort_values(by=\"UserID\", ascending=False).reset_index().reset_index()\n",
    "display(count_ratings_df_ord)\n",
    "sns.lineplot(data=count_ratings_df_ord, x='index', y='UserID')"
   ]
  },
  {
   "cell_type": "code",
   "execution_count": 6,
   "metadata": {},
   "outputs": [
    {
     "name": "stdout",
     "output_type": "stream",
     "text": [
      "Selected user: 1100007\n"
     ]
    }
   ],
   "source": [
    "users_ratings = ratings_df_cleaned.groupby(['user']).count()\n",
    "\n",
    "selected = users_ratings['rating'] > 20\n",
    "selected_users = users_ratings.loc[selected]\n",
    "random_selected = selected_users.sample() \n",
    "select_column_df = random_selected.reset_index()['user'] \n",
    "selected_user = select_column_df.iloc[0]\n",
    "print(\"Selected user: \" + str(selected_user))"
   ]
  },
  {
   "cell_type": "code",
   "execution_count": 7,
   "metadata": {},
   "outputs": [
    {
     "name": "stderr",
     "output_type": "stream",
     "text": [
      "Numba is using threading layer omp - consider TBB\n",
      "found 1 potential runtime problems - see https://boi.st/lkpy-perf\n"
     ]
    },
    {
     "data": {
      "text/plain": [
       "<lenskit.algorithms.ranking.TopN at 0x28d950f8fd0>"
      ]
     },
     "execution_count": 7,
     "metadata": {},
     "output_type": "execute_result"
    }
   ],
   "source": [
    "from lenskit.algorithms import Recommender\n",
    "from lenskit.algorithms.user_knn import UserUser\n",
    "\n",
    "\n",
    "num_recs = 10  \n",
    "user_user = UserUser(15, min_nbrs=3)  \n",
    "recsys = Recommender.adapt(user_user)\n",
    "recsys.fit(ratings_df_cleaned)"
   ]
  },
  {
   "cell_type": "code",
   "execution_count": 8,
   "metadata": {},
   "outputs": [
    {
     "data": {
      "text/html": [
       "<div>\n",
       "<style scoped>\n",
       "    .dataframe tbody tr th:only-of-type {\n",
       "        vertical-align: middle;\n",
       "    }\n",
       "\n",
       "    .dataframe tbody tr th {\n",
       "        vertical-align: top;\n",
       "    }\n",
       "\n",
       "    .dataframe thead th {\n",
       "        text-align: right;\n",
       "    }\n",
       "</style>\n",
       "<table border=\"1\" class=\"dataframe\">\n",
       "  <thead>\n",
       "    <tr style=\"text-align: right;\">\n",
       "      <th></th>\n",
       "      <th>item</th>\n",
       "      <th>score</th>\n",
       "    </tr>\n",
       "  </thead>\n",
       "  <tbody>\n",
       "    <tr>\n",
       "      <th>0</th>\n",
       "      <td>144337</td>\n",
       "      <td>5.505212</td>\n",
       "    </tr>\n",
       "    <tr>\n",
       "      <th>1</th>\n",
       "      <td>174184</td>\n",
       "      <td>4.541092</td>\n",
       "    </tr>\n",
       "    <tr>\n",
       "      <th>2</th>\n",
       "      <td>105004</td>\n",
       "      <td>4.524138</td>\n",
       "    </tr>\n",
       "    <tr>\n",
       "      <th>3</th>\n",
       "      <td>112084</td>\n",
       "      <td>4.481094</td>\n",
       "    </tr>\n",
       "    <tr>\n",
       "      <th>4</th>\n",
       "      <td>140819</td>\n",
       "      <td>4.478513</td>\n",
       "    </tr>\n",
       "    <tr>\n",
       "      <th>5</th>\n",
       "      <td>113321</td>\n",
       "      <td>4.474796</td>\n",
       "    </tr>\n",
       "    <tr>\n",
       "      <th>6</th>\n",
       "      <td>155628</td>\n",
       "      <td>4.347056</td>\n",
       "    </tr>\n",
       "    <tr>\n",
       "      <th>7</th>\n",
       "      <td>183379</td>\n",
       "      <td>4.331678</td>\n",
       "    </tr>\n",
       "    <tr>\n",
       "      <th>8</th>\n",
       "      <td>183229</td>\n",
       "      <td>4.326180</td>\n",
       "    </tr>\n",
       "    <tr>\n",
       "      <th>9</th>\n",
       "      <td>192584</td>\n",
       "      <td>4.324741</td>\n",
       "    </tr>\n",
       "  </tbody>\n",
       "</table>\n",
       "</div>"
      ],
      "text/plain": [
       "     item     score\n",
       "0  144337  5.505212\n",
       "1  174184  4.541092\n",
       "2  105004  4.524138\n",
       "3  112084  4.481094\n",
       "4  140819  4.478513\n",
       "5  113321  4.474796\n",
       "6  155628  4.347056\n",
       "7  183379  4.331678\n",
       "8  183229  4.326180\n",
       "9  192584  4.324741"
      ]
     },
     "metadata": {},
     "output_type": "display_data"
    }
   ],
   "source": [
    "selected_wines_useruser = recsys.recommend(selected_user, 10)\n",
    "display(selected_wines_useruser)"
   ]
  },
  {
   "cell_type": "code",
   "execution_count": 9,
   "metadata": {},
   "outputs": [],
   "source": [
    "import pandas as pd\n",
    "\n",
    "ratings_df_test = pd.read_csv(\"Dataset/ratings_splits/temporal_global/filtered/test.csv\") \n",
    "\n",
    "# Remove the 'Date' and 'RatingID' columns and rename 'WineID' to 'Item' and 'UserID' to 'User'\n",
    "ratings_df_cleaned_test = ratings_df_test.drop(columns=['RatingID', 'Date', 'Vintage']).rename(columns={'WineID': 'item', 'UserID': 'user', 'Rating': 'rating'})\n",
    "\n",
    "# Display the first 10 rows of the modified DataFrame\n",
    "# display(ratings_df_cleaned_test.head(10))"
   ]
  },
  {
   "cell_type": "code",
   "execution_count": 10,
   "metadata": {},
   "outputs": [
    {
     "data": {
      "text/html": [
       "<div>\n",
       "<style scoped>\n",
       "    .dataframe tbody tr th:only-of-type {\n",
       "        vertical-align: middle;\n",
       "    }\n",
       "\n",
       "    .dataframe tbody tr th {\n",
       "        vertical-align: top;\n",
       "    }\n",
       "\n",
       "    .dataframe thead th {\n",
       "        text-align: right;\n",
       "    }\n",
       "</style>\n",
       "<table border=\"1\" class=\"dataframe\">\n",
       "  <thead>\n",
       "    <tr style=\"text-align: right;\">\n",
       "      <th></th>\n",
       "      <th>item</th>\n",
       "      <th>score</th>\n",
       "    </tr>\n",
       "  </thead>\n",
       "  <tbody>\n",
       "    <tr>\n",
       "      <th>0</th>\n",
       "      <td>144337</td>\n",
       "      <td>5.505212</td>\n",
       "    </tr>\n",
       "    <tr>\n",
       "      <th>1</th>\n",
       "      <td>174184</td>\n",
       "      <td>4.541092</td>\n",
       "    </tr>\n",
       "    <tr>\n",
       "      <th>2</th>\n",
       "      <td>105004</td>\n",
       "      <td>4.524138</td>\n",
       "    </tr>\n",
       "    <tr>\n",
       "      <th>3</th>\n",
       "      <td>112084</td>\n",
       "      <td>4.481094</td>\n",
       "    </tr>\n",
       "    <tr>\n",
       "      <th>4</th>\n",
       "      <td>140819</td>\n",
       "      <td>4.478513</td>\n",
       "    </tr>\n",
       "    <tr>\n",
       "      <th>...</th>\n",
       "      <td>...</td>\n",
       "      <td>...</td>\n",
       "    </tr>\n",
       "    <tr>\n",
       "      <th>564</th>\n",
       "      <td>106867</td>\n",
       "      <td>2.595933</td>\n",
       "    </tr>\n",
       "    <tr>\n",
       "      <th>565</th>\n",
       "      <td>193941</td>\n",
       "      <td>2.590015</td>\n",
       "    </tr>\n",
       "    <tr>\n",
       "      <th>566</th>\n",
       "      <td>176112</td>\n",
       "      <td>2.588886</td>\n",
       "    </tr>\n",
       "    <tr>\n",
       "      <th>567</th>\n",
       "      <td>112732</td>\n",
       "      <td>2.170536</td>\n",
       "    </tr>\n",
       "    <tr>\n",
       "      <th>568</th>\n",
       "      <td>100005</td>\n",
       "      <td>2.082656</td>\n",
       "    </tr>\n",
       "  </tbody>\n",
       "</table>\n",
       "<p>569 rows × 2 columns</p>\n",
       "</div>"
      ],
      "text/plain": [
       "       item     score\n",
       "0    144337  5.505212\n",
       "1    174184  4.541092\n",
       "2    105004  4.524138\n",
       "3    112084  4.481094\n",
       "4    140819  4.478513\n",
       "..      ...       ...\n",
       "564  106867  2.595933\n",
       "565  193941  2.590015\n",
       "566  176112  2.588886\n",
       "567  112732  2.170536\n",
       "568  100005  2.082656\n",
       "\n",
       "[569 rows x 2 columns]"
      ]
     },
     "metadata": {},
     "output_type": "display_data"
    }
   ],
   "source": [
    "selected_wines_useruser = recsys.recommend(selected_user, 1001)\n",
    "display(selected_wines_useruser)"
   ]
  },
  {
   "cell_type": "code",
   "execution_count": 11,
   "metadata": {},
   "outputs": [
    {
     "name": "stdout",
     "output_type": "stream",
     "text": [
      "          user    item  rating\n",
      "7382   1100007  135922     3.5\n",
      "12642  1100007  193552     3.5\n",
      "13593  1100007  192503     4.5\n",
      "15663  1100007  192584     4.0\n",
      "20366  1100007  112861     4.0\n",
      "21279  1100007  112948     4.0\n",
      "22038  1100007  192515     4.0\n",
      "24060  1100007  111645     3.5\n"
     ]
    }
   ],
   "source": [
    "wine_row = ratings_df_cleaned_test[ratings_df_cleaned_test['user'] == selected_user]\n",
    "print(wine_row)"
   ]
  },
  {
   "cell_type": "code",
   "execution_count": 12,
   "metadata": {},
   "outputs": [
    {
     "name": "stdout",
     "output_type": "stream",
     "text": [
      "      item     score\n",
      "82  111433  3.899823\n"
     ]
    }
   ],
   "source": [
    "wine_row_2 = selected_wines_useruser[selected_wines_useruser['item'] == 111433]\n",
    "print(wine_row_2)"
   ]
  },
  {
   "cell_type": "code",
   "execution_count": 13,
   "metadata": {},
   "outputs": [
    {
     "name": "stderr",
     "output_type": "stream",
     "text": [
      "C:\\Users\\emmxc\\AppData\\Local\\Packages\\PythonSoftwareFoundation.Python.3.11_qbz5n2kfra8p0\\LocalCache\\local-packages\\Python311\\site-packages\\lenskit\\algorithms\\item_knn.py:119: NumbaTypeSafetyWarning: \u001b[1m\u001b[1m\u001b[1munsafe cast from uint64 to int64. Precision may be lost.\u001b[0m\u001b[0m\u001b[0m\n",
      "  b = blocks[bi]\n"
     ]
    },
    {
     "data": {
      "text/plain": [
       "<lenskit.algorithms.ranking.TopN at 0x28d99d0a750>"
      ]
     },
     "execution_count": 13,
     "metadata": {},
     "output_type": "execute_result"
    }
   ],
   "source": [
    "from lenskit.algorithms import Recommender\n",
    "from lenskit.algorithms.item_knn import ItemItem\n",
    "\n",
    "\n",
    "num_recs = 10  \n",
    "itemitem = ItemItem(15, min_nbrs=3)  \n",
    "recsys_item = Recommender.adapt(itemitem)\n",
    "recsys_item.fit(ratings_df_cleaned)"
   ]
  },
  {
   "cell_type": "code",
   "execution_count": 14,
   "metadata": {},
   "outputs": [
    {
     "data": {
      "text/html": [
       "<div>\n",
       "<style scoped>\n",
       "    .dataframe tbody tr th:only-of-type {\n",
       "        vertical-align: middle;\n",
       "    }\n",
       "\n",
       "    .dataframe tbody tr th {\n",
       "        vertical-align: top;\n",
       "    }\n",
       "\n",
       "    .dataframe thead th {\n",
       "        text-align: right;\n",
       "    }\n",
       "</style>\n",
       "<table border=\"1\" class=\"dataframe\">\n",
       "  <thead>\n",
       "    <tr style=\"text-align: right;\">\n",
       "      <th></th>\n",
       "      <th>item</th>\n",
       "      <th>score</th>\n",
       "    </tr>\n",
       "  </thead>\n",
       "  <tbody>\n",
       "    <tr>\n",
       "      <th>0</th>\n",
       "      <td>181280</td>\n",
       "      <td>5.020971</td>\n",
       "    </tr>\n",
       "    <tr>\n",
       "      <th>1</th>\n",
       "      <td>182711</td>\n",
       "      <td>4.881453</td>\n",
       "    </tr>\n",
       "    <tr>\n",
       "      <th>2</th>\n",
       "      <td>179855</td>\n",
       "      <td>4.815718</td>\n",
       "    </tr>\n",
       "    <tr>\n",
       "      <th>3</th>\n",
       "      <td>115984</td>\n",
       "      <td>4.804241</td>\n",
       "    </tr>\n",
       "    <tr>\n",
       "      <th>4</th>\n",
       "      <td>182081</td>\n",
       "      <td>4.780316</td>\n",
       "    </tr>\n",
       "    <tr>\n",
       "      <th>...</th>\n",
       "      <td>...</td>\n",
       "      <td>...</td>\n",
       "    </tr>\n",
       "    <tr>\n",
       "      <th>710</th>\n",
       "      <td>193719</td>\n",
       "      <td>2.587471</td>\n",
       "    </tr>\n",
       "    <tr>\n",
       "      <th>711</th>\n",
       "      <td>142975</td>\n",
       "      <td>2.546068</td>\n",
       "    </tr>\n",
       "    <tr>\n",
       "      <th>712</th>\n",
       "      <td>164987</td>\n",
       "      <td>2.525575</td>\n",
       "    </tr>\n",
       "    <tr>\n",
       "      <th>713</th>\n",
       "      <td>174466</td>\n",
       "      <td>2.505805</td>\n",
       "    </tr>\n",
       "    <tr>\n",
       "      <th>714</th>\n",
       "      <td>194820</td>\n",
       "      <td>2.459333</td>\n",
       "    </tr>\n",
       "  </tbody>\n",
       "</table>\n",
       "<p>715 rows × 2 columns</p>\n",
       "</div>"
      ],
      "text/plain": [
       "       item     score\n",
       "0    181280  5.020971\n",
       "1    182711  4.881453\n",
       "2    179855  4.815718\n",
       "3    115984  4.804241\n",
       "4    182081  4.780316\n",
       "..      ...       ...\n",
       "710  193719  2.587471\n",
       "711  142975  2.546068\n",
       "712  164987  2.525575\n",
       "713  174466  2.505805\n",
       "714  194820  2.459333\n",
       "\n",
       "[715 rows x 2 columns]"
      ]
     },
     "metadata": {},
     "output_type": "display_data"
    }
   ],
   "source": [
    "selected_wines_itemitem = recsys_item.recommend(selected_user, 1001)\n",
    "display(selected_wines_itemitem)"
   ]
  },
  {
   "cell_type": "code",
   "execution_count": 15,
   "metadata": {},
   "outputs": [
    {
     "name": "stdout",
     "output_type": "stream",
     "text": [
      "          user    item  rating\n",
      "7382   1100007  135922     3.5\n",
      "12642  1100007  193552     3.5\n",
      "13593  1100007  192503     4.5\n",
      "15663  1100007  192584     4.0\n",
      "20366  1100007  112861     4.0\n",
      "21279  1100007  112948     4.0\n",
      "22038  1100007  192515     4.0\n",
      "24060  1100007  111645     3.5\n"
     ]
    }
   ],
   "source": [
    "wine_row = ratings_df_cleaned_test[ratings_df_cleaned_test['user'] == selected_user]\n",
    "print(wine_row)"
   ]
  },
  {
   "cell_type": "code",
   "execution_count": 16,
   "metadata": {},
   "outputs": [
    {
     "name": "stdout",
     "output_type": "stream",
     "text": [
      "       item     score\n",
      "162  100067  3.944656\n"
     ]
    }
   ],
   "source": [
    "wine_row_item = selected_wines_itemitem[selected_wines_itemitem['item'] == 100067]\n",
    "print(wine_row_item)"
   ]
  },
  {
   "cell_type": "markdown",
   "metadata": {},
   "source": [
    "EVALUATION OF INDIVIDUAL RECOMMENDER SYSTEM\n",
    "\n",
    "Root Mean Squared Error (RMSE): to evaluate accuracy of rating predictions\n",
    "\n",
    "For a recommender system, an RMSE of around 0.5 to 1.5 on a 5-star rating scale is considered reasonable, depending on the system's complexity.\n",
    "\n",
    "We use the RMSE because we get a non-discrete rating so we calculate distances. And RMSE get a penalty if you are far from the rating so we chose it to have very accurate evaluation. It is particularly useful when you're making predictions on a continuous scale, like in this case where we're predicting wine ratings (e.g., from 1 to 5)."
   ]
  },
  {
   "cell_type": "markdown",
   "metadata": {},
   "source": [
    "User-User Collaborative Filtering (User-User KNN) for the first user"
   ]
  },
  {
   "cell_type": "code",
   "execution_count": 17,
   "metadata": {},
   "outputs": [
    {
     "name": "stdout",
     "output_type": "stream",
     "text": [
      "     item  rating     score\n",
      "0  193552     3.5  3.417490\n",
      "1  192503     4.5  3.430812\n",
      "2  192584     4.0  4.324741\n",
      "3  112948     4.0  3.736327\n",
      "4  192515     4.0  3.242258\n",
      "5  111645     3.5  3.589199\n",
      "RMSE for User-User KNN: 0.5637789193033876\n"
     ]
    }
   ],
   "source": [
    "from sklearn.metrics import mean_squared_error\n",
    "import numpy as np\n",
    "\n",
    "selected_wines_useruser = recsys.recommend(selected_user, 1001)  # User-User\n",
    "\n",
    "wine_row = ratings_df_cleaned_test[ratings_df_cleaned_test['user'] == selected_user]\n",
    "\n",
    "actual_ratings = wine_row[['item', 'rating']]  # Actual ratings by user from test set\n",
    "predicted_ratings_useruser = selected_wines_useruser[selected_wines_useruser['item'].isin(actual_ratings['item'])]\n",
    "\n",
    "# Merge actual and predicted ratings for comparison\n",
    "merged_useruser = pd.merge(actual_ratings, predicted_ratings_useruser, on='item', how='inner')\n",
    "print(merged_useruser)\n",
    "\n",
    "# RMSE for User-User KNN\n",
    "rmse_useruser = np.sqrt(mean_squared_error(merged_useruser['rating'], merged_useruser['score']))\n",
    "print(f'RMSE for User-User KNN: {rmse_useruser}')\n"
   ]
  },
  {
   "cell_type": "markdown",
   "metadata": {},
   "source": [
    "Item-Item Collaborative Filtering (Item-Item KNN) for the first user"
   ]
  },
  {
   "cell_type": "code",
   "execution_count": 18,
   "metadata": {},
   "outputs": [
    {
     "name": "stdout",
     "output_type": "stream",
     "text": [
      "     item  rating     score\n",
      "0  135922     3.5  3.469114\n",
      "1  193552     3.5  3.602761\n",
      "2  192503     4.5  3.719623\n",
      "3  192584     4.0  3.624963\n",
      "4  112861     4.0  3.702843\n",
      "5  112948     4.0  3.290862\n",
      "6  192515     4.0  3.589096\n",
      "7  111645     3.5  3.640483\n",
      "RMSE for Item-Item KNN: 0.43887797086810526\n"
     ]
    }
   ],
   "source": [
    "selected_wines_itemitem = recsys_item.recommend(selected_user, 1001)  # Item-Item\n",
    "\n",
    "wine_row = ratings_df_cleaned_test[ratings_df_cleaned_test['user'] == selected_user]\n",
    "\n",
    "predicted_ratings_itemitem = selected_wines_itemitem[selected_wines_itemitem['item'].isin(actual_ratings['item'])]\n",
    "\n",
    "# Merge actual and predicted ratings for comparison\n",
    "merged_itemitem = pd.merge(actual_ratings, predicted_ratings_itemitem, on='item', how='inner')\n",
    "print(merged_itemitem)\n",
    "\n",
    "# RMSE for Item-Item KNN\n",
    "rmse_itemitem = np.sqrt(mean_squared_error(merged_itemitem['rating'], merged_itemitem['score']))\n",
    "print(f'RMSE for Item-Item KNN: {rmse_itemitem}')"
   ]
  },
  {
   "cell_type": "code",
   "execution_count": 19,
   "metadata": {},
   "outputs": [
    {
     "data": {
      "image/png": "[encoded data removed]",
      "text/plain": [
       "<Figure size 1000x600 with 1 Axes>"
      ]
     },
     "metadata": {},
     "output_type": "display_data"
    }
   ],
   "source": [
    "import pandas as pd\n",
    "import matplotlib.pyplot as plt\n",
    "\n",
    "# Select users who have ratings in the test set\n",
    "users_ratings_test = ratings_df_cleaned_test.groupby('user').count()\n",
    "selected_users = users_ratings_test[users_ratings_test['rating'] > 1].index.tolist()  # Users with more than 10 ratings\n",
    "\n",
    "# Initialize lists to store RMSE values\n",
    "rmse_useruser_list = []\n",
    "rmse_itemitem_list = []\n",
    "\n",
    "# Loop through the selected users and calculate RMSE for each model\n",
    "for selected_user in selected_users:\n",
    "    # Get actual ratings for the user from the test set\n",
    "    actual_ratings = ratings_df_cleaned_test[ratings_df_cleaned_test['user'] == selected_user][['item', 'rating']]\n",
    "\n",
    "    # Get predictions from User-User model\n",
    "    predicted_useruser = recsys.recommend(selected_user, 1000)\n",
    "    merged_useruser = pd.merge(actual_ratings, predicted_useruser, on='item', how='inner')\n",
    "    \n",
    "    if len(merged_useruser) > 0:\n",
    "        rmse_useruser = np.sqrt(mean_squared_error(merged_useruser['rating'], merged_useruser['score']))\n",
    "    else:\n",
    "        rmse_useruser = np.nan  # In case no predictions were found for this user\n",
    "    \n",
    "    # Get predictions from Item-Item model\n",
    "    predicted_itemitem = recsys_item.recommend(selected_user, 1000)\n",
    "    merged_itemitem = pd.merge(actual_ratings, predicted_itemitem, on='item', how='inner')\n",
    "    \n",
    "    if len(merged_itemitem) > 0:\n",
    "        rmse_itemitem = np.sqrt(mean_squared_error(merged_itemitem['rating'], merged_itemitem['score']))\n",
    "    else:\n",
    "        rmse_itemitem = np.nan  # In case no predictions were found for this user\n",
    "\n",
    "    # Store the RMSE values\n",
    "    rmse_useruser_list.append(rmse_useruser)\n",
    "    rmse_itemitem_list.append(rmse_itemitem)\n",
    "\n",
    "# Convert the lists to DataFrames\n",
    "rmse_df = pd.DataFrame({\n",
    "    'user': selected_users,\n",
    "    'rmse_useruser': rmse_useruser_list,\n",
    "    'rmse_itemitem': rmse_itemitem_list\n",
    "})\n",
    "\n",
    "# Plot the RMSE values for User-User and Item-Item models\n",
    "plt.figure(figsize=(10, 6))\n",
    "plt.plot(rmse_df['user'], rmse_df['rmse_useruser'], label='User-User RMSE', marker='o')\n",
    "plt.plot(rmse_df['user'], rmse_df['rmse_itemitem'], label='Item-Item RMSE', marker='x')\n",
    "plt.xlabel('User ID')\n",
    "plt.ylabel('RMSE')\n",
    "plt.title('RMSE Comparison for User-User and Item-Item Recommenders')\n",
    "plt.legend()\n",
    "plt.xticks(rotation=90)\n",
    "plt.grid(True)\n",
    "plt.tight_layout()\n",
    "plt.show()\n"
   ]
  },
  {
   "cell_type": "markdown",
   "metadata": {},
   "source": [
    "Precision@K and Recall@K: \n",
    "These metrics help evaluate how well the system ranks items in the top K recommendations, which is crucial for our individual recommendation systems\n",
    "\n",
    "Tried to implement these, but would get very bad scored while the RMSE indicates a good system. I think its is because:\n",
    "- Data sparsity\n",
    "- Cold start problem"
   ]
  },
  {
   "cell_type": "code",
   "execution_count": 27,
   "metadata": {},
   "outputs": [
    {
     "name": "stdout",
     "output_type": "stream",
     "text": [
      "Average Precision@10: 0.0221\n",
      "Average Recall@10: 0.0176\n"
     ]
    }
   ],
   "source": [
    "import numpy as np\n",
    "\n",
    "def precision_at_k(recommended_items, relevant_items, k):\n",
    "    \"\"\"\n",
    "    Calculate Precision@K for a user.\n",
    "    \n",
    "    Args:\n",
    "    recommended_items: List of items recommended by the system.\n",
    "    relevant_items: Set of relevant items (items rated > 3.0).\n",
    "    k: Number of top recommendations (K).\n",
    "    \n",
    "    Returns:\n",
    "    Precision@K score.\n",
    "    \"\"\"\n",
    "    recommended_at_k = recommended_items[:k]\n",
    "    relevant_at_k = set(recommended_at_k).intersection(relevant_items)\n",
    "    precision = len(relevant_at_k) / k\n",
    "    return precision\n",
    "\n",
    "def recall_at_k(recommended_items, relevant_items, k):\n",
    "    \"\"\"\n",
    "    Calculate Recall@K for a user.\n",
    "    \n",
    "    Args:\n",
    "    recommended_items: List of items recommended by the system.\n",
    "    relevant_items: Set of relevant items (items rated > 3.0).\n",
    "    k: Number of top recommendations (K).\n",
    "    \n",
    "    Returns:\n",
    "    Recall@K score.\n",
    "    \"\"\"\n",
    "    recommended_at_k = recommended_items[:k]\n",
    "    relevant_at_k = set(recommended_at_k).intersection(relevant_items)\n",
    "    recall = len(relevant_at_k) / len(relevant_items) if relevant_items else 0\n",
    "    return recall\n",
    "\n",
    "def evaluate_recsys_at_k(recsys, test_df, k=10, min_ratings=10, relevant_threshold=3.0):\n",
    "    \"\"\"\n",
    "    Evaluate recommendation system for Precision@K and Recall@K.\n",
    "    \n",
    "    Args:\n",
    "    recsys: The recommender system object.\n",
    "    test_df: Test dataframe with user-item interactions.\n",
    "    k: The number of top recommendations (K).\n",
    "    min_ratings: Minimum number of ratings for a user to be included.\n",
    "    relevant_threshold: Rating threshold for relevant items (e.g., > 3.0).\n",
    "    \n",
    "    Returns:\n",
    "    Average Precision@K and Recall@K for all users.\n",
    "    \"\"\"\n",
    "    precision_list = []\n",
    "    recall_list = []\n",
    "    \n",
    "    # Filter users with more than min_ratings\n",
    "    user_ratings_count = test_df.groupby('user').size()\n",
    "    eligible_users = user_ratings_count[user_ratings_count > min_ratings].index\n",
    "    \n",
    "    for user in eligible_users:\n",
    "        # Get the items this user rated in the test set\n",
    "        user_data = test_df[test_df['user'] == user]\n",
    "        relevant_items = set(user_data[user_data['rating'] > relevant_threshold]['item'])\n",
    "        \n",
    "        if not relevant_items:\n",
    "            continue  # Skip users with no relevant items\n",
    "        \n",
    "        # Get top K recommendations for this user\n",
    "        recommended_items = recsys.recommend(user, k)['item'].tolist()\n",
    "        \n",
    "        # Calculate Precision@K and Recall@K\n",
    "        precision_k = precision_at_k(recommended_items, relevant_items, k)\n",
    "        recall_k = recall_at_k(recommended_items, relevant_items, k)\n",
    "        \n",
    "        precision_list.append(precision_k)\n",
    "        recall_list.append(recall_k)\n",
    "    \n",
    "    # Return average Precision@K and Recall@K across all eligible users\n",
    "    avg_precision = np.mean(precision_list)\n",
    "    avg_recall = np.mean(recall_list)\n",
    "    \n",
    "    return avg_precision, avg_recall\n",
    "\n",
    "# Example usage for your recommender system:\n",
    "precision_k, recall_k = evaluate_recsys_at_k(recsys, ratings_df_cleaned_test, k=10)\n",
    "\n",
    "print(f\"Average Precision@10: {precision_k:.4f}\")\n",
    "print(f\"Average Recall@10: {recall_k:.4f}\")\n"
   ]
  },
  {
   "cell_type": "markdown",
   "metadata": {},
   "source": [
    "Normalized Discounted Cumulative Gain (NDCG)\n",
    "NDCG measures the effectiveness of a recommendation based on the positions of relevant items in the ranked list. Higher ranks for relevant items contribute more to the score.\n",
    "\n",
    "Hppens the same as Precision and Recall"
   ]
  },
  {
   "cell_type": "code",
   "execution_count": 20,
   "metadata": {},
   "outputs": [
    {
     "name": "stdout",
     "output_type": "stream",
     "text": [
      "Standard Deviation User-User RMSE: 0.1883782248721945\n",
      "Standard Deviation Item-Item RMSE: 0.1717282075316873\n"
     ]
    },
    {
     "data": {
      "image/png": "[encoded data removed]",
      "text/plain": [
       "<Figure size 1200x600 with 1 Axes>"
      ]
     },
     "metadata": {},
     "output_type": "display_data"
    },
    {
     "data": {
      "image/png": "[encoded data removed]",
      "text/plain": [
       "<Figure size 800x600 with 1 Axes>"
      ]
     },
     "metadata": {},
     "output_type": "display_data"
    }
   ],
   "source": [
    "import pandas as pd\n",
    "import matplotlib.pyplot as plt\n",
    "import numpy as np\n",
    "\n",
    "# Assuming the rest of the code where rmse_useruser_list and rmse_itemitem_list are populated\n",
    "\n",
    "# Convert the lists to DataFrames (already done in your original code)\n",
    "rmse_df = pd.DataFrame({\n",
    "    'user': selected_users,\n",
    "    'rmse_useruser': rmse_useruser_list,\n",
    "    'rmse_itemitem': rmse_itemitem_list\n",
    "})\n",
    "\n",
    "# Drop NaN values (if any) to avoid errors in the histogram and calculations\n",
    "rmse_df_cleaned = rmse_df.dropna(subset=['rmse_useruser', 'rmse_itemitem'])\n",
    "\n",
    "# 1. Standardabweichung berechnen\n",
    "std_useruser = rmse_df_cleaned['rmse_useruser'].std()\n",
    "std_itemitem = rmse_df_cleaned['rmse_itemitem'].std()\n",
    "\n",
    "print(f\"Standard Deviation User-User RMSE: {std_useruser}\")\n",
    "print(f\"Standard Deviation Item-Item RMSE: {std_itemitem}\")\n",
    "\n",
    "plt.figure(figsize=(12, 6))\n",
    "\n",
    "plt.hist(rmse_df_cleaned['rmse_useruser'], bins=20, alpha=0.5, label='User-User RMSE', color='blue')\n",
    "plt.hist(rmse_df_cleaned['rmse_itemitem'], bins=20, alpha=0.5, label='Item-Item RMSE', color='green')\n",
    "\n",
    "plt.xlabel('RMSE')\n",
    "plt.ylabel('Frequency')\n",
    "plt.title('Histogram of RMSE for User-User and Item-Item Recommenders')\n",
    "plt.legend()\n",
    "plt.grid(True)\n",
    "plt.tight_layout()\n",
    "plt.show()\n",
    "\n",
    "plt.figure(figsize=(8, 6))\n",
    "plt.boxplot([rmse_df_cleaned['rmse_useruser'], rmse_df_cleaned['rmse_itemitem']], \n",
    "            labels=['User-User RMSE', 'Item-Item RMSE'])\n",
    "\n",
    "plt.ylabel('RMSE')\n",
    "plt.title('Boxplot of RMSE for User-User and Item-Item Recommenders')\n",
    "plt.grid(True)\n",
    "plt.tight_layout()\n",
    "plt.show()\n"
   ]
  },
  {
   "cell_type": "code",
   "execution_count": 21,
   "metadata": {},
   "outputs": [
    {
     "name": "stdout",
     "output_type": "stream",
     "text": [
      "NDCG@10 for User-User: 0.009831843131158086\n",
      "NDCG@10 for Item-Item: 0.017600918444423946\n"
     ]
    }
   ],
   "source": [
    "def ndcg_at_k(recommended_items, relevant_items, k):\n",
    "    recommended_at_k = recommended_items[:k]\n",
    "    relevance = [1 if item in relevant_items else 0 for item in recommended_at_k]\n",
    "\n",
    "    dcg = sum(rel / np.log2(idx + 1) for idx, rel in enumerate(relevance, start=1))\n",
    "    \n",
    "    ideal_relevance = sorted([1 if item in relevant_items else 0 for item in relevant_items], reverse=True)\n",
    "    idcg = sum(rel / np.log2(idx + 1) for idx, rel in enumerate(ideal_relevance, start=1))\n",
    "    \n",
    "    ndcg = dcg / idcg if idcg > 0 else 0\n",
    "    return ndcg\n",
    "\n",
    "def calculate_ndcg_for_all_users(recsys, test_df, k):\n",
    "    ndcg_scores = []\n",
    "    \n",
    "    for user in test_df['user'].unique():\n",
    "        relevant_items = test_df[test_df['user'] == user]['item'].tolist()\n",
    "        recommended_items = recsys.recommend(user, k)['item'].tolist()\n",
    "        \n",
    "        ndcg = ndcg_at_k(recommended_items, relevant_items, k)\n",
    "        ndcg_scores.append(ndcg)\n",
    "    \n",
    "    return np.mean(ndcg_scores)\n",
    "\n",
    "# Assuming recsys_user_user and recsys_item_item are your trained recommendation systems\n",
    "K = 10  # Set K value for NDCG\n",
    "ndcg_user_user = calculate_ndcg_for_all_users(recsys, ratings_df_cleaned_test, K)\n",
    "ndcg_item_item = calculate_ndcg_for_all_users(recsys_item, ratings_df_cleaned_test, K)\n",
    "\n",
    "print(f\"NDCG@{K} for User-User: {ndcg_user_user}\")\n",
    "print(f\"NDCG@{K} for Item-Item: {ndcg_item_item}\")\n"
   ]
  },
  {
   "cell_type": "markdown",
   "metadata": {},
   "source": [
    "USER COVERAGE\n",
    "\n",
    "Evaluating user coverage in a recommendation system measures the proportion of users for whom the system can provide recommendations. It gives insights into how well the system serves its user base.\n",
    "\n",
    "96.61% for User-User and 96.38% for Item-Item suggest that both recommendation systems are effectively serving nearly all users in your dataset. This indicates a well-performing system in terms of reach.\n"
   ]
  },
  {
   "cell_type": "code",
   "execution_count": 22,
   "metadata": {},
   "outputs": [
    {
     "name": "stdout",
     "output_type": "stream",
     "text": [
      "User Coverage for User-User: 96.61%\n",
      "User Coverage for Item-Item: 96.38%\n"
     ]
    }
   ],
   "source": [
    "def calculate_user_coverage(recsys, test_df):\n",
    "    total_users = test_df['user'].nunique()\n",
    "    users_with_recommendations = 0\n",
    "    \n",
    "    for user in test_df['user'].unique():\n",
    "        recommended_items = recsys.recommend(user, 1)  # Get at least 1 recommendation\n",
    "        if not recommended_items.empty:\n",
    "            users_with_recommendations += 1\n",
    "    \n",
    "    user_coverage = (users_with_recommendations / total_users) * 100\n",
    "    return user_coverage\n",
    "\n",
    "# Example usage for user-user and item-item recommendation systems\n",
    "user_coverage_user_user = calculate_user_coverage(recsys, ratings_df_cleaned_test)\n",
    "user_coverage_item_item = calculate_user_coverage(recsys_item, ratings_df_cleaned_test)\n",
    "\n",
    "print(f\"User Coverage for User-User: {user_coverage_user_user:.2f}%\")\n",
    "print(f\"User Coverage for Item-Item: {user_coverage_item_item:.2f}%\")\n"
   ]
  },
  {
   "cell_type": "markdown",
   "metadata": {},
   "source": [
    "CATALOG COVERAGE\n",
    "\n",
    "refers to the proportion or percentage of the total available items (in this case, wines) that are recommended to users over a given period"
   ]
  },
  {
   "cell_type": "code",
   "execution_count": 24,
   "metadata": {},
   "outputs": [
    {
     "name": "stdout",
     "output_type": "stream",
     "text": [
      "Catalog Coverage for User-User: 38.27%\n",
      "Catalog Coverage for Item-Item: 49.85%\n"
     ]
    }
   ],
   "source": [
    "def calculate_catalog_coverage(recsys, test_df, item_catalog):\n",
    "    total_items = len(item_catalog)  # Total number of items in the dataset (wine catalog)\n",
    "    unique_recommended_items = set()  # To store all unique items recommended\n",
    "\n",
    "    for user in test_df['user'].unique():\n",
    "        recommended_items = recsys.recommend(user, 10)  # Get top-N recommendations for each user\n",
    "        unique_recommended_items.update(recommended_items['item'].unique())  # Track unique items\n",
    "\n",
    "    catalog_coverage = (len(unique_recommended_items) / total_items) * 100\n",
    "    return catalog_coverage\n",
    "\n",
    "wine_catalog = ratings_df_cleaned['item'].unique()  # Extract unique wine IDs\n",
    "total_wines = len(wine_catalog)  # Total number of unique wines\n",
    "\n",
    "# Example usage for user-user and item-item recommendation systems\n",
    "catalog_coverage_user_user = calculate_catalog_coverage(recsys, ratings_df_cleaned_test, wine_catalog)\n",
    "catalog_coverage_item_item = calculate_catalog_coverage(recsys_item, ratings_df_cleaned_test, wine_catalog)\n",
    "\n",
    "print(f\"Catalog Coverage for User-User: {catalog_coverage_user_user:.2f}%\")\n",
    "print(f\"Catalog Coverage for Item-Item: {catalog_coverage_item_item:.2f}%\")\n"
   ]
  },
  {
   "cell_type": "markdown",
   "metadata": {},
   "source": [
    "The 40% catalog coverage shows a popularity bias for some type of wines. And there are other wines rarely rated so they dont show up as much"
   ]
  }
 ],
 "metadata": {
  "kernelspec": {
   "display_name": "Python 3",
   "language": "python",
   "name": "python3"
  },
  "language_info": {
   "codemirror_mode": {
    "name": "ipython",
    "version": 3
   },
   "file_extension": ".py",
   "mimetype": "text/x-python",
   "name": "python",
   "nbconvert_exporter": "python",
   "pygments_lexer": "ipython3",
   "version": "3.11.9"
  }
 },
 "nbformat": 4,
 "nbformat_minor": 2
}
