{
 "cells": [
  {
   "cell_type": "code",
   "execution_count": 27,
   "metadata": {},
   "outputs": [
    {
     "name": "stderr",
     "output_type": "stream",
     "text": [
      "C:\\Users\\antoi\\AppData\\Local\\Temp\\ipykernel_21436\\2106424664.py:8: DtypeWarning: Columns (3) have mixed types. Specify dtype option on import or set low_memory=False.\n",
      "  ratings_data = pd.read_csv('Dataset/last/XWines_Slim_150K_ratings.csv')\n"
     ]
    }
   ],
   "source": [
    "import pandas as pd\n",
    "import ast\n",
    "from sklearn.neighbors import NearestNeighbors\n",
    "from sklearn.preprocessing import OneHotEncoder\n",
    "from group_recommender_algs import group_rec, get_wine_with_top_categories\n",
    "import importlib\n",
    "import group_recommender_algs  # Dein Modul, in dem die Funktion gespeichert ist\n",
    "\n",
    "# Neu laden des Moduls, um die Änderungen zu übernehmen\n",
    "importlib.reload(group_recommender_algs)\n",
    "\n",
    "\n",
    "# Load the datasets (replace 'ratings.csv' and 'wine_characteristics.csv' with the actual CSV file paths)\n",
    "ratings_data = pd.read_csv('Dataset/last/XWines_Slim_150K_ratings.csv')\n",
    "wine_data = pd.read_csv('Dataset/last/XWines_Slim_1K_wines.csv')\n",
    "group_data = pd.read_csv('Dataset/last/group_composition.csv')  # Add path to your group CSV\n",
    "\n",
    "# Merge the two datasets on 'WineID'\n",
    "merged_data = pd.merge(ratings_data, wine_data, on='WineID')"
   ]
  },
  {
   "cell_type": "code",
   "execution_count": 28,
   "metadata": {},
   "outputs": [],
   "source": [
    "ratings = {}\n",
    "for index, row in ratings_data.iterrows():\n",
    "    if row['WineID'] not in ratings:\n",
    "        ratings[row['WineID']] = {\"total\": row['Rating'], \"count\": 1}\n",
    "    else:\n",
    "        ratings[row['WineID']][\"total\"] += row['Rating']\n",
    "        ratings[row['WineID']][\"count\"] += 1\n",
    "\n",
    "# add the averages to the df\n",
    "wine_data[\"AvgRating\"] = 0.0\n",
    "\n",
    "for index, row in wine_data.iterrows():\n",
    "    wine_data.loc[index, \"AvgRating\"] = ratings[row[\"WineID\"]][\"total\"]/ratings[row[\"WineID\"]][\"count\"]"
   ]
  },
  {
   "cell_type": "code",
   "execution_count": 29,
   "metadata": {},
   "outputs": [],
   "source": [
    "def get_wines_rated_by_group(group_df, group_id, ratings_df, wine_id=None):\n",
    "    # Step 1: Extract group members based on `group_id`\n",
    "    group_row = group_df[group_df['group_id'] == group_id]\n",
    "\n",
    "    # Step 2: Check if the group ID exists\n",
    "    if group_row.empty:\n",
    "        print(f\"Group with ID {group_id} not found.\")\n",
    "        return pd.DataFrame(columns=['UserID', 'WineID', 'Rating'])\n",
    "\n",
    "    # Step 3: Convert the `group_members` string to a list\n",
    "    group_members_str = group_row['group_members'].values[0]\n",
    "    group_members = ast.literal_eval(group_members_str)  # Safely convert string to list\n",
    "\n",
    "    # Step 4: Filter `ratings_df` for UserIDs in the `group_members` list\n",
    "    filtered_ratings = ratings_df[ratings_df['UserID'].isin(group_members)]\n",
    "\n",
    "    # Step 5: If `wine_id` is provided, filter further\n",
    "    if wine_id is not None:\n",
    "        # Use `isin` if `wine_id` is a list\n",
    "        if isinstance(wine_id, list):\n",
    "            filtered_ratings = filtered_ratings[filtered_ratings['WineID'].isin(wine_id)]\n",
    "        else:\n",
    "            # Otherwise, filter for a single WineID\n",
    "            filtered_ratings = filtered_ratings[filtered_ratings['WineID'] == wine_id]\n",
    "\n",
    "    # Step 6: Return the filtered DataFrame\n",
    "    return filtered_ratings[['UserID', 'WineID', 'Rating']]\n"
   ]
  },
  {
   "cell_type": "code",
   "execution_count": 30,
   "metadata": {},
   "outputs": [
    {
     "data": {
      "text/plain": [
       "[182711.0, 174184.0, 182169.0, 183379.0, 179043.0]"
      ]
     },
     "execution_count": 30,
     "metadata": {},
     "output_type": "execute_result"
    }
   ],
   "source": [
    "group_rec(0,group_data,merged_data,wine_data,ratings_data)[\"WineID\"].tolist()"
   ]
  },
  {
   "cell_type": "code",
   "execution_count": 31,
   "metadata": {},
   "outputs": [
    {
     "ename": "TypeError",
     "evalue": "get_wine_with_top_categories() missing 1 required positional argument: 'wine_data'",
     "output_type": "error",
     "traceback": [
      "\u001b[1;31m---------------------------------------------------------------------------\u001b[0m",
      "\u001b[1;31mTypeError\u001b[0m                                 Traceback (most recent call last)",
      "Cell \u001b[1;32mIn[31], line 11\u001b[0m\n\u001b[0;32m      8\u001b[0m \u001b[38;5;66;03m# Step 2: Iterate over all group IDs (0 to 239)\u001b[39;00m\n\u001b[0;32m      9\u001b[0m \u001b[38;5;28;01mfor\u001b[39;00m group_id \u001b[38;5;129;01min\u001b[39;00m \u001b[38;5;28mrange\u001b[39m(\u001b[38;5;241m240\u001b[39m):\n\u001b[0;32m     10\u001b[0m     \u001b[38;5;66;03m# Get the top 5 wine recommendations for the current group\u001b[39;00m\n\u001b[1;32m---> 11\u001b[0m     recommended_wines \u001b[38;5;241m=\u001b[39m \u001b[43mgroup_rec\u001b[49m\u001b[43m(\u001b[49m\u001b[43mgroup_id\u001b[49m\u001b[43m,\u001b[49m\u001b[43mgroup_data\u001b[49m\u001b[43m,\u001b[49m\u001b[43mmerged_data\u001b[49m\u001b[43m,\u001b[49m\u001b[43mwine_data\u001b[49m\u001b[43m,\u001b[49m\u001b[43mratings_data\u001b[49m\u001b[43m)\u001b[49m[\u001b[38;5;124m\"\u001b[39m\u001b[38;5;124mWineID\u001b[39m\u001b[38;5;124m\"\u001b[39m]\u001b[38;5;241m.\u001b[39mtolist()\n\u001b[0;32m     13\u001b[0m     \u001b[38;5;66;03m# Convert the WineIDs to a list, if necessary\u001b[39;00m\n\u001b[0;32m     14\u001b[0m     wine_id_list \u001b[38;5;241m=\u001b[39m recommended_wines \u001b[38;5;28;01mif\u001b[39;00m \u001b[38;5;28misinstance\u001b[39m(recommended_wines, \u001b[38;5;28mlist\u001b[39m) \u001b[38;5;28;01melse\u001b[39;00m recommended_wines\u001b[38;5;241m.\u001b[39mvalues\u001b[38;5;241m.\u001b[39mtolist()\n",
      "File \u001b[1;32mc:\\Users\\antoi\\MAISE_RecSys_Group8_Ass-7\\group_recommender_algs.py:255\u001b[0m, in \u001b[0;36mgroup_rec\u001b[1;34m(group_id, group_data, merged_data, wine_data, ratings_data)\u001b[0m\n\u001b[0;32m    253\u001b[0m category_weights_by_user \u001b[38;5;241m=\u001b[39m weights_user(knn_recommendation_df)\n\u001b[0;32m    254\u001b[0m category_weights_sorted \u001b[38;5;241m=\u001b[39m category_weights(category_weights_by_user)\n\u001b[1;32m--> 255\u001b[0m recommended_wines \u001b[38;5;241m=\u001b[39m \u001b[43mget_wine_with_top_categories\u001b[49m\u001b[43m(\u001b[49m\u001b[43mwine_data\u001b[49m\u001b[43m,\u001b[49m\u001b[43mcategory_weights_sorted\u001b[49m\u001b[38;5;241;43m=\u001b[39;49m\u001b[43mcategory_weights_sorted\u001b[49m\u001b[43m,\u001b[49m\u001b[43m \u001b[49m\u001b[43mtop_type_index\u001b[49m\u001b[38;5;241;43m=\u001b[39;49m\u001b[38;5;241;43m1\u001b[39;49m\u001b[43m,\u001b[49m\u001b[43m \u001b[49m\u001b[43mtop_body_index\u001b[49m\u001b[38;5;241;43m=\u001b[39;49m\u001b[38;5;241;43m1\u001b[39;49m\u001b[43m)\u001b[49m\n\u001b[0;32m    256\u001b[0m \u001b[38;5;28;01mreturn\u001b[39;00m recommended_wines\n",
      "File \u001b[1;32mc:\\Users\\antoi\\MAISE_RecSys_Group8_Ass-7\\group_recommender_algs.py:242\u001b[0m, in \u001b[0;36mget_wine_with_top_categories\u001b[1;34m(wine_data, category_weights_sorted, top_type_index, top_body_index)\u001b[0m\n\u001b[0;32m    240\u001b[0m \u001b[38;5;28;01mif\u001b[39;00m selection\u001b[38;5;241m.\u001b[39mshape[\u001b[38;5;241m0\u001b[39m] \u001b[38;5;241m==\u001b[39m \u001b[38;5;241m0\u001b[39m:\n\u001b[0;32m    241\u001b[0m     \u001b[38;5;28;01mif\u001b[39;00m top_type_index \u001b[38;5;241m==\u001b[39m top_body_index:\n\u001b[1;32m--> 242\u001b[0m         selection \u001b[38;5;241m=\u001b[39m \u001b[43mget_wine_with_top_categories\u001b[49m\u001b[43m(\u001b[49m\u001b[43mcategory_weights_sorted\u001b[49m\u001b[38;5;241;43m=\u001b[39;49m\u001b[43mcategory_weights_sorted\u001b[49m\u001b[43m,\u001b[49m\u001b[43m \u001b[49m\u001b[43mtop_type_index\u001b[49m\u001b[38;5;241;43m=\u001b[39;49m\u001b[43mtop_type_index\u001b[49m\u001b[38;5;241;43m+\u001b[39;49m\u001b[38;5;241;43m1\u001b[39;49m\u001b[43m,\u001b[49m\u001b[43m \u001b[49m\u001b[43mtop_body_index\u001b[49m\u001b[38;5;241;43m=\u001b[39;49m\u001b[43mtop_body_index\u001b[49m\u001b[43m)\u001b[49m\n\u001b[0;32m    243\u001b[0m     \u001b[38;5;28;01melse\u001b[39;00m:\n\u001b[0;32m    244\u001b[0m         selection \u001b[38;5;241m=\u001b[39m get_wine_with_top_categories(category_weights_sorted\u001b[38;5;241m=\u001b[39mcategory_weights_sorted,top_type_index\u001b[38;5;241m=\u001b[39mtop_type_index, top_body_index\u001b[38;5;241m=\u001b[39mtop_body_index\u001b[38;5;241m+\u001b[39m\u001b[38;5;241m1\u001b[39m)\n",
      "\u001b[1;31mTypeError\u001b[0m: get_wine_with_top_categories() missing 1 required positional argument: 'wine_data'"
     ]
    }
   ],
   "source": [
    "import pandas as pd\n",
    "\n",
    "# Assuming `group_data`, `ratings_data`, and `wine_data` are already defined DataFrames.\n",
    "\n",
    "# Step 1: Create an empty list to store average ratings for each group\n",
    "group_avg_ratings = []\n",
    "\n",
    "# Step 2: Iterate over all group IDs (0 to 239)\n",
    "for group_id in range(240):\n",
    "    # Get the top 5 wine recommendations for the current group\n",
    "    recommended_wines = group_rec(group_id,group_data,merged_data,wine_data,ratings_data)[\"WineID\"].tolist()\n",
    "    \n",
    "    # Convert the WineIDs to a list, if necessary\n",
    "    wine_id_list = recommended_wines if isinstance(recommended_wines, list) else recommended_wines.values.tolist()\n",
    "\n",
    "    # Step 3: Get the ratings of group members for the recommended wines\n",
    "    group_ratings_df = get_wines_rated_by_group(\n",
    "        group_df=group_data,\n",
    "        group_id=group_id,\n",
    "        ratings_df=ratings_data,\n",
    "        wine_id=wine_id_list\n",
    "    )\n",
    "    \n",
    "    # Step 4: Calculate the average rating for the returned wines\n",
    "    if not group_ratings_df.empty:\n",
    "        avg_rating = group_ratings_df['Rating'].mean()\n",
    "    else:\n",
    "        avg_rating = None  # No ratings found\n",
    "\n",
    "    # Step 5: Store the result as a tuple (GroupID, AverageRating)\n",
    "    group_avg_ratings.append((group_id, avg_rating))\n",
    "\n",
    "# Step 6: Output the average ratings for each group\n",
    "group_avg_ratings_df = pd.DataFrame(group_avg_ratings, columns=[\"GroupID\", \"AverageRating\"])\n"
   ]
  },
  {
   "cell_type": "code",
   "execution_count": 73,
   "metadata": {},
   "outputs": [
    {
     "data": {
      "application/vnd.plotly.v1+json": {
       "config": {
        "plotlyServerURL": "https://plot.ly"
       },
       "data": [
        {
         "alignmentgroup": "True",
         "hovertemplate": "Group ID=%{x}<br>Average Rating=%{y}<extra></extra>",
         "legendgroup": "",
         "marker": {
          "color": "#636efa",
          "pattern": {
           "shape": ""
          }
         },
         "name": "",
         "offsetgroup": "",
         "orientation": "v",
         "showlegend": false,
         "textposition": "auto",
         "type": "bar",
         "x": [
          0,
          1,
          2,
          3,
          4,
          5,
          6,
          7,
          8,
          9,
          10,
          11,
          12,
          13,
          14,
          15,
          16,
          17,
          18,
          19,
          20,
          21,
          22,
          23,
          24,
          25,
          26,
          27,
          28,
          29,
          30,
          31,
          32,
          33,
          34,
          35,
          36,
          37,
          38,
          39,
          40,
          41,
          42,
          43,
          44,
          45,
          46,
          47,
          48,
          49,
          50,
          51,
          52,
          53,
          54,
          55,
          56,
          57,
          58,
          59,
          60,
          61,
          62,
          63,
          64,
          65,
          66,
          67,
          68,
          69,
          70,
          71,
          72,
          73,
          74,
          75,
          76,
          77,
          78,
          79,
          80,
          81,
          82,
          83,
          84,
          85,
          86,
          87,
          88,
          89,
          90,
          91,
          92,
          93,
          94,
          95,
          96,
          97,
          98,
          99,
          100,
          101,
          102,
          103,
          104,
          105,
          106,
          107,
          108,
          109,
          110,
          111,
          112,
          113,
          114,
          115,
          116,
          117,
          118,
          119,
          120,
          121,
          122,
          123,
          124,
          125,
          126,
          127,
          128,
          129,
          130,
          131,
          132,
          133,
          134,
          135,
          136,
          137,
          138,
          139,
          140,
          141,
          142,
          143,
          144,
          145,
          146,
          147,
          148,
          149,
          150,
          151,
          152,
          153,
          154,
          155,
          156,
          157,
          158,
          159,
          160,
          161,
          162,
          163,
          164,
          165,
          166,
          167,
          168,
          169,
          170,
          171,
          172,
          173,
          174,
          175,
          176,
          177,
          178,
          179,
          180,
          181,
          182,
          183,
          184,
          185,
          186,
          187,
          188,
          189,
          190,
          191,
          192,
          193,
          194,
          195,
          196,
          197,
          198,
          199,
          200,
          201,
          202,
          203,
          204,
          205,
          206,
          207,
          208,
          209,
          210,
          211,
          212,
          213,
          214,
          215,
          216,
          217,
          218,
          219,
          220,
          221,
          222,
          223,
          224,
          225,
          226,
          227,
          228,
          229,
          230,
          231,
          232,
          233,
          234,
          235,
          236,
          237,
          238,
          239
         ],
         "xaxis": "x",
         "y": [
          5,
          4.5,
          3.5,
          4.5,
          null,
          null,
          null,
          5,
          null,
          3.8333333333333335,
          null,
          3.5,
          4,
          null,
          null,
          null,
          null,
          null,
          5,
          null,
          4,
          4.5,
          4.25,
          null,
          null,
          4.666666666666667,
          null,
          4.833333333333333,
          3.5,
          4.375,
          4.5,
          4.5,
          null,
          4.25,
          null,
          null,
          4,
          5,
          null,
          4.375,
          4.5,
          4.4,
          4.666666666666667,
          4.666666666666667,
          4.75,
          4.571428571428571,
          4.25,
          4.333333333333333,
          4.75,
          4.375,
          4.5,
          4.375,
          3.75,
          4.833333333333333,
          4,
          5,
          4.3,
          5,
          4.75,
          4.25,
          null,
          null,
          4.5,
          4.75,
          null,
          null,
          null,
          5,
          null,
          null,
          null,
          4,
          null,
          4.166666666666667,
          null,
          null,
          null,
          null,
          4.5,
          5,
          4.8,
          4.75,
          4.875,
          4,
          4.785714285714286,
          4.8125,
          null,
          4.75,
          null,
          5,
          null,
          5,
          4.875,
          null,
          4.571428571428571,
          null,
          4.5,
          4.666666666666667,
          null,
          4.8,
          4.888888888888889,
          4.833333333333333,
          4.9,
          4.625,
          4.9,
          5,
          4.625,
          4.4375,
          4.6875,
          5,
          4.625,
          4.7272727272727275,
          null,
          4.909090909090909,
          5,
          4.666666666666667,
          4.583333333333333,
          4.9375,
          null,
          4.666666666666667,
          null,
          4.5,
          null,
          4.5,
          null,
          4.75,
          4.5,
          null,
          4.75,
          4.5,
          4.5,
          4.5,
          null,
          4,
          null,
          4,
          null,
          null,
          null,
          4,
          4.5,
          4.25,
          4,
          4,
          4.5,
          4.25,
          5,
          4.5,
          3.5,
          4.5,
          4.5,
          4,
          null,
          5,
          5,
          3.75,
          4.5,
          null,
          4.5,
          4.166666666666667,
          null,
          4.2,
          null,
          4.625,
          4.166666666666667,
          4.166666666666667,
          4,
          4.333333333333333,
          4,
          4.5,
          4.375,
          4.5,
          4,
          4.375,
          2.5,
          null,
          4.75,
          4.5,
          null,
          4.5,
          null,
          null,
          null,
          4.333333333333333,
          4.5,
          4.5,
          4.25,
          null,
          null,
          3,
          null,
          4,
          null,
          null,
          null,
          5,
          4.5,
          4,
          4.25,
          null,
          4,
          null,
          4.333333333333333,
          null,
          4.5,
          4.25,
          null,
          4.785714285714286,
          4.071428571428571,
          null,
          5,
          null,
          5,
          5,
          5,
          null,
          4.75,
          4.625,
          4.5,
          null,
          4.4,
          4.388888888888889,
          4.833333333333333,
          4,
          null,
          4.666666666666667,
          4.625,
          5,
          4.75,
          null,
          4.625,
          4.928571428571429,
          null,
          4.5,
          4.833333333333333,
          4.666666666666667,
          5,
          4.5,
          null,
          4.875
         ],
         "yaxis": "y"
        }
       ],
       "layout": {
        "barmode": "relative",
        "legend": {
         "tracegroupgap": 0
        },
        "template": {
         "data": {
          "bar": [
           {
            "error_x": {
             "color": "#2a3f5f"
            },
            "error_y": {
             "color": "#2a3f5f"
            },
            "marker": {
             "line": {
              "color": "#E5ECF6",
              "width": 0.5
             },
             "pattern": {
              "fillmode": "overlay",
              "size": 10,
              "solidity": 0.2
             }
            },
            "type": "bar"
           }
          ],
          "barpolar": [
           {
            "marker": {
             "line": {
              "color": "#E5ECF6",
              "width": 0.5
             },
             "pattern": {
              "fillmode": "overlay",
              "size": 10,
              "solidity": 0.2
             }
            },
            "type": "barpolar"
           }
          ],
          "carpet": [
           {
            "aaxis": {
             "endlinecolor": "#2a3f5f",
             "gridcolor": "white",
             "linecolor": "white",
             "minorgridcolor": "white",
             "startlinecolor": "#2a3f5f"
            },
            "baxis": {
             "endlinecolor": "#2a3f5f",
             "gridcolor": "white",
             "linecolor": "white",
             "minorgridcolor": "white",
             "startlinecolor": "#2a3f5f"
            },
            "type": "carpet"
           }
          ],
          "choropleth": [
           {
            "colorbar": {
             "outlinewidth": 0,
             "ticks": ""
            },
            "type": "choropleth"
           }
          ],
          "contour": [
           {
            "colorbar": {
             "outlinewidth": 0,
             "ticks": ""
            },
            "colorscale": [
             [
              0,
              "#0d0887"
             ],
             [
              0.1111111111111111,
              "#46039f"
             ],
             [
              0.2222222222222222,
              "#7201a8"
             ],
             [
              0.3333333333333333,
              "#9c179e"
             ],
             [
              0.4444444444444444,
              "#bd3786"
             ],
             [
              0.5555555555555556,
              "#d8576b"
             ],
             [
              0.6666666666666666,
              "#ed7953"
             ],
             [
              0.7777777777777778,
              "#fb9f3a"
             ],
             [
              0.8888888888888888,
              "#fdca26"
             ],
             [
              1,
              "#f0f921"
             ]
            ],
            "type": "contour"
           }
          ],
          "contourcarpet": [
           {
            "colorbar": {
             "outlinewidth": 0,
             "ticks": ""
            },
            "type": "contourcarpet"
           }
          ],
          "heatmap": [
           {
            "colorbar": {
             "outlinewidth": 0,
             "ticks": ""
            },
            "colorscale": [
             [
              0,
              "#0d0887"
             ],
             [
              0.1111111111111111,
              "#46039f"
             ],
             [
              0.2222222222222222,
              "#7201a8"
             ],
             [
              0.3333333333333333,
              "#9c179e"
             ],
             [
              0.4444444444444444,
              "#bd3786"
             ],
             [
              0.5555555555555556,
              "#d8576b"
             ],
             [
              0.6666666666666666,
              "#ed7953"
             ],
             [
              0.7777777777777778,
              "#fb9f3a"
             ],
             [
              0.8888888888888888,
              "#fdca26"
             ],
             [
              1,
              "#f0f921"
             ]
            ],
            "type": "heatmap"
           }
          ],
          "heatmapgl": [
           {
            "colorbar": {
             "outlinewidth": 0,
             "ticks": ""
            },
            "colorscale": [
             [
              0,
              "#0d0887"
             ],
             [
              0.1111111111111111,
              "#46039f"
             ],
             [
              0.2222222222222222,
              "#7201a8"
             ],
             [
              0.3333333333333333,
              "#9c179e"
             ],
             [
              0.4444444444444444,
              "#bd3786"
             ],
             [
              0.5555555555555556,
              "#d8576b"
             ],
             [
              0.6666666666666666,
              "#ed7953"
             ],
             [
              0.7777777777777778,
              "#fb9f3a"
             ],
             [
              0.8888888888888888,
              "#fdca26"
             ],
             [
              1,
              "#f0f921"
             ]
            ],
            "type": "heatmapgl"
           }
          ],
          "histogram": [
           {
            "marker": {
             "pattern": {
              "fillmode": "overlay",
              "size": 10,
              "solidity": 0.2
             }
            },
            "type": "histogram"
           }
          ],
          "histogram2d": [
           {
            "colorbar": {
             "outlinewidth": 0,
             "ticks": ""
            },
            "colorscale": [
             [
              0,
              "#0d0887"
             ],
             [
              0.1111111111111111,
              "#46039f"
             ],
             [
              0.2222222222222222,
              "#7201a8"
             ],
             [
              0.3333333333333333,
              "#9c179e"
             ],
             [
              0.4444444444444444,
              "#bd3786"
             ],
             [
              0.5555555555555556,
              "#d8576b"
             ],
             [
              0.6666666666666666,
              "#ed7953"
             ],
             [
              0.7777777777777778,
              "#fb9f3a"
             ],
             [
              0.8888888888888888,
              "#fdca26"
             ],
             [
              1,
              "#f0f921"
             ]
            ],
            "type": "histogram2d"
           }
          ],
          "histogram2dcontour": [
           {
            "colorbar": {
             "outlinewidth": 0,
             "ticks": ""
            },
            "colorscale": [
             [
              0,
              "#0d0887"
             ],
             [
              0.1111111111111111,
              "#46039f"
             ],
             [
              0.2222222222222222,
              "#7201a8"
             ],
             [
              0.3333333333333333,
              "#9c179e"
             ],
             [
              0.4444444444444444,
              "#bd3786"
             ],
             [
              0.5555555555555556,
              "#d8576b"
             ],
             [
              0.6666666666666666,
              "#ed7953"
             ],
             [
              0.7777777777777778,
              "#fb9f3a"
             ],
             [
              0.8888888888888888,
              "#fdca26"
             ],
             [
              1,
              "#f0f921"
             ]
            ],
            "type": "histogram2dcontour"
           }
          ],
          "mesh3d": [
           {
            "colorbar": {
             "outlinewidth": 0,
             "ticks": ""
            },
            "type": "mesh3d"
           }
          ],
          "parcoords": [
           {
            "line": {
             "colorbar": {
              "outlinewidth": 0,
              "ticks": ""
             }
            },
            "type": "parcoords"
           }
          ],
          "pie": [
           {
            "automargin": true,
            "type": "pie"
           }
          ],
          "scatter": [
           {
            "fillpattern": {
             "fillmode": "overlay",
             "size": 10,
             "solidity": 0.2
            },
            "type": "scatter"
           }
          ],
          "scatter3d": [
           {
            "line": {
             "colorbar": {
              "outlinewidth": 0,
              "ticks": ""
             }
            },
            "marker": {
             "colorbar": {
              "outlinewidth": 0,
              "ticks": ""
             }
            },
            "type": "scatter3d"
           }
          ],
          "scattercarpet": [
           {
            "marker": {
             "colorbar": {
              "outlinewidth": 0,
              "ticks": ""
             }
            },
            "type": "scattercarpet"
           }
          ],
          "scattergeo": [
           {
            "marker": {
             "colorbar": {
              "outlinewidth": 0,
              "ticks": ""
             }
            },
            "type": "scattergeo"
           }
          ],
          "scattergl": [
           {
            "marker": {
             "colorbar": {
              "outlinewidth": 0,
              "ticks": ""
             }
            },
            "type": "scattergl"
           }
          ],
          "scattermapbox": [
           {
            "marker": {
             "colorbar": {
              "outlinewidth": 0,
              "ticks": ""
             }
            },
            "type": "scattermapbox"
           }
          ],
          "scatterpolar": [
           {
            "marker": {
             "colorbar": {
              "outlinewidth": 0,
              "ticks": ""
             }
            },
            "type": "scatterpolar"
           }
          ],
          "scatterpolargl": [
           {
            "marker": {
             "colorbar": {
              "outlinewidth": 0,
              "ticks": ""
             }
            },
            "type": "scatterpolargl"
           }
          ],
          "scatterternary": [
           {
            "marker": {
             "colorbar": {
              "outlinewidth": 0,
              "ticks": ""
             }
            },
            "type": "scatterternary"
           }
          ],
          "surface": [
           {
            "colorbar": {
             "outlinewidth": 0,
             "ticks": ""
            },
            "colorscale": [
             [
              0,
              "#0d0887"
             ],
             [
              0.1111111111111111,
              "#46039f"
             ],
             [
              0.2222222222222222,
              "#7201a8"
             ],
             [
              0.3333333333333333,
              "#9c179e"
             ],
             [
              0.4444444444444444,
              "#bd3786"
             ],
             [
              0.5555555555555556,
              "#d8576b"
             ],
             [
              0.6666666666666666,
              "#ed7953"
             ],
             [
              0.7777777777777778,
              "#fb9f3a"
             ],
             [
              0.8888888888888888,
              "#fdca26"
             ],
             [
              1,
              "#f0f921"
             ]
            ],
            "type": "surface"
           }
          ],
          "table": [
           {
            "cells": {
             "fill": {
              "color": "#EBF0F8"
             },
             "line": {
              "color": "white"
             }
            },
            "header": {
             "fill": {
              "color": "#C8D4E3"
             },
             "line": {
              "color": "white"
             }
            },
            "type": "table"
           }
          ]
         },
         "layout": {
          "annotationdefaults": {
           "arrowcolor": "#2a3f5f",
           "arrowhead": 0,
           "arrowwidth": 1
          },
          "autotypenumbers": "strict",
          "coloraxis": {
           "colorbar": {
            "outlinewidth": 0,
            "ticks": ""
           }
          },
          "colorscale": {
           "diverging": [
            [
             0,
             "#8e0152"
            ],
            [
             0.1,
             "#c51b7d"
            ],
            [
             0.2,
             "#de77ae"
            ],
            [
             0.3,
             "#f1b6da"
            ],
            [
             0.4,
             "#fde0ef"
            ],
            [
             0.5,
             "#f7f7f7"
            ],
            [
             0.6,
             "#e6f5d0"
            ],
            [
             0.7,
             "#b8e186"
            ],
            [
             0.8,
             "#7fbc41"
            ],
            [
             0.9,
             "#4d9221"
            ],
            [
             1,
             "#276419"
            ]
           ],
           "sequential": [
            [
             0,
             "#0d0887"
            ],
            [
             0.1111111111111111,
             "#46039f"
            ],
            [
             0.2222222222222222,
             "#7201a8"
            ],
            [
             0.3333333333333333,
             "#9c179e"
            ],
            [
             0.4444444444444444,
             "#bd3786"
            ],
            [
             0.5555555555555556,
             "#d8576b"
            ],
            [
             0.6666666666666666,
             "#ed7953"
            ],
            [
             0.7777777777777778,
             "#fb9f3a"
            ],
            [
             0.8888888888888888,
             "#fdca26"
            ],
            [
             1,
             "#f0f921"
            ]
           ],
           "sequentialminus": [
            [
             0,
             "#0d0887"
            ],
            [
             0.1111111111111111,
             "#46039f"
            ],
            [
             0.2222222222222222,
             "#7201a8"
            ],
            [
             0.3333333333333333,
             "#9c179e"
            ],
            [
             0.4444444444444444,
             "#bd3786"
            ],
            [
             0.5555555555555556,
             "#d8576b"
            ],
            [
             0.6666666666666666,
             "#ed7953"
            ],
            [
             0.7777777777777778,
             "#fb9f3a"
            ],
            [
             0.8888888888888888,
             "#fdca26"
            ],
            [
             1,
             "#f0f921"
            ]
           ]
          },
          "colorway": [
           "#636efa",
           "#EF553B",
           "#00cc96",
           "#ab63fa",
           "#FFA15A",
           "#19d3f3",
           "#FF6692",
           "#B6E880",
           "#FF97FF",
           "#FECB52"
          ],
          "font": {
           "color": "#2a3f5f"
          },
          "geo": {
           "bgcolor": "white",
           "lakecolor": "white",
           "landcolor": "#E5ECF6",
           "showlakes": true,
           "showland": true,
           "subunitcolor": "white"
          },
          "hoverlabel": {
           "align": "left"
          },
          "hovermode": "closest",
          "mapbox": {
           "style": "light"
          },
          "paper_bgcolor": "white",
          "plot_bgcolor": "#E5ECF6",
          "polar": {
           "angularaxis": {
            "gridcolor": "white",
            "linecolor": "white",
            "ticks": ""
           },
           "bgcolor": "#E5ECF6",
           "radialaxis": {
            "gridcolor": "white",
            "linecolor": "white",
            "ticks": ""
           }
          },
          "scene": {
           "xaxis": {
            "backgroundcolor": "#E5ECF6",
            "gridcolor": "white",
            "gridwidth": 2,
            "linecolor": "white",
            "showbackground": true,
            "ticks": "",
            "zerolinecolor": "white"
           },
           "yaxis": {
            "backgroundcolor": "#E5ECF6",
            "gridcolor": "white",
            "gridwidth": 2,
            "linecolor": "white",
            "showbackground": true,
            "ticks": "",
            "zerolinecolor": "white"
           },
           "zaxis": {
            "backgroundcolor": "#E5ECF6",
            "gridcolor": "white",
            "gridwidth": 2,
            "linecolor": "white",
            "showbackground": true,
            "ticks": "",
            "zerolinecolor": "white"
           }
          },
          "shapedefaults": {
           "line": {
            "color": "#2a3f5f"
           }
          },
          "ternary": {
           "aaxis": {
            "gridcolor": "white",
            "linecolor": "white",
            "ticks": ""
           },
           "baxis": {
            "gridcolor": "white",
            "linecolor": "white",
            "ticks": ""
           },
           "bgcolor": "#E5ECF6",
           "caxis": {
            "gridcolor": "white",
            "linecolor": "white",
            "ticks": ""
           }
          },
          "title": {
           "x": 0.05
          },
          "xaxis": {
           "automargin": true,
           "gridcolor": "white",
           "linecolor": "white",
           "ticks": "",
           "title": {
            "standoff": 15
           },
           "zerolinecolor": "white",
           "zerolinewidth": 2
          },
          "yaxis": {
           "automargin": true,
           "gridcolor": "white",
           "linecolor": "white",
           "ticks": "",
           "title": {
            "standoff": 15
           },
           "zerolinecolor": "white",
           "zerolinewidth": 2
          }
         }
        },
        "title": {
         "text": "Average Wine Rating per Group"
        },
        "xaxis": {
         "anchor": "y",
         "domain": [
          0,
          1
         ],
         "title": {
          "text": "Group ID"
         }
        },
        "yaxis": {
         "anchor": "x",
         "domain": [
          0,
          1
         ],
         "title": {
          "text": "Average Rating"
         }
        }
       }
      }
     },
     "metadata": {},
     "output_type": "display_data"
    }
   ],
   "source": [
    "import plotly.express as px\n",
    "\n",
    "# Create an interactive bar chart\n",
    "fig = px.bar(group_avg_ratings_df, x='GroupID', y='AverageRating',\n",
    "             labels={'GroupID': 'Group ID', 'AverageRating': 'Average Rating'},\n",
    "             title='Average Wine Rating per Group')\n",
    "\n",
    "# Show the interactive chart\n",
    "fig.show()\n"
   ]
  },
  {
   "cell_type": "code",
   "execution_count": 74,
   "metadata": {},
   "outputs": [
    {
     "data": {
      "image/png": "[encoded data removed]",
      "text/plain": [
       "<Figure size 1000x600 with 1 Axes>"
      ]
     },
     "metadata": {},
     "output_type": "display_data"
    }
   ],
   "source": [
    "import matplotlib.pyplot as plt\n",
    "\n",
    "# Create a histogram of average ratings per group\n",
    "plt.figure(figsize=(10, 6))\n",
    "plt.hist(group_avg_ratings_df['AverageRating'].dropna(), bins=20, color='skyblue', edgecolor='black')\n",
    "\n",
    "# Add labels and title in English\n",
    "plt.xlabel('Average Rating')\n",
    "plt.ylabel('Number of Groups')\n",
    "plt.title('Distribution of Average Ratings per Group')\n",
    "\n",
    "# Show the histogram\n",
    "plt.show()\n"
   ]
  },
  {
   "cell_type": "code",
   "execution_count": 75,
   "metadata": {},
   "outputs": [
    {
     "data": {
      "image/png": "[encoded data removed]",
      "text/plain": [
       "<Figure size 1000x600 with 1 Axes>"
      ]
     },
     "metadata": {},
     "output_type": "display_data"
    }
   ],
   "source": [
    "plt.figure(figsize=(10, 6))\n",
    "plt.hist(ratings_data['Rating'], bins=10, color='lightcoral', edgecolor='black')\n",
    "\n",
    "# Add labels and title in English\n",
    "plt.xlabel('Rating')\n",
    "plt.ylabel('Number of Ratings')\n",
    "plt.title('Distribution of Individual Ratings')\n",
    "\n",
    "# Show the histogram\n",
    "plt.show()\n"
   ]
  },
  {
   "cell_type": "code",
   "execution_count": 76,
   "metadata": {},
   "outputs": [
    {
     "data": {
      "image/png": "[encoded data removed]",
      "text/plain": [
       "<Figure size 1000x600 with 1 Axes>"
      ]
     },
     "metadata": {},
     "output_type": "display_data"
    }
   ],
   "source": [
    "import seaborn as sns\n",
    "import matplotlib.pyplot as plt\n",
    "\n",
    "# Set the style for the histogram\n",
    "sns.set(style=\"whitegrid\")\n",
    "\n",
    "# Create the histogram\n",
    "plt.figure(figsize=(10, 6))\n",
    "sns.histplot(group_avg_ratings_df['AverageRating'].dropna(), bins=20, kde=True, color='purple')\n",
    "\n",
    "# Add labels and title in English\n",
    "plt.xlabel('Average Rating')\n",
    "plt.ylabel('Number of Groups')\n",
    "plt.title('Distribution of Average Ratings per Group')\n",
    "\n",
    "# Show the histogram\n",
    "plt.show()\n"
   ]
  },
  {
   "cell_type": "code",
   "execution_count": 77,
   "metadata": {},
   "outputs": [],
   "source": [
    "def calculate_least_misery(group_id, group_data, ratings_data, wine_data, n=5):\n",
    "    # Step 1: Get the top n recommended wines for the group\n",
    "    recommended_wine_ids = recommend_for_group(group_id, group_data, ratings_data, wine_data, wine_id_only=True, n=n)\n",
    "\n",
    "    # Convert recommended_wine_ids to a list (if it's a Series or another object)\n",
    "    if not isinstance(recommended_wine_ids, list):\n",
    "        recommended_wine_ids = recommended_wine_ids.tolist()\n",
    "\n",
    "    # Step 2: Get ratings of the group members for these recommended wines\n",
    "    group_ratings_df = get_wines_rated_by_group(group_data, group_id, ratings_data, wine_id=recommended_wine_ids)\n",
    "\n",
    "    # Step 3: Check if group_ratings_df is empty, which means no ratings for these wines by group members\n",
    "    if group_ratings_df.empty:\n",
    "        return pd.DataFrame(columns=['WineID', 'LeastMiseryScore'])\n",
    "\n",
    "    # Step 4: Calculate Least Misery: the minimum rating for each recommended WineID within the group\n",
    "    least_misery_df = group_ratings_df[group_ratings_df['WineID'].isin(recommended_wine_ids)].groupby('WineID')['Rating'].min().reset_index()\n",
    "    least_misery_df.columns = ['WineID', 'LeastMiseryScore']\n",
    "\n",
    "    return least_misery_df\n"
   ]
  },
  {
   "cell_type": "code",
   "execution_count": 78,
   "metadata": {},
   "outputs": [
    {
     "name": "stdout",
     "output_type": "stream",
     "text": [
      "Error processing Group ID 0: 'Rating'\n",
      "Error processing Group ID 1: 'Rating'\n",
      "Error processing Group ID 2: 'Rating'\n",
      "Error processing Group ID 3: 'Rating'\n",
      "Error processing Group ID 4: 'Rating'\n",
      "Error processing Group ID 5: 'Rating'\n",
      "Error processing Group ID 6: 'Rating'\n",
      "Error processing Group ID 7: 'Rating'\n",
      "Error processing Group ID 8: 'Rating'\n",
      "Error processing Group ID 9: 'Rating'\n",
      "Error processing Group ID 10: 'Rating'\n",
      "Error processing Group ID 11: 'Rating'\n",
      "Error processing Group ID 12: 'Rating'\n",
      "Error processing Group ID 13: 'Rating'\n",
      "Error processing Group ID 14: 'Rating'\n",
      "Error processing Group ID 15: 'Rating'\n",
      "Error processing Group ID 16: 'Rating'\n",
      "Error processing Group ID 17: 'Rating'\n",
      "Error processing Group ID 18: 'Rating'\n",
      "Error processing Group ID 19: 'Rating'\n",
      "Error processing Group ID 20: 'Rating'\n",
      "Error processing Group ID 21: 'Rating'\n",
      "Error processing Group ID 22: 'Rating'\n",
      "Error processing Group ID 23: 'Rating'\n",
      "Error processing Group ID 24: 'Rating'\n",
      "Error processing Group ID 25: 'Rating'\n",
      "Error processing Group ID 26: 'Rating'\n",
      "Error processing Group ID 27: 'Rating'\n",
      "Error processing Group ID 28: 'Rating'\n",
      "Error processing Group ID 29: 'Rating'\n",
      "Error processing Group ID 30: 'Rating'\n",
      "Error processing Group ID 31: 'Rating'\n",
      "Error processing Group ID 32: 'Rating'\n",
      "Error processing Group ID 33: 'Rating'\n",
      "Error processing Group ID 34: 'Rating'\n",
      "Error processing Group ID 35: 'Rating'\n",
      "Error processing Group ID 36: 'Rating'\n",
      "Error processing Group ID 37: 'Rating'\n",
      "Error processing Group ID 38: 'Rating'\n",
      "Error processing Group ID 39: 'Rating'\n",
      "Error processing Group ID 40: 'Rating'\n",
      "Error processing Group ID 41: 'Rating'\n",
      "Error processing Group ID 42: 'Rating'\n",
      "Error processing Group ID 43: 'Rating'\n",
      "Error processing Group ID 44: 'Rating'\n",
      "Error processing Group ID 45: 'Rating'\n",
      "Error processing Group ID 46: 'Rating'\n",
      "Error processing Group ID 47: 'Rating'\n",
      "Error processing Group ID 48: 'Rating'\n",
      "Error processing Group ID 49: 'Rating'\n",
      "Error processing Group ID 50: 'Rating'\n",
      "Error processing Group ID 51: 'Rating'\n",
      "Error processing Group ID 52: 'Rating'\n",
      "Error processing Group ID 53: 'Rating'\n",
      "Error processing Group ID 54: 'Rating'\n",
      "Error processing Group ID 55: 'Rating'\n",
      "Error processing Group ID 56: 'Rating'\n",
      "Error processing Group ID 57: 'Rating'\n",
      "Error processing Group ID 58: 'Rating'\n",
      "Error processing Group ID 59: 'Rating'\n",
      "Error processing Group ID 60: 'Rating'\n",
      "Error processing Group ID 61: 'Rating'\n",
      "Error processing Group ID 62: 'Rating'\n",
      "Error processing Group ID 63: 'Rating'\n",
      "Error processing Group ID 64: 'Rating'\n",
      "Error processing Group ID 65: 'Rating'\n",
      "Error processing Group ID 66: 'Rating'\n",
      "Error processing Group ID 67: 'Rating'\n",
      "Error processing Group ID 68: 'Rating'\n",
      "Error processing Group ID 69: 'Rating'\n",
      "Error processing Group ID 70: 'Rating'\n",
      "Error processing Group ID 71: 'Rating'\n",
      "Error processing Group ID 72: 'Rating'\n",
      "Error processing Group ID 73: 'Rating'\n",
      "Error processing Group ID 74: 'Rating'\n",
      "Error processing Group ID 75: 'Rating'\n",
      "Error processing Group ID 76: 'Rating'\n",
      "Error processing Group ID 77: 'Rating'\n",
      "Error processing Group ID 78: 'Rating'\n",
      "Error processing Group ID 79: 'Rating'\n",
      "Error processing Group ID 80: 'Rating'\n",
      "Error processing Group ID 81: 'Rating'\n",
      "Error processing Group ID 82: 'Rating'\n",
      "Error processing Group ID 83: 'Rating'\n",
      "Error processing Group ID 84: 'Rating'\n",
      "Error processing Group ID 85: 'Rating'\n",
      "Error processing Group ID 86: 'Rating'\n",
      "Error processing Group ID 87: 'Rating'\n",
      "Error processing Group ID 88: 'Rating'\n",
      "Error processing Group ID 89: 'Rating'\n",
      "Error processing Group ID 90: 'Rating'\n",
      "Error processing Group ID 91: 'Rating'\n",
      "Error processing Group ID 92: 'Rating'\n",
      "Error processing Group ID 93: 'Rating'\n",
      "Error processing Group ID 94: 'Rating'\n",
      "Error processing Group ID 95: 'Rating'\n",
      "Error processing Group ID 96: 'Rating'\n",
      "Error processing Group ID 97: 'Rating'\n",
      "Error processing Group ID 98: 'Rating'\n",
      "Error processing Group ID 99: 'Rating'\n",
      "Error processing Group ID 100: 'Rating'\n",
      "Error processing Group ID 101: 'Rating'\n",
      "Error processing Group ID 102: 'Rating'\n",
      "Error processing Group ID 103: 'Rating'\n",
      "Error processing Group ID 104: 'Rating'\n",
      "Error processing Group ID 105: 'Rating'\n",
      "Error processing Group ID 106: 'Rating'\n",
      "Error processing Group ID 107: 'Rating'\n",
      "Error processing Group ID 108: 'Rating'\n",
      "Error processing Group ID 109: 'Rating'\n",
      "Error processing Group ID 110: 'Rating'\n",
      "Error processing Group ID 111: 'Rating'\n",
      "Error processing Group ID 112: 'Rating'\n",
      "Error processing Group ID 113: 'Rating'\n",
      "Error processing Group ID 114: 'Rating'\n",
      "Error processing Group ID 115: 'Rating'\n",
      "Error processing Group ID 116: 'Rating'\n",
      "Error processing Group ID 117: 'Rating'\n",
      "Error processing Group ID 118: 'Rating'\n",
      "Error processing Group ID 119: 'Rating'\n",
      "Error processing Group ID 120: 'Rating'\n",
      "Error processing Group ID 121: 'Rating'\n",
      "Error processing Group ID 122: 'Rating'\n",
      "Error processing Group ID 123: 'Rating'\n",
      "Error processing Group ID 124: 'Rating'\n",
      "Error processing Group ID 125: 'Rating'\n",
      "Error processing Group ID 126: 'Rating'\n",
      "Error processing Group ID 127: 'Rating'\n",
      "Error processing Group ID 128: 'Rating'\n",
      "Error processing Group ID 129: 'Rating'\n",
      "Error processing Group ID 130: 'Rating'\n",
      "Error processing Group ID 131: 'Rating'\n",
      "Error processing Group ID 132: 'Rating'\n",
      "Error processing Group ID 133: 'Rating'\n",
      "Error processing Group ID 134: 'Rating'\n",
      "Error processing Group ID 135: 'Rating'\n",
      "Error processing Group ID 136: 'Rating'\n",
      "Error processing Group ID 137: 'Rating'\n",
      "Error processing Group ID 138: 'Rating'\n",
      "Error processing Group ID 139: 'Rating'\n",
      "Error processing Group ID 140: 'Rating'\n",
      "Error processing Group ID 141: 'Rating'\n",
      "Error processing Group ID 142: 'Rating'\n",
      "Error processing Group ID 143: 'Rating'\n",
      "Error processing Group ID 144: 'Rating'\n",
      "Error processing Group ID 145: 'Rating'\n",
      "Error processing Group ID 146: 'Rating'\n",
      "Error processing Group ID 147: 'Rating'\n",
      "Error processing Group ID 148: 'Rating'\n",
      "Error processing Group ID 149: 'Rating'\n",
      "Error processing Group ID 150: 'Rating'\n",
      "Error processing Group ID 151: 'Rating'\n",
      "Error processing Group ID 152: 'Rating'\n",
      "Error processing Group ID 153: 'Rating'\n",
      "Error processing Group ID 154: 'Rating'\n",
      "Error processing Group ID 155: 'Rating'\n",
      "Error processing Group ID 156: 'Rating'\n",
      "Error processing Group ID 157: 'Rating'\n",
      "Error processing Group ID 158: 'Rating'\n",
      "Error processing Group ID 159: 'Rating'\n",
      "Error processing Group ID 160: 'Rating'\n",
      "Error processing Group ID 161: 'Rating'\n",
      "Error processing Group ID 162: 'Rating'\n",
      "Error processing Group ID 163: 'Rating'\n",
      "Error processing Group ID 164: 'Rating'\n",
      "Error processing Group ID 165: 'Rating'\n",
      "Error processing Group ID 166: 'Rating'\n",
      "Error processing Group ID 167: 'Rating'\n",
      "Error processing Group ID 168: 'Rating'\n",
      "Error processing Group ID 169: 'Rating'\n",
      "Error processing Group ID 170: 'Rating'\n",
      "Error processing Group ID 171: 'Rating'\n",
      "Error processing Group ID 172: 'Rating'\n",
      "Error processing Group ID 173: 'Rating'\n",
      "Error processing Group ID 174: 'Rating'\n",
      "Error processing Group ID 175: 'Rating'\n",
      "Error processing Group ID 176: 'Rating'\n",
      "Error processing Group ID 177: 'Rating'\n",
      "Error processing Group ID 178: 'Rating'\n",
      "Error processing Group ID 179: 'Rating'\n",
      "Error processing Group ID 180: 'Rating'\n",
      "Error processing Group ID 181: 'Rating'\n",
      "Error processing Group ID 182: 'Rating'\n",
      "Error processing Group ID 183: 'Rating'\n",
      "Error processing Group ID 184: 'Rating'\n",
      "Error processing Group ID 185: 'Rating'\n",
      "Error processing Group ID 186: 'Rating'\n",
      "Error processing Group ID 187: 'Rating'\n",
      "Error processing Group ID 188: 'Rating'\n",
      "Error processing Group ID 189: 'Rating'\n",
      "Error processing Group ID 190: 'Rating'\n",
      "Error processing Group ID 191: 'Rating'\n",
      "Error processing Group ID 192: 'Rating'\n",
      "Error processing Group ID 193: 'Rating'\n",
      "Error processing Group ID 194: 'Rating'\n",
      "Error processing Group ID 195: 'Rating'\n",
      "Error processing Group ID 196: 'Rating'\n",
      "Error processing Group ID 197: 'Rating'\n",
      "Error processing Group ID 198: 'Rating'\n",
      "Error processing Group ID 199: 'Rating'\n",
      "Error processing Group ID 200: 'Rating'\n",
      "Error processing Group ID 201: 'Rating'\n",
      "Error processing Group ID 202: 'Rating'\n",
      "Error processing Group ID 203: 'Rating'\n",
      "Error processing Group ID 204: 'Rating'\n",
      "Error processing Group ID 205: 'Rating'\n",
      "Error processing Group ID 206: 'Rating'\n",
      "Error processing Group ID 207: 'Rating'\n",
      "Error processing Group ID 208: 'Rating'\n",
      "Error processing Group ID 209: 'Rating'\n",
      "Error processing Group ID 210: 'Rating'\n",
      "Error processing Group ID 211: 'Rating'\n",
      "Error processing Group ID 212: 'Rating'\n",
      "Error processing Group ID 213: 'Rating'\n",
      "Error processing Group ID 214: 'Rating'\n",
      "Error processing Group ID 215: 'Rating'\n",
      "Error processing Group ID 216: 'Rating'\n",
      "Error processing Group ID 217: 'Rating'\n",
      "Error processing Group ID 218: 'Rating'\n",
      "Error processing Group ID 219: 'Rating'\n",
      "Error processing Group ID 220: 'Rating'\n",
      "Error processing Group ID 221: 'Rating'\n",
      "Error processing Group ID 222: 'Rating'\n",
      "Error processing Group ID 223: 'Rating'\n",
      "Error processing Group ID 224: 'Rating'\n",
      "Error processing Group ID 225: 'Rating'\n",
      "Error processing Group ID 226: 'Rating'\n",
      "Error processing Group ID 227: 'Rating'\n",
      "Error processing Group ID 228: 'Rating'\n",
      "Error processing Group ID 229: 'Rating'\n",
      "Error processing Group ID 230: 'Rating'\n",
      "Error processing Group ID 231: 'Rating'\n",
      "Error processing Group ID 232: 'Rating'\n",
      "Error processing Group ID 233: 'Rating'\n",
      "Error processing Group ID 234: 'Rating'\n",
      "Error processing Group ID 235: 'Rating'\n",
      "Error processing Group ID 236: 'Rating'\n",
      "Error processing Group ID 237: 'Rating'\n",
      "Error processing Group ID 238: 'Rating'\n",
      "Error processing Group ID 239: 'Rating'\n"
     ]
    }
   ],
   "source": [
    "# Iterate over all group IDs and calculate the Least Misery score for each group\n",
    "all_group_least_misery = []  # Initialize an empty list to store results\n",
    "\n",
    "for group_id in range(240):  # Assuming there are 240 groups (IDs 0 to 239)\n",
    "    try:\n",
    "        # Calculate least misery for the current group\n",
    "        least_misery_df = calculate_least_misery(group_id, group_data, ratings_data, wine_data, n=5)\n",
    "        \n",
    "        # Check if the DataFrame is not empty before appending\n",
    "        if not least_misery_df.empty:\n",
    "            # Append group ID to the result for better tracking\n",
    "            least_misery_df['GroupID'] = group_id\n",
    "            all_group_least_misery.append(least_misery_df)\n",
    "    except Exception as e:\n",
    "        print(f\"Error processing Group ID {group_id}: {e}\")\n",
    "\n",
    "# Ensure that there are DataFrames to concatenate\n",
    "if all_group_least_misery:\n",
    "    # Concatenate the results for all groups into a single DataFrame\n",
    "    least_misery_results_df = pd.concat(all_group_least_misery, ignore_index=True)\n"
   ]
  },
  {
   "cell_type": "code",
   "execution_count": 79,
   "metadata": {},
   "outputs": [
    {
     "ename": "NameError",
     "evalue": "name 'least_misery_results_df' is not defined",
     "output_type": "error",
     "traceback": [
      "\u001b[1;31m---------------------------------------------------------------------------\u001b[0m",
      "\u001b[1;31mNameError\u001b[0m                                 Traceback (most recent call last)",
      "Cell \u001b[1;32mIn[79], line 5\u001b[0m\n\u001b[0;32m      3\u001b[0m \u001b[38;5;66;03m# Create a histogram of Least Misery Scores\u001b[39;00m\n\u001b[0;32m      4\u001b[0m plt\u001b[38;5;241m.\u001b[39mfigure(figsize\u001b[38;5;241m=\u001b[39m(\u001b[38;5;241m12\u001b[39m, \u001b[38;5;241m6\u001b[39m))\n\u001b[1;32m----> 5\u001b[0m plt\u001b[38;5;241m.\u001b[39mhist(\u001b[43mleast_misery_results_df\u001b[49m[\u001b[38;5;124m'\u001b[39m\u001b[38;5;124mLeastMiseryScore\u001b[39m\u001b[38;5;124m'\u001b[39m], bins\u001b[38;5;241m=\u001b[39m\u001b[38;5;241m5\u001b[39m, color\u001b[38;5;241m=\u001b[39m\u001b[38;5;124m'\u001b[39m\u001b[38;5;124mlightblue\u001b[39m\u001b[38;5;124m'\u001b[39m, edgecolor\u001b[38;5;241m=\u001b[39m\u001b[38;5;124m'\u001b[39m\u001b[38;5;124mblack\u001b[39m\u001b[38;5;124m'\u001b[39m)\n\u001b[0;32m      6\u001b[0m plt\u001b[38;5;241m.\u001b[39mxlabel(\u001b[38;5;124m'\u001b[39m\u001b[38;5;124mLeast Misery Score\u001b[39m\u001b[38;5;124m'\u001b[39m)\n\u001b[0;32m      7\u001b[0m plt\u001b[38;5;241m.\u001b[39mylabel(\u001b[38;5;124m'\u001b[39m\u001b[38;5;124mNumber of Recommended Wines\u001b[39m\u001b[38;5;124m'\u001b[39m)\n",
      "\u001b[1;31mNameError\u001b[0m: name 'least_misery_results_df' is not defined"
     ]
    },
    {
     "data": {
      "text/plain": [
       "<Figure size 1200x600 with 0 Axes>"
      ]
     },
     "metadata": {},
     "output_type": "display_data"
    }
   ],
   "source": [
    "# import matplotlib.pyplot as plt\n",
    "\n",
    "# # Create a histogram of Least Misery Scores\n",
    "# plt.figure(figsize=(12, 6))\n",
    "# plt.hist(least_misery_results_df['LeastMiseryScore'], bins=5, color='lightblue', edgecolor='black')\n",
    "# plt.xlabel('Least Misery Score')\n",
    "# plt.ylabel('Number of Recommended Wines')\n",
    "# plt.title('Distribution of Least Misery Scores Across All Groups')\n",
    "# plt.show()\n"
   ]
  },
  {
   "cell_type": "code",
   "execution_count": 80,
   "metadata": {},
   "outputs": [],
   "source": [
    "import pandas as pd\n",
    "import numpy as np\n",
    "\n",
    "def calculate_fairness(group_ratings_df):\n",
    "    # Calculate standard deviation of ratings within the group for the recommended wines\n",
    "    if group_ratings_df.empty or len(group_ratings_df['Rating'].unique()) == 1:\n",
    "        # If there is only one unique rating or no ratings, fairness is 1 (perfect fairness)\n",
    "        return 1.0\n",
    "\n",
    "    std_dev = group_ratings_df['Rating'].std()  # Standard deviation of ratings\n",
    "\n",
    "    # Calculate Fairness: 1 - (std deviation) / (max rating - min rating)\n",
    "    fairness = 1 - (std_dev / (5 - 1))  # Using 5 as max and 1 as min rating\n",
    "\n",
    "    return round(fairness, 2)  # Return the Fairness score rounded to 2 decimal places\n",
    "\n",
    "# Beispiel: Berechnung der Fairness für alle Gruppen\n",
    "group_fairness_scores = []  # Store the fairness scores for each group\n",
    "\n",
    "for group_id in range(240):  # Assuming there are 240 groups\n",
    "    try:\n",
    "        # Get ratings for the group and recommended wines\n",
    "        group_ratings_df = get_wines_rated_by_group(group_data, group_id, ratings_data, wine_id=None)  # Get all ratings for the group\n",
    "\n",
    "        # Calculate fairness for the current group\n",
    "        fairness_score = calculate_fairness(group_ratings_df)\n",
    "        \n",
    "        # Store group ID and fairness score\n",
    "        group_fairness_scores.append({'GroupID': group_id, 'FairnessScore': fairness_score})\n",
    "    \n",
    "    except Exception as e:\n",
    "        print(f\"Error processing Group ID {group_id}: {e}\")\n",
    "\n",
    "# Convert to DataFrame for better visualization\n",
    "fairness_df = pd.DataFrame(group_fairness_scores)\n",
    "\n"
   ]
  },
  {
   "cell_type": "code",
   "execution_count": 81,
   "metadata": {},
   "outputs": [
    {
     "data": {
      "image/png": "[encoded data removed]",
      "text/plain": [
       "<Figure size 1200x600 with 1 Axes>"
      ]
     },
     "metadata": {},
     "output_type": "display_data"
    }
   ],
   "source": [
    "import matplotlib.pyplot as plt\n",
    "\n",
    "# Create a histogram of fairness scores\n",
    "plt.figure(figsize=(12, 6))\n",
    "plt.hist(fairness_df['FairnessScore'], bins=20, color='lightgreen', edgecolor='black')\n",
    "plt.xlabel('Fairness Score')\n",
    "plt.ylabel('Number of Groups')\n",
    "plt.title('Distribution of Fairness Scores Across All Groups')\n",
    "plt.show()\n"
   ]
  },
  {
   "cell_type": "code",
   "execution_count": 82,
   "metadata": {},
   "outputs": [
    {
     "name": "stderr",
     "output_type": "stream",
     "text": [
      "C:\\Users\\antoi\\AppData\\Local\\Temp\\ipykernel_26536\\2448386283.py:5: FutureWarning:\n",
      "\n",
      "\n",
      "\n",
      "Passing `palette` without assigning `hue` is deprecated and will be removed in v0.14.0. Assign the `x` variable to `hue` and set `legend=False` for the same effect.\n",
      "\n",
      "\n"
     ]
    },
    {
     "data": {
      "image/png": "[encoded data removed]",
      "text/plain": [
       "<Figure size 600x1200 with 1 Axes>"
      ]
     },
     "metadata": {},
     "output_type": "display_data"
    }
   ],
   "source": [
    "import seaborn as sns\n",
    "\n",
    "# Create a boxplot to visualize the fairness scores across groups\n",
    "plt.figure(figsize=(6, 12))\n",
    "sns.boxplot(y='FairnessScore', data=fairness_df, palette='coolwarm')\n",
    "plt.ylabel('Fairness Score')\n",
    "plt.title('Boxplot of Fairness Scores Across Groups')\n",
    "plt.show()\n"
   ]
  },
  {
   "cell_type": "code",
   "execution_count": 83,
   "metadata": {},
   "outputs": [
    {
     "name": "stderr",
     "output_type": "stream",
     "text": [
      "C:\\Users\\antoi\\AppData\\Local\\Temp\\ipykernel_26536\\4128874332.py:11: DeprecationWarning:\n",
      "\n",
      "DataFrameGroupBy.apply operated on the grouping columns. This behavior is deprecated, and in a future version of pandas the grouping columns will be excluded from the operation. Either pass `include_groups=False` to exclude the groupings or explicitly select the grouping columns after groupby to silence this warning.\n",
      "\n",
      "C:\\Users\\antoi\\AppData\\Local\\Temp\\ipykernel_26536\\4128874332.py:11: DeprecationWarning:\n",
      "\n",
      "DataFrameGroupBy.apply operated on the grouping columns. This behavior is deprecated, and in a future version of pandas the grouping columns will be excluded from the operation. Either pass `include_groups=False` to exclude the groupings or explicitly select the grouping columns after groupby to silence this warning.\n",
      "\n",
      "C:\\Users\\antoi\\AppData\\Local\\Temp\\ipykernel_26536\\4128874332.py:11: DeprecationWarning:\n",
      "\n",
      "DataFrameGroupBy.apply operated on the grouping columns. This behavior is deprecated, and in a future version of pandas the grouping columns will be excluded from the operation. Either pass `include_groups=False` to exclude the groupings or explicitly select the grouping columns after groupby to silence this warning.\n",
      "\n",
      "C:\\Users\\antoi\\AppData\\Local\\Temp\\ipykernel_26536\\4128874332.py:11: DeprecationWarning:\n",
      "\n",
      "DataFrameGroupBy.apply operated on the grouping columns. This behavior is deprecated, and in a future version of pandas the grouping columns will be excluded from the operation. Either pass `include_groups=False` to exclude the groupings or explicitly select the grouping columns after groupby to silence this warning.\n",
      "\n",
      "C:\\Users\\antoi\\AppData\\Local\\Temp\\ipykernel_26536\\4128874332.py:11: DeprecationWarning:\n",
      "\n",
      "DataFrameGroupBy.apply operated on the grouping columns. This behavior is deprecated, and in a future version of pandas the grouping columns will be excluded from the operation. Either pass `include_groups=False` to exclude the groupings or explicitly select the grouping columns after groupby to silence this warning.\n",
      "\n",
      "C:\\Users\\antoi\\AppData\\Local\\Temp\\ipykernel_26536\\4128874332.py:11: DeprecationWarning:\n",
      "\n",
      "DataFrameGroupBy.apply operated on the grouping columns. This behavior is deprecated, and in a future version of pandas the grouping columns will be excluded from the operation. Either pass `include_groups=False` to exclude the groupings or explicitly select the grouping columns after groupby to silence this warning.\n",
      "\n",
      "C:\\Users\\antoi\\AppData\\Local\\Temp\\ipykernel_26536\\4128874332.py:11: DeprecationWarning:\n",
      "\n",
      "DataFrameGroupBy.apply operated on the grouping columns. This behavior is deprecated, and in a future version of pandas the grouping columns will be excluded from the operation. Either pass `include_groups=False` to exclude the groupings or explicitly select the grouping columns after groupby to silence this warning.\n",
      "\n",
      "C:\\Users\\antoi\\AppData\\Local\\Temp\\ipykernel_26536\\4128874332.py:11: DeprecationWarning:\n",
      "\n",
      "DataFrameGroupBy.apply operated on the grouping columns. This behavior is deprecated, and in a future version of pandas the grouping columns will be excluded from the operation. Either pass `include_groups=False` to exclude the groupings or explicitly select the grouping columns after groupby to silence this warning.\n",
      "\n",
      "C:\\Users\\antoi\\AppData\\Local\\Temp\\ipykernel_26536\\4128874332.py:11: DeprecationWarning:\n",
      "\n",
      "DataFrameGroupBy.apply operated on the grouping columns. This behavior is deprecated, and in a future version of pandas the grouping columns will be excluded from the operation. Either pass `include_groups=False` to exclude the groupings or explicitly select the grouping columns after groupby to silence this warning.\n",
      "\n",
      "C:\\Users\\antoi\\AppData\\Local\\Temp\\ipykernel_26536\\4128874332.py:11: DeprecationWarning:\n",
      "\n",
      "DataFrameGroupBy.apply operated on the grouping columns. This behavior is deprecated, and in a future version of pandas the grouping columns will be excluded from the operation. Either pass `include_groups=False` to exclude the groupings or explicitly select the grouping columns after groupby to silence this warning.\n",
      "\n",
      "C:\\Users\\antoi\\AppData\\Local\\Temp\\ipykernel_26536\\4128874332.py:11: DeprecationWarning:\n",
      "\n",
      "DataFrameGroupBy.apply operated on the grouping columns. This behavior is deprecated, and in a future version of pandas the grouping columns will be excluded from the operation. Either pass `include_groups=False` to exclude the groupings or explicitly select the grouping columns after groupby to silence this warning.\n",
      "\n",
      "C:\\Users\\antoi\\AppData\\Local\\Temp\\ipykernel_26536\\4128874332.py:11: DeprecationWarning:\n",
      "\n",
      "DataFrameGroupBy.apply operated on the grouping columns. This behavior is deprecated, and in a future version of pandas the grouping columns will be excluded from the operation. Either pass `include_groups=False` to exclude the groupings or explicitly select the grouping columns after groupby to silence this warning.\n",
      "\n",
      "C:\\Users\\antoi\\AppData\\Local\\Temp\\ipykernel_26536\\4128874332.py:11: DeprecationWarning:\n",
      "\n",
      "DataFrameGroupBy.apply operated on the grouping columns. This behavior is deprecated, and in a future version of pandas the grouping columns will be excluded from the operation. Either pass `include_groups=False` to exclude the groupings or explicitly select the grouping columns after groupby to silence this warning.\n",
      "\n",
      "C:\\Users\\antoi\\AppData\\Local\\Temp\\ipykernel_26536\\4128874332.py:11: DeprecationWarning:\n",
      "\n",
      "DataFrameGroupBy.apply operated on the grouping columns. This behavior is deprecated, and in a future version of pandas the grouping columns will be excluded from the operation. Either pass `include_groups=False` to exclude the groupings or explicitly select the grouping columns after groupby to silence this warning.\n",
      "\n",
      "C:\\Users\\antoi\\AppData\\Local\\Temp\\ipykernel_26536\\4128874332.py:11: DeprecationWarning:\n",
      "\n",
      "DataFrameGroupBy.apply operated on the grouping columns. This behavior is deprecated, and in a future version of pandas the grouping columns will be excluded from the operation. Either pass `include_groups=False` to exclude the groupings or explicitly select the grouping columns after groupby to silence this warning.\n",
      "\n",
      "C:\\Users\\antoi\\AppData\\Local\\Temp\\ipykernel_26536\\4128874332.py:11: DeprecationWarning:\n",
      "\n",
      "DataFrameGroupBy.apply operated on the grouping columns. This behavior is deprecated, and in a future version of pandas the grouping columns will be excluded from the operation. Either pass `include_groups=False` to exclude the groupings or explicitly select the grouping columns after groupby to silence this warning.\n",
      "\n",
      "C:\\Users\\antoi\\AppData\\Local\\Temp\\ipykernel_26536\\4128874332.py:11: DeprecationWarning:\n",
      "\n",
      "DataFrameGroupBy.apply operated on the grouping columns. This behavior is deprecated, and in a future version of pandas the grouping columns will be excluded from the operation. Either pass `include_groups=False` to exclude the groupings or explicitly select the grouping columns after groupby to silence this warning.\n",
      "\n",
      "C:\\Users\\antoi\\AppData\\Local\\Temp\\ipykernel_26536\\4128874332.py:11: DeprecationWarning:\n",
      "\n",
      "DataFrameGroupBy.apply operated on the grouping columns. This behavior is deprecated, and in a future version of pandas the grouping columns will be excluded from the operation. Either pass `include_groups=False` to exclude the groupings or explicitly select the grouping columns after groupby to silence this warning.\n",
      "\n",
      "C:\\Users\\antoi\\AppData\\Local\\Temp\\ipykernel_26536\\4128874332.py:11: DeprecationWarning:\n",
      "\n",
      "DataFrameGroupBy.apply operated on the grouping columns. This behavior is deprecated, and in a future version of pandas the grouping columns will be excluded from the operation. Either pass `include_groups=False` to exclude the groupings or explicitly select the grouping columns after groupby to silence this warning.\n",
      "\n",
      "C:\\Users\\antoi\\AppData\\Local\\Temp\\ipykernel_26536\\4128874332.py:11: DeprecationWarning:\n",
      "\n",
      "DataFrameGroupBy.apply operated on the grouping columns. This behavior is deprecated, and in a future version of pandas the grouping columns will be excluded from the operation. Either pass `include_groups=False` to exclude the groupings or explicitly select the grouping columns after groupby to silence this warning.\n",
      "\n",
      "C:\\Users\\antoi\\AppData\\Local\\Temp\\ipykernel_26536\\4128874332.py:11: DeprecationWarning:\n",
      "\n",
      "DataFrameGroupBy.apply operated on the grouping columns. This behavior is deprecated, and in a future version of pandas the grouping columns will be excluded from the operation. Either pass `include_groups=False` to exclude the groupings or explicitly select the grouping columns after groupby to silence this warning.\n",
      "\n",
      "C:\\Users\\antoi\\AppData\\Local\\Temp\\ipykernel_26536\\4128874332.py:11: DeprecationWarning:\n",
      "\n",
      "DataFrameGroupBy.apply operated on the grouping columns. This behavior is deprecated, and in a future version of pandas the grouping columns will be excluded from the operation. Either pass `include_groups=False` to exclude the groupings or explicitly select the grouping columns after groupby to silence this warning.\n",
      "\n",
      "C:\\Users\\antoi\\AppData\\Local\\Temp\\ipykernel_26536\\4128874332.py:11: DeprecationWarning:\n",
      "\n",
      "DataFrameGroupBy.apply operated on the grouping columns. This behavior is deprecated, and in a future version of pandas the grouping columns will be excluded from the operation. Either pass `include_groups=False` to exclude the groupings or explicitly select the grouping columns after groupby to silence this warning.\n",
      "\n",
      "C:\\Users\\antoi\\AppData\\Local\\Temp\\ipykernel_26536\\4128874332.py:11: DeprecationWarning:\n",
      "\n",
      "DataFrameGroupBy.apply operated on the grouping columns. This behavior is deprecated, and in a future version of pandas the grouping columns will be excluded from the operation. Either pass `include_groups=False` to exclude the groupings or explicitly select the grouping columns after groupby to silence this warning.\n",
      "\n",
      "C:\\Users\\antoi\\AppData\\Local\\Temp\\ipykernel_26536\\4128874332.py:11: DeprecationWarning:\n",
      "\n",
      "DataFrameGroupBy.apply operated on the grouping columns. This behavior is deprecated, and in a future version of pandas the grouping columns will be excluded from the operation. Either pass `include_groups=False` to exclude the groupings or explicitly select the grouping columns after groupby to silence this warning.\n",
      "\n",
      "C:\\Users\\antoi\\AppData\\Local\\Temp\\ipykernel_26536\\4128874332.py:11: DeprecationWarning:\n",
      "\n",
      "DataFrameGroupBy.apply operated on the grouping columns. This behavior is deprecated, and in a future version of pandas the grouping columns will be excluded from the operation. Either pass `include_groups=False` to exclude the groupings or explicitly select the grouping columns after groupby to silence this warning.\n",
      "\n",
      "C:\\Users\\antoi\\AppData\\Local\\Temp\\ipykernel_26536\\4128874332.py:11: DeprecationWarning:\n",
      "\n",
      "DataFrameGroupBy.apply operated on the grouping columns. This behavior is deprecated, and in a future version of pandas the grouping columns will be excluded from the operation. Either pass `include_groups=False` to exclude the groupings or explicitly select the grouping columns after groupby to silence this warning.\n",
      "\n",
      "C:\\Users\\antoi\\AppData\\Local\\Temp\\ipykernel_26536\\4128874332.py:11: DeprecationWarning:\n",
      "\n",
      "DataFrameGroupBy.apply operated on the grouping columns. This behavior is deprecated, and in a future version of pandas the grouping columns will be excluded from the operation. Either pass `include_groups=False` to exclude the groupings or explicitly select the grouping columns after groupby to silence this warning.\n",
      "\n",
      "C:\\Users\\antoi\\AppData\\Local\\Temp\\ipykernel_26536\\4128874332.py:11: DeprecationWarning:\n",
      "\n",
      "DataFrameGroupBy.apply operated on the grouping columns. This behavior is deprecated, and in a future version of pandas the grouping columns will be excluded from the operation. Either pass `include_groups=False` to exclude the groupings or explicitly select the grouping columns after groupby to silence this warning.\n",
      "\n",
      "C:\\Users\\antoi\\AppData\\Local\\Temp\\ipykernel_26536\\4128874332.py:11: DeprecationWarning:\n",
      "\n",
      "DataFrameGroupBy.apply operated on the grouping columns. This behavior is deprecated, and in a future version of pandas the grouping columns will be excluded from the operation. Either pass `include_groups=False` to exclude the groupings or explicitly select the grouping columns after groupby to silence this warning.\n",
      "\n",
      "C:\\Users\\antoi\\AppData\\Local\\Temp\\ipykernel_26536\\4128874332.py:11: DeprecationWarning:\n",
      "\n",
      "DataFrameGroupBy.apply operated on the grouping columns. This behavior is deprecated, and in a future version of pandas the grouping columns will be excluded from the operation. Either pass `include_groups=False` to exclude the groupings or explicitly select the grouping columns after groupby to silence this warning.\n",
      "\n",
      "C:\\Users\\antoi\\AppData\\Local\\Temp\\ipykernel_26536\\4128874332.py:11: DeprecationWarning:\n",
      "\n",
      "DataFrameGroupBy.apply operated on the grouping columns. This behavior is deprecated, and in a future version of pandas the grouping columns will be excluded from the operation. Either pass `include_groups=False` to exclude the groupings or explicitly select the grouping columns after groupby to silence this warning.\n",
      "\n",
      "C:\\Users\\antoi\\AppData\\Local\\Temp\\ipykernel_26536\\4128874332.py:11: DeprecationWarning:\n",
      "\n",
      "DataFrameGroupBy.apply operated on the grouping columns. This behavior is deprecated, and in a future version of pandas the grouping columns will be excluded from the operation. Either pass `include_groups=False` to exclude the groupings or explicitly select the grouping columns after groupby to silence this warning.\n",
      "\n",
      "C:\\Users\\antoi\\AppData\\Local\\Temp\\ipykernel_26536\\4128874332.py:11: DeprecationWarning:\n",
      "\n",
      "DataFrameGroupBy.apply operated on the grouping columns. This behavior is deprecated, and in a future version of pandas the grouping columns will be excluded from the operation. Either pass `include_groups=False` to exclude the groupings or explicitly select the grouping columns after groupby to silence this warning.\n",
      "\n",
      "C:\\Users\\antoi\\AppData\\Local\\Temp\\ipykernel_26536\\4128874332.py:11: DeprecationWarning:\n",
      "\n",
      "DataFrameGroupBy.apply operated on the grouping columns. This behavior is deprecated, and in a future version of pandas the grouping columns will be excluded from the operation. Either pass `include_groups=False` to exclude the groupings or explicitly select the grouping columns after groupby to silence this warning.\n",
      "\n",
      "C:\\Users\\antoi\\AppData\\Local\\Temp\\ipykernel_26536\\4128874332.py:11: DeprecationWarning:\n",
      "\n",
      "DataFrameGroupBy.apply operated on the grouping columns. This behavior is deprecated, and in a future version of pandas the grouping columns will be excluded from the operation. Either pass `include_groups=False` to exclude the groupings or explicitly select the grouping columns after groupby to silence this warning.\n",
      "\n",
      "C:\\Users\\antoi\\AppData\\Local\\Temp\\ipykernel_26536\\4128874332.py:11: DeprecationWarning:\n",
      "\n",
      "DataFrameGroupBy.apply operated on the grouping columns. This behavior is deprecated, and in a future version of pandas the grouping columns will be excluded from the operation. Either pass `include_groups=False` to exclude the groupings or explicitly select the grouping columns after groupby to silence this warning.\n",
      "\n",
      "C:\\Users\\antoi\\AppData\\Local\\Temp\\ipykernel_26536\\4128874332.py:11: DeprecationWarning:\n",
      "\n",
      "DataFrameGroupBy.apply operated on the grouping columns. This behavior is deprecated, and in a future version of pandas the grouping columns will be excluded from the operation. Either pass `include_groups=False` to exclude the groupings or explicitly select the grouping columns after groupby to silence this warning.\n",
      "\n",
      "C:\\Users\\antoi\\AppData\\Local\\Temp\\ipykernel_26536\\4128874332.py:11: DeprecationWarning:\n",
      "\n",
      "DataFrameGroupBy.apply operated on the grouping columns. This behavior is deprecated, and in a future version of pandas the grouping columns will be excluded from the operation. Either pass `include_groups=False` to exclude the groupings or explicitly select the grouping columns after groupby to silence this warning.\n",
      "\n",
      "C:\\Users\\antoi\\AppData\\Local\\Temp\\ipykernel_26536\\4128874332.py:11: DeprecationWarning:\n",
      "\n",
      "DataFrameGroupBy.apply operated on the grouping columns. This behavior is deprecated, and in a future version of pandas the grouping columns will be excluded from the operation. Either pass `include_groups=False` to exclude the groupings or explicitly select the grouping columns after groupby to silence this warning.\n",
      "\n",
      "C:\\Users\\antoi\\AppData\\Local\\Temp\\ipykernel_26536\\4128874332.py:11: DeprecationWarning:\n",
      "\n",
      "DataFrameGroupBy.apply operated on the grouping columns. This behavior is deprecated, and in a future version of pandas the grouping columns will be excluded from the operation. Either pass `include_groups=False` to exclude the groupings or explicitly select the grouping columns after groupby to silence this warning.\n",
      "\n",
      "C:\\Users\\antoi\\AppData\\Local\\Temp\\ipykernel_26536\\4128874332.py:11: DeprecationWarning:\n",
      "\n",
      "DataFrameGroupBy.apply operated on the grouping columns. This behavior is deprecated, and in a future version of pandas the grouping columns will be excluded from the operation. Either pass `include_groups=False` to exclude the groupings or explicitly select the grouping columns after groupby to silence this warning.\n",
      "\n",
      "C:\\Users\\antoi\\AppData\\Local\\Temp\\ipykernel_26536\\4128874332.py:11: DeprecationWarning:\n",
      "\n",
      "DataFrameGroupBy.apply operated on the grouping columns. This behavior is deprecated, and in a future version of pandas the grouping columns will be excluded from the operation. Either pass `include_groups=False` to exclude the groupings or explicitly select the grouping columns after groupby to silence this warning.\n",
      "\n",
      "C:\\Users\\antoi\\AppData\\Local\\Temp\\ipykernel_26536\\4128874332.py:11: DeprecationWarning:\n",
      "\n",
      "DataFrameGroupBy.apply operated on the grouping columns. This behavior is deprecated, and in a future version of pandas the grouping columns will be excluded from the operation. Either pass `include_groups=False` to exclude the groupings or explicitly select the grouping columns after groupby to silence this warning.\n",
      "\n",
      "C:\\Users\\antoi\\AppData\\Local\\Temp\\ipykernel_26536\\4128874332.py:11: DeprecationWarning:\n",
      "\n",
      "DataFrameGroupBy.apply operated on the grouping columns. This behavior is deprecated, and in a future version of pandas the grouping columns will be excluded from the operation. Either pass `include_groups=False` to exclude the groupings or explicitly select the grouping columns after groupby to silence this warning.\n",
      "\n",
      "C:\\Users\\antoi\\AppData\\Local\\Temp\\ipykernel_26536\\4128874332.py:11: DeprecationWarning:\n",
      "\n",
      "DataFrameGroupBy.apply operated on the grouping columns. This behavior is deprecated, and in a future version of pandas the grouping columns will be excluded from the operation. Either pass `include_groups=False` to exclude the groupings or explicitly select the grouping columns after groupby to silence this warning.\n",
      "\n",
      "C:\\Users\\antoi\\AppData\\Local\\Temp\\ipykernel_26536\\4128874332.py:11: DeprecationWarning:\n",
      "\n",
      "DataFrameGroupBy.apply operated on the grouping columns. This behavior is deprecated, and in a future version of pandas the grouping columns will be excluded from the operation. Either pass `include_groups=False` to exclude the groupings or explicitly select the grouping columns after groupby to silence this warning.\n",
      "\n",
      "C:\\Users\\antoi\\AppData\\Local\\Temp\\ipykernel_26536\\4128874332.py:11: DeprecationWarning:\n",
      "\n",
      "DataFrameGroupBy.apply operated on the grouping columns. This behavior is deprecated, and in a future version of pandas the grouping columns will be excluded from the operation. Either pass `include_groups=False` to exclude the groupings or explicitly select the grouping columns after groupby to silence this warning.\n",
      "\n",
      "C:\\Users\\antoi\\AppData\\Local\\Temp\\ipykernel_26536\\4128874332.py:11: DeprecationWarning:\n",
      "\n",
      "DataFrameGroupBy.apply operated on the grouping columns. This behavior is deprecated, and in a future version of pandas the grouping columns will be excluded from the operation. Either pass `include_groups=False` to exclude the groupings or explicitly select the grouping columns after groupby to silence this warning.\n",
      "\n",
      "C:\\Users\\antoi\\AppData\\Local\\Temp\\ipykernel_26536\\4128874332.py:11: DeprecationWarning:\n",
      "\n",
      "DataFrameGroupBy.apply operated on the grouping columns. This behavior is deprecated, and in a future version of pandas the grouping columns will be excluded from the operation. Either pass `include_groups=False` to exclude the groupings or explicitly select the grouping columns after groupby to silence this warning.\n",
      "\n",
      "C:\\Users\\antoi\\AppData\\Local\\Temp\\ipykernel_26536\\4128874332.py:11: DeprecationWarning:\n",
      "\n",
      "DataFrameGroupBy.apply operated on the grouping columns. This behavior is deprecated, and in a future version of pandas the grouping columns will be excluded from the operation. Either pass `include_groups=False` to exclude the groupings or explicitly select the grouping columns after groupby to silence this warning.\n",
      "\n",
      "C:\\Users\\antoi\\AppData\\Local\\Temp\\ipykernel_26536\\4128874332.py:11: DeprecationWarning:\n",
      "\n",
      "DataFrameGroupBy.apply operated on the grouping columns. This behavior is deprecated, and in a future version of pandas the grouping columns will be excluded from the operation. Either pass `include_groups=False` to exclude the groupings or explicitly select the grouping columns after groupby to silence this warning.\n",
      "\n",
      "C:\\Users\\antoi\\AppData\\Local\\Temp\\ipykernel_26536\\4128874332.py:11: DeprecationWarning:\n",
      "\n",
      "DataFrameGroupBy.apply operated on the grouping columns. This behavior is deprecated, and in a future version of pandas the grouping columns will be excluded from the operation. Either pass `include_groups=False` to exclude the groupings or explicitly select the grouping columns after groupby to silence this warning.\n",
      "\n",
      "C:\\Users\\antoi\\AppData\\Local\\Temp\\ipykernel_26536\\4128874332.py:11: DeprecationWarning:\n",
      "\n",
      "DataFrameGroupBy.apply operated on the grouping columns. This behavior is deprecated, and in a future version of pandas the grouping columns will be excluded from the operation. Either pass `include_groups=False` to exclude the groupings or explicitly select the grouping columns after groupby to silence this warning.\n",
      "\n",
      "C:\\Users\\antoi\\AppData\\Local\\Temp\\ipykernel_26536\\4128874332.py:11: DeprecationWarning:\n",
      "\n",
      "DataFrameGroupBy.apply operated on the grouping columns. This behavior is deprecated, and in a future version of pandas the grouping columns will be excluded from the operation. Either pass `include_groups=False` to exclude the groupings or explicitly select the grouping columns after groupby to silence this warning.\n",
      "\n",
      "C:\\Users\\antoi\\AppData\\Local\\Temp\\ipykernel_26536\\4128874332.py:11: DeprecationWarning:\n",
      "\n",
      "DataFrameGroupBy.apply operated on the grouping columns. This behavior is deprecated, and in a future version of pandas the grouping columns will be excluded from the operation. Either pass `include_groups=False` to exclude the groupings or explicitly select the grouping columns after groupby to silence this warning.\n",
      "\n",
      "C:\\Users\\antoi\\AppData\\Local\\Temp\\ipykernel_26536\\4128874332.py:11: DeprecationWarning:\n",
      "\n",
      "DataFrameGroupBy.apply operated on the grouping columns. This behavior is deprecated, and in a future version of pandas the grouping columns will be excluded from the operation. Either pass `include_groups=False` to exclude the groupings or explicitly select the grouping columns after groupby to silence this warning.\n",
      "\n",
      "C:\\Users\\antoi\\AppData\\Local\\Temp\\ipykernel_26536\\4128874332.py:11: DeprecationWarning:\n",
      "\n",
      "DataFrameGroupBy.apply operated on the grouping columns. This behavior is deprecated, and in a future version of pandas the grouping columns will be excluded from the operation. Either pass `include_groups=False` to exclude the groupings or explicitly select the grouping columns after groupby to silence this warning.\n",
      "\n",
      "C:\\Users\\antoi\\AppData\\Local\\Temp\\ipykernel_26536\\4128874332.py:11: DeprecationWarning:\n",
      "\n",
      "DataFrameGroupBy.apply operated on the grouping columns. This behavior is deprecated, and in a future version of pandas the grouping columns will be excluded from the operation. Either pass `include_groups=False` to exclude the groupings or explicitly select the grouping columns after groupby to silence this warning.\n",
      "\n",
      "C:\\Users\\antoi\\AppData\\Local\\Temp\\ipykernel_26536\\4128874332.py:11: DeprecationWarning:\n",
      "\n",
      "DataFrameGroupBy.apply operated on the grouping columns. This behavior is deprecated, and in a future version of pandas the grouping columns will be excluded from the operation. Either pass `include_groups=False` to exclude the groupings or explicitly select the grouping columns after groupby to silence this warning.\n",
      "\n",
      "C:\\Users\\antoi\\AppData\\Local\\Temp\\ipykernel_26536\\4128874332.py:11: DeprecationWarning:\n",
      "\n",
      "DataFrameGroupBy.apply operated on the grouping columns. This behavior is deprecated, and in a future version of pandas the grouping columns will be excluded from the operation. Either pass `include_groups=False` to exclude the groupings or explicitly select the grouping columns after groupby to silence this warning.\n",
      "\n",
      "C:\\Users\\antoi\\AppData\\Local\\Temp\\ipykernel_26536\\4128874332.py:11: DeprecationWarning:\n",
      "\n",
      "DataFrameGroupBy.apply operated on the grouping columns. This behavior is deprecated, and in a future version of pandas the grouping columns will be excluded from the operation. Either pass `include_groups=False` to exclude the groupings or explicitly select the grouping columns after groupby to silence this warning.\n",
      "\n",
      "C:\\Users\\antoi\\AppData\\Local\\Temp\\ipykernel_26536\\4128874332.py:11: DeprecationWarning:\n",
      "\n",
      "DataFrameGroupBy.apply operated on the grouping columns. This behavior is deprecated, and in a future version of pandas the grouping columns will be excluded from the operation. Either pass `include_groups=False` to exclude the groupings or explicitly select the grouping columns after groupby to silence this warning.\n",
      "\n",
      "C:\\Users\\antoi\\AppData\\Local\\Temp\\ipykernel_26536\\4128874332.py:11: DeprecationWarning:\n",
      "\n",
      "DataFrameGroupBy.apply operated on the grouping columns. This behavior is deprecated, and in a future version of pandas the grouping columns will be excluded from the operation. Either pass `include_groups=False` to exclude the groupings or explicitly select the grouping columns after groupby to silence this warning.\n",
      "\n",
      "C:\\Users\\antoi\\AppData\\Local\\Temp\\ipykernel_26536\\4128874332.py:11: DeprecationWarning:\n",
      "\n",
      "DataFrameGroupBy.apply operated on the grouping columns. This behavior is deprecated, and in a future version of pandas the grouping columns will be excluded from the operation. Either pass `include_groups=False` to exclude the groupings or explicitly select the grouping columns after groupby to silence this warning.\n",
      "\n",
      "C:\\Users\\antoi\\AppData\\Local\\Temp\\ipykernel_26536\\4128874332.py:11: DeprecationWarning:\n",
      "\n",
      "DataFrameGroupBy.apply operated on the grouping columns. This behavior is deprecated, and in a future version of pandas the grouping columns will be excluded from the operation. Either pass `include_groups=False` to exclude the groupings or explicitly select the grouping columns after groupby to silence this warning.\n",
      "\n",
      "C:\\Users\\antoi\\AppData\\Local\\Temp\\ipykernel_26536\\4128874332.py:11: DeprecationWarning:\n",
      "\n",
      "DataFrameGroupBy.apply operated on the grouping columns. This behavior is deprecated, and in a future version of pandas the grouping columns will be excluded from the operation. Either pass `include_groups=False` to exclude the groupings or explicitly select the grouping columns after groupby to silence this warning.\n",
      "\n",
      "C:\\Users\\antoi\\AppData\\Local\\Temp\\ipykernel_26536\\4128874332.py:11: DeprecationWarning:\n",
      "\n",
      "DataFrameGroupBy.apply operated on the grouping columns. This behavior is deprecated, and in a future version of pandas the grouping columns will be excluded from the operation. Either pass `include_groups=False` to exclude the groupings or explicitly select the grouping columns after groupby to silence this warning.\n",
      "\n",
      "C:\\Users\\antoi\\AppData\\Local\\Temp\\ipykernel_26536\\4128874332.py:11: DeprecationWarning:\n",
      "\n",
      "DataFrameGroupBy.apply operated on the grouping columns. This behavior is deprecated, and in a future version of pandas the grouping columns will be excluded from the operation. Either pass `include_groups=False` to exclude the groupings or explicitly select the grouping columns after groupby to silence this warning.\n",
      "\n",
      "C:\\Users\\antoi\\AppData\\Local\\Temp\\ipykernel_26536\\4128874332.py:11: DeprecationWarning:\n",
      "\n",
      "DataFrameGroupBy.apply operated on the grouping columns. This behavior is deprecated, and in a future version of pandas the grouping columns will be excluded from the operation. Either pass `include_groups=False` to exclude the groupings or explicitly select the grouping columns after groupby to silence this warning.\n",
      "\n",
      "C:\\Users\\antoi\\AppData\\Local\\Temp\\ipykernel_26536\\4128874332.py:11: DeprecationWarning:\n",
      "\n",
      "DataFrameGroupBy.apply operated on the grouping columns. This behavior is deprecated, and in a future version of pandas the grouping columns will be excluded from the operation. Either pass `include_groups=False` to exclude the groupings or explicitly select the grouping columns after groupby to silence this warning.\n",
      "\n",
      "C:\\Users\\antoi\\AppData\\Local\\Temp\\ipykernel_26536\\4128874332.py:11: DeprecationWarning:\n",
      "\n",
      "DataFrameGroupBy.apply operated on the grouping columns. This behavior is deprecated, and in a future version of pandas the grouping columns will be excluded from the operation. Either pass `include_groups=False` to exclude the groupings or explicitly select the grouping columns after groupby to silence this warning.\n",
      "\n",
      "C:\\Users\\antoi\\AppData\\Local\\Temp\\ipykernel_26536\\4128874332.py:11: DeprecationWarning:\n",
      "\n",
      "DataFrameGroupBy.apply operated on the grouping columns. This behavior is deprecated, and in a future version of pandas the grouping columns will be excluded from the operation. Either pass `include_groups=False` to exclude the groupings or explicitly select the grouping columns after groupby to silence this warning.\n",
      "\n",
      "C:\\Users\\antoi\\AppData\\Local\\Temp\\ipykernel_26536\\4128874332.py:11: DeprecationWarning:\n",
      "\n",
      "DataFrameGroupBy.apply operated on the grouping columns. This behavior is deprecated, and in a future version of pandas the grouping columns will be excluded from the operation. Either pass `include_groups=False` to exclude the groupings or explicitly select the grouping columns after groupby to silence this warning.\n",
      "\n",
      "C:\\Users\\antoi\\AppData\\Local\\Temp\\ipykernel_26536\\4128874332.py:11: DeprecationWarning:\n",
      "\n",
      "DataFrameGroupBy.apply operated on the grouping columns. This behavior is deprecated, and in a future version of pandas the grouping columns will be excluded from the operation. Either pass `include_groups=False` to exclude the groupings or explicitly select the grouping columns after groupby to silence this warning.\n",
      "\n",
      "C:\\Users\\antoi\\AppData\\Local\\Temp\\ipykernel_26536\\4128874332.py:11: DeprecationWarning:\n",
      "\n",
      "DataFrameGroupBy.apply operated on the grouping columns. This behavior is deprecated, and in a future version of pandas the grouping columns will be excluded from the operation. Either pass `include_groups=False` to exclude the groupings or explicitly select the grouping columns after groupby to silence this warning.\n",
      "\n",
      "C:\\Users\\antoi\\AppData\\Local\\Temp\\ipykernel_26536\\4128874332.py:11: DeprecationWarning:\n",
      "\n",
      "DataFrameGroupBy.apply operated on the grouping columns. This behavior is deprecated, and in a future version of pandas the grouping columns will be excluded from the operation. Either pass `include_groups=False` to exclude the groupings or explicitly select the grouping columns after groupby to silence this warning.\n",
      "\n",
      "C:\\Users\\antoi\\AppData\\Local\\Temp\\ipykernel_26536\\4128874332.py:11: DeprecationWarning:\n",
      "\n",
      "DataFrameGroupBy.apply operated on the grouping columns. This behavior is deprecated, and in a future version of pandas the grouping columns will be excluded from the operation. Either pass `include_groups=False` to exclude the groupings or explicitly select the grouping columns after groupby to silence this warning.\n",
      "\n",
      "C:\\Users\\antoi\\AppData\\Local\\Temp\\ipykernel_26536\\4128874332.py:11: DeprecationWarning:\n",
      "\n",
      "DataFrameGroupBy.apply operated on the grouping columns. This behavior is deprecated, and in a future version of pandas the grouping columns will be excluded from the operation. Either pass `include_groups=False` to exclude the groupings or explicitly select the grouping columns after groupby to silence this warning.\n",
      "\n",
      "C:\\Users\\antoi\\AppData\\Local\\Temp\\ipykernel_26536\\4128874332.py:11: DeprecationWarning:\n",
      "\n",
      "DataFrameGroupBy.apply operated on the grouping columns. This behavior is deprecated, and in a future version of pandas the grouping columns will be excluded from the operation. Either pass `include_groups=False` to exclude the groupings or explicitly select the grouping columns after groupby to silence this warning.\n",
      "\n",
      "C:\\Users\\antoi\\AppData\\Local\\Temp\\ipykernel_26536\\4128874332.py:11: DeprecationWarning:\n",
      "\n",
      "DataFrameGroupBy.apply operated on the grouping columns. This behavior is deprecated, and in a future version of pandas the grouping columns will be excluded from the operation. Either pass `include_groups=False` to exclude the groupings or explicitly select the grouping columns after groupby to silence this warning.\n",
      "\n",
      "C:\\Users\\antoi\\AppData\\Local\\Temp\\ipykernel_26536\\4128874332.py:11: DeprecationWarning:\n",
      "\n",
      "DataFrameGroupBy.apply operated on the grouping columns. This behavior is deprecated, and in a future version of pandas the grouping columns will be excluded from the operation. Either pass `include_groups=False` to exclude the groupings or explicitly select the grouping columns after groupby to silence this warning.\n",
      "\n",
      "C:\\Users\\antoi\\AppData\\Local\\Temp\\ipykernel_26536\\4128874332.py:11: DeprecationWarning:\n",
      "\n",
      "DataFrameGroupBy.apply operated on the grouping columns. This behavior is deprecated, and in a future version of pandas the grouping columns will be excluded from the operation. Either pass `include_groups=False` to exclude the groupings or explicitly select the grouping columns after groupby to silence this warning.\n",
      "\n",
      "C:\\Users\\antoi\\AppData\\Local\\Temp\\ipykernel_26536\\4128874332.py:11: DeprecationWarning:\n",
      "\n",
      "DataFrameGroupBy.apply operated on the grouping columns. This behavior is deprecated, and in a future version of pandas the grouping columns will be excluded from the operation. Either pass `include_groups=False` to exclude the groupings or explicitly select the grouping columns after groupby to silence this warning.\n",
      "\n",
      "C:\\Users\\antoi\\AppData\\Local\\Temp\\ipykernel_26536\\4128874332.py:11: DeprecationWarning:\n",
      "\n",
      "DataFrameGroupBy.apply operated on the grouping columns. This behavior is deprecated, and in a future version of pandas the grouping columns will be excluded from the operation. Either pass `include_groups=False` to exclude the groupings or explicitly select the grouping columns after groupby to silence this warning.\n",
      "\n",
      "C:\\Users\\antoi\\AppData\\Local\\Temp\\ipykernel_26536\\4128874332.py:11: DeprecationWarning:\n",
      "\n",
      "DataFrameGroupBy.apply operated on the grouping columns. This behavior is deprecated, and in a future version of pandas the grouping columns will be excluded from the operation. Either pass `include_groups=False` to exclude the groupings or explicitly select the grouping columns after groupby to silence this warning.\n",
      "\n",
      "C:\\Users\\antoi\\AppData\\Local\\Temp\\ipykernel_26536\\4128874332.py:11: DeprecationWarning:\n",
      "\n",
      "DataFrameGroupBy.apply operated on the grouping columns. This behavior is deprecated, and in a future version of pandas the grouping columns will be excluded from the operation. Either pass `include_groups=False` to exclude the groupings or explicitly select the grouping columns after groupby to silence this warning.\n",
      "\n",
      "C:\\Users\\antoi\\AppData\\Local\\Temp\\ipykernel_26536\\4128874332.py:11: DeprecationWarning:\n",
      "\n",
      "DataFrameGroupBy.apply operated on the grouping columns. This behavior is deprecated, and in a future version of pandas the grouping columns will be excluded from the operation. Either pass `include_groups=False` to exclude the groupings or explicitly select the grouping columns after groupby to silence this warning.\n",
      "\n",
      "C:\\Users\\antoi\\AppData\\Local\\Temp\\ipykernel_26536\\4128874332.py:11: DeprecationWarning:\n",
      "\n",
      "DataFrameGroupBy.apply operated on the grouping columns. This behavior is deprecated, and in a future version of pandas the grouping columns will be excluded from the operation. Either pass `include_groups=False` to exclude the groupings or explicitly select the grouping columns after groupby to silence this warning.\n",
      "\n",
      "C:\\Users\\antoi\\AppData\\Local\\Temp\\ipykernel_26536\\4128874332.py:11: DeprecationWarning:\n",
      "\n",
      "DataFrameGroupBy.apply operated on the grouping columns. This behavior is deprecated, and in a future version of pandas the grouping columns will be excluded from the operation. Either pass `include_groups=False` to exclude the groupings or explicitly select the grouping columns after groupby to silence this warning.\n",
      "\n",
      "C:\\Users\\antoi\\AppData\\Local\\Temp\\ipykernel_26536\\4128874332.py:11: DeprecationWarning:\n",
      "\n",
      "DataFrameGroupBy.apply operated on the grouping columns. This behavior is deprecated, and in a future version of pandas the grouping columns will be excluded from the operation. Either pass `include_groups=False` to exclude the groupings or explicitly select the grouping columns after groupby to silence this warning.\n",
      "\n",
      "C:\\Users\\antoi\\AppData\\Local\\Temp\\ipykernel_26536\\4128874332.py:11: DeprecationWarning:\n",
      "\n",
      "DataFrameGroupBy.apply operated on the grouping columns. This behavior is deprecated, and in a future version of pandas the grouping columns will be excluded from the operation. Either pass `include_groups=False` to exclude the groupings or explicitly select the grouping columns after groupby to silence this warning.\n",
      "\n",
      "C:\\Users\\antoi\\AppData\\Local\\Temp\\ipykernel_26536\\4128874332.py:11: DeprecationWarning:\n",
      "\n",
      "DataFrameGroupBy.apply operated on the grouping columns. This behavior is deprecated, and in a future version of pandas the grouping columns will be excluded from the operation. Either pass `include_groups=False` to exclude the groupings or explicitly select the grouping columns after groupby to silence this warning.\n",
      "\n",
      "C:\\Users\\antoi\\AppData\\Local\\Temp\\ipykernel_26536\\4128874332.py:11: DeprecationWarning:\n",
      "\n",
      "DataFrameGroupBy.apply operated on the grouping columns. This behavior is deprecated, and in a future version of pandas the grouping columns will be excluded from the operation. Either pass `include_groups=False` to exclude the groupings or explicitly select the grouping columns after groupby to silence this warning.\n",
      "\n",
      "C:\\Users\\antoi\\AppData\\Local\\Temp\\ipykernel_26536\\4128874332.py:11: DeprecationWarning:\n",
      "\n",
      "DataFrameGroupBy.apply operated on the grouping columns. This behavior is deprecated, and in a future version of pandas the grouping columns will be excluded from the operation. Either pass `include_groups=False` to exclude the groupings or explicitly select the grouping columns after groupby to silence this warning.\n",
      "\n",
      "C:\\Users\\antoi\\AppData\\Local\\Temp\\ipykernel_26536\\4128874332.py:11: DeprecationWarning:\n",
      "\n",
      "DataFrameGroupBy.apply operated on the grouping columns. This behavior is deprecated, and in a future version of pandas the grouping columns will be excluded from the operation. Either pass `include_groups=False` to exclude the groupings or explicitly select the grouping columns after groupby to silence this warning.\n",
      "\n",
      "C:\\Users\\antoi\\AppData\\Local\\Temp\\ipykernel_26536\\4128874332.py:11: DeprecationWarning:\n",
      "\n",
      "DataFrameGroupBy.apply operated on the grouping columns. This behavior is deprecated, and in a future version of pandas the grouping columns will be excluded from the operation. Either pass `include_groups=False` to exclude the groupings or explicitly select the grouping columns after groupby to silence this warning.\n",
      "\n",
      "C:\\Users\\antoi\\AppData\\Local\\Temp\\ipykernel_26536\\4128874332.py:11: DeprecationWarning:\n",
      "\n",
      "DataFrameGroupBy.apply operated on the grouping columns. This behavior is deprecated, and in a future version of pandas the grouping columns will be excluded from the operation. Either pass `include_groups=False` to exclude the groupings or explicitly select the grouping columns after groupby to silence this warning.\n",
      "\n",
      "C:\\Users\\antoi\\AppData\\Local\\Temp\\ipykernel_26536\\4128874332.py:11: DeprecationWarning:\n",
      "\n",
      "DataFrameGroupBy.apply operated on the grouping columns. This behavior is deprecated, and in a future version of pandas the grouping columns will be excluded from the operation. Either pass `include_groups=False` to exclude the groupings or explicitly select the grouping columns after groupby to silence this warning.\n",
      "\n",
      "C:\\Users\\antoi\\AppData\\Local\\Temp\\ipykernel_26536\\4128874332.py:11: DeprecationWarning:\n",
      "\n",
      "DataFrameGroupBy.apply operated on the grouping columns. This behavior is deprecated, and in a future version of pandas the grouping columns will be excluded from the operation. Either pass `include_groups=False` to exclude the groupings or explicitly select the grouping columns after groupby to silence this warning.\n",
      "\n",
      "C:\\Users\\antoi\\AppData\\Local\\Temp\\ipykernel_26536\\4128874332.py:11: DeprecationWarning:\n",
      "\n",
      "DataFrameGroupBy.apply operated on the grouping columns. This behavior is deprecated, and in a future version of pandas the grouping columns will be excluded from the operation. Either pass `include_groups=False` to exclude the groupings or explicitly select the grouping columns after groupby to silence this warning.\n",
      "\n",
      "C:\\Users\\antoi\\AppData\\Local\\Temp\\ipykernel_26536\\4128874332.py:11: DeprecationWarning:\n",
      "\n",
      "DataFrameGroupBy.apply operated on the grouping columns. This behavior is deprecated, and in a future version of pandas the grouping columns will be excluded from the operation. Either pass `include_groups=False` to exclude the groupings or explicitly select the grouping columns after groupby to silence this warning.\n",
      "\n",
      "C:\\Users\\antoi\\AppData\\Local\\Temp\\ipykernel_26536\\4128874332.py:11: DeprecationWarning:\n",
      "\n",
      "DataFrameGroupBy.apply operated on the grouping columns. This behavior is deprecated, and in a future version of pandas the grouping columns will be excluded from the operation. Either pass `include_groups=False` to exclude the groupings or explicitly select the grouping columns after groupby to silence this warning.\n",
      "\n",
      "C:\\Users\\antoi\\AppData\\Local\\Temp\\ipykernel_26536\\4128874332.py:11: DeprecationWarning:\n",
      "\n",
      "DataFrameGroupBy.apply operated on the grouping columns. This behavior is deprecated, and in a future version of pandas the grouping columns will be excluded from the operation. Either pass `include_groups=False` to exclude the groupings or explicitly select the grouping columns after groupby to silence this warning.\n",
      "\n",
      "C:\\Users\\antoi\\AppData\\Local\\Temp\\ipykernel_26536\\4128874332.py:11: DeprecationWarning:\n",
      "\n",
      "DataFrameGroupBy.apply operated on the grouping columns. This behavior is deprecated, and in a future version of pandas the grouping columns will be excluded from the operation. Either pass `include_groups=False` to exclude the groupings or explicitly select the grouping columns after groupby to silence this warning.\n",
      "\n",
      "C:\\Users\\antoi\\AppData\\Local\\Temp\\ipykernel_26536\\4128874332.py:11: DeprecationWarning:\n",
      "\n",
      "DataFrameGroupBy.apply operated on the grouping columns. This behavior is deprecated, and in a future version of pandas the grouping columns will be excluded from the operation. Either pass `include_groups=False` to exclude the groupings or explicitly select the grouping columns after groupby to silence this warning.\n",
      "\n",
      "C:\\Users\\antoi\\AppData\\Local\\Temp\\ipykernel_26536\\4128874332.py:11: DeprecationWarning:\n",
      "\n",
      "DataFrameGroupBy.apply operated on the grouping columns. This behavior is deprecated, and in a future version of pandas the grouping columns will be excluded from the operation. Either pass `include_groups=False` to exclude the groupings or explicitly select the grouping columns after groupby to silence this warning.\n",
      "\n",
      "C:\\Users\\antoi\\AppData\\Local\\Temp\\ipykernel_26536\\4128874332.py:11: DeprecationWarning:\n",
      "\n",
      "DataFrameGroupBy.apply operated on the grouping columns. This behavior is deprecated, and in a future version of pandas the grouping columns will be excluded from the operation. Either pass `include_groups=False` to exclude the groupings or explicitly select the grouping columns after groupby to silence this warning.\n",
      "\n",
      "C:\\Users\\antoi\\AppData\\Local\\Temp\\ipykernel_26536\\4128874332.py:11: DeprecationWarning:\n",
      "\n",
      "DataFrameGroupBy.apply operated on the grouping columns. This behavior is deprecated, and in a future version of pandas the grouping columns will be excluded from the operation. Either pass `include_groups=False` to exclude the groupings or explicitly select the grouping columns after groupby to silence this warning.\n",
      "\n",
      "C:\\Users\\antoi\\AppData\\Local\\Temp\\ipykernel_26536\\4128874332.py:11: DeprecationWarning:\n",
      "\n",
      "DataFrameGroupBy.apply operated on the grouping columns. This behavior is deprecated, and in a future version of pandas the grouping columns will be excluded from the operation. Either pass `include_groups=False` to exclude the groupings or explicitly select the grouping columns after groupby to silence this warning.\n",
      "\n",
      "C:\\Users\\antoi\\AppData\\Local\\Temp\\ipykernel_26536\\4128874332.py:11: DeprecationWarning:\n",
      "\n",
      "DataFrameGroupBy.apply operated on the grouping columns. This behavior is deprecated, and in a future version of pandas the grouping columns will be excluded from the operation. Either pass `include_groups=False` to exclude the groupings or explicitly select the grouping columns after groupby to silence this warning.\n",
      "\n",
      "C:\\Users\\antoi\\AppData\\Local\\Temp\\ipykernel_26536\\4128874332.py:11: DeprecationWarning:\n",
      "\n",
      "DataFrameGroupBy.apply operated on the grouping columns. This behavior is deprecated, and in a future version of pandas the grouping columns will be excluded from the operation. Either pass `include_groups=False` to exclude the groupings or explicitly select the grouping columns after groupby to silence this warning.\n",
      "\n",
      "C:\\Users\\antoi\\AppData\\Local\\Temp\\ipykernel_26536\\4128874332.py:11: DeprecationWarning:\n",
      "\n",
      "DataFrameGroupBy.apply operated on the grouping columns. This behavior is deprecated, and in a future version of pandas the grouping columns will be excluded from the operation. Either pass `include_groups=False` to exclude the groupings or explicitly select the grouping columns after groupby to silence this warning.\n",
      "\n",
      "C:\\Users\\antoi\\AppData\\Local\\Temp\\ipykernel_26536\\4128874332.py:11: DeprecationWarning:\n",
      "\n",
      "DataFrameGroupBy.apply operated on the grouping columns. This behavior is deprecated, and in a future version of pandas the grouping columns will be excluded from the operation. Either pass `include_groups=False` to exclude the groupings or explicitly select the grouping columns after groupby to silence this warning.\n",
      "\n",
      "C:\\Users\\antoi\\AppData\\Local\\Temp\\ipykernel_26536\\4128874332.py:11: DeprecationWarning:\n",
      "\n",
      "DataFrameGroupBy.apply operated on the grouping columns. This behavior is deprecated, and in a future version of pandas the grouping columns will be excluded from the operation. Either pass `include_groups=False` to exclude the groupings or explicitly select the grouping columns after groupby to silence this warning.\n",
      "\n",
      "C:\\Users\\antoi\\AppData\\Local\\Temp\\ipykernel_26536\\4128874332.py:11: DeprecationWarning:\n",
      "\n",
      "DataFrameGroupBy.apply operated on the grouping columns. This behavior is deprecated, and in a future version of pandas the grouping columns will be excluded from the operation. Either pass `include_groups=False` to exclude the groupings or explicitly select the grouping columns after groupby to silence this warning.\n",
      "\n",
      "C:\\Users\\antoi\\AppData\\Local\\Temp\\ipykernel_26536\\4128874332.py:11: DeprecationWarning:\n",
      "\n",
      "DataFrameGroupBy.apply operated on the grouping columns. This behavior is deprecated, and in a future version of pandas the grouping columns will be excluded from the operation. Either pass `include_groups=False` to exclude the groupings or explicitly select the grouping columns after groupby to silence this warning.\n",
      "\n",
      "C:\\Users\\antoi\\AppData\\Local\\Temp\\ipykernel_26536\\4128874332.py:11: DeprecationWarning:\n",
      "\n",
      "DataFrameGroupBy.apply operated on the grouping columns. This behavior is deprecated, and in a future version of pandas the grouping columns will be excluded from the operation. Either pass `include_groups=False` to exclude the groupings or explicitly select the grouping columns after groupby to silence this warning.\n",
      "\n",
      "C:\\Users\\antoi\\AppData\\Local\\Temp\\ipykernel_26536\\4128874332.py:11: DeprecationWarning:\n",
      "\n",
      "DataFrameGroupBy.apply operated on the grouping columns. This behavior is deprecated, and in a future version of pandas the grouping columns will be excluded from the operation. Either pass `include_groups=False` to exclude the groupings or explicitly select the grouping columns after groupby to silence this warning.\n",
      "\n",
      "C:\\Users\\antoi\\AppData\\Local\\Temp\\ipykernel_26536\\4128874332.py:11: DeprecationWarning:\n",
      "\n",
      "DataFrameGroupBy.apply operated on the grouping columns. This behavior is deprecated, and in a future version of pandas the grouping columns will be excluded from the operation. Either pass `include_groups=False` to exclude the groupings or explicitly select the grouping columns after groupby to silence this warning.\n",
      "\n",
      "C:\\Users\\antoi\\AppData\\Local\\Temp\\ipykernel_26536\\4128874332.py:11: DeprecationWarning:\n",
      "\n",
      "DataFrameGroupBy.apply operated on the grouping columns. This behavior is deprecated, and in a future version of pandas the grouping columns will be excluded from the operation. Either pass `include_groups=False` to exclude the groupings or explicitly select the grouping columns after groupby to silence this warning.\n",
      "\n",
      "C:\\Users\\antoi\\AppData\\Local\\Temp\\ipykernel_26536\\4128874332.py:11: DeprecationWarning:\n",
      "\n",
      "DataFrameGroupBy.apply operated on the grouping columns. This behavior is deprecated, and in a future version of pandas the grouping columns will be excluded from the operation. Either pass `include_groups=False` to exclude the groupings or explicitly select the grouping columns after groupby to silence this warning.\n",
      "\n",
      "C:\\Users\\antoi\\AppData\\Local\\Temp\\ipykernel_26536\\4128874332.py:11: DeprecationWarning:\n",
      "\n",
      "DataFrameGroupBy.apply operated on the grouping columns. This behavior is deprecated, and in a future version of pandas the grouping columns will be excluded from the operation. Either pass `include_groups=False` to exclude the groupings or explicitly select the grouping columns after groupby to silence this warning.\n",
      "\n",
      "C:\\Users\\antoi\\AppData\\Local\\Temp\\ipykernel_26536\\4128874332.py:11: DeprecationWarning:\n",
      "\n",
      "DataFrameGroupBy.apply operated on the grouping columns. This behavior is deprecated, and in a future version of pandas the grouping columns will be excluded from the operation. Either pass `include_groups=False` to exclude the groupings or explicitly select the grouping columns after groupby to silence this warning.\n",
      "\n",
      "C:\\Users\\antoi\\AppData\\Local\\Temp\\ipykernel_26536\\4128874332.py:11: DeprecationWarning:\n",
      "\n",
      "DataFrameGroupBy.apply operated on the grouping columns. This behavior is deprecated, and in a future version of pandas the grouping columns will be excluded from the operation. Either pass `include_groups=False` to exclude the groupings or explicitly select the grouping columns after groupby to silence this warning.\n",
      "\n",
      "C:\\Users\\antoi\\AppData\\Local\\Temp\\ipykernel_26536\\4128874332.py:11: DeprecationWarning:\n",
      "\n",
      "DataFrameGroupBy.apply operated on the grouping columns. This behavior is deprecated, and in a future version of pandas the grouping columns will be excluded from the operation. Either pass `include_groups=False` to exclude the groupings or explicitly select the grouping columns after groupby to silence this warning.\n",
      "\n",
      "C:\\Users\\antoi\\AppData\\Local\\Temp\\ipykernel_26536\\4128874332.py:11: DeprecationWarning:\n",
      "\n",
      "DataFrameGroupBy.apply operated on the grouping columns. This behavior is deprecated, and in a future version of pandas the grouping columns will be excluded from the operation. Either pass `include_groups=False` to exclude the groupings or explicitly select the grouping columns after groupby to silence this warning.\n",
      "\n",
      "C:\\Users\\antoi\\AppData\\Local\\Temp\\ipykernel_26536\\4128874332.py:11: DeprecationWarning:\n",
      "\n",
      "DataFrameGroupBy.apply operated on the grouping columns. This behavior is deprecated, and in a future version of pandas the grouping columns will be excluded from the operation. Either pass `include_groups=False` to exclude the groupings or explicitly select the grouping columns after groupby to silence this warning.\n",
      "\n",
      "C:\\Users\\antoi\\AppData\\Local\\Temp\\ipykernel_26536\\4128874332.py:11: DeprecationWarning:\n",
      "\n",
      "DataFrameGroupBy.apply operated on the grouping columns. This behavior is deprecated, and in a future version of pandas the grouping columns will be excluded from the operation. Either pass `include_groups=False` to exclude the groupings or explicitly select the grouping columns after groupby to silence this warning.\n",
      "\n",
      "C:\\Users\\antoi\\AppData\\Local\\Temp\\ipykernel_26536\\4128874332.py:11: DeprecationWarning:\n",
      "\n",
      "DataFrameGroupBy.apply operated on the grouping columns. This behavior is deprecated, and in a future version of pandas the grouping columns will be excluded from the operation. Either pass `include_groups=False` to exclude the groupings or explicitly select the grouping columns after groupby to silence this warning.\n",
      "\n",
      "C:\\Users\\antoi\\AppData\\Local\\Temp\\ipykernel_26536\\4128874332.py:11: DeprecationWarning:\n",
      "\n",
      "DataFrameGroupBy.apply operated on the grouping columns. This behavior is deprecated, and in a future version of pandas the grouping columns will be excluded from the operation. Either pass `include_groups=False` to exclude the groupings or explicitly select the grouping columns after groupby to silence this warning.\n",
      "\n",
      "C:\\Users\\antoi\\AppData\\Local\\Temp\\ipykernel_26536\\4128874332.py:11: DeprecationWarning:\n",
      "\n",
      "DataFrameGroupBy.apply operated on the grouping columns. This behavior is deprecated, and in a future version of pandas the grouping columns will be excluded from the operation. Either pass `include_groups=False` to exclude the groupings or explicitly select the grouping columns after groupby to silence this warning.\n",
      "\n",
      "C:\\Users\\antoi\\AppData\\Local\\Temp\\ipykernel_26536\\4128874332.py:11: DeprecationWarning:\n",
      "\n",
      "DataFrameGroupBy.apply operated on the grouping columns. This behavior is deprecated, and in a future version of pandas the grouping columns will be excluded from the operation. Either pass `include_groups=False` to exclude the groupings or explicitly select the grouping columns after groupby to silence this warning.\n",
      "\n",
      "C:\\Users\\antoi\\AppData\\Local\\Temp\\ipykernel_26536\\4128874332.py:11: DeprecationWarning:\n",
      "\n",
      "DataFrameGroupBy.apply operated on the grouping columns. This behavior is deprecated, and in a future version of pandas the grouping columns will be excluded from the operation. Either pass `include_groups=False` to exclude the groupings or explicitly select the grouping columns after groupby to silence this warning.\n",
      "\n",
      "C:\\Users\\antoi\\AppData\\Local\\Temp\\ipykernel_26536\\4128874332.py:11: DeprecationWarning:\n",
      "\n",
      "DataFrameGroupBy.apply operated on the grouping columns. This behavior is deprecated, and in a future version of pandas the grouping columns will be excluded from the operation. Either pass `include_groups=False` to exclude the groupings or explicitly select the grouping columns after groupby to silence this warning.\n",
      "\n",
      "C:\\Users\\antoi\\AppData\\Local\\Temp\\ipykernel_26536\\4128874332.py:11: DeprecationWarning:\n",
      "\n",
      "DataFrameGroupBy.apply operated on the grouping columns. This behavior is deprecated, and in a future version of pandas the grouping columns will be excluded from the operation. Either pass `include_groups=False` to exclude the groupings or explicitly select the grouping columns after groupby to silence this warning.\n",
      "\n",
      "C:\\Users\\antoi\\AppData\\Local\\Temp\\ipykernel_26536\\4128874332.py:11: DeprecationWarning:\n",
      "\n",
      "DataFrameGroupBy.apply operated on the grouping columns. This behavior is deprecated, and in a future version of pandas the grouping columns will be excluded from the operation. Either pass `include_groups=False` to exclude the groupings or explicitly select the grouping columns after groupby to silence this warning.\n",
      "\n",
      "C:\\Users\\antoi\\AppData\\Local\\Temp\\ipykernel_26536\\4128874332.py:11: DeprecationWarning:\n",
      "\n",
      "DataFrameGroupBy.apply operated on the grouping columns. This behavior is deprecated, and in a future version of pandas the grouping columns will be excluded from the operation. Either pass `include_groups=False` to exclude the groupings or explicitly select the grouping columns after groupby to silence this warning.\n",
      "\n",
      "C:\\Users\\antoi\\AppData\\Local\\Temp\\ipykernel_26536\\4128874332.py:11: DeprecationWarning:\n",
      "\n",
      "DataFrameGroupBy.apply operated on the grouping columns. This behavior is deprecated, and in a future version of pandas the grouping columns will be excluded from the operation. Either pass `include_groups=False` to exclude the groupings or explicitly select the grouping columns after groupby to silence this warning.\n",
      "\n",
      "C:\\Users\\antoi\\AppData\\Local\\Temp\\ipykernel_26536\\4128874332.py:11: DeprecationWarning:\n",
      "\n",
      "DataFrameGroupBy.apply operated on the grouping columns. This behavior is deprecated, and in a future version of pandas the grouping columns will be excluded from the operation. Either pass `include_groups=False` to exclude the groupings or explicitly select the grouping columns after groupby to silence this warning.\n",
      "\n",
      "C:\\Users\\antoi\\AppData\\Local\\Temp\\ipykernel_26536\\4128874332.py:11: DeprecationWarning:\n",
      "\n",
      "DataFrameGroupBy.apply operated on the grouping columns. This behavior is deprecated, and in a future version of pandas the grouping columns will be excluded from the operation. Either pass `include_groups=False` to exclude the groupings or explicitly select the grouping columns after groupby to silence this warning.\n",
      "\n",
      "C:\\Users\\antoi\\AppData\\Local\\Temp\\ipykernel_26536\\4128874332.py:11: DeprecationWarning:\n",
      "\n",
      "DataFrameGroupBy.apply operated on the grouping columns. This behavior is deprecated, and in a future version of pandas the grouping columns will be excluded from the operation. Either pass `include_groups=False` to exclude the groupings or explicitly select the grouping columns after groupby to silence this warning.\n",
      "\n",
      "C:\\Users\\antoi\\AppData\\Local\\Temp\\ipykernel_26536\\4128874332.py:11: DeprecationWarning:\n",
      "\n",
      "DataFrameGroupBy.apply operated on the grouping columns. This behavior is deprecated, and in a future version of pandas the grouping columns will be excluded from the operation. Either pass `include_groups=False` to exclude the groupings or explicitly select the grouping columns after groupby to silence this warning.\n",
      "\n",
      "C:\\Users\\antoi\\AppData\\Local\\Temp\\ipykernel_26536\\4128874332.py:11: DeprecationWarning:\n",
      "\n",
      "DataFrameGroupBy.apply operated on the grouping columns. This behavior is deprecated, and in a future version of pandas the grouping columns will be excluded from the operation. Either pass `include_groups=False` to exclude the groupings or explicitly select the grouping columns after groupby to silence this warning.\n",
      "\n",
      "C:\\Users\\antoi\\AppData\\Local\\Temp\\ipykernel_26536\\4128874332.py:11: DeprecationWarning:\n",
      "\n",
      "DataFrameGroupBy.apply operated on the grouping columns. This behavior is deprecated, and in a future version of pandas the grouping columns will be excluded from the operation. Either pass `include_groups=False` to exclude the groupings or explicitly select the grouping columns after groupby to silence this warning.\n",
      "\n",
      "C:\\Users\\antoi\\AppData\\Local\\Temp\\ipykernel_26536\\4128874332.py:11: DeprecationWarning:\n",
      "\n",
      "DataFrameGroupBy.apply operated on the grouping columns. This behavior is deprecated, and in a future version of pandas the grouping columns will be excluded from the operation. Either pass `include_groups=False` to exclude the groupings or explicitly select the grouping columns after groupby to silence this warning.\n",
      "\n",
      "C:\\Users\\antoi\\AppData\\Local\\Temp\\ipykernel_26536\\4128874332.py:11: DeprecationWarning:\n",
      "\n",
      "DataFrameGroupBy.apply operated on the grouping columns. This behavior is deprecated, and in a future version of pandas the grouping columns will be excluded from the operation. Either pass `include_groups=False` to exclude the groupings or explicitly select the grouping columns after groupby to silence this warning.\n",
      "\n",
      "C:\\Users\\antoi\\AppData\\Local\\Temp\\ipykernel_26536\\4128874332.py:11: DeprecationWarning:\n",
      "\n",
      "DataFrameGroupBy.apply operated on the grouping columns. This behavior is deprecated, and in a future version of pandas the grouping columns will be excluded from the operation. Either pass `include_groups=False` to exclude the groupings or explicitly select the grouping columns after groupby to silence this warning.\n",
      "\n",
      "C:\\Users\\antoi\\AppData\\Local\\Temp\\ipykernel_26536\\4128874332.py:11: DeprecationWarning:\n",
      "\n",
      "DataFrameGroupBy.apply operated on the grouping columns. This behavior is deprecated, and in a future version of pandas the grouping columns will be excluded from the operation. Either pass `include_groups=False` to exclude the groupings or explicitly select the grouping columns after groupby to silence this warning.\n",
      "\n",
      "C:\\Users\\antoi\\AppData\\Local\\Temp\\ipykernel_26536\\4128874332.py:11: DeprecationWarning:\n",
      "\n",
      "DataFrameGroupBy.apply operated on the grouping columns. This behavior is deprecated, and in a future version of pandas the grouping columns will be excluded from the operation. Either pass `include_groups=False` to exclude the groupings or explicitly select the grouping columns after groupby to silence this warning.\n",
      "\n",
      "C:\\Users\\antoi\\AppData\\Local\\Temp\\ipykernel_26536\\4128874332.py:11: DeprecationWarning:\n",
      "\n",
      "DataFrameGroupBy.apply operated on the grouping columns. This behavior is deprecated, and in a future version of pandas the grouping columns will be excluded from the operation. Either pass `include_groups=False` to exclude the groupings or explicitly select the grouping columns after groupby to silence this warning.\n",
      "\n",
      "C:\\Users\\antoi\\AppData\\Local\\Temp\\ipykernel_26536\\4128874332.py:11: DeprecationWarning:\n",
      "\n",
      "DataFrameGroupBy.apply operated on the grouping columns. This behavior is deprecated, and in a future version of pandas the grouping columns will be excluded from the operation. Either pass `include_groups=False` to exclude the groupings or explicitly select the grouping columns after groupby to silence this warning.\n",
      "\n",
      "C:\\Users\\antoi\\AppData\\Local\\Temp\\ipykernel_26536\\4128874332.py:11: DeprecationWarning:\n",
      "\n",
      "DataFrameGroupBy.apply operated on the grouping columns. This behavior is deprecated, and in a future version of pandas the grouping columns will be excluded from the operation. Either pass `include_groups=False` to exclude the groupings or explicitly select the grouping columns after groupby to silence this warning.\n",
      "\n",
      "C:\\Users\\antoi\\AppData\\Local\\Temp\\ipykernel_26536\\4128874332.py:11: DeprecationWarning:\n",
      "\n",
      "DataFrameGroupBy.apply operated on the grouping columns. This behavior is deprecated, and in a future version of pandas the grouping columns will be excluded from the operation. Either pass `include_groups=False` to exclude the groupings or explicitly select the grouping columns after groupby to silence this warning.\n",
      "\n",
      "C:\\Users\\antoi\\AppData\\Local\\Temp\\ipykernel_26536\\4128874332.py:11: DeprecationWarning:\n",
      "\n",
      "DataFrameGroupBy.apply operated on the grouping columns. This behavior is deprecated, and in a future version of pandas the grouping columns will be excluded from the operation. Either pass `include_groups=False` to exclude the groupings or explicitly select the grouping columns after groupby to silence this warning.\n",
      "\n",
      "C:\\Users\\antoi\\AppData\\Local\\Temp\\ipykernel_26536\\4128874332.py:11: DeprecationWarning:\n",
      "\n",
      "DataFrameGroupBy.apply operated on the grouping columns. This behavior is deprecated, and in a future version of pandas the grouping columns will be excluded from the operation. Either pass `include_groups=False` to exclude the groupings or explicitly select the grouping columns after groupby to silence this warning.\n",
      "\n",
      "C:\\Users\\antoi\\AppData\\Local\\Temp\\ipykernel_26536\\4128874332.py:11: DeprecationWarning:\n",
      "\n",
      "DataFrameGroupBy.apply operated on the grouping columns. This behavior is deprecated, and in a future version of pandas the grouping columns will be excluded from the operation. Either pass `include_groups=False` to exclude the groupings or explicitly select the grouping columns after groupby to silence this warning.\n",
      "\n",
      "C:\\Users\\antoi\\AppData\\Local\\Temp\\ipykernel_26536\\4128874332.py:11: DeprecationWarning:\n",
      "\n",
      "DataFrameGroupBy.apply operated on the grouping columns. This behavior is deprecated, and in a future version of pandas the grouping columns will be excluded from the operation. Either pass `include_groups=False` to exclude the groupings or explicitly select the grouping columns after groupby to silence this warning.\n",
      "\n",
      "C:\\Users\\antoi\\AppData\\Local\\Temp\\ipykernel_26536\\4128874332.py:11: DeprecationWarning:\n",
      "\n",
      "DataFrameGroupBy.apply operated on the grouping columns. This behavior is deprecated, and in a future version of pandas the grouping columns will be excluded from the operation. Either pass `include_groups=False` to exclude the groupings or explicitly select the grouping columns after groupby to silence this warning.\n",
      "\n",
      "C:\\Users\\antoi\\AppData\\Local\\Temp\\ipykernel_26536\\4128874332.py:11: DeprecationWarning:\n",
      "\n",
      "DataFrameGroupBy.apply operated on the grouping columns. This behavior is deprecated, and in a future version of pandas the grouping columns will be excluded from the operation. Either pass `include_groups=False` to exclude the groupings or explicitly select the grouping columns after groupby to silence this warning.\n",
      "\n",
      "C:\\Users\\antoi\\AppData\\Local\\Temp\\ipykernel_26536\\4128874332.py:11: DeprecationWarning:\n",
      "\n",
      "DataFrameGroupBy.apply operated on the grouping columns. This behavior is deprecated, and in a future version of pandas the grouping columns will be excluded from the operation. Either pass `include_groups=False` to exclude the groupings or explicitly select the grouping columns after groupby to silence this warning.\n",
      "\n",
      "C:\\Users\\antoi\\AppData\\Local\\Temp\\ipykernel_26536\\4128874332.py:11: DeprecationWarning:\n",
      "\n",
      "DataFrameGroupBy.apply operated on the grouping columns. This behavior is deprecated, and in a future version of pandas the grouping columns will be excluded from the operation. Either pass `include_groups=False` to exclude the groupings or explicitly select the grouping columns after groupby to silence this warning.\n",
      "\n",
      "C:\\Users\\antoi\\AppData\\Local\\Temp\\ipykernel_26536\\4128874332.py:11: DeprecationWarning:\n",
      "\n",
      "DataFrameGroupBy.apply operated on the grouping columns. This behavior is deprecated, and in a future version of pandas the grouping columns will be excluded from the operation. Either pass `include_groups=False` to exclude the groupings or explicitly select the grouping columns after groupby to silence this warning.\n",
      "\n",
      "C:\\Users\\antoi\\AppData\\Local\\Temp\\ipykernel_26536\\4128874332.py:11: DeprecationWarning:\n",
      "\n",
      "DataFrameGroupBy.apply operated on the grouping columns. This behavior is deprecated, and in a future version of pandas the grouping columns will be excluded from the operation. Either pass `include_groups=False` to exclude the groupings or explicitly select the grouping columns after groupby to silence this warning.\n",
      "\n",
      "C:\\Users\\antoi\\AppData\\Local\\Temp\\ipykernel_26536\\4128874332.py:11: DeprecationWarning:\n",
      "\n",
      "DataFrameGroupBy.apply operated on the grouping columns. This behavior is deprecated, and in a future version of pandas the grouping columns will be excluded from the operation. Either pass `include_groups=False` to exclude the groupings or explicitly select the grouping columns after groupby to silence this warning.\n",
      "\n",
      "C:\\Users\\antoi\\AppData\\Local\\Temp\\ipykernel_26536\\4128874332.py:11: DeprecationWarning:\n",
      "\n",
      "DataFrameGroupBy.apply operated on the grouping columns. This behavior is deprecated, and in a future version of pandas the grouping columns will be excluded from the operation. Either pass `include_groups=False` to exclude the groupings or explicitly select the grouping columns after groupby to silence this warning.\n",
      "\n",
      "C:\\Users\\antoi\\AppData\\Local\\Temp\\ipykernel_26536\\4128874332.py:11: DeprecationWarning:\n",
      "\n",
      "DataFrameGroupBy.apply operated on the grouping columns. This behavior is deprecated, and in a future version of pandas the grouping columns will be excluded from the operation. Either pass `include_groups=False` to exclude the groupings or explicitly select the grouping columns after groupby to silence this warning.\n",
      "\n",
      "C:\\Users\\antoi\\AppData\\Local\\Temp\\ipykernel_26536\\4128874332.py:11: DeprecationWarning:\n",
      "\n",
      "DataFrameGroupBy.apply operated on the grouping columns. This behavior is deprecated, and in a future version of pandas the grouping columns will be excluded from the operation. Either pass `include_groups=False` to exclude the groupings or explicitly select the grouping columns after groupby to silence this warning.\n",
      "\n",
      "C:\\Users\\antoi\\AppData\\Local\\Temp\\ipykernel_26536\\4128874332.py:11: DeprecationWarning:\n",
      "\n",
      "DataFrameGroupBy.apply operated on the grouping columns. This behavior is deprecated, and in a future version of pandas the grouping columns will be excluded from the operation. Either pass `include_groups=False` to exclude the groupings or explicitly select the grouping columns after groupby to silence this warning.\n",
      "\n",
      "C:\\Users\\antoi\\AppData\\Local\\Temp\\ipykernel_26536\\4128874332.py:11: DeprecationWarning:\n",
      "\n",
      "DataFrameGroupBy.apply operated on the grouping columns. This behavior is deprecated, and in a future version of pandas the grouping columns will be excluded from the operation. Either pass `include_groups=False` to exclude the groupings or explicitly select the grouping columns after groupby to silence this warning.\n",
      "\n",
      "C:\\Users\\antoi\\AppData\\Local\\Temp\\ipykernel_26536\\4128874332.py:11: DeprecationWarning:\n",
      "\n",
      "DataFrameGroupBy.apply operated on the grouping columns. This behavior is deprecated, and in a future version of pandas the grouping columns will be excluded from the operation. Either pass `include_groups=False` to exclude the groupings or explicitly select the grouping columns after groupby to silence this warning.\n",
      "\n",
      "C:\\Users\\antoi\\AppData\\Local\\Temp\\ipykernel_26536\\4128874332.py:11: DeprecationWarning:\n",
      "\n",
      "DataFrameGroupBy.apply operated on the grouping columns. This behavior is deprecated, and in a future version of pandas the grouping columns will be excluded from the operation. Either pass `include_groups=False` to exclude the groupings or explicitly select the grouping columns after groupby to silence this warning.\n",
      "\n",
      "C:\\Users\\antoi\\AppData\\Local\\Temp\\ipykernel_26536\\4128874332.py:11: DeprecationWarning:\n",
      "\n",
      "DataFrameGroupBy.apply operated on the grouping columns. This behavior is deprecated, and in a future version of pandas the grouping columns will be excluded from the operation. Either pass `include_groups=False` to exclude the groupings or explicitly select the grouping columns after groupby to silence this warning.\n",
      "\n",
      "C:\\Users\\antoi\\AppData\\Local\\Temp\\ipykernel_26536\\4128874332.py:11: DeprecationWarning:\n",
      "\n",
      "DataFrameGroupBy.apply operated on the grouping columns. This behavior is deprecated, and in a future version of pandas the grouping columns will be excluded from the operation. Either pass `include_groups=False` to exclude the groupings or explicitly select the grouping columns after groupby to silence this warning.\n",
      "\n",
      "C:\\Users\\antoi\\AppData\\Local\\Temp\\ipykernel_26536\\4128874332.py:11: DeprecationWarning:\n",
      "\n",
      "DataFrameGroupBy.apply operated on the grouping columns. This behavior is deprecated, and in a future version of pandas the grouping columns will be excluded from the operation. Either pass `include_groups=False` to exclude the groupings or explicitly select the grouping columns after groupby to silence this warning.\n",
      "\n",
      "C:\\Users\\antoi\\AppData\\Local\\Temp\\ipykernel_26536\\4128874332.py:11: DeprecationWarning:\n",
      "\n",
      "DataFrameGroupBy.apply operated on the grouping columns. This behavior is deprecated, and in a future version of pandas the grouping columns will be excluded from the operation. Either pass `include_groups=False` to exclude the groupings or explicitly select the grouping columns after groupby to silence this warning.\n",
      "\n",
      "C:\\Users\\antoi\\AppData\\Local\\Temp\\ipykernel_26536\\4128874332.py:11: DeprecationWarning:\n",
      "\n",
      "DataFrameGroupBy.apply operated on the grouping columns. This behavior is deprecated, and in a future version of pandas the grouping columns will be excluded from the operation. Either pass `include_groups=False` to exclude the groupings or explicitly select the grouping columns after groupby to silence this warning.\n",
      "\n",
      "C:\\Users\\antoi\\AppData\\Local\\Temp\\ipykernel_26536\\4128874332.py:11: DeprecationWarning:\n",
      "\n",
      "DataFrameGroupBy.apply operated on the grouping columns. This behavior is deprecated, and in a future version of pandas the grouping columns will be excluded from the operation. Either pass `include_groups=False` to exclude the groupings or explicitly select the grouping columns after groupby to silence this warning.\n",
      "\n",
      "C:\\Users\\antoi\\AppData\\Local\\Temp\\ipykernel_26536\\4128874332.py:11: DeprecationWarning:\n",
      "\n",
      "DataFrameGroupBy.apply operated on the grouping columns. This behavior is deprecated, and in a future version of pandas the grouping columns will be excluded from the operation. Either pass `include_groups=False` to exclude the groupings or explicitly select the grouping columns after groupby to silence this warning.\n",
      "\n",
      "C:\\Users\\antoi\\AppData\\Local\\Temp\\ipykernel_26536\\4128874332.py:11: DeprecationWarning:\n",
      "\n",
      "DataFrameGroupBy.apply operated on the grouping columns. This behavior is deprecated, and in a future version of pandas the grouping columns will be excluded from the operation. Either pass `include_groups=False` to exclude the groupings or explicitly select the grouping columns after groupby to silence this warning.\n",
      "\n",
      "C:\\Users\\antoi\\AppData\\Local\\Temp\\ipykernel_26536\\4128874332.py:11: DeprecationWarning:\n",
      "\n",
      "DataFrameGroupBy.apply operated on the grouping columns. This behavior is deprecated, and in a future version of pandas the grouping columns will be excluded from the operation. Either pass `include_groups=False` to exclude the groupings or explicitly select the grouping columns after groupby to silence this warning.\n",
      "\n",
      "C:\\Users\\antoi\\AppData\\Local\\Temp\\ipykernel_26536\\4128874332.py:11: DeprecationWarning:\n",
      "\n",
      "DataFrameGroupBy.apply operated on the grouping columns. This behavior is deprecated, and in a future version of pandas the grouping columns will be excluded from the operation. Either pass `include_groups=False` to exclude the groupings or explicitly select the grouping columns after groupby to silence this warning.\n",
      "\n",
      "C:\\Users\\antoi\\AppData\\Local\\Temp\\ipykernel_26536\\4128874332.py:11: DeprecationWarning:\n",
      "\n",
      "DataFrameGroupBy.apply operated on the grouping columns. This behavior is deprecated, and in a future version of pandas the grouping columns will be excluded from the operation. Either pass `include_groups=False` to exclude the groupings or explicitly select the grouping columns after groupby to silence this warning.\n",
      "\n",
      "C:\\Users\\antoi\\AppData\\Local\\Temp\\ipykernel_26536\\4128874332.py:11: DeprecationWarning:\n",
      "\n",
      "DataFrameGroupBy.apply operated on the grouping columns. This behavior is deprecated, and in a future version of pandas the grouping columns will be excluded from the operation. Either pass `include_groups=False` to exclude the groupings or explicitly select the grouping columns after groupby to silence this warning.\n",
      "\n",
      "C:\\Users\\antoi\\AppData\\Local\\Temp\\ipykernel_26536\\4128874332.py:11: DeprecationWarning:\n",
      "\n",
      "DataFrameGroupBy.apply operated on the grouping columns. This behavior is deprecated, and in a future version of pandas the grouping columns will be excluded from the operation. Either pass `include_groups=False` to exclude the groupings or explicitly select the grouping columns after groupby to silence this warning.\n",
      "\n",
      "C:\\Users\\antoi\\AppData\\Local\\Temp\\ipykernel_26536\\4128874332.py:11: DeprecationWarning:\n",
      "\n",
      "DataFrameGroupBy.apply operated on the grouping columns. This behavior is deprecated, and in a future version of pandas the grouping columns will be excluded from the operation. Either pass `include_groups=False` to exclude the groupings or explicitly select the grouping columns after groupby to silence this warning.\n",
      "\n",
      "C:\\Users\\antoi\\AppData\\Local\\Temp\\ipykernel_26536\\4128874332.py:11: DeprecationWarning:\n",
      "\n",
      "DataFrameGroupBy.apply operated on the grouping columns. This behavior is deprecated, and in a future version of pandas the grouping columns will be excluded from the operation. Either pass `include_groups=False` to exclude the groupings or explicitly select the grouping columns after groupby to silence this warning.\n",
      "\n",
      "C:\\Users\\antoi\\AppData\\Local\\Temp\\ipykernel_26536\\4128874332.py:11: DeprecationWarning:\n",
      "\n",
      "DataFrameGroupBy.apply operated on the grouping columns. This behavior is deprecated, and in a future version of pandas the grouping columns will be excluded from the operation. Either pass `include_groups=False` to exclude the groupings or explicitly select the grouping columns after groupby to silence this warning.\n",
      "\n",
      "C:\\Users\\antoi\\AppData\\Local\\Temp\\ipykernel_26536\\4128874332.py:11: DeprecationWarning:\n",
      "\n",
      "DataFrameGroupBy.apply operated on the grouping columns. This behavior is deprecated, and in a future version of pandas the grouping columns will be excluded from the operation. Either pass `include_groups=False` to exclude the groupings or explicitly select the grouping columns after groupby to silence this warning.\n",
      "\n",
      "C:\\Users\\antoi\\AppData\\Local\\Temp\\ipykernel_26536\\4128874332.py:11: DeprecationWarning:\n",
      "\n",
      "DataFrameGroupBy.apply operated on the grouping columns. This behavior is deprecated, and in a future version of pandas the grouping columns will be excluded from the operation. Either pass `include_groups=False` to exclude the groupings or explicitly select the grouping columns after groupby to silence this warning.\n",
      "\n",
      "C:\\Users\\antoi\\AppData\\Local\\Temp\\ipykernel_26536\\4128874332.py:11: DeprecationWarning:\n",
      "\n",
      "DataFrameGroupBy.apply operated on the grouping columns. This behavior is deprecated, and in a future version of pandas the grouping columns will be excluded from the operation. Either pass `include_groups=False` to exclude the groupings or explicitly select the grouping columns after groupby to silence this warning.\n",
      "\n",
      "C:\\Users\\antoi\\AppData\\Local\\Temp\\ipykernel_26536\\4128874332.py:11: DeprecationWarning:\n",
      "\n",
      "DataFrameGroupBy.apply operated on the grouping columns. This behavior is deprecated, and in a future version of pandas the grouping columns will be excluded from the operation. Either pass `include_groups=False` to exclude the groupings or explicitly select the grouping columns after groupby to silence this warning.\n",
      "\n",
      "C:\\Users\\antoi\\AppData\\Local\\Temp\\ipykernel_26536\\4128874332.py:11: DeprecationWarning:\n",
      "\n",
      "DataFrameGroupBy.apply operated on the grouping columns. This behavior is deprecated, and in a future version of pandas the grouping columns will be excluded from the operation. Either pass `include_groups=False` to exclude the groupings or explicitly select the grouping columns after groupby to silence this warning.\n",
      "\n",
      "C:\\Users\\antoi\\AppData\\Local\\Temp\\ipykernel_26536\\4128874332.py:11: DeprecationWarning:\n",
      "\n",
      "DataFrameGroupBy.apply operated on the grouping columns. This behavior is deprecated, and in a future version of pandas the grouping columns will be excluded from the operation. Either pass `include_groups=False` to exclude the groupings or explicitly select the grouping columns after groupby to silence this warning.\n",
      "\n",
      "C:\\Users\\antoi\\AppData\\Local\\Temp\\ipykernel_26536\\4128874332.py:11: DeprecationWarning:\n",
      "\n",
      "DataFrameGroupBy.apply operated on the grouping columns. This behavior is deprecated, and in a future version of pandas the grouping columns will be excluded from the operation. Either pass `include_groups=False` to exclude the groupings or explicitly select the grouping columns after groupby to silence this warning.\n",
      "\n",
      "C:\\Users\\antoi\\AppData\\Local\\Temp\\ipykernel_26536\\4128874332.py:11: DeprecationWarning:\n",
      "\n",
      "DataFrameGroupBy.apply operated on the grouping columns. This behavior is deprecated, and in a future version of pandas the grouping columns will be excluded from the operation. Either pass `include_groups=False` to exclude the groupings or explicitly select the grouping columns after groupby to silence this warning.\n",
      "\n",
      "C:\\Users\\antoi\\AppData\\Local\\Temp\\ipykernel_26536\\4128874332.py:11: DeprecationWarning:\n",
      "\n",
      "DataFrameGroupBy.apply operated on the grouping columns. This behavior is deprecated, and in a future version of pandas the grouping columns will be excluded from the operation. Either pass `include_groups=False` to exclude the groupings or explicitly select the grouping columns after groupby to silence this warning.\n",
      "\n",
      "C:\\Users\\antoi\\AppData\\Local\\Temp\\ipykernel_26536\\4128874332.py:11: DeprecationWarning:\n",
      "\n",
      "DataFrameGroupBy.apply operated on the grouping columns. This behavior is deprecated, and in a future version of pandas the grouping columns will be excluded from the operation. Either pass `include_groups=False` to exclude the groupings or explicitly select the grouping columns after groupby to silence this warning.\n",
      "\n",
      "C:\\Users\\antoi\\AppData\\Local\\Temp\\ipykernel_26536\\4128874332.py:11: DeprecationWarning:\n",
      "\n",
      "DataFrameGroupBy.apply operated on the grouping columns. This behavior is deprecated, and in a future version of pandas the grouping columns will be excluded from the operation. Either pass `include_groups=False` to exclude the groupings or explicitly select the grouping columns after groupby to silence this warning.\n",
      "\n",
      "C:\\Users\\antoi\\AppData\\Local\\Temp\\ipykernel_26536\\4128874332.py:11: DeprecationWarning:\n",
      "\n",
      "DataFrameGroupBy.apply operated on the grouping columns. This behavior is deprecated, and in a future version of pandas the grouping columns will be excluded from the operation. Either pass `include_groups=False` to exclude the groupings or explicitly select the grouping columns after groupby to silence this warning.\n",
      "\n",
      "C:\\Users\\antoi\\AppData\\Local\\Temp\\ipykernel_26536\\4128874332.py:11: DeprecationWarning:\n",
      "\n",
      "DataFrameGroupBy.apply operated on the grouping columns. This behavior is deprecated, and in a future version of pandas the grouping columns will be excluded from the operation. Either pass `include_groups=False` to exclude the groupings or explicitly select the grouping columns after groupby to silence this warning.\n",
      "\n",
      "C:\\Users\\antoi\\AppData\\Local\\Temp\\ipykernel_26536\\4128874332.py:11: DeprecationWarning:\n",
      "\n",
      "DataFrameGroupBy.apply operated on the grouping columns. This behavior is deprecated, and in a future version of pandas the grouping columns will be excluded from the operation. Either pass `include_groups=False` to exclude the groupings or explicitly select the grouping columns after groupby to silence this warning.\n",
      "\n",
      "C:\\Users\\antoi\\AppData\\Local\\Temp\\ipykernel_26536\\4128874332.py:11: DeprecationWarning:\n",
      "\n",
      "DataFrameGroupBy.apply operated on the grouping columns. This behavior is deprecated, and in a future version of pandas the grouping columns will be excluded from the operation. Either pass `include_groups=False` to exclude the groupings or explicitly select the grouping columns after groupby to silence this warning.\n",
      "\n",
      "C:\\Users\\antoi\\AppData\\Local\\Temp\\ipykernel_26536\\4128874332.py:11: DeprecationWarning:\n",
      "\n",
      "DataFrameGroupBy.apply operated on the grouping columns. This behavior is deprecated, and in a future version of pandas the grouping columns will be excluded from the operation. Either pass `include_groups=False` to exclude the groupings or explicitly select the grouping columns after groupby to silence this warning.\n",
      "\n",
      "C:\\Users\\antoi\\AppData\\Local\\Temp\\ipykernel_26536\\4128874332.py:11: DeprecationWarning:\n",
      "\n",
      "DataFrameGroupBy.apply operated on the grouping columns. This behavior is deprecated, and in a future version of pandas the grouping columns will be excluded from the operation. Either pass `include_groups=False` to exclude the groupings or explicitly select the grouping columns after groupby to silence this warning.\n",
      "\n",
      "C:\\Users\\antoi\\AppData\\Local\\Temp\\ipykernel_26536\\4128874332.py:11: DeprecationWarning:\n",
      "\n",
      "DataFrameGroupBy.apply operated on the grouping columns. This behavior is deprecated, and in a future version of pandas the grouping columns will be excluded from the operation. Either pass `include_groups=False` to exclude the groupings or explicitly select the grouping columns after groupby to silence this warning.\n",
      "\n",
      "C:\\Users\\antoi\\AppData\\Local\\Temp\\ipykernel_26536\\4128874332.py:11: DeprecationWarning:\n",
      "\n",
      "DataFrameGroupBy.apply operated on the grouping columns. This behavior is deprecated, and in a future version of pandas the grouping columns will be excluded from the operation. Either pass `include_groups=False` to exclude the groupings or explicitly select the grouping columns after groupby to silence this warning.\n",
      "\n",
      "C:\\Users\\antoi\\AppData\\Local\\Temp\\ipykernel_26536\\4128874332.py:11: DeprecationWarning:\n",
      "\n",
      "DataFrameGroupBy.apply operated on the grouping columns. This behavior is deprecated, and in a future version of pandas the grouping columns will be excluded from the operation. Either pass `include_groups=False` to exclude the groupings or explicitly select the grouping columns after groupby to silence this warning.\n",
      "\n",
      "C:\\Users\\antoi\\AppData\\Local\\Temp\\ipykernel_26536\\4128874332.py:11: DeprecationWarning:\n",
      "\n",
      "DataFrameGroupBy.apply operated on the grouping columns. This behavior is deprecated, and in a future version of pandas the grouping columns will be excluded from the operation. Either pass `include_groups=False` to exclude the groupings or explicitly select the grouping columns after groupby to silence this warning.\n",
      "\n",
      "C:\\Users\\antoi\\AppData\\Local\\Temp\\ipykernel_26536\\4128874332.py:11: DeprecationWarning:\n",
      "\n",
      "DataFrameGroupBy.apply operated on the grouping columns. This behavior is deprecated, and in a future version of pandas the grouping columns will be excluded from the operation. Either pass `include_groups=False` to exclude the groupings or explicitly select the grouping columns after groupby to silence this warning.\n",
      "\n",
      "C:\\Users\\antoi\\AppData\\Local\\Temp\\ipykernel_26536\\4128874332.py:11: DeprecationWarning:\n",
      "\n",
      "DataFrameGroupBy.apply operated on the grouping columns. This behavior is deprecated, and in a future version of pandas the grouping columns will be excluded from the operation. Either pass `include_groups=False` to exclude the groupings or explicitly select the grouping columns after groupby to silence this warning.\n",
      "\n",
      "C:\\Users\\antoi\\AppData\\Local\\Temp\\ipykernel_26536\\4128874332.py:11: DeprecationWarning:\n",
      "\n",
      "DataFrameGroupBy.apply operated on the grouping columns. This behavior is deprecated, and in a future version of pandas the grouping columns will be excluded from the operation. Either pass `include_groups=False` to exclude the groupings or explicitly select the grouping columns after groupby to silence this warning.\n",
      "\n",
      "C:\\Users\\antoi\\AppData\\Local\\Temp\\ipykernel_26536\\4128874332.py:11: DeprecationWarning:\n",
      "\n",
      "DataFrameGroupBy.apply operated on the grouping columns. This behavior is deprecated, and in a future version of pandas the grouping columns will be excluded from the operation. Either pass `include_groups=False` to exclude the groupings or explicitly select the grouping columns after groupby to silence this warning.\n",
      "\n",
      "C:\\Users\\antoi\\AppData\\Local\\Temp\\ipykernel_26536\\4128874332.py:11: DeprecationWarning:\n",
      "\n",
      "DataFrameGroupBy.apply operated on the grouping columns. This behavior is deprecated, and in a future version of pandas the grouping columns will be excluded from the operation. Either pass `include_groups=False` to exclude the groupings or explicitly select the grouping columns after groupby to silence this warning.\n",
      "\n",
      "C:\\Users\\antoi\\AppData\\Local\\Temp\\ipykernel_26536\\4128874332.py:11: DeprecationWarning:\n",
      "\n",
      "DataFrameGroupBy.apply operated on the grouping columns. This behavior is deprecated, and in a future version of pandas the grouping columns will be excluded from the operation. Either pass `include_groups=False` to exclude the groupings or explicitly select the grouping columns after groupby to silence this warning.\n",
      "\n",
      "C:\\Users\\antoi\\AppData\\Local\\Temp\\ipykernel_26536\\4128874332.py:11: DeprecationWarning:\n",
      "\n",
      "DataFrameGroupBy.apply operated on the grouping columns. This behavior is deprecated, and in a future version of pandas the grouping columns will be excluded from the operation. Either pass `include_groups=False` to exclude the groupings or explicitly select the grouping columns after groupby to silence this warning.\n",
      "\n",
      "C:\\Users\\antoi\\AppData\\Local\\Temp\\ipykernel_26536\\4128874332.py:11: DeprecationWarning:\n",
      "\n",
      "DataFrameGroupBy.apply operated on the grouping columns. This behavior is deprecated, and in a future version of pandas the grouping columns will be excluded from the operation. Either pass `include_groups=False` to exclude the groupings or explicitly select the grouping columns after groupby to silence this warning.\n",
      "\n",
      "C:\\Users\\antoi\\AppData\\Local\\Temp\\ipykernel_26536\\4128874332.py:11: DeprecationWarning:\n",
      "\n",
      "DataFrameGroupBy.apply operated on the grouping columns. This behavior is deprecated, and in a future version of pandas the grouping columns will be excluded from the operation. Either pass `include_groups=False` to exclude the groupings or explicitly select the grouping columns after groupby to silence this warning.\n",
      "\n",
      "C:\\Users\\antoi\\AppData\\Local\\Temp\\ipykernel_26536\\4128874332.py:11: DeprecationWarning:\n",
      "\n",
      "DataFrameGroupBy.apply operated on the grouping columns. This behavior is deprecated, and in a future version of pandas the grouping columns will be excluded from the operation. Either pass `include_groups=False` to exclude the groupings or explicitly select the grouping columns after groupby to silence this warning.\n",
      "\n",
      "C:\\Users\\antoi\\AppData\\Local\\Temp\\ipykernel_26536\\4128874332.py:11: DeprecationWarning:\n",
      "\n",
      "DataFrameGroupBy.apply operated on the grouping columns. This behavior is deprecated, and in a future version of pandas the grouping columns will be excluded from the operation. Either pass `include_groups=False` to exclude the groupings or explicitly select the grouping columns after groupby to silence this warning.\n",
      "\n",
      "C:\\Users\\antoi\\AppData\\Local\\Temp\\ipykernel_26536\\4128874332.py:11: DeprecationWarning:\n",
      "\n",
      "DataFrameGroupBy.apply operated on the grouping columns. This behavior is deprecated, and in a future version of pandas the grouping columns will be excluded from the operation. Either pass `include_groups=False` to exclude the groupings or explicitly select the grouping columns after groupby to silence this warning.\n",
      "\n",
      "C:\\Users\\antoi\\AppData\\Local\\Temp\\ipykernel_26536\\4128874332.py:11: DeprecationWarning:\n",
      "\n",
      "DataFrameGroupBy.apply operated on the grouping columns. This behavior is deprecated, and in a future version of pandas the grouping columns will be excluded from the operation. Either pass `include_groups=False` to exclude the groupings or explicitly select the grouping columns after groupby to silence this warning.\n",
      "\n",
      "C:\\Users\\antoi\\AppData\\Local\\Temp\\ipykernel_26536\\4128874332.py:11: DeprecationWarning:\n",
      "\n",
      "DataFrameGroupBy.apply operated on the grouping columns. This behavior is deprecated, and in a future version of pandas the grouping columns will be excluded from the operation. Either pass `include_groups=False` to exclude the groupings or explicitly select the grouping columns after groupby to silence this warning.\n",
      "\n",
      "C:\\Users\\antoi\\AppData\\Local\\Temp\\ipykernel_26536\\4128874332.py:11: DeprecationWarning:\n",
      "\n",
      "DataFrameGroupBy.apply operated on the grouping columns. This behavior is deprecated, and in a future version of pandas the grouping columns will be excluded from the operation. Either pass `include_groups=False` to exclude the groupings or explicitly select the grouping columns after groupby to silence this warning.\n",
      "\n",
      "C:\\Users\\antoi\\AppData\\Local\\Temp\\ipykernel_26536\\4128874332.py:11: DeprecationWarning:\n",
      "\n",
      "DataFrameGroupBy.apply operated on the grouping columns. This behavior is deprecated, and in a future version of pandas the grouping columns will be excluded from the operation. Either pass `include_groups=False` to exclude the groupings or explicitly select the grouping columns after groupby to silence this warning.\n",
      "\n",
      "C:\\Users\\antoi\\AppData\\Local\\Temp\\ipykernel_26536\\4128874332.py:11: DeprecationWarning:\n",
      "\n",
      "DataFrameGroupBy.apply operated on the grouping columns. This behavior is deprecated, and in a future version of pandas the grouping columns will be excluded from the operation. Either pass `include_groups=False` to exclude the groupings or explicitly select the grouping columns after groupby to silence this warning.\n",
      "\n",
      "C:\\Users\\antoi\\AppData\\Local\\Temp\\ipykernel_26536\\4128874332.py:11: DeprecationWarning:\n",
      "\n",
      "DataFrameGroupBy.apply operated on the grouping columns. This behavior is deprecated, and in a future version of pandas the grouping columns will be excluded from the operation. Either pass `include_groups=False` to exclude the groupings or explicitly select the grouping columns after groupby to silence this warning.\n",
      "\n",
      "C:\\Users\\antoi\\AppData\\Local\\Temp\\ipykernel_26536\\4128874332.py:11: DeprecationWarning:\n",
      "\n",
      "DataFrameGroupBy.apply operated on the grouping columns. This behavior is deprecated, and in a future version of pandas the grouping columns will be excluded from the operation. Either pass `include_groups=False` to exclude the groupings or explicitly select the grouping columns after groupby to silence this warning.\n",
      "\n",
      "C:\\Users\\antoi\\AppData\\Local\\Temp\\ipykernel_26536\\4128874332.py:11: DeprecationWarning:\n",
      "\n",
      "DataFrameGroupBy.apply operated on the grouping columns. This behavior is deprecated, and in a future version of pandas the grouping columns will be excluded from the operation. Either pass `include_groups=False` to exclude the groupings or explicitly select the grouping columns after groupby to silence this warning.\n",
      "\n",
      "C:\\Users\\antoi\\AppData\\Local\\Temp\\ipykernel_26536\\4128874332.py:11: DeprecationWarning:\n",
      "\n",
      "DataFrameGroupBy.apply operated on the grouping columns. This behavior is deprecated, and in a future version of pandas the grouping columns will be excluded from the operation. Either pass `include_groups=False` to exclude the groupings or explicitly select the grouping columns after groupby to silence this warning.\n",
      "\n",
      "C:\\Users\\antoi\\AppData\\Local\\Temp\\ipykernel_26536\\4128874332.py:11: DeprecationWarning:\n",
      "\n",
      "DataFrameGroupBy.apply operated on the grouping columns. This behavior is deprecated, and in a future version of pandas the grouping columns will be excluded from the operation. Either pass `include_groups=False` to exclude the groupings or explicitly select the grouping columns after groupby to silence this warning.\n",
      "\n",
      "C:\\Users\\antoi\\AppData\\Local\\Temp\\ipykernel_26536\\4128874332.py:11: DeprecationWarning:\n",
      "\n",
      "DataFrameGroupBy.apply operated on the grouping columns. This behavior is deprecated, and in a future version of pandas the grouping columns will be excluded from the operation. Either pass `include_groups=False` to exclude the groupings or explicitly select the grouping columns after groupby to silence this warning.\n",
      "\n",
      "C:\\Users\\antoi\\AppData\\Local\\Temp\\ipykernel_26536\\4128874332.py:11: DeprecationWarning:\n",
      "\n",
      "DataFrameGroupBy.apply operated on the grouping columns. This behavior is deprecated, and in a future version of pandas the grouping columns will be excluded from the operation. Either pass `include_groups=False` to exclude the groupings or explicitly select the grouping columns after groupby to silence this warning.\n",
      "\n",
      "C:\\Users\\antoi\\AppData\\Local\\Temp\\ipykernel_26536\\4128874332.py:11: DeprecationWarning:\n",
      "\n",
      "DataFrameGroupBy.apply operated on the grouping columns. This behavior is deprecated, and in a future version of pandas the grouping columns will be excluded from the operation. Either pass `include_groups=False` to exclude the groupings or explicitly select the grouping columns after groupby to silence this warning.\n",
      "\n",
      "C:\\Users\\antoi\\AppData\\Local\\Temp\\ipykernel_26536\\4128874332.py:11: DeprecationWarning:\n",
      "\n",
      "DataFrameGroupBy.apply operated on the grouping columns. This behavior is deprecated, and in a future version of pandas the grouping columns will be excluded from the operation. Either pass `include_groups=False` to exclude the groupings or explicitly select the grouping columns after groupby to silence this warning.\n",
      "\n",
      "C:\\Users\\antoi\\AppData\\Local\\Temp\\ipykernel_26536\\4128874332.py:11: DeprecationWarning:\n",
      "\n",
      "DataFrameGroupBy.apply operated on the grouping columns. This behavior is deprecated, and in a future version of pandas the grouping columns will be excluded from the operation. Either pass `include_groups=False` to exclude the groupings or explicitly select the grouping columns after groupby to silence this warning.\n",
      "\n",
      "C:\\Users\\antoi\\AppData\\Local\\Temp\\ipykernel_26536\\4128874332.py:11: DeprecationWarning:\n",
      "\n",
      "DataFrameGroupBy.apply operated on the grouping columns. This behavior is deprecated, and in a future version of pandas the grouping columns will be excluded from the operation. Either pass `include_groups=False` to exclude the groupings or explicitly select the grouping columns after groupby to silence this warning.\n",
      "\n",
      "C:\\Users\\antoi\\AppData\\Local\\Temp\\ipykernel_26536\\4128874332.py:11: DeprecationWarning:\n",
      "\n",
      "DataFrameGroupBy.apply operated on the grouping columns. This behavior is deprecated, and in a future version of pandas the grouping columns will be excluded from the operation. Either pass `include_groups=False` to exclude the groupings or explicitly select the grouping columns after groupby to silence this warning.\n",
      "\n",
      "C:\\Users\\antoi\\AppData\\Local\\Temp\\ipykernel_26536\\4128874332.py:11: DeprecationWarning:\n",
      "\n",
      "DataFrameGroupBy.apply operated on the grouping columns. This behavior is deprecated, and in a future version of pandas the grouping columns will be excluded from the operation. Either pass `include_groups=False` to exclude the groupings or explicitly select the grouping columns after groupby to silence this warning.\n",
      "\n",
      "C:\\Users\\antoi\\AppData\\Local\\Temp\\ipykernel_26536\\4128874332.py:11: DeprecationWarning:\n",
      "\n",
      "DataFrameGroupBy.apply operated on the grouping columns. This behavior is deprecated, and in a future version of pandas the grouping columns will be excluded from the operation. Either pass `include_groups=False` to exclude the groupings or explicitly select the grouping columns after groupby to silence this warning.\n",
      "\n"
     ]
    }
   ],
   "source": [
    "import pandas as pd\n",
    "\n",
    "def calculate_satisfaction_rate(group_ratings_df, threshold=4):\n",
    "\n",
    "    # Step 1: Check if the DataFrame is empty\n",
    "    if group_ratings_df.empty:\n",
    "        return 0.0\n",
    "\n",
    "    # Step 2: Calculate satisfaction for each wine\n",
    "    # Group by WineID and calculate the percentage of group members rating >= threshold\n",
    "    satisfaction_df = group_ratings_df.groupby('WineID').apply(\n",
    "        lambda x: (x['Rating'] >= threshold).mean()\n",
    "    ).reset_index()\n",
    "    \n",
    "    # Step 3: Calculate Satisfaction Rate: Proportion of wines with a satisfaction rate >= 0.5\n",
    "    satisfaction_df.columns = ['WineID', 'SatisfactionPercentage']\n",
    "    satisfaction_rate = (satisfaction_df['SatisfactionPercentage'] >= 0.5).mean()\n",
    "\n",
    "    return round(satisfaction_rate, 2)  # Return the satisfaction rate rounded to 2 decimal places\n",
    "\n",
    "# Beispiel: Berechnung der Satisfaction Rate für alle Gruppen\n",
    "group_satisfaction_scores = []  # Store the satisfaction rate for each group\n",
    "\n",
    "for group_id in range(240):  # Assuming there are 240 groups\n",
    "    try:\n",
    "        # Get ratings for the group and recommended wines\n",
    "        group_ratings_df = get_wines_rated_by_group(group_data, group_id, ratings_data, wine_id=None)  # Get all ratings for the group\n",
    "\n",
    "        # Calculate satisfaction rate for the current group\n",
    "        satisfaction_rate = calculate_satisfaction_rate(group_ratings_df)\n",
    "        \n",
    "        # Store group ID and satisfaction rate\n",
    "        group_satisfaction_scores.append({'GroupID': group_id, 'SatisfactionRate': satisfaction_rate})\n",
    "    \n",
    "    except Exception as e:\n",
    "        print(f\"Error processing Group ID {group_id}: {e}\")\n",
    "\n",
    "# Convert to DataFrame for better visualization\n",
    "satisfaction_df = pd.DataFrame(group_satisfaction_scores)\n"
   ]
  },
  {
   "cell_type": "code",
   "execution_count": 84,
   "metadata": {},
   "outputs": [
    {
     "data": {
      "image/png": "[encoded data removed]",
      "text/plain": [
       "<Figure size 1200x600 with 1 Axes>"
      ]
     },
     "metadata": {},
     "output_type": "display_data"
    }
   ],
   "source": [
    "import matplotlib.pyplot as plt\n",
    "\n",
    "# Create a histogram of satisfaction rates\n",
    "plt.figure(figsize=(12, 6))\n",
    "plt.hist(satisfaction_df['SatisfactionRate'], bins=20, color='skyblue', edgecolor='black')\n",
    "plt.xlabel('Satisfaction Rate')\n",
    "plt.ylabel('Number of Groups')\n",
    "plt.title('Distribution of Satisfaction Rates Across All Groups')\n",
    "plt.show()\n"
   ]
  },
  {
   "cell_type": "code",
   "execution_count": 85,
   "metadata": {},
   "outputs": [
    {
     "name": "stderr",
     "output_type": "stream",
     "text": [
      "C:\\Users\\antoi\\AppData\\Local\\Temp\\ipykernel_26536\\3479752945.py:5: FutureWarning:\n",
      "\n",
      "\n",
      "\n",
      "Passing `palette` without assigning `hue` is deprecated and will be removed in v0.14.0. Assign the `x` variable to `hue` and set `legend=False` for the same effect.\n",
      "\n",
      "\n"
     ]
    },
    {
     "data": {
      "image/png": "[encoded data removed]",
      "text/plain": [
       "<Figure size 1600x600 with 1 Axes>"
      ]
     },
     "metadata": {},
     "output_type": "display_data"
    }
   ],
   "source": [
    "import seaborn as sns\n",
    "\n",
    "# Create a bar plot to visualize the satisfaction rates per group\n",
    "plt.figure(figsize=(16, 6))\n",
    "sns.barplot(x='GroupID', y='SatisfactionRate', data=satisfaction_df, palette='viridis')\n",
    "plt.xlabel('Group ID')\n",
    "plt.ylabel('Satisfaction Rate')\n",
    "plt.title('Satisfaction Rate per Group')\n",
    "plt.show()\n"
   ]
  }
 ],
 "metadata": {
  "kernelspec": {
   "display_name": "Python 3",
   "language": "python",
   "name": "python3"
  },
  "language_info": {
   "codemirror_mode": {
    "name": "ipython",
    "version": 3
   },
   "file_extension": ".py",
   "mimetype": "text/x-python",
   "name": "python",
   "nbconvert_exporter": "python",
   "pygments_lexer": "ipython3",
   "version": "3.11.9"
  }
 },
 "nbformat": 4,
 "nbformat_minor": 2
}
