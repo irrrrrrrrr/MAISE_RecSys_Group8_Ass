{
 "cells": [
  {
   "cell_type": "code",
   "execution_count": 130,
   "metadata": {},
   "outputs": [],
   "source": [
    "import pandas as pd\n",
    "import ast\n",
    "\n",
    "ratings_df = pd.read_csv(\"Dataset/ratings_splits/temporal_global/filtered/train.csv\") \n",
    "ratings_df_cleaned = ratings_df.drop(columns=['RatingID', 'Date', 'Vintage']).rename(columns={'WineID': 'item', 'UserID': 'user', 'Rating': 'rating'})\n",
    "\n",
    "wines_df = pd.read_csv('Dataset/last/Xwines_Slim_1K_wines.csv')\n",
    "wines_df['WineID'] = wines_df.index\n",
    "\n",
    "group_data = pd.read_csv(\"Dataset/last/group_composition.csv\") \n",
    "group_data['group_members'] = group_data['group_members'].apply(ast.literal_eval)"
   ]
  },
  {
   "cell_type": "code",
   "execution_count": 131,
   "metadata": {},
   "outputs": [
    {
     "name": "stderr",
     "output_type": "stream",
     "text": [
      "C:\\Users\\antoi\\AppData\\Local\\Temp\\ipykernel_24252\\1387989594.py:14: DtypeWarning:\n",
      "\n",
      "Columns (3) have mixed types. Specify dtype option on import or set low_memory=False.\n",
      "\n"
     ]
    }
   ],
   "source": [
    "import pandas as pd\n",
    "import ast\n",
    "from sklearn.neighbors import NearestNeighbors\n",
    "from sklearn.preprocessing import OneHotEncoder\n",
    "from group_recommender_algs import group_rec, get_wine_with_top_categories\n",
    "import importlib\n",
    "import group_recommender_algs  # Dein Modul, in dem die Funktion gespeichert ist\n",
    "\n",
    "# Neu laden des Moduls, um die Änderungen zu übernehmen\n",
    "importlib.reload(group_recommender_algs)\n",
    "\n",
    "\n",
    "# Load the datasets (replace 'ratings.csv' and 'wine_characteristics.csv' with the actual CSV file paths)\n",
    "ratings_data = pd.read_csv('Dataset/last/XWines_Slim_150K_ratings.csv')\n",
    "wine_data = pd.read_csv('Dataset/last/XWines_Slim_1K_wines.csv')\n",
    "group_data = pd.read_csv('Dataset/last/group_composition.csv')  # Add path to your group CSV\n",
    "\n",
    "# Merge the two datasets on 'WineID'\n",
    "merged_data = pd.merge(ratings_data, wine_data, on='WineID')"
   ]
  },
  {
   "cell_type": "code",
   "execution_count": 132,
   "metadata": {},
   "outputs": [],
   "source": [
    "import seaborn as sns\n",
    "\n",
    "count_ratings_df = ratings_df[['UserID','WineID']].groupby(['WineID']).count()\n",
    "count_ratings_df_ord = count_ratings_df.sort_values(by=\"UserID\", ascending=False).reset_index().reset_index()\n",
    "\n",
    "users_ratings = ratings_df_cleaned.groupby(['user']).count()\n",
    "\n",
    "selected = users_ratings['rating'] > 20\n",
    "selected_users = users_ratings.loc[selected]\n",
    "random_selected = selected_users.sample() \n",
    "select_column_df = random_selected.reset_index()['user'] \n",
    "selected_user = select_column_df.iloc[0]\n",
    "\n",
    "ratings_df_test = pd.read_csv(\"Dataset/ratings_splits/temporal_global/filtered/test.csv\") \n",
    "\n",
    "# Remove the 'Date' and 'RatingID' columns and rename 'WineID' to 'Item' and 'UserID' to 'User'\n",
    "ratings_df_cleaned_test = ratings_df_test.drop(columns=['RatingID', 'Date', 'Vintage']).rename(columns={'WineID': 'item', 'UserID': 'user', 'Rating': 'rating'})"
   ]
  },
  {
   "cell_type": "code",
   "execution_count": 133,
   "metadata": {},
   "outputs": [
    {
     "data": {
      "text/plain": [
       "<lenskit.algorithms.ranking.TopN at 0x1cc680a29d0>"
      ]
     },
     "execution_count": 133,
     "metadata": {},
     "output_type": "execute_result"
    }
   ],
   "source": [
    "from lenskit.algorithms import Recommender\n",
    "from lenskit.algorithms.user_knn import UserUser\n",
    "\n",
    "\n",
    "num_recs = 5  \n",
    "user_user = UserUser(3, min_nbrs=2)  \n",
    "recsys = Recommender.adapt(user_user)\n",
    "recsys.fit(ratings_df_cleaned)"
   ]
  },
  {
   "cell_type": "code",
   "execution_count": 134,
   "metadata": {},
   "outputs": [
    {
     "data": {
      "text/plain": [
       "<lenskit.algorithms.ranking.TopN at 0x1cc680cdfd0>"
      ]
     },
     "execution_count": 134,
     "metadata": {},
     "output_type": "execute_result"
    }
   ],
   "source": [
    "from lenskit.algorithms import Recommender\n",
    "from lenskit.algorithms.item_knn import ItemItem\n",
    "\n",
    "\n",
    "num_recs = 5  \n",
    "itemitem = ItemItem(3, min_nbrs=2)  \n",
    "recsys_item = Recommender.adapt(itemitem)\n",
    "recsys_item.fit(ratings_df_cleaned)"
   ]
  },
  {
   "cell_type": "code",
   "execution_count": 135,
   "metadata": {},
   "outputs": [],
   "source": [
    "import pandas as pd\n",
    "import ast\n",
    "def recommend_group_wines_by_group_id(ratings_df, group_data, group_id, fill_method='average'):\n",
    "    \"\"\"\n",
    "    Empfiehlt Weine basierend auf den Bewertungen einer Gruppe von Benutzern, die anhand der `group_id` identifiziert wird.\n",
    "\n",
    "    Parameter:\n",
    "    - ratings_df: DataFrame mit den Bewertungen, der die Spalten `item`, `user`, `rating` enthält.\n",
    "    - group_data: DataFrame, der die Gruppeninformationen enthält, mit den Spalten `group_id` und `group_members`.\n",
    "    - group_id: Die ID der Gruppe, für die Empfehlungen berechnet werden sollen.\n",
    "    - fill_method: Methode zur Auffüllung der leeren Bewertungen ('average' für Durchschnitt oder 'zero' für 0).\n",
    "\n",
    "    Rückgabe:\n",
    "    - recommended_wines: DataFrame mit empfohlenen Weinen und ihren aggregierten Gruppenbewertungen oder `None`.\n",
    "    \"\"\"\n",
    "    # Sicherstellen, dass die erforderlichen Spalten in group_data vorhanden sind\n",
    "    if 'group_id' not in group_data.columns or 'group_members' not in group_data.columns:\n",
    "        raise KeyError(\"Die Spalten 'group_id' und/oder 'group_members' fehlen in group_data. Verfügbare Spalten: \"\n",
    "                       f\"{group_data.columns.tolist()}\")\n",
    "\n",
    "    # Konvertieren der `group_members`-Spalte in echte Listen, falls notwendig\n",
    "    if isinstance(group_data['group_members'].iloc[0], str):\n",
    "        group_data['group_members'] = group_data['group_members'].apply(ast.literal_eval)\n",
    "\n",
    "    # Extrahieren der Benutzerliste für die gegebene group_id\n",
    "    group_members = group_data.loc[group_data['group_id'] == group_id, 'group_members'].values\n",
    "    if len(group_members) == 0:\n",
    "        raise ValueError(f\"Keine Gruppe mit der ID {group_id} gefunden.\")\n",
    "    \n",
    "    # Die `group_members`-Liste extrahieren\n",
    "    group_users = group_members[0]  # Da `group_members` ein Array mit nur einem Eintrag ist\n",
    "\n",
    "\n",
    "    # Überprüfen der Spaltennamen in ratings_df\n",
    "    ratings_df = ratings_df.rename(columns={'WineID': 'item', 'UserID': 'user', 'Rating': 'rating'})\n",
    "\n",
    "    # Sicherstellen, dass die erforderlichen Spalten in ratings_df vorhanden sind\n",
    "    required_columns = ['item', 'user', 'rating']\n",
    "    for col in required_columns:\n",
    "        if col not in ratings_df.columns:\n",
    "            raise KeyError(f\"Die Spalte '{col}' fehlt im DataFrame. Verfügbare Spalten: {ratings_df.columns.tolist()}\")\n",
    "\n",
    "    # Pivot-Tabelle erstellen (Weine als Zeilen und Benutzer als Spalten)\n",
    "    wine_ratings_pivot = ratings_df.pivot_table(index='item', columns='user', values='rating')\n",
    "\n",
    "    # Durchschnittliche Bewertungen für jeden Wein berechnen\n",
    "    wine_avg_ratings = wine_ratings_pivot.mean(axis=1)\n",
    "\n",
    "    # Leere Bewertungen füllen basierend auf dem ausgewählten Füllverfahren\n",
    "    if fill_method == 'average':\n",
    "        # Füllen mit dem durchschnittlichen Rating pro Wein\n",
    "        wine_ratings_filled = wine_ratings_pivot.apply(lambda x: x.fillna(wine_avg_ratings))\n",
    "    elif fill_method == 'zero':\n",
    "        # Füllen mit 0\n",
    "        wine_ratings_filled = wine_ratings_pivot.fillna(0)\n",
    "    else:\n",
    "        raise ValueError(\"Füllmethode nicht erkannt. Verwenden Sie 'average' oder 'zero'.\")\n",
    "\n",
    "    # Überprüfen, welche Benutzer in `wine_ratings_filled` vorhanden sind\n",
    "    existing_users = [user for user in group_users if user in wine_ratings_filled.columns]\n",
    "\n",
    "\n",
    "    # Wenn keine Gruppenmitglieder in den Bewertungen vorhanden sind, geben Sie None zurück\n",
    "    if len(existing_users) == 0:\n",
    "        return None\n",
    "\n",
    "    # Berechnen der Gruppenbewertung nur für vorhandene Benutzer\n",
    "    group_ratings = wine_ratings_filled[existing_users].sum(axis=1) / len(existing_users)\n",
    "\n",
    "    # Sortieren der Weine nach aggregierten Bewertungen\n",
    "    recommended_wines = group_ratings.sort_values(ascending=False)\n",
    "\n",
    "    # Geben Sie die ersten fünf item IDs als Liste zurück\n",
    "    return recommended_wines.head(5).index.tolist()"
   ]
  },
  {
   "cell_type": "code",
   "execution_count": 136,
   "metadata": {},
   "outputs": [],
   "source": [
    "def get_wines_rated_by_group(group_df, group_id, ratings_df, wine_id=None):\n",
    "    # Step 1: Extract group members based on `group_id`\n",
    "    group_row = group_df[group_df['group_id'] == group_id]\n",
    "\n",
    "    # Step 2: Check if the group ID exists\n",
    "    if group_row.empty:\n",
    "        print(f\"Group with ID {group_id} not found.\")\n",
    "        return pd.DataFrame(columns=['UserID', 'WineID', 'Rating'])\n",
    "\n",
    "    # Step 3: Convert the `group_members` string to a list\n",
    "    group_members = group_row['group_members'].values[0]\n",
    "    #group_members = ast.literal_eval(group_members_str)  # Safely convert string to list\n",
    "\n",
    "    # Step 4: Filter `ratings_df` for UserIDs in the `group_members` list\n",
    "    filtered_ratings = ratings_df[ratings_df['UserID'].isin(group_members)]\n",
    "\n",
    "    # Step 5: If `wine_id` is provided, filter further\n",
    "    if wine_id is not None:\n",
    "        # Use `isin` if `wine_id` is a list\n",
    "        if isinstance(wine_id, list):\n",
    "            filtered_ratings = filtered_ratings[filtered_ratings['WineID'].isin(wine_id)]\n",
    "        else:\n",
    "            # Otherwise, filter for a single WineID\n",
    "            filtered_ratings = filtered_ratings[filtered_ratings['WineID'] == wine_id]\n",
    "\n",
    "    # Step 6: Return the filtered DataFrame\n",
    "    return filtered_ratings[['UserID', 'WineID', 'Rating']]\n"
   ]
  },
  {
   "cell_type": "code",
   "execution_count": 137,
   "metadata": {},
   "outputs": [
    {
     "name": "stderr",
     "output_type": "stream",
     "text": [
      "Processing Group IDs:  25%|██▌       | 61/240 [00:53<02:31,  1.18group/s]"
     ]
    },
    {
     "name": "stdout",
     "output_type": "stream",
     "text": [
      "Keine Empfehlungen für Gruppe 60. Überspringen...\n"
     ]
    },
    {
     "name": "stderr",
     "output_type": "stream",
     "text": [
      "Processing Group IDs:  26%|██▌       | 62/240 [00:54<02:34,  1.15group/s]"
     ]
    },
    {
     "name": "stdout",
     "output_type": "stream",
     "text": [
      "Keine Empfehlungen für Gruppe 61. Überspringen...\n"
     ]
    },
    {
     "name": "stderr",
     "output_type": "stream",
     "text": [
      "Processing Group IDs:  27%|██▋       | 65/240 [00:57<02:29,  1.17group/s]"
     ]
    },
    {
     "name": "stdout",
     "output_type": "stream",
     "text": [
      "Keine Empfehlungen für Gruppe 64. Überspringen...\n"
     ]
    },
    {
     "name": "stderr",
     "output_type": "stream",
     "text": [
      "Processing Group IDs:  28%|██▊       | 67/240 [00:59<02:38,  1.09group/s]"
     ]
    },
    {
     "name": "stdout",
     "output_type": "stream",
     "text": [
      "Keine Empfehlungen für Gruppe 66. Überspringen...\n"
     ]
    },
    {
     "name": "stderr",
     "output_type": "stream",
     "text": [
      "Processing Group IDs:  28%|██▊       | 68/240 [00:59<02:27,  1.17group/s]"
     ]
    },
    {
     "name": "stdout",
     "output_type": "stream",
     "text": [
      "Keine Empfehlungen für Gruppe 67. Überspringen...\n"
     ]
    },
    {
     "name": "stderr",
     "output_type": "stream",
     "text": [
      "Processing Group IDs:  29%|██▉       | 69/240 [01:00<02:30,  1.14group/s]"
     ]
    },
    {
     "name": "stdout",
     "output_type": "stream",
     "text": [
      "Keine Empfehlungen für Gruppe 68. Überspringen...\n"
     ]
    },
    {
     "name": "stderr",
     "output_type": "stream",
     "text": [
      "Processing Group IDs:  29%|██▉       | 70/240 [01:01<02:32,  1.12group/s]"
     ]
    },
    {
     "name": "stdout",
     "output_type": "stream",
     "text": [
      "Keine Empfehlungen für Gruppe 69. Überspringen...\n"
     ]
    },
    {
     "name": "stderr",
     "output_type": "stream",
     "text": [
      "Processing Group IDs:  30%|██▉       | 71/240 [01:02<02:33,  1.10group/s]"
     ]
    },
    {
     "name": "stdout",
     "output_type": "stream",
     "text": [
      "Keine Empfehlungen für Gruppe 70. Überspringen...\n"
     ]
    },
    {
     "name": "stderr",
     "output_type": "stream",
     "text": [
      "Processing Group IDs:  30%|███       | 73/240 [01:04<02:26,  1.14group/s]"
     ]
    },
    {
     "name": "stdout",
     "output_type": "stream",
     "text": [
      "Keine Empfehlungen für Gruppe 72. Überspringen...\n"
     ]
    },
    {
     "name": "stderr",
     "output_type": "stream",
     "text": [
      "Processing Group IDs:  32%|███▏      | 76/240 [01:06<02:20,  1.17group/s]"
     ]
    },
    {
     "name": "stdout",
     "output_type": "stream",
     "text": [
      "Keine Empfehlungen für Gruppe 75. Überspringen...\n"
     ]
    },
    {
     "name": "stderr",
     "output_type": "stream",
     "text": [
      "Processing Group IDs:  32%|███▏      | 77/240 [01:07<02:24,  1.13group/s]"
     ]
    },
    {
     "name": "stdout",
     "output_type": "stream",
     "text": [
      "Keine Empfehlungen für Gruppe 76. Überspringen...\n"
     ]
    },
    {
     "name": "stderr",
     "output_type": "stream",
     "text": [
      "Processing Group IDs:  32%|███▎      | 78/240 [01:08<02:27,  1.10group/s]"
     ]
    },
    {
     "name": "stdout",
     "output_type": "stream",
     "text": [
      "Keine Empfehlungen für Gruppe 77. Überspringen...\n"
     ]
    },
    {
     "name": "stderr",
     "output_type": "stream",
     "text": [
      "Processing Group IDs:  36%|███▋      | 87/240 [01:16<02:12,  1.15group/s]"
     ]
    },
    {
     "name": "stdout",
     "output_type": "stream",
     "text": [
      "Keine Empfehlungen für Gruppe 86. Überspringen...\n"
     ]
    },
    {
     "name": "stderr",
     "output_type": "stream",
     "text": [
      "Processing Group IDs:  38%|███▊      | 91/240 [01:20<02:11,  1.13group/s]"
     ]
    },
    {
     "name": "stdout",
     "output_type": "stream",
     "text": [
      "Keine Empfehlungen für Gruppe 90. Überspringen...\n"
     ]
    },
    {
     "name": "stderr",
     "output_type": "stream",
     "text": [
      "Processing Group IDs:  39%|███▉      | 93/240 [01:21<02:05,  1.17group/s]"
     ]
    },
    {
     "name": "stdout",
     "output_type": "stream",
     "text": [
      "Keine Empfehlungen für Gruppe 92. Überspringen...\n"
     ]
    },
    {
     "name": "stderr",
     "output_type": "stream",
     "text": [
      "Processing Group IDs:  39%|███▉      | 94/240 [01:22<02:07,  1.14group/s]"
     ]
    },
    {
     "name": "stdout",
     "output_type": "stream",
     "text": [
      "Keine Empfehlungen für Gruppe 93. Überspringen...\n"
     ]
    },
    {
     "name": "stderr",
     "output_type": "stream",
     "text": [
      "Processing Group IDs:  40%|████      | 96/240 [01:24<02:11,  1.10group/s]"
     ]
    },
    {
     "name": "stdout",
     "output_type": "stream",
     "text": [
      "Keine Empfehlungen für Gruppe 95. Überspringen...\n"
     ]
    },
    {
     "name": "stderr",
     "output_type": "stream",
     "text": [
      "Processing Group IDs:  40%|████      | 97/240 [01:25<02:02,  1.17group/s]"
     ]
    },
    {
     "name": "stdout",
     "output_type": "stream",
     "text": [
      "Keine Empfehlungen für Gruppe 96. Überspringen...\n"
     ]
    },
    {
     "name": "stderr",
     "output_type": "stream",
     "text": [
      "Processing Group IDs:  41%|████▏     | 99/240 [01:27<02:06,  1.11group/s]"
     ]
    },
    {
     "name": "stdout",
     "output_type": "stream",
     "text": [
      "Keine Empfehlungen für Gruppe 98. Überspringen...\n"
     ]
    },
    {
     "name": "stderr",
     "output_type": "stream",
     "text": [
      "Processing Group IDs:  50%|████▉     | 119/240 [01:44<01:42,  1.18group/s]"
     ]
    },
    {
     "name": "stdout",
     "output_type": "stream",
     "text": [
      "Keine Empfehlungen für Gruppe 118. Überspringen...\n"
     ]
    },
    {
     "name": "stderr",
     "output_type": "stream",
     "text": [
      "Processing Group IDs:  51%|█████     | 122/240 [01:47<01:40,  1.18group/s]"
     ]
    },
    {
     "name": "stdout",
     "output_type": "stream",
     "text": [
      "Keine Empfehlungen für Gruppe 121. Überspringen...\n"
     ]
    },
    {
     "name": "stderr",
     "output_type": "stream",
     "text": [
      "Processing Group IDs:  53%|█████▎    | 127/240 [01:52<01:58,  1.05s/group]"
     ]
    },
    {
     "name": "stdout",
     "output_type": "stream",
     "text": [
      "Keine Empfehlungen für Gruppe 126. Überspringen...\n"
     ]
    },
    {
     "name": "stderr",
     "output_type": "stream",
     "text": [
      "Processing Group IDs:  54%|█████▍    | 129/240 [01:54<01:46,  1.04group/s]"
     ]
    },
    {
     "name": "stdout",
     "output_type": "stream",
     "text": [
      "Keine Empfehlungen für Gruppe 128. Überspringen...\n"
     ]
    },
    {
     "name": "stderr",
     "output_type": "stream",
     "text": [
      "Processing Group IDs:  58%|█████▊    | 139/240 [02:03<01:32,  1.09group/s]"
     ]
    },
    {
     "name": "stdout",
     "output_type": "stream",
     "text": [
      "Keine Empfehlungen für Gruppe 138. Überspringen...\n"
     ]
    },
    {
     "name": "stderr",
     "output_type": "stream",
     "text": [
      "Processing Group IDs:  81%|████████  | 194/240 [02:52<00:39,  1.15group/s]"
     ]
    },
    {
     "name": "stdout",
     "output_type": "stream",
     "text": [
      "Keine Empfehlungen für Gruppe 193. Überspringen...\n"
     ]
    },
    {
     "name": "stderr",
     "output_type": "stream",
     "text": [
      "Processing Group IDs:  85%|████████▌ | 204/240 [03:01<00:33,  1.06group/s]"
     ]
    },
    {
     "name": "stdout",
     "output_type": "stream",
     "text": [
      "Keine Empfehlungen für Gruppe 203. Überspringen...\n"
     ]
    },
    {
     "name": "stderr",
     "output_type": "stream",
     "text": [
      "Processing Group IDs:  86%|████████▋ | 207/240 [03:04<00:30,  1.09group/s]"
     ]
    },
    {
     "name": "stdout",
     "output_type": "stream",
     "text": [
      "Keine Empfehlungen für Gruppe 206. Überspringen...\n"
     ]
    },
    {
     "name": "stderr",
     "output_type": "stream",
     "text": [
      "Processing Group IDs:  88%|████████▊ | 212/240 [03:08<00:23,  1.17group/s]"
     ]
    },
    {
     "name": "stdout",
     "output_type": "stream",
     "text": [
      "Keine Empfehlungen für Gruppe 211. Überspringen...\n"
     ]
    },
    {
     "name": "stderr",
     "output_type": "stream",
     "text": [
      "Processing Group IDs:  91%|█████████▏| 219/240 [03:15<00:19,  1.08group/s]"
     ]
    },
    {
     "name": "stdout",
     "output_type": "stream",
     "text": [
      "Keine Empfehlungen für Gruppe 218. Überspringen...\n"
     ]
    },
    {
     "name": "stderr",
     "output_type": "stream",
     "text": [
      "Processing Group IDs:  94%|█████████▍| 225/240 [03:20<00:13,  1.11group/s]"
     ]
    },
    {
     "name": "stdout",
     "output_type": "stream",
     "text": [
      "Keine Empfehlungen für Gruppe 224. Überspringen...\n"
     ]
    },
    {
     "name": "stderr",
     "output_type": "stream",
     "text": [
      "Processing Group IDs: 100%|██████████| 240/240 [03:34<00:00,  1.12group/s]\n"
     ]
    },
    {
     "data": {
      "application/vnd.plotly.v1+json": {
       "config": {
        "plotlyServerURL": "https://plot.ly"
       },
       "data": [
        {
         "alignmentgroup": "True",
         "hovertemplate": "Group ID=%{x}<br>Average Rating=%{y}<extra></extra>",
         "legendgroup": "",
         "marker": {
          "color": "#636efa",
          "pattern": {
           "shape": ""
          }
         },
         "name": "",
         "offsetgroup": "",
         "orientation": "v",
         "showlegend": false,
         "textposition": "auto",
         "type": "bar",
         "x": [
          0,
          1,
          2,
          3,
          4,
          5,
          6,
          7,
          8,
          9,
          10,
          11,
          12,
          13,
          14,
          15,
          16,
          17,
          18,
          19,
          20,
          21,
          22,
          23,
          24,
          25,
          26,
          27,
          28,
          29,
          30,
          31,
          32,
          33,
          34,
          35,
          36,
          37,
          38,
          39,
          40,
          41,
          42,
          43,
          44,
          45,
          46,
          47,
          48,
          49,
          50,
          51,
          52,
          53,
          54,
          55,
          56,
          57,
          58,
          59,
          60,
          61,
          62,
          63,
          64,
          65,
          66,
          67,
          68,
          69,
          70,
          71,
          72,
          73,
          74,
          75,
          76,
          77,
          78,
          79,
          80,
          81,
          82,
          83,
          84,
          85,
          86,
          87,
          88,
          89,
          90,
          91,
          92,
          93,
          94,
          95,
          96,
          97,
          98,
          99,
          100,
          101,
          102,
          103,
          104,
          105,
          106,
          107,
          108,
          109,
          110,
          111,
          112,
          113,
          114,
          115,
          116,
          117,
          118,
          119,
          120,
          121,
          122,
          123,
          124,
          125,
          126,
          127,
          128,
          129,
          130,
          131,
          132,
          133,
          134,
          135,
          136,
          137,
          138,
          139,
          140,
          141,
          142,
          143,
          144,
          145,
          146,
          147,
          148,
          149,
          150,
          151,
          152,
          153,
          154,
          155,
          156,
          157,
          158,
          159,
          160,
          161,
          162,
          163,
          164,
          165,
          166,
          167,
          168,
          169,
          170,
          171,
          172,
          173,
          174,
          175,
          176,
          177,
          178,
          179,
          180,
          181,
          182,
          183,
          184,
          185,
          186,
          187,
          188,
          189,
          190,
          191,
          192,
          193,
          194,
          195,
          196,
          197,
          198,
          199,
          200,
          201,
          202,
          203,
          204,
          205,
          206,
          207,
          208,
          209,
          210,
          211,
          212,
          213,
          214,
          215,
          216,
          217,
          218,
          219,
          220,
          221,
          222,
          223,
          224,
          225,
          226,
          227,
          228,
          229,
          230,
          231,
          232,
          233,
          234,
          235,
          236,
          237,
          238,
          239
         ],
         "xaxis": "x",
         "y": [
          null,
          4.5,
          4.5,
          4.666666666666667,
          null,
          null,
          4.75,
          4.833333333333333,
          4.75,
          4.625,
          null,
          3.75,
          4.5,
          4.714285714285714,
          null,
          4.916666666666667,
          5,
          5,
          4.571428571428571,
          5,
          4.166666666666667,
          4.777777777777778,
          4.4,
          4.5,
          5,
          4.625,
          5,
          4.638888888888889,
          4.8,
          4.611111111111111,
          4.666666666666667,
          4.833333333333333,
          null,
          4.5,
          4.625,
          4,
          4.5,
          4.818181818181818,
          4.769230769230769,
          4.555555555555555,
          4.45,
          4.785714285714286,
          4,
          4.6875,
          4.833333333333333,
          4.6875,
          4.555555555555555,
          4.821428571428571,
          4.85,
          4.425,
          4.5625,
          4.666666666666667,
          4.681818181818182,
          4.681818181818182,
          4.25,
          4.708333333333333,
          4.5,
          4.473684210526316,
          4.653846153846154,
          4.6,
          null,
          null,
          4.5,
          4.875,
          null,
          4.75,
          null,
          null,
          null,
          null,
          null,
          4.636363636363637,
          null,
          4.5,
          4.75,
          null,
          null,
          null,
          4.75,
          4.944444444444445,
          4.880952380952381,
          4.7105263157894735,
          4.619047619047619,
          4.555555555555555,
          4.875,
          4.87037037037037,
          null,
          4.666666666666667,
          4.65,
          4.866666666666666,
          null,
          4.9375,
          null,
          null,
          4.735294117647059,
          null,
          null,
          4.520833333333333,
          null,
          4.826923076923077,
          4.6875,
          4.625,
          4.716666666666667,
          4.617647058823529,
          4.844827586206897,
          4.857142857142857,
          4.857142857142857,
          4.833333333333333,
          4.75,
          4.7,
          null,
          4.509803921568627,
          4.671875,
          4.8088235294117645,
          4.618421052631579,
          4.619047619047619,
          4.636363636363637,
          4.841463414634147,
          null,
          4.714285714285714,
          null,
          null,
          4.5,
          4.538461538461538,
          4.5,
          4.5,
          null,
          4.5,
          null,
          4.75,
          4.916666666666667,
          4.5,
          4.875,
          null,
          4.666666666666667,
          4.5,
          5,
          4.375,
          null,
          5,
          4.25,
          4.785714285714286,
          4.636363636363637,
          4.5,
          4.454545454545454,
          4.4,
          null,
          4.625,
          4.75,
          4.6,
          4.6,
          4.5,
          4.5,
          5,
          4.75,
          4.625,
          4.888888888888889,
          4.5,
          4.5,
          4.8,
          4.75,
          4.611111111111111,
          4.625,
          4.6,
          4.5625,
          4.5,
          4.55,
          4.666666666666667,
          4.416666666666667,
          4.760869565217392,
          4.357142857142857,
          4.578947368421052,
          4.34375,
          4.6875,
          4.357142857142857,
          4.583333333333333,
          4.730769230769231,
          4.611111111111111,
          4.791666666666667,
          4.666666666666667,
          5,
          null,
          4.916666666666667,
          4.875,
          4.857142857142857,
          4.5,
          4.5,
          4.818181818181818,
          5,
          4.375,
          4.5,
          4.642857142857143,
          4,
          null,
          4.5,
          4.625,
          4.642857142857143,
          null,
          null,
          4.75,
          4.333333333333333,
          4.5,
          4.59375,
          null,
          4.75,
          null,
          null,
          4.815789473684211,
          4.65625,
          4.666666666666667,
          4.857142857142857,
          null,
          4.961538461538462,
          4.852941176470588,
          4.833333333333333,
          4.5,
          4.4523809523809526,
          4.659090909090909,
          null,
          4.5,
          4.454545454545454,
          4.833333333333333,
          4.775,
          4.625,
          null,
          4.7,
          4.605263157894737,
          4.7631578947368425,
          4.862068965517241,
          4.75,
          4.694444444444445,
          4.676470588235294,
          4.596153846153846,
          4.863636363636363,
          4.595238095238095,
          4.714285714285714,
          4.855263157894737,
          4.8076923076923075,
          4.75,
          4.728571428571429
         ],
         "yaxis": "y"
        }
       ],
       "layout": {
        "barmode": "relative",
        "legend": {
         "tracegroupgap": 0
        },
        "template": {
         "data": {
          "bar": [
           {
            "error_x": {
             "color": "#2a3f5f"
            },
            "error_y": {
             "color": "#2a3f5f"
            },
            "marker": {
             "line": {
              "color": "#E5ECF6",
              "width": 0.5
             },
             "pattern": {
              "fillmode": "overlay",
              "size": 10,
              "solidity": 0.2
             }
            },
            "type": "bar"
           }
          ],
          "barpolar": [
           {
            "marker": {
             "line": {
              "color": "#E5ECF6",
              "width": 0.5
             },
             "pattern": {
              "fillmode": "overlay",
              "size": 10,
              "solidity": 0.2
             }
            },
            "type": "barpolar"
           }
          ],
          "carpet": [
           {
            "aaxis": {
             "endlinecolor": "#2a3f5f",
             "gridcolor": "white",
             "linecolor": "white",
             "minorgridcolor": "white",
             "startlinecolor": "#2a3f5f"
            },
            "baxis": {
             "endlinecolor": "#2a3f5f",
             "gridcolor": "white",
             "linecolor": "white",
             "minorgridcolor": "white",
             "startlinecolor": "#2a3f5f"
            },
            "type": "carpet"
           }
          ],
          "choropleth": [
           {
            "colorbar": {
             "outlinewidth": 0,
             "ticks": ""
            },
            "type": "choropleth"
           }
          ],
          "contour": [
           {
            "colorbar": {
             "outlinewidth": 0,
             "ticks": ""
            },
            "colorscale": [
             [
              0,
              "#0d0887"
             ],
             [
              0.1111111111111111,
              "#46039f"
             ],
             [
              0.2222222222222222,
              "#7201a8"
             ],
             [
              0.3333333333333333,
              "#9c179e"
             ],
             [
              0.4444444444444444,
              "#bd3786"
             ],
             [
              0.5555555555555556,
              "#d8576b"
             ],
             [
              0.6666666666666666,
              "#ed7953"
             ],
             [
              0.7777777777777778,
              "#fb9f3a"
             ],
             [
              0.8888888888888888,
              "#fdca26"
             ],
             [
              1,
              "#f0f921"
             ]
            ],
            "type": "contour"
           }
          ],
          "contourcarpet": [
           {
            "colorbar": {
             "outlinewidth": 0,
             "ticks": ""
            },
            "type": "contourcarpet"
           }
          ],
          "heatmap": [
           {
            "colorbar": {
             "outlinewidth": 0,
             "ticks": ""
            },
            "colorscale": [
             [
              0,
              "#0d0887"
             ],
             [
              0.1111111111111111,
              "#46039f"
             ],
             [
              0.2222222222222222,
              "#7201a8"
             ],
             [
              0.3333333333333333,
              "#9c179e"
             ],
             [
              0.4444444444444444,
              "#bd3786"
             ],
             [
              0.5555555555555556,
              "#d8576b"
             ],
             [
              0.6666666666666666,
              "#ed7953"
             ],
             [
              0.7777777777777778,
              "#fb9f3a"
             ],
             [
              0.8888888888888888,
              "#fdca26"
             ],
             [
              1,
              "#f0f921"
             ]
            ],
            "type": "heatmap"
           }
          ],
          "heatmapgl": [
           {
            "colorbar": {
             "outlinewidth": 0,
             "ticks": ""
            },
            "colorscale": [
             [
              0,
              "#0d0887"
             ],
             [
              0.1111111111111111,
              "#46039f"
             ],
             [
              0.2222222222222222,
              "#7201a8"
             ],
             [
              0.3333333333333333,
              "#9c179e"
             ],
             [
              0.4444444444444444,
              "#bd3786"
             ],
             [
              0.5555555555555556,
              "#d8576b"
             ],
             [
              0.6666666666666666,
              "#ed7953"
             ],
             [
              0.7777777777777778,
              "#fb9f3a"
             ],
             [
              0.8888888888888888,
              "#fdca26"
             ],
             [
              1,
              "#f0f921"
             ]
            ],
            "type": "heatmapgl"
           }
          ],
          "histogram": [
           {
            "marker": {
             "pattern": {
              "fillmode": "overlay",
              "size": 10,
              "solidity": 0.2
             }
            },
            "type": "histogram"
           }
          ],
          "histogram2d": [
           {
            "colorbar": {
             "outlinewidth": 0,
             "ticks": ""
            },
            "colorscale": [
             [
              0,
              "#0d0887"
             ],
             [
              0.1111111111111111,
              "#46039f"
             ],
             [
              0.2222222222222222,
              "#7201a8"
             ],
             [
              0.3333333333333333,
              "#9c179e"
             ],
             [
              0.4444444444444444,
              "#bd3786"
             ],
             [
              0.5555555555555556,
              "#d8576b"
             ],
             [
              0.6666666666666666,
              "#ed7953"
             ],
             [
              0.7777777777777778,
              "#fb9f3a"
             ],
             [
              0.8888888888888888,
              "#fdca26"
             ],
             [
              1,
              "#f0f921"
             ]
            ],
            "type": "histogram2d"
           }
          ],
          "histogram2dcontour": [
           {
            "colorbar": {
             "outlinewidth": 0,
             "ticks": ""
            },
            "colorscale": [
             [
              0,
              "#0d0887"
             ],
             [
              0.1111111111111111,
              "#46039f"
             ],
             [
              0.2222222222222222,
              "#7201a8"
             ],
             [
              0.3333333333333333,
              "#9c179e"
             ],
             [
              0.4444444444444444,
              "#bd3786"
             ],
             [
              0.5555555555555556,
              "#d8576b"
             ],
             [
              0.6666666666666666,
              "#ed7953"
             ],
             [
              0.7777777777777778,
              "#fb9f3a"
             ],
             [
              0.8888888888888888,
              "#fdca26"
             ],
             [
              1,
              "#f0f921"
             ]
            ],
            "type": "histogram2dcontour"
           }
          ],
          "mesh3d": [
           {
            "colorbar": {
             "outlinewidth": 0,
             "ticks": ""
            },
            "type": "mesh3d"
           }
          ],
          "parcoords": [
           {
            "line": {
             "colorbar": {
              "outlinewidth": 0,
              "ticks": ""
             }
            },
            "type": "parcoords"
           }
          ],
          "pie": [
           {
            "automargin": true,
            "type": "pie"
           }
          ],
          "scatter": [
           {
            "fillpattern": {
             "fillmode": "overlay",
             "size": 10,
             "solidity": 0.2
            },
            "type": "scatter"
           }
          ],
          "scatter3d": [
           {
            "line": {
             "colorbar": {
              "outlinewidth": 0,
              "ticks": ""
             }
            },
            "marker": {
             "colorbar": {
              "outlinewidth": 0,
              "ticks": ""
             }
            },
            "type": "scatter3d"
           }
          ],
          "scattercarpet": [
           {
            "marker": {
             "colorbar": {
              "outlinewidth": 0,
              "ticks": ""
             }
            },
            "type": "scattercarpet"
           }
          ],
          "scattergeo": [
           {
            "marker": {
             "colorbar": {
              "outlinewidth": 0,
              "ticks": ""
             }
            },
            "type": "scattergeo"
           }
          ],
          "scattergl": [
           {
            "marker": {
             "colorbar": {
              "outlinewidth": 0,
              "ticks": ""
             }
            },
            "type": "scattergl"
           }
          ],
          "scattermapbox": [
           {
            "marker": {
             "colorbar": {
              "outlinewidth": 0,
              "ticks": ""
             }
            },
            "type": "scattermapbox"
           }
          ],
          "scatterpolar": [
           {
            "marker": {
             "colorbar": {
              "outlinewidth": 0,
              "ticks": ""
             }
            },
            "type": "scatterpolar"
           }
          ],
          "scatterpolargl": [
           {
            "marker": {
             "colorbar": {
              "outlinewidth": 0,
              "ticks": ""
             }
            },
            "type": "scatterpolargl"
           }
          ],
          "scatterternary": [
           {
            "marker": {
             "colorbar": {
              "outlinewidth": 0,
              "ticks": ""
             }
            },
            "type": "scatterternary"
           }
          ],
          "surface": [
           {
            "colorbar": {
             "outlinewidth": 0,
             "ticks": ""
            },
            "colorscale": [
             [
              0,
              "#0d0887"
             ],
             [
              0.1111111111111111,
              "#46039f"
             ],
             [
              0.2222222222222222,
              "#7201a8"
             ],
             [
              0.3333333333333333,
              "#9c179e"
             ],
             [
              0.4444444444444444,
              "#bd3786"
             ],
             [
              0.5555555555555556,
              "#d8576b"
             ],
             [
              0.6666666666666666,
              "#ed7953"
             ],
             [
              0.7777777777777778,
              "#fb9f3a"
             ],
             [
              0.8888888888888888,
              "#fdca26"
             ],
             [
              1,
              "#f0f921"
             ]
            ],
            "type": "surface"
           }
          ],
          "table": [
           {
            "cells": {
             "fill": {
              "color": "#EBF0F8"
             },
             "line": {
              "color": "white"
             }
            },
            "header": {
             "fill": {
              "color": "#C8D4E3"
             },
             "line": {
              "color": "white"
             }
            },
            "type": "table"
           }
          ]
         },
         "layout": {
          "annotationdefaults": {
           "arrowcolor": "#2a3f5f",
           "arrowhead": 0,
           "arrowwidth": 1
          },
          "autotypenumbers": "strict",
          "coloraxis": {
           "colorbar": {
            "outlinewidth": 0,
            "ticks": ""
           }
          },
          "colorscale": {
           "diverging": [
            [
             0,
             "#8e0152"
            ],
            [
             0.1,
             "#c51b7d"
            ],
            [
             0.2,
             "#de77ae"
            ],
            [
             0.3,
             "#f1b6da"
            ],
            [
             0.4,
             "#fde0ef"
            ],
            [
             0.5,
             "#f7f7f7"
            ],
            [
             0.6,
             "#e6f5d0"
            ],
            [
             0.7,
             "#b8e186"
            ],
            [
             0.8,
             "#7fbc41"
            ],
            [
             0.9,
             "#4d9221"
            ],
            [
             1,
             "#276419"
            ]
           ],
           "sequential": [
            [
             0,
             "#0d0887"
            ],
            [
             0.1111111111111111,
             "#46039f"
            ],
            [
             0.2222222222222222,
             "#7201a8"
            ],
            [
             0.3333333333333333,
             "#9c179e"
            ],
            [
             0.4444444444444444,
             "#bd3786"
            ],
            [
             0.5555555555555556,
             "#d8576b"
            ],
            [
             0.6666666666666666,
             "#ed7953"
            ],
            [
             0.7777777777777778,
             "#fb9f3a"
            ],
            [
             0.8888888888888888,
             "#fdca26"
            ],
            [
             1,
             "#f0f921"
            ]
           ],
           "sequentialminus": [
            [
             0,
             "#0d0887"
            ],
            [
             0.1111111111111111,
             "#46039f"
            ],
            [
             0.2222222222222222,
             "#7201a8"
            ],
            [
             0.3333333333333333,
             "#9c179e"
            ],
            [
             0.4444444444444444,
             "#bd3786"
            ],
            [
             0.5555555555555556,
             "#d8576b"
            ],
            [
             0.6666666666666666,
             "#ed7953"
            ],
            [
             0.7777777777777778,
             "#fb9f3a"
            ],
            [
             0.8888888888888888,
             "#fdca26"
            ],
            [
             1,
             "#f0f921"
            ]
           ]
          },
          "colorway": [
           "#636efa",
           "#EF553B",
           "#00cc96",
           "#ab63fa",
           "#FFA15A",
           "#19d3f3",
           "#FF6692",
           "#B6E880",
           "#FF97FF",
           "#FECB52"
          ],
          "font": {
           "color": "#2a3f5f"
          },
          "geo": {
           "bgcolor": "white",
           "lakecolor": "white",
           "landcolor": "#E5ECF6",
           "showlakes": true,
           "showland": true,
           "subunitcolor": "white"
          },
          "hoverlabel": {
           "align": "left"
          },
          "hovermode": "closest",
          "mapbox": {
           "style": "light"
          },
          "paper_bgcolor": "white",
          "plot_bgcolor": "#E5ECF6",
          "polar": {
           "angularaxis": {
            "gridcolor": "white",
            "linecolor": "white",
            "ticks": ""
           },
           "bgcolor": "#E5ECF6",
           "radialaxis": {
            "gridcolor": "white",
            "linecolor": "white",
            "ticks": ""
           }
          },
          "scene": {
           "xaxis": {
            "backgroundcolor": "#E5ECF6",
            "gridcolor": "white",
            "gridwidth": 2,
            "linecolor": "white",
            "showbackground": true,
            "ticks": "",
            "zerolinecolor": "white"
           },
           "yaxis": {
            "backgroundcolor": "#E5ECF6",
            "gridcolor": "white",
            "gridwidth": 2,
            "linecolor": "white",
            "showbackground": true,
            "ticks": "",
            "zerolinecolor": "white"
           },
           "zaxis": {
            "backgroundcolor": "#E5ECF6",
            "gridcolor": "white",
            "gridwidth": 2,
            "linecolor": "white",
            "showbackground": true,
            "ticks": "",
            "zerolinecolor": "white"
           }
          },
          "shapedefaults": {
           "line": {
            "color": "#2a3f5f"
           }
          },
          "ternary": {
           "aaxis": {
            "gridcolor": "white",
            "linecolor": "white",
            "ticks": ""
           },
           "baxis": {
            "gridcolor": "white",
            "linecolor": "white",
            "ticks": ""
           },
           "bgcolor": "#E5ECF6",
           "caxis": {
            "gridcolor": "white",
            "linecolor": "white",
            "ticks": ""
           }
          },
          "title": {
           "x": 0.05
          },
          "xaxis": {
           "automargin": true,
           "gridcolor": "white",
           "linecolor": "white",
           "ticks": "",
           "title": {
            "standoff": 15
           },
           "zerolinecolor": "white",
           "zerolinewidth": 2
          },
          "yaxis": {
           "automargin": true,
           "gridcolor": "white",
           "linecolor": "white",
           "ticks": "",
           "title": {
            "standoff": 15
           },
           "zerolinecolor": "white",
           "zerolinewidth": 2
          }
         }
        },
        "title": {
         "text": "Average Wine Rating per Group"
        },
        "xaxis": {
         "anchor": "y",
         "domain": [
          0,
          1
         ],
         "title": {
          "text": "Group ID"
         }
        },
        "yaxis": {
         "anchor": "x",
         "domain": [
          0,
          1
         ],
         "title": {
          "text": "Average Rating"
         }
        }
       }
      }
     },
     "metadata": {},
     "output_type": "display_data"
    }
   ],
   "source": [
    "import pandas as pd\n",
    "from tqdm import tqdm\n",
    "import plotly.express as px\n",
    "\n",
    "# Assuming `group_data`, `ratings_data`, and `wine_data` are already defined DataFrames.\n",
    "\n",
    "# Schritt 1: Leere Liste erstellen, um die durchschnittlichen Bewertungen und die individuellen Bewertungen zu speichern\n",
    "group_avg_ratings = []  # Liste für durchschnittliche Bewertungen pro Gruppe\n",
    "individual_ratings = []  # Liste für individuelle Bewertungen jedes Gruppenmitglieds\n",
    "\n",
    "# Schritt 2: Iteration über alle Gruppen-IDs (0 bis 239) mit Fortschrittsanzeige\n",
    "for group_id in tqdm(range(240), desc=\"Processing Group IDs\", unit=\"group\"):\n",
    "    try:\n",
    "        # Get the top 5 wine recommendations for the current group\n",
    "        recommended_wines = recommend_group_wines_by_group_id(ratings_df, group_data, group_id, fill_method='average')\n",
    "\n",
    "        # Überprüfen, ob Empfehlungen zurückgegeben wurden\n",
    "        if recommended_wines is None:\n",
    "            print(f\"Keine Empfehlungen für Gruppe {group_id}. Überspringen...\")\n",
    "            group_avg_ratings.append((group_id, None))\n",
    "            continue\n",
    "\n",
    "        # Convert the WineIDs to a list, if necessary\n",
    "        wine_id_list = recommended_wines if isinstance(recommended_wines, list) else recommended_wines.tolist()\n",
    "\n",
    "        # Schritt 3: Holen Sie die Bewertungen der Gruppenmitglieder für die empfohlenen Weine\n",
    "        group_ratings_df = get_wines_rated_by_group(\n",
    "            group_df=group_data,\n",
    "            group_id=group_id,\n",
    "            ratings_df=ratings_data,\n",
    "            wine_id=wine_id_list\n",
    "        )\n",
    "\n",
    "        # Schritt 4: Durchschnittliche Bewertung für die zurückgegebenen Weine berechnen\n",
    "        if not group_ratings_df.empty:\n",
    "            avg_rating = group_ratings_df['Rating'].mean()\n",
    "        else:\n",
    "            avg_rating = None  # Keine Bewertungen gefunden\n",
    "\n",
    "        # Speichern der individuellen Bewertungen in `individual_ratings`\n",
    "        for _, row in group_ratings_df.iterrows():\n",
    "            individual_ratings.append({\n",
    "                'GroupID': group_id,\n",
    "                'UserID': row['UserID'],\n",
    "                'WineID': row['WineID'],\n",
    "                'Rating': row['Rating']\n",
    "            })\n",
    "\n",
    "    except ValueError as e:\n",
    "        # Fehler abfangen und None als Durchschnittswert speichern\n",
    "        print(f\"Fehler bei Gruppe {group_id}: {e}\")\n",
    "        avg_rating = None\n",
    "\n",
    "    # Schritt 5: Ergebnis als Tupel (GroupID, AverageRating) speichern\n",
    "    group_avg_ratings.append((group_id, avg_rating))\n",
    "\n",
    "# Schritt 6: Ausgabe der durchschnittlichen Bewertungen für jede Gruppe als DataFrame\n",
    "group_avg_ratings_df = pd.DataFrame(group_avg_ratings, columns=[\"GroupID\", \"AverageRating\"])\n",
    "\n",
    "# Schritt 7: Ausgabe der individuellen Bewertungen als DataFrame\n",
    "individual_ratings_df = pd.DataFrame(individual_ratings, columns=[\"GroupID\", \"UserID\", \"WineID\", \"Rating\"])\n",
    "\n",
    "# Schritt 8: Erstellen eines interaktiven Balkendiagramms der Durchschnittsbewertungen pro Gruppe\n",
    "fig = px.bar(group_avg_ratings_df, x='GroupID', y='AverageRating',\n",
    "             labels={'GroupID': 'Group ID', 'AverageRating': 'Average Rating'},\n",
    "             title='Average Wine Rating per Group')\n",
    "\n",
    "# Interaktives Diagramm anzeigen\n",
    "fig.show()\n",
    "\n"
   ]
  },
  {
   "cell_type": "code",
   "execution_count": 138,
   "metadata": {},
   "outputs": [
    {
     "data": {
      "application/vnd.plotly.v1+json": {
       "config": {
        "plotlyServerURL": "https://plot.ly"
       },
       "data": [
        {
         "alignmentgroup": "True",
         "hovertemplate": "Group ID=%{x}<br>Average Rating=%{y}<extra></extra>",
         "legendgroup": "",
         "marker": {
          "color": "#636efa",
          "pattern": {
           "shape": ""
          }
         },
         "name": "",
         "offsetgroup": "",
         "orientation": "v",
         "showlegend": false,
         "textposition": "auto",
         "type": "bar",
         "x": [
          0,
          1,
          2,
          3,
          4,
          5,
          6,
          7,
          8,
          9,
          10,
          11,
          12,
          13,
          14,
          15,
          16,
          17,
          18,
          19,
          20,
          21,
          22,
          23,
          24,
          25,
          26,
          27,
          28,
          29,
          30,
          31,
          32,
          33,
          34,
          35,
          36,
          37,
          38,
          39,
          40,
          41,
          42,
          43,
          44,
          45,
          46,
          47,
          48,
          49,
          50,
          51,
          52,
          53,
          54,
          55,
          56,
          57,
          58,
          59,
          60,
          61,
          62,
          63,
          64,
          65,
          66,
          67,
          68,
          69,
          70,
          71,
          72,
          73,
          74,
          75,
          76,
          77,
          78,
          79,
          80,
          81,
          82,
          83,
          84,
          85,
          86,
          87,
          88,
          89,
          90,
          91,
          92,
          93,
          94,
          95,
          96,
          97,
          98,
          99,
          100,
          101,
          102,
          103,
          104,
          105,
          106,
          107,
          108,
          109,
          110,
          111,
          112,
          113,
          114,
          115,
          116,
          117,
          118,
          119,
          120,
          121,
          122,
          123,
          124,
          125,
          126,
          127,
          128,
          129,
          130,
          131,
          132,
          133,
          134,
          135,
          136,
          137,
          138,
          139,
          140,
          141,
          142,
          143,
          144,
          145,
          146,
          147,
          148,
          149,
          150,
          151,
          152,
          153,
          154,
          155,
          156,
          157,
          158,
          159,
          160,
          161,
          162,
          163,
          164,
          165,
          166,
          167,
          168,
          169,
          170,
          171,
          172,
          173,
          174,
          175,
          176,
          177,
          178,
          179,
          180,
          181,
          182,
          183,
          184,
          185,
          186,
          187,
          188,
          189,
          190,
          191,
          192,
          193,
          194,
          195,
          196,
          197,
          198,
          199,
          200,
          201,
          202,
          203,
          204,
          205,
          206,
          207,
          208,
          209,
          210,
          211,
          212,
          213,
          214,
          215,
          216,
          217,
          218,
          219,
          220,
          221,
          222,
          223,
          224,
          225,
          226,
          227,
          228,
          229,
          230,
          231,
          232,
          233,
          234,
          235,
          236,
          237,
          238,
          239
         ],
         "xaxis": "x",
         "y": [
          null,
          4.5,
          4.5,
          4.666666666666667,
          null,
          null,
          4.75,
          4.833333333333333,
          4.75,
          4.625,
          null,
          3.75,
          4.5,
          4.714285714285714,
          null,
          4.916666666666667,
          5,
          5,
          4.571428571428571,
          5,
          4.166666666666667,
          4.777777777777778,
          4.4,
          4.5,
          5,
          4.625,
          5,
          4.638888888888889,
          4.8,
          4.611111111111111,
          4.666666666666667,
          4.833333333333333,
          null,
          4.5,
          4.625,
          4,
          4.5,
          4.818181818181818,
          4.769230769230769,
          4.555555555555555,
          4.45,
          4.785714285714286,
          4,
          4.6875,
          4.833333333333333,
          4.6875,
          4.555555555555555,
          4.821428571428571,
          4.85,
          4.425,
          4.5625,
          4.666666666666667,
          4.681818181818182,
          4.681818181818182,
          4.25,
          4.708333333333333,
          4.5,
          4.473684210526316,
          4.653846153846154,
          4.6,
          null,
          null,
          4.5,
          4.875,
          null,
          4.75,
          null,
          null,
          null,
          null,
          null,
          4.636363636363637,
          null,
          4.5,
          4.75,
          null,
          null,
          null,
          4.75,
          4.944444444444445,
          4.880952380952381,
          4.7105263157894735,
          4.619047619047619,
          4.555555555555555,
          4.875,
          4.87037037037037,
          null,
          4.666666666666667,
          4.65,
          4.866666666666666,
          null,
          4.9375,
          null,
          null,
          4.735294117647059,
          null,
          null,
          4.520833333333333,
          null,
          4.826923076923077,
          4.6875,
          4.625,
          4.716666666666667,
          4.617647058823529,
          4.844827586206897,
          4.857142857142857,
          4.857142857142857,
          4.833333333333333,
          4.75,
          4.7,
          null,
          4.509803921568627,
          4.671875,
          4.8088235294117645,
          4.618421052631579,
          4.619047619047619,
          4.636363636363637,
          4.841463414634147,
          null,
          4.714285714285714,
          null,
          null,
          4.5,
          4.538461538461538,
          4.5,
          4.5,
          null,
          4.5,
          null,
          4.75,
          4.916666666666667,
          4.5,
          4.875,
          null,
          4.666666666666667,
          4.5,
          5,
          4.375,
          null,
          5,
          4.25,
          4.785714285714286,
          4.636363636363637,
          4.5,
          4.454545454545454,
          4.4,
          null,
          4.625,
          4.75,
          4.6,
          4.6,
          4.5,
          4.5,
          5,
          4.75,
          4.625,
          4.888888888888889,
          4.5,
          4.5,
          4.8,
          4.75,
          4.611111111111111,
          4.625,
          4.6,
          4.5625,
          4.5,
          4.55,
          4.666666666666667,
          4.416666666666667,
          4.760869565217392,
          4.357142857142857,
          4.578947368421052,
          4.34375,
          4.6875,
          4.357142857142857,
          4.583333333333333,
          4.730769230769231,
          4.611111111111111,
          4.791666666666667,
          4.666666666666667,
          5,
          null,
          4.916666666666667,
          4.875,
          4.857142857142857,
          4.5,
          4.5,
          4.818181818181818,
          5,
          4.375,
          4.5,
          4.642857142857143,
          4,
          null,
          4.5,
          4.625,
          4.642857142857143,
          null,
          null,
          4.75,
          4.333333333333333,
          4.5,
          4.59375,
          null,
          4.75,
          null,
          null,
          4.815789473684211,
          4.65625,
          4.666666666666667,
          4.857142857142857,
          null,
          4.961538461538462,
          4.852941176470588,
          4.833333333333333,
          4.5,
          4.4523809523809526,
          4.659090909090909,
          null,
          4.5,
          4.454545454545454,
          4.833333333333333,
          4.775,
          4.625,
          null,
          4.7,
          4.605263157894737,
          4.7631578947368425,
          4.862068965517241,
          4.75,
          4.694444444444445,
          4.676470588235294,
          4.596153846153846,
          4.863636363636363,
          4.595238095238095,
          4.714285714285714,
          4.855263157894737,
          4.8076923076923075,
          4.75,
          4.728571428571429
         ],
         "yaxis": "y"
        }
       ],
       "layout": {
        "barmode": "relative",
        "legend": {
         "tracegroupgap": 0
        },
        "template": {
         "data": {
          "bar": [
           {
            "error_x": {
             "color": "#2a3f5f"
            },
            "error_y": {
             "color": "#2a3f5f"
            },
            "marker": {
             "line": {
              "color": "#E5ECF6",
              "width": 0.5
             },
             "pattern": {
              "fillmode": "overlay",
              "size": 10,
              "solidity": 0.2
             }
            },
            "type": "bar"
           }
          ],
          "barpolar": [
           {
            "marker": {
             "line": {
              "color": "#E5ECF6",
              "width": 0.5
             },
             "pattern": {
              "fillmode": "overlay",
              "size": 10,
              "solidity": 0.2
             }
            },
            "type": "barpolar"
           }
          ],
          "carpet": [
           {
            "aaxis": {
             "endlinecolor": "#2a3f5f",
             "gridcolor": "white",
             "linecolor": "white",
             "minorgridcolor": "white",
             "startlinecolor": "#2a3f5f"
            },
            "baxis": {
             "endlinecolor": "#2a3f5f",
             "gridcolor": "white",
             "linecolor": "white",
             "minorgridcolor": "white",
             "startlinecolor": "#2a3f5f"
            },
            "type": "carpet"
           }
          ],
          "choropleth": [
           {
            "colorbar": {
             "outlinewidth": 0,
             "ticks": ""
            },
            "type": "choropleth"
           }
          ],
          "contour": [
           {
            "colorbar": {
             "outlinewidth": 0,
             "ticks": ""
            },
            "colorscale": [
             [
              0,
              "#0d0887"
             ],
             [
              0.1111111111111111,
              "#46039f"
             ],
             [
              0.2222222222222222,
              "#7201a8"
             ],
             [
              0.3333333333333333,
              "#9c179e"
             ],
             [
              0.4444444444444444,
              "#bd3786"
             ],
             [
              0.5555555555555556,
              "#d8576b"
             ],
             [
              0.6666666666666666,
              "#ed7953"
             ],
             [
              0.7777777777777778,
              "#fb9f3a"
             ],
             [
              0.8888888888888888,
              "#fdca26"
             ],
             [
              1,
              "#f0f921"
             ]
            ],
            "type": "contour"
           }
          ],
          "contourcarpet": [
           {
            "colorbar": {
             "outlinewidth": 0,
             "ticks": ""
            },
            "type": "contourcarpet"
           }
          ],
          "heatmap": [
           {
            "colorbar": {
             "outlinewidth": 0,
             "ticks": ""
            },
            "colorscale": [
             [
              0,
              "#0d0887"
             ],
             [
              0.1111111111111111,
              "#46039f"
             ],
             [
              0.2222222222222222,
              "#7201a8"
             ],
             [
              0.3333333333333333,
              "#9c179e"
             ],
             [
              0.4444444444444444,
              "#bd3786"
             ],
             [
              0.5555555555555556,
              "#d8576b"
             ],
             [
              0.6666666666666666,
              "#ed7953"
             ],
             [
              0.7777777777777778,
              "#fb9f3a"
             ],
             [
              0.8888888888888888,
              "#fdca26"
             ],
             [
              1,
              "#f0f921"
             ]
            ],
            "type": "heatmap"
           }
          ],
          "heatmapgl": [
           {
            "colorbar": {
             "outlinewidth": 0,
             "ticks": ""
            },
            "colorscale": [
             [
              0,
              "#0d0887"
             ],
             [
              0.1111111111111111,
              "#46039f"
             ],
             [
              0.2222222222222222,
              "#7201a8"
             ],
             [
              0.3333333333333333,
              "#9c179e"
             ],
             [
              0.4444444444444444,
              "#bd3786"
             ],
             [
              0.5555555555555556,
              "#d8576b"
             ],
             [
              0.6666666666666666,
              "#ed7953"
             ],
             [
              0.7777777777777778,
              "#fb9f3a"
             ],
             [
              0.8888888888888888,
              "#fdca26"
             ],
             [
              1,
              "#f0f921"
             ]
            ],
            "type": "heatmapgl"
           }
          ],
          "histogram": [
           {
            "marker": {
             "pattern": {
              "fillmode": "overlay",
              "size": 10,
              "solidity": 0.2
             }
            },
            "type": "histogram"
           }
          ],
          "histogram2d": [
           {
            "colorbar": {
             "outlinewidth": 0,
             "ticks": ""
            },
            "colorscale": [
             [
              0,
              "#0d0887"
             ],
             [
              0.1111111111111111,
              "#46039f"
             ],
             [
              0.2222222222222222,
              "#7201a8"
             ],
             [
              0.3333333333333333,
              "#9c179e"
             ],
             [
              0.4444444444444444,
              "#bd3786"
             ],
             [
              0.5555555555555556,
              "#d8576b"
             ],
             [
              0.6666666666666666,
              "#ed7953"
             ],
             [
              0.7777777777777778,
              "#fb9f3a"
             ],
             [
              0.8888888888888888,
              "#fdca26"
             ],
             [
              1,
              "#f0f921"
             ]
            ],
            "type": "histogram2d"
           }
          ],
          "histogram2dcontour": [
           {
            "colorbar": {
             "outlinewidth": 0,
             "ticks": ""
            },
            "colorscale": [
             [
              0,
              "#0d0887"
             ],
             [
              0.1111111111111111,
              "#46039f"
             ],
             [
              0.2222222222222222,
              "#7201a8"
             ],
             [
              0.3333333333333333,
              "#9c179e"
             ],
             [
              0.4444444444444444,
              "#bd3786"
             ],
             [
              0.5555555555555556,
              "#d8576b"
             ],
             [
              0.6666666666666666,
              "#ed7953"
             ],
             [
              0.7777777777777778,
              "#fb9f3a"
             ],
             [
              0.8888888888888888,
              "#fdca26"
             ],
             [
              1,
              "#f0f921"
             ]
            ],
            "type": "histogram2dcontour"
           }
          ],
          "mesh3d": [
           {
            "colorbar": {
             "outlinewidth": 0,
             "ticks": ""
            },
            "type": "mesh3d"
           }
          ],
          "parcoords": [
           {
            "line": {
             "colorbar": {
              "outlinewidth": 0,
              "ticks": ""
             }
            },
            "type": "parcoords"
           }
          ],
          "pie": [
           {
            "automargin": true,
            "type": "pie"
           }
          ],
          "scatter": [
           {
            "fillpattern": {
             "fillmode": "overlay",
             "size": 10,
             "solidity": 0.2
            },
            "type": "scatter"
           }
          ],
          "scatter3d": [
           {
            "line": {
             "colorbar": {
              "outlinewidth": 0,
              "ticks": ""
             }
            },
            "marker": {
             "colorbar": {
              "outlinewidth": 0,
              "ticks": ""
             }
            },
            "type": "scatter3d"
           }
          ],
          "scattercarpet": [
           {
            "marker": {
             "colorbar": {
              "outlinewidth": 0,
              "ticks": ""
             }
            },
            "type": "scattercarpet"
           }
          ],
          "scattergeo": [
           {
            "marker": {
             "colorbar": {
              "outlinewidth": 0,
              "ticks": ""
             }
            },
            "type": "scattergeo"
           }
          ],
          "scattergl": [
           {
            "marker": {
             "colorbar": {
              "outlinewidth": 0,
              "ticks": ""
             }
            },
            "type": "scattergl"
           }
          ],
          "scattermapbox": [
           {
            "marker": {
             "colorbar": {
              "outlinewidth": 0,
              "ticks": ""
             }
            },
            "type": "scattermapbox"
           }
          ],
          "scatterpolar": [
           {
            "marker": {
             "colorbar": {
              "outlinewidth": 0,
              "ticks": ""
             }
            },
            "type": "scatterpolar"
           }
          ],
          "scatterpolargl": [
           {
            "marker": {
             "colorbar": {
              "outlinewidth": 0,
              "ticks": ""
             }
            },
            "type": "scatterpolargl"
           }
          ],
          "scatterternary": [
           {
            "marker": {
             "colorbar": {
              "outlinewidth": 0,
              "ticks": ""
             }
            },
            "type": "scatterternary"
           }
          ],
          "surface": [
           {
            "colorbar": {
             "outlinewidth": 0,
             "ticks": ""
            },
            "colorscale": [
             [
              0,
              "#0d0887"
             ],
             [
              0.1111111111111111,
              "#46039f"
             ],
             [
              0.2222222222222222,
              "#7201a8"
             ],
             [
              0.3333333333333333,
              "#9c179e"
             ],
             [
              0.4444444444444444,
              "#bd3786"
             ],
             [
              0.5555555555555556,
              "#d8576b"
             ],
             [
              0.6666666666666666,
              "#ed7953"
             ],
             [
              0.7777777777777778,
              "#fb9f3a"
             ],
             [
              0.8888888888888888,
              "#fdca26"
             ],
             [
              1,
              "#f0f921"
             ]
            ],
            "type": "surface"
           }
          ],
          "table": [
           {
            "cells": {
             "fill": {
              "color": "#EBF0F8"
             },
             "line": {
              "color": "white"
             }
            },
            "header": {
             "fill": {
              "color": "#C8D4E3"
             },
             "line": {
              "color": "white"
             }
            },
            "type": "table"
           }
          ]
         },
         "layout": {
          "annotationdefaults": {
           "arrowcolor": "#2a3f5f",
           "arrowhead": 0,
           "arrowwidth": 1
          },
          "autotypenumbers": "strict",
          "coloraxis": {
           "colorbar": {
            "outlinewidth": 0,
            "ticks": ""
           }
          },
          "colorscale": {
           "diverging": [
            [
             0,
             "#8e0152"
            ],
            [
             0.1,
             "#c51b7d"
            ],
            [
             0.2,
             "#de77ae"
            ],
            [
             0.3,
             "#f1b6da"
            ],
            [
             0.4,
             "#fde0ef"
            ],
            [
             0.5,
             "#f7f7f7"
            ],
            [
             0.6,
             "#e6f5d0"
            ],
            [
             0.7,
             "#b8e186"
            ],
            [
             0.8,
             "#7fbc41"
            ],
            [
             0.9,
             "#4d9221"
            ],
            [
             1,
             "#276419"
            ]
           ],
           "sequential": [
            [
             0,
             "#0d0887"
            ],
            [
             0.1111111111111111,
             "#46039f"
            ],
            [
             0.2222222222222222,
             "#7201a8"
            ],
            [
             0.3333333333333333,
             "#9c179e"
            ],
            [
             0.4444444444444444,
             "#bd3786"
            ],
            [
             0.5555555555555556,
             "#d8576b"
            ],
            [
             0.6666666666666666,
             "#ed7953"
            ],
            [
             0.7777777777777778,
             "#fb9f3a"
            ],
            [
             0.8888888888888888,
             "#fdca26"
            ],
            [
             1,
             "#f0f921"
            ]
           ],
           "sequentialminus": [
            [
             0,
             "#0d0887"
            ],
            [
             0.1111111111111111,
             "#46039f"
            ],
            [
             0.2222222222222222,
             "#7201a8"
            ],
            [
             0.3333333333333333,
             "#9c179e"
            ],
            [
             0.4444444444444444,
             "#bd3786"
            ],
            [
             0.5555555555555556,
             "#d8576b"
            ],
            [
             0.6666666666666666,
             "#ed7953"
            ],
            [
             0.7777777777777778,
             "#fb9f3a"
            ],
            [
             0.8888888888888888,
             "#fdca26"
            ],
            [
             1,
             "#f0f921"
            ]
           ]
          },
          "colorway": [
           "#636efa",
           "#EF553B",
           "#00cc96",
           "#ab63fa",
           "#FFA15A",
           "#19d3f3",
           "#FF6692",
           "#B6E880",
           "#FF97FF",
           "#FECB52"
          ],
          "font": {
           "color": "#2a3f5f"
          },
          "geo": {
           "bgcolor": "white",
           "lakecolor": "white",
           "landcolor": "#E5ECF6",
           "showlakes": true,
           "showland": true,
           "subunitcolor": "white"
          },
          "hoverlabel": {
           "align": "left"
          },
          "hovermode": "closest",
          "mapbox": {
           "style": "light"
          },
          "paper_bgcolor": "white",
          "plot_bgcolor": "#E5ECF6",
          "polar": {
           "angularaxis": {
            "gridcolor": "white",
            "linecolor": "white",
            "ticks": ""
           },
           "bgcolor": "#E5ECF6",
           "radialaxis": {
            "gridcolor": "white",
            "linecolor": "white",
            "ticks": ""
           }
          },
          "scene": {
           "xaxis": {
            "backgroundcolor": "#E5ECF6",
            "gridcolor": "white",
            "gridwidth": 2,
            "linecolor": "white",
            "showbackground": true,
            "ticks": "",
            "zerolinecolor": "white"
           },
           "yaxis": {
            "backgroundcolor": "#E5ECF6",
            "gridcolor": "white",
            "gridwidth": 2,
            "linecolor": "white",
            "showbackground": true,
            "ticks": "",
            "zerolinecolor": "white"
           },
           "zaxis": {
            "backgroundcolor": "#E5ECF6",
            "gridcolor": "white",
            "gridwidth": 2,
            "linecolor": "white",
            "showbackground": true,
            "ticks": "",
            "zerolinecolor": "white"
           }
          },
          "shapedefaults": {
           "line": {
            "color": "#2a3f5f"
           }
          },
          "ternary": {
           "aaxis": {
            "gridcolor": "white",
            "linecolor": "white",
            "ticks": ""
           },
           "baxis": {
            "gridcolor": "white",
            "linecolor": "white",
            "ticks": ""
           },
           "bgcolor": "#E5ECF6",
           "caxis": {
            "gridcolor": "white",
            "linecolor": "white",
            "ticks": ""
           }
          },
          "title": {
           "x": 0.05
          },
          "xaxis": {
           "automargin": true,
           "gridcolor": "white",
           "linecolor": "white",
           "ticks": "",
           "title": {
            "standoff": 15
           },
           "zerolinecolor": "white",
           "zerolinewidth": 2
          },
          "yaxis": {
           "automargin": true,
           "gridcolor": "white",
           "linecolor": "white",
           "ticks": "",
           "title": {
            "standoff": 15
           },
           "zerolinecolor": "white",
           "zerolinewidth": 2
          }
         }
        },
        "title": {
         "text": "Average Wine Rating per Group"
        },
        "xaxis": {
         "anchor": "y",
         "domain": [
          0,
          1
         ],
         "title": {
          "text": "Group ID"
         }
        },
        "yaxis": {
         "anchor": "x",
         "domain": [
          0,
          1
         ],
         "title": {
          "text": "Average Rating"
         }
        }
       }
      }
     },
     "metadata": {},
     "output_type": "display_data"
    }
   ],
   "source": [
    "import plotly.express as px\n",
    "\n",
    "# Create an interactive bar chart\n",
    "fig = px.bar(group_avg_ratings_df, x='GroupID', y='AverageRating',\n",
    "             labels={'GroupID': 'Group ID', 'AverageRating': 'Average Rating'},\n",
    "             title='Average Wine Rating per Group')\n",
    "\n",
    "# Show the interactive chart\n",
    "fig.show()\n"
   ]
  },
  {
   "cell_type": "code",
   "execution_count": 139,
   "metadata": {},
   "outputs": [
    {
     "data": {
      "image/png": "[encoded data removed]",
      "text/plain": [
       "<Figure size 1000x600 with 1 Axes>"
      ]
     },
     "metadata": {},
     "output_type": "display_data"
    }
   ],
   "source": [
    "import matplotlib.pyplot as plt\n",
    "\n",
    "# Create a histogram of average ratings per group\n",
    "plt.figure(figsize=(10, 6))\n",
    "plt.hist(group_avg_ratings_df['AverageRating'].dropna(), bins=20, color='skyblue', edgecolor='black')\n",
    "\n",
    "# Add labels and title in English\n",
    "plt.xlabel('Average Rating')\n",
    "plt.ylabel('Number of Groups')\n",
    "plt.title('Distribution of Average Ratings per Group')\n",
    "\n",
    "# Show the histogram\n",
    "plt.show()\n"
   ]
  },
  {
   "cell_type": "code",
   "execution_count": 140,
   "metadata": {},
   "outputs": [
    {
     "data": {
      "application/vnd.plotly.v1+json": {
       "config": {
        "plotlyServerURL": "https://plot.ly"
       },
       "data": [
        {
         "alignmentgroup": "True",
         "bingroup": "x",
         "hovertemplate": "Satisfaction Rate=%{x}<br>count=%{y}<extra></extra>",
         "legendgroup": "",
         "marker": {
          "color": "#636efa",
          "pattern": {
           "shape": ""
          }
         },
         "name": "",
         "nbinsx": 10,
         "offsetgroup": "",
         "orientation": "v",
         "showlegend": false,
         "type": "histogram",
         "x": [
          1,
          1,
          1,
          1,
          1,
          1,
          1,
          0.5,
          1,
          1,
          1,
          1,
          1,
          1,
          1,
          1,
          1,
          1,
          1,
          1,
          1,
          1,
          1,
          1,
          1,
          1,
          1,
          1,
          1,
          0.5,
          1,
          1,
          1,
          0.7777777777777778,
          1,
          1,
          0.5,
          1,
          1,
          0.9375,
          1,
          1,
          1,
          0.9,
          0.9375,
          1,
          1,
          1,
          1,
          1,
          1,
          0.8421052631578947,
          1,
          1,
          1,
          1,
          1,
          0.9090909090909091,
          0.9,
          1,
          1,
          1,
          1,
          1,
          0.9523809523809523,
          1,
          0.9375,
          1,
          1,
          0.9,
          1,
          1,
          1,
          0.875,
          1,
          0.975,
          1,
          1,
          1,
          0.9655172413793104,
          1,
          1,
          1,
          1,
          1,
          0.9215686274509803,
          0.9375,
          1,
          0.9210526315789473,
          0.9761904761904762,
          1,
          1,
          0.9183673469387755,
          1,
          0.9230769230769231,
          1,
          1,
          1,
          1,
          1,
          1,
          1,
          1,
          1,
          1,
          1,
          1,
          0.75,
          1,
          0.9090909090909091,
          0.8571428571428571,
          1,
          0.8,
          1,
          1,
          0.9,
          1,
          0.875,
          1,
          1,
          1,
          1,
          1,
          1,
          1,
          1,
          1,
          1,
          1,
          1,
          1,
          1,
          1,
          0.8888888888888888,
          0.8333333333333334,
          1,
          0.8571428571428571,
          1,
          0.9375,
          1,
          0.8571428571428571,
          1,
          1,
          1,
          1,
          1,
          1,
          1,
          1,
          1,
          1,
          1,
          1,
          1,
          1,
          1,
          1,
          1,
          1,
          1,
          1,
          1,
          1,
          1,
          0.875,
          1,
          1,
          1,
          1,
          1,
          1,
          1,
          1,
          1,
          0.9047619047619048,
          1,
          1,
          0.9545454545454546,
          1,
          1,
          0.75,
          1,
          0.9736842105263158,
          1,
          1,
          1,
          1,
          1,
          0.9230769230769231,
          1,
          1,
          1,
          1,
          0.9615384615384616,
          1,
          1
         ],
         "xaxis": "x",
         "yaxis": "y"
        }
       ],
       "layout": {
        "barmode": "relative",
        "legend": {
         "tracegroupgap": 0
        },
        "template": {
         "data": {
          "bar": [
           {
            "error_x": {
             "color": "#2a3f5f"
            },
            "error_y": {
             "color": "#2a3f5f"
            },
            "marker": {
             "line": {
              "color": "#E5ECF6",
              "width": 0.5
             },
             "pattern": {
              "fillmode": "overlay",
              "size": 10,
              "solidity": 0.2
             }
            },
            "type": "bar"
           }
          ],
          "barpolar": [
           {
            "marker": {
             "line": {
              "color": "#E5ECF6",
              "width": 0.5
             },
             "pattern": {
              "fillmode": "overlay",
              "size": 10,
              "solidity": 0.2
             }
            },
            "type": "barpolar"
           }
          ],
          "carpet": [
           {
            "aaxis": {
             "endlinecolor": "#2a3f5f",
             "gridcolor": "white",
             "linecolor": "white",
             "minorgridcolor": "white",
             "startlinecolor": "#2a3f5f"
            },
            "baxis": {
             "endlinecolor": "#2a3f5f",
             "gridcolor": "white",
             "linecolor": "white",
             "minorgridcolor": "white",
             "startlinecolor": "#2a3f5f"
            },
            "type": "carpet"
           }
          ],
          "choropleth": [
           {
            "colorbar": {
             "outlinewidth": 0,
             "ticks": ""
            },
            "type": "choropleth"
           }
          ],
          "contour": [
           {
            "colorbar": {
             "outlinewidth": 0,
             "ticks": ""
            },
            "colorscale": [
             [
              0,
              "#0d0887"
             ],
             [
              0.1111111111111111,
              "#46039f"
             ],
             [
              0.2222222222222222,
              "#7201a8"
             ],
             [
              0.3333333333333333,
              "#9c179e"
             ],
             [
              0.4444444444444444,
              "#bd3786"
             ],
             [
              0.5555555555555556,
              "#d8576b"
             ],
             [
              0.6666666666666666,
              "#ed7953"
             ],
             [
              0.7777777777777778,
              "#fb9f3a"
             ],
             [
              0.8888888888888888,
              "#fdca26"
             ],
             [
              1,
              "#f0f921"
             ]
            ],
            "type": "contour"
           }
          ],
          "contourcarpet": [
           {
            "colorbar": {
             "outlinewidth": 0,
             "ticks": ""
            },
            "type": "contourcarpet"
           }
          ],
          "heatmap": [
           {
            "colorbar": {
             "outlinewidth": 0,
             "ticks": ""
            },
            "colorscale": [
             [
              0,
              "#0d0887"
             ],
             [
              0.1111111111111111,
              "#46039f"
             ],
             [
              0.2222222222222222,
              "#7201a8"
             ],
             [
              0.3333333333333333,
              "#9c179e"
             ],
             [
              0.4444444444444444,
              "#bd3786"
             ],
             [
              0.5555555555555556,
              "#d8576b"
             ],
             [
              0.6666666666666666,
              "#ed7953"
             ],
             [
              0.7777777777777778,
              "#fb9f3a"
             ],
             [
              0.8888888888888888,
              "#fdca26"
             ],
             [
              1,
              "#f0f921"
             ]
            ],
            "type": "heatmap"
           }
          ],
          "heatmapgl": [
           {
            "colorbar": {
             "outlinewidth": 0,
             "ticks": ""
            },
            "colorscale": [
             [
              0,
              "#0d0887"
             ],
             [
              0.1111111111111111,
              "#46039f"
             ],
             [
              0.2222222222222222,
              "#7201a8"
             ],
             [
              0.3333333333333333,
              "#9c179e"
             ],
             [
              0.4444444444444444,
              "#bd3786"
             ],
             [
              0.5555555555555556,
              "#d8576b"
             ],
             [
              0.6666666666666666,
              "#ed7953"
             ],
             [
              0.7777777777777778,
              "#fb9f3a"
             ],
             [
              0.8888888888888888,
              "#fdca26"
             ],
             [
              1,
              "#f0f921"
             ]
            ],
            "type": "heatmapgl"
           }
          ],
          "histogram": [
           {
            "marker": {
             "pattern": {
              "fillmode": "overlay",
              "size": 10,
              "solidity": 0.2
             }
            },
            "type": "histogram"
           }
          ],
          "histogram2d": [
           {
            "colorbar": {
             "outlinewidth": 0,
             "ticks": ""
            },
            "colorscale": [
             [
              0,
              "#0d0887"
             ],
             [
              0.1111111111111111,
              "#46039f"
             ],
             [
              0.2222222222222222,
              "#7201a8"
             ],
             [
              0.3333333333333333,
              "#9c179e"
             ],
             [
              0.4444444444444444,
              "#bd3786"
             ],
             [
              0.5555555555555556,
              "#d8576b"
             ],
             [
              0.6666666666666666,
              "#ed7953"
             ],
             [
              0.7777777777777778,
              "#fb9f3a"
             ],
             [
              0.8888888888888888,
              "#fdca26"
             ],
             [
              1,
              "#f0f921"
             ]
            ],
            "type": "histogram2d"
           }
          ],
          "histogram2dcontour": [
           {
            "colorbar": {
             "outlinewidth": 0,
             "ticks": ""
            },
            "colorscale": [
             [
              0,
              "#0d0887"
             ],
             [
              0.1111111111111111,
              "#46039f"
             ],
             [
              0.2222222222222222,
              "#7201a8"
             ],
             [
              0.3333333333333333,
              "#9c179e"
             ],
             [
              0.4444444444444444,
              "#bd3786"
             ],
             [
              0.5555555555555556,
              "#d8576b"
             ],
             [
              0.6666666666666666,
              "#ed7953"
             ],
             [
              0.7777777777777778,
              "#fb9f3a"
             ],
             [
              0.8888888888888888,
              "#fdca26"
             ],
             [
              1,
              "#f0f921"
             ]
            ],
            "type": "histogram2dcontour"
           }
          ],
          "mesh3d": [
           {
            "colorbar": {
             "outlinewidth": 0,
             "ticks": ""
            },
            "type": "mesh3d"
           }
          ],
          "parcoords": [
           {
            "line": {
             "colorbar": {
              "outlinewidth": 0,
              "ticks": ""
             }
            },
            "type": "parcoords"
           }
          ],
          "pie": [
           {
            "automargin": true,
            "type": "pie"
           }
          ],
          "scatter": [
           {
            "fillpattern": {
             "fillmode": "overlay",
             "size": 10,
             "solidity": 0.2
            },
            "type": "scatter"
           }
          ],
          "scatter3d": [
           {
            "line": {
             "colorbar": {
              "outlinewidth": 0,
              "ticks": ""
             }
            },
            "marker": {
             "colorbar": {
              "outlinewidth": 0,
              "ticks": ""
             }
            },
            "type": "scatter3d"
           }
          ],
          "scattercarpet": [
           {
            "marker": {
             "colorbar": {
              "outlinewidth": 0,
              "ticks": ""
             }
            },
            "type": "scattercarpet"
           }
          ],
          "scattergeo": [
           {
            "marker": {
             "colorbar": {
              "outlinewidth": 0,
              "ticks": ""
             }
            },
            "type": "scattergeo"
           }
          ],
          "scattergl": [
           {
            "marker": {
             "colorbar": {
              "outlinewidth": 0,
              "ticks": ""
             }
            },
            "type": "scattergl"
           }
          ],
          "scattermapbox": [
           {
            "marker": {
             "colorbar": {
              "outlinewidth": 0,
              "ticks": ""
             }
            },
            "type": "scattermapbox"
           }
          ],
          "scatterpolar": [
           {
            "marker": {
             "colorbar": {
              "outlinewidth": 0,
              "ticks": ""
             }
            },
            "type": "scatterpolar"
           }
          ],
          "scatterpolargl": [
           {
            "marker": {
             "colorbar": {
              "outlinewidth": 0,
              "ticks": ""
             }
            },
            "type": "scatterpolargl"
           }
          ],
          "scatterternary": [
           {
            "marker": {
             "colorbar": {
              "outlinewidth": 0,
              "ticks": ""
             }
            },
            "type": "scatterternary"
           }
          ],
          "surface": [
           {
            "colorbar": {
             "outlinewidth": 0,
             "ticks": ""
            },
            "colorscale": [
             [
              0,
              "#0d0887"
             ],
             [
              0.1111111111111111,
              "#46039f"
             ],
             [
              0.2222222222222222,
              "#7201a8"
             ],
             [
              0.3333333333333333,
              "#9c179e"
             ],
             [
              0.4444444444444444,
              "#bd3786"
             ],
             [
              0.5555555555555556,
              "#d8576b"
             ],
             [
              0.6666666666666666,
              "#ed7953"
             ],
             [
              0.7777777777777778,
              "#fb9f3a"
             ],
             [
              0.8888888888888888,
              "#fdca26"
             ],
             [
              1,
              "#f0f921"
             ]
            ],
            "type": "surface"
           }
          ],
          "table": [
           {
            "cells": {
             "fill": {
              "color": "#EBF0F8"
             },
             "line": {
              "color": "white"
             }
            },
            "header": {
             "fill": {
              "color": "#C8D4E3"
             },
             "line": {
              "color": "white"
             }
            },
            "type": "table"
           }
          ]
         },
         "layout": {
          "annotationdefaults": {
           "arrowcolor": "#2a3f5f",
           "arrowhead": 0,
           "arrowwidth": 1
          },
          "autotypenumbers": "strict",
          "coloraxis": {
           "colorbar": {
            "outlinewidth": 0,
            "ticks": ""
           }
          },
          "colorscale": {
           "diverging": [
            [
             0,
             "#8e0152"
            ],
            [
             0.1,
             "#c51b7d"
            ],
            [
             0.2,
             "#de77ae"
            ],
            [
             0.3,
             "#f1b6da"
            ],
            [
             0.4,
             "#fde0ef"
            ],
            [
             0.5,
             "#f7f7f7"
            ],
            [
             0.6,
             "#e6f5d0"
            ],
            [
             0.7,
             "#b8e186"
            ],
            [
             0.8,
             "#7fbc41"
            ],
            [
             0.9,
             "#4d9221"
            ],
            [
             1,
             "#276419"
            ]
           ],
           "sequential": [
            [
             0,
             "#0d0887"
            ],
            [
             0.1111111111111111,
             "#46039f"
            ],
            [
             0.2222222222222222,
             "#7201a8"
            ],
            [
             0.3333333333333333,
             "#9c179e"
            ],
            [
             0.4444444444444444,
             "#bd3786"
            ],
            [
             0.5555555555555556,
             "#d8576b"
            ],
            [
             0.6666666666666666,
             "#ed7953"
            ],
            [
             0.7777777777777778,
             "#fb9f3a"
            ],
            [
             0.8888888888888888,
             "#fdca26"
            ],
            [
             1,
             "#f0f921"
            ]
           ],
           "sequentialminus": [
            [
             0,
             "#0d0887"
            ],
            [
             0.1111111111111111,
             "#46039f"
            ],
            [
             0.2222222222222222,
             "#7201a8"
            ],
            [
             0.3333333333333333,
             "#9c179e"
            ],
            [
             0.4444444444444444,
             "#bd3786"
            ],
            [
             0.5555555555555556,
             "#d8576b"
            ],
            [
             0.6666666666666666,
             "#ed7953"
            ],
            [
             0.7777777777777778,
             "#fb9f3a"
            ],
            [
             0.8888888888888888,
             "#fdca26"
            ],
            [
             1,
             "#f0f921"
            ]
           ]
          },
          "colorway": [
           "#636efa",
           "#EF553B",
           "#00cc96",
           "#ab63fa",
           "#FFA15A",
           "#19d3f3",
           "#FF6692",
           "#B6E880",
           "#FF97FF",
           "#FECB52"
          ],
          "font": {
           "color": "#2a3f5f"
          },
          "geo": {
           "bgcolor": "white",
           "lakecolor": "white",
           "landcolor": "#E5ECF6",
           "showlakes": true,
           "showland": true,
           "subunitcolor": "white"
          },
          "hoverlabel": {
           "align": "left"
          },
          "hovermode": "closest",
          "mapbox": {
           "style": "light"
          },
          "paper_bgcolor": "white",
          "plot_bgcolor": "#E5ECF6",
          "polar": {
           "angularaxis": {
            "gridcolor": "white",
            "linecolor": "white",
            "ticks": ""
           },
           "bgcolor": "#E5ECF6",
           "radialaxis": {
            "gridcolor": "white",
            "linecolor": "white",
            "ticks": ""
           }
          },
          "scene": {
           "xaxis": {
            "backgroundcolor": "#E5ECF6",
            "gridcolor": "white",
            "gridwidth": 2,
            "linecolor": "white",
            "showbackground": true,
            "ticks": "",
            "zerolinecolor": "white"
           },
           "yaxis": {
            "backgroundcolor": "#E5ECF6",
            "gridcolor": "white",
            "gridwidth": 2,
            "linecolor": "white",
            "showbackground": true,
            "ticks": "",
            "zerolinecolor": "white"
           },
           "zaxis": {
            "backgroundcolor": "#E5ECF6",
            "gridcolor": "white",
            "gridwidth": 2,
            "linecolor": "white",
            "showbackground": true,
            "ticks": "",
            "zerolinecolor": "white"
           }
          },
          "shapedefaults": {
           "line": {
            "color": "#2a3f5f"
           }
          },
          "ternary": {
           "aaxis": {
            "gridcolor": "white",
            "linecolor": "white",
            "ticks": ""
           },
           "baxis": {
            "gridcolor": "white",
            "linecolor": "white",
            "ticks": ""
           },
           "bgcolor": "#E5ECF6",
           "caxis": {
            "gridcolor": "white",
            "linecolor": "white",
            "ticks": ""
           }
          },
          "title": {
           "x": 0.05
          },
          "xaxis": {
           "automargin": true,
           "gridcolor": "white",
           "linecolor": "white",
           "ticks": "",
           "title": {
            "standoff": 15
           },
           "zerolinecolor": "white",
           "zerolinewidth": 2
          },
          "yaxis": {
           "automargin": true,
           "gridcolor": "white",
           "linecolor": "white",
           "ticks": "",
           "title": {
            "standoff": 15
           },
           "zerolinecolor": "white",
           "zerolinewidth": 2
          }
         }
        },
        "title": {
         "text": "Distribution of Satisfaction Rate Across Groups"
        },
        "xaxis": {
         "anchor": "y",
         "domain": [
          0,
          1
         ],
         "title": {
          "text": "Satisfaction Rate"
         }
        },
        "yaxis": {
         "anchor": "x",
         "domain": [
          0,
          1
         ],
         "title": {
          "text": "count"
         }
        }
       }
      }
     },
     "metadata": {},
     "output_type": "display_data"
    }
   ],
   "source": [
    "import pandas as pd\n",
    "from tqdm import tqdm\n",
    "import plotly.express as px\n",
    "\n",
    "# Assuming `individual_ratings_df` is already defined and contains \"GroupID\", \"UserID\", \"WineID\", and \"Rating\".\n",
    "\n",
    "# Schritt 1: Definieren eines Schwellenwerts für Zufriedenheit\n",
    "satisfaction_threshold = 4.0  # Alle Bewertungen >= 4.0 werden als zufriedenstellend betrachtet\n",
    "\n",
    "# Schritt 2: Berechnung der Satisfaction Rate für jede Gruppe\n",
    "satisfaction_rate_per_group = []\n",
    "\n",
    "# Berechnung der Satisfaction Rate mit `groupby`\n",
    "for group_id, group_df in individual_ratings_df.groupby('GroupID'):\n",
    "    # Berechne die Anzahl der zufriedenen Bewertungen (Rating >= threshold)\n",
    "    satisfied_count = group_df[group_df['Rating'] >= satisfaction_threshold].shape[0]\n",
    "    \n",
    "    # Gesamtzahl der Bewertungen für diese Gruppe\n",
    "    total_count = group_df.shape[0]\n",
    "    \n",
    "    # Berechne die Satisfaction Rate, wenn Bewertungen vorhanden sind\n",
    "    satisfaction_rate = satisfied_count / total_count if total_count > 0 else None\n",
    "    \n",
    "    # Speichern der Satisfaction Rate für die aktuelle Gruppe\n",
    "    satisfaction_rate_per_group.append((group_id, satisfaction_rate))\n",
    "\n",
    "# Schritt 3: Umwandeln der Liste in einen DataFrame\n",
    "satisfaction_rate_df = pd.DataFrame(satisfaction_rate_per_group, columns=[\"GroupID\", \"SatisfactionRate\"])\n",
    "\n",
    "# Schritt 4: Histogramm erstellen, um die Verteilung der Satisfaction Rate pro Gruppe anzuzeigen\n",
    "fig = px.histogram(satisfaction_rate_df, x='SatisfactionRate',\n",
    "                   nbins=10,  # Anzahl der Bins im Histogramm (z.B. 10 für 0-1 in 0.1-Schritten)\n",
    "                   labels={'SatisfactionRate': 'Satisfaction Rate'},\n",
    "                   title='Distribution of Satisfaction Rate Across Groups')\n",
    "\n",
    "# Interaktives Histogramm anzeigen\n",
    "fig.show()\n",
    "\n"
   ]
  },
  {
   "cell_type": "code",
   "execution_count": 141,
   "metadata": {},
   "outputs": [
    {
     "data": {
      "image/png": "[encoded data removed]",
      "text/plain": [
       "<Figure size 1000x600 with 1 Axes>"
      ]
     },
     "metadata": {},
     "output_type": "display_data"
    }
   ],
   "source": [
    "import matplotlib.pyplot as plt\n",
    "\n",
    "# Stellen Sie sicher, dass `individual_ratings_df` der DataFrame mit den individuellen Bewertungen ist\n",
    "# und die Spalte \"Rating\" enthält\n",
    "\n",
    "# Größe der Grafik festlegen\n",
    "plt.figure(figsize=(10, 6))\n",
    "\n",
    "# Histogramm der Spalte `Rating` im DataFrame `individual_ratings_df` erstellen\n",
    "plt.hist(individual_ratings_df['Rating'], bins=4, color='lightcoral', edgecolor='black')\n",
    "\n",
    "# Labels und Titel hinzufügen\n",
    "plt.xlabel('Rating')\n",
    "plt.ylabel('Number of Ratings')\n",
    "plt.title('Distribution of Individual Ratings (Based on individual_ratings_df)')\n",
    "\n",
    "# Histogramm anzeigen\n",
    "plt.show()\n"
   ]
  },
  {
   "cell_type": "code",
   "execution_count": 142,
   "metadata": {},
   "outputs": [
    {
     "data": {
      "image/png": "[encoded data removed]",
      "text/plain": [
       "<Figure size 1000x600 with 1 Axes>"
      ]
     },
     "metadata": {},
     "output_type": "display_data"
    }
   ],
   "source": [
    "import pandas as pd\n",
    "import numpy as np\n",
    "import matplotlib.pyplot as plt\n",
    "\n",
    "# Beispielannahme: `individual_ratings_df` enthält die Spalten \"GroupID\", \"UserID\", \"WineID\" und \"Rating\".\n",
    "\n",
    "# Funktion zur Berechnung der Fairness basierend auf den Bewertungen einer Gruppe\n",
    "def calculate_fairness(group_ratings_df):\n",
    "    \"\"\"\n",
    "    Berechnet die Fairness basierend auf der Standardabweichung der Gruppenbewertungen.\n",
    "\n",
    "    Parameter:\n",
    "    - group_ratings_df: DataFrame mit den Spalten 'UserID', 'WineID' und 'Rating'.\n",
    "\n",
    "    Rückgabe:\n",
    "    - Fairness-Score (zwischen 0 und 1), wobei 1 perfekte Fairness bedeutet.\n",
    "    \"\"\"\n",
    "    # Überprüfen, ob keine Bewertungen vorliegen oder alle Bewertungen identisch sind\n",
    "    if group_ratings_df.empty or len(group_ratings_df['Rating'].unique()) == 1:\n",
    "        return 1.0  # Perfekte Fairness\n",
    "\n",
    "    # Berechnung der Standardabweichung der Bewertungen in der Gruppe\n",
    "    std_dev = group_ratings_df['Rating'].std()\n",
    "\n",
    "    # Fairness-Score berechnen: 1 - (std deviation) / (max rating - min rating)\n",
    "    fairness = 1 - (std_dev / (5 - 1))  # max Rating = 5, min Rating = 1\n",
    "\n",
    "    return round(fairness, 2)  # Fairness-Wert auf 2 Dezimalstellen runden\n",
    "\n",
    "# Schritt 1: Berechnung der Fairness für jede Gruppe basierend auf `individual_ratings_df`\n",
    "group_fairness_scores = []  # Speichert die Fairness-Werte für jede Gruppe\n",
    "\n",
    "# Iteration über alle Gruppen-IDs in `individual_ratings_df` mit `groupby`\n",
    "for group_id, group_df in individual_ratings_df.groupby('GroupID'):\n",
    "    # Berechnung der Fairness für die aktuelle Gruppe\n",
    "    fairness_score = calculate_fairness(group_df)\n",
    "\n",
    "    # Speichern der Gruppen-ID und des Fairness-Scores\n",
    "    group_fairness_scores.append({'GroupID': group_id, 'FairnessScore': fairness_score})\n",
    "\n",
    "# Konvertieren der Ergebnisse in einen DataFrame zur besseren Visualisierung\n",
    "fairness_df = pd.DataFrame(group_fairness_scores)\n",
    "\n",
    "# Schritt 2: Visualisierung der Fairness Scores als Histogramm\n",
    "plt.figure(figsize=(10, 6))  # Größe der Grafik festlegen\n",
    "plt.hist(fairness_df['FairnessScore'].dropna(), bins=10, color='skyblue', edgecolor='black')  # Histogramm der Fairness-Werte\n",
    "plt.xlabel('Fairness Score')  # X-Achsen-Beschriftung\n",
    "plt.ylabel('Number of Groups')  # Y-Achsen-Beschriftung\n",
    "plt.title('Distribution of Fairness Scores Across Groups')  # Titel des Diagramms\n",
    "plt.grid(axis='y', linestyle='--', alpha=0.7)  # Gitterlinie für bessere Lesbarkeit\n",
    "plt.show()\n"
   ]
  },
  {
   "cell_type": "code",
   "execution_count": 145,
   "metadata": {},
   "outputs": [
    {
     "name": "stdout",
     "output_type": "stream",
     "text": [
      "Average Fairness Score: 0.92\n",
      "Average Satisfaction Rate: 0.97\n",
      "Average Rating for all groups: 4.66\n"
     ]
    },
    {
     "data": {
      "image/png": "[encoded data removed]",
      "text/plain": [
       "<Figure size 1000x600 with 1 Axes>"
      ]
     },
     "metadata": {},
     "output_type": "display_data"
    },
    {
     "data": {
      "image/png": "[encoded data removed]",
      "text/plain": [
       "<Figure size 1000x600 with 1 Axes>"
      ]
     },
     "metadata": {},
     "output_type": "display_data"
    }
   ],
   "source": [
    "import pandas as pd\n",
    "import matplotlib.pyplot as plt\n",
    "\n",
    "# Annahme: `group_avg_ratings_df` und `individual_ratings_df` sind bereits definiert.\n",
    "\n",
    "# Schritt 1: Definiere den Zufriedenheitsschwellenwert\n",
    "satisfaction_threshold = 4.0\n",
    "\n",
    "# Schritt 2: Berechnung des Fairness Scores pro Gruppe\n",
    "# Berechnen der Standardabweichung der Bewertungen für jede Gruppe\n",
    "group_fairness_df = (\n",
    "    individual_ratings_df.groupby('GroupID')['Rating']\n",
    "    .std()  # Berechne die Standardabweichung pro Gruppe\n",
    "    .reset_index()  # Zurücksetzen des Index\n",
    "    .rename(columns={'Rating': 'StdDev'})  # Spalte umbenennen\n",
    ")\n",
    "\n",
    "# Berechnung des Fairness Scores: 1 - (Standardabweichung / (max rating - min rating))\n",
    "group_fairness_df['FairnessScore'] = 1 - (group_fairness_df['StdDev'] / (5 - 1))\n",
    "\n",
    "# Schritt 3: Berechnung der Satisfaction Rate pro Gruppe\n",
    "# Berechnen des Anteils der zufriedenstellenden Bewertungen (z.B. >= 4.0) für jede Gruppe\n",
    "group_satisfaction_df = (\n",
    "    individual_ratings_df[individual_ratings_df['Rating'] >= satisfaction_threshold]  # Filter auf Zufriedenheitsbewertungen\n",
    "    .groupby('GroupID').size()  # Anzahl zufriedener Bewertungen pro Gruppe\n",
    "    .reset_index(name='SatisfiedCount')\n",
    ")\n",
    "\n",
    "# Berechnung der Gesamtanzahl der Bewertungen pro Gruppe\n",
    "total_ratings_df = individual_ratings_df.groupby('GroupID').size().reset_index(name='TotalRatings')\n",
    "\n",
    "# Merge der beiden DataFrames: Zufriedene Bewertungen + Gesamtanzahl\n",
    "group_satisfaction_df = pd.merge(group_satisfaction_df, total_ratings_df, on='GroupID')\n",
    "\n",
    "# Berechnung der Satisfaction Rate\n",
    "group_satisfaction_df['SatisfactionRate'] = group_satisfaction_df['SatisfiedCount'] / group_satisfaction_df['TotalRatings']\n",
    "\n",
    "# Schritt 4: Berechnung der durchschnittlichen Werte\n",
    "overall_avg_rating = round(group_avg_ratings_df['AverageRating'].mean(), 2)\n",
    "overall_fairness = round(group_fairness_df['FairnessScore'].mean(), 2)\n",
    "overall_satisfaction = round(group_satisfaction_df['SatisfactionRate'].mean(), 2)\n",
    "\n",
    "# Schritt 5: Ausgabe der durchschnittlichen Werte\n",
    "print(f\"Average Fairness Score: {overall_fairness}\")\n",
    "print(f\"Average Satisfaction Rate: {overall_satisfaction}\")\n",
    "print(f\"Average Rating for all groups: {overall_avg_rating}\")\n",
    "\n",
    "# Schritt 6: Visualisierung der Fairness Scores als Histogramm\n",
    "plt.figure(figsize=(10, 6))\n",
    "plt.hist(group_fairness_df['FairnessScore'].dropna(), bins=10, color='lightblue', edgecolor='black')\n",
    "plt.xlabel('Fairness Score')\n",
    "plt.ylabel('Number of Groups')\n",
    "plt.title('Distribution of Fairness Scores Across Groups')\n",
    "plt.grid(axis='y', linestyle='--', alpha=0.7)\n",
    "plt.show()\n",
    "\n",
    "# Schritt 7: Visualisierung der Satisfaction Rates als Histogramm\n",
    "plt.figure(figsize=(10, 6))\n",
    "plt.hist(group_satisfaction_df['SatisfactionRate'].dropna(), bins=10, color='lightgreen', edgecolor='black')\n",
    "plt.xlabel('Satisfaction Rate')\n",
    "plt.ylabel('Number of Groups')\n",
    "plt.title('Distribution of Satisfaction Rates Across Groups')\n",
    "plt.grid(axis='y', linestyle='--', alpha=0.7)\n",
    "plt.show()\n"
   ]
  }
 ],
 "metadata": {
  "kernelspec": {
   "display_name": "Python 3",
   "language": "python",
   "name": "python3"
  },
  "language_info": {
   "codemirror_mode": {
    "name": "ipython",
    "version": 3
   },
   "file_extension": ".py",
   "mimetype": "text/x-python",
   "name": "python",
   "nbconvert_exporter": "python",
   "pygments_lexer": "ipython3",
   "version": "3.11.9"
  }
 },
 "nbformat": 4,
 "nbformat_minor": 2
}
