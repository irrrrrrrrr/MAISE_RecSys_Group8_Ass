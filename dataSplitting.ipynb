{
 "cells": [
  {
   "cell_type": "markdown",
   "metadata": {},
   "source": [
    "Just... only keep users/items with sufficient number of transations\n",
    "\n",
    "https://github.com/rogerioxavier/X-Wines/blob/main/Tests/XWines_recommender01.ipynb "
   ]
  },
  {
   "cell_type": "markdown",
   "metadata": {},
   "source": [
    "Exploring Data Splitting Strategies for the Evaluation of Recommendation Models \n",
    "\n",
    "https://arxiv.org/pdf/2007.13237 \n",
    "\n",
    "-> Temporal global 80/20 (stratification by user)\n",
    "\n",
    "\\+ looks simple \n",
    "\n",
    "\\+ no leaking\n",
    "\n",
    "\\- a lot of data discarded (only keep users/items with sufficient number of transations and occurring in both sets)\n",
    "\n",
    "-> User split where users are in train or test\n",
    "\n",
    "\\+ for cold start\n",
    "\\- but can we do cold start ?\n",
    "\n",
    "-> Leave one out\n",
    "\n"
   ]
  },
  {
   "cell_type": "markdown",
   "metadata": {},
   "source": [
    "# Imports"
   ]
  },
  {
   "cell_type": "code",
   "execution_count": 1,
   "metadata": {},
   "outputs": [],
   "source": [
    "import pandas as pd"
   ]
  },
  {
   "cell_type": "markdown",
   "metadata": {},
   "source": [
    "# Load dataset"
   ]
  },
  {
   "cell_type": "code",
   "execution_count": 2,
   "metadata": {},
   "outputs": [
    {
     "name": "stderr",
     "output_type": "stream",
     "text": [
      "C:\\Users\\andre\\AppData\\Local\\Temp\\ipykernel_3092\\3401543216.py:2: DtypeWarning: Columns (3) have mixed types. Specify dtype option on import or set low_memory=False.\n",
      "  ratings_df = pd.read_csv(\"Dataset/last/XWines_Slim_150K_ratings.csv\")\n"
     ]
    },
    {
     "data": {
      "text/html": [
       "<div>\n",
       "<style scoped>\n",
       "    .dataframe tbody tr th:only-of-type {\n",
       "        vertical-align: middle;\n",
       "    }\n",
       "\n",
       "    .dataframe tbody tr th {\n",
       "        vertical-align: top;\n",
       "    }\n",
       "\n",
       "    .dataframe thead th {\n",
       "        text-align: right;\n",
       "    }\n",
       "</style>\n",
       "<table border=\"1\" class=\"dataframe\">\n",
       "  <thead>\n",
       "    <tr style=\"text-align: right;\">\n",
       "      <th></th>\n",
       "      <th>RatingID</th>\n",
       "      <th>UserID</th>\n",
       "      <th>WineID</th>\n",
       "      <th>Vintage</th>\n",
       "      <th>Rating</th>\n",
       "      <th>Date</th>\n",
       "    </tr>\n",
       "  </thead>\n",
       "  <tbody>\n",
       "    <tr>\n",
       "      <th>0</th>\n",
       "      <td>143</td>\n",
       "      <td>1356810</td>\n",
       "      <td>103471</td>\n",
       "      <td>1950</td>\n",
       "      <td>4.5</td>\n",
       "      <td>2021-11-02 20:52:59</td>\n",
       "    </tr>\n",
       "    <tr>\n",
       "      <th>1</th>\n",
       "      <td>199</td>\n",
       "      <td>1173759</td>\n",
       "      <td>111415</td>\n",
       "      <td>1951</td>\n",
       "      <td>5.0</td>\n",
       "      <td>2015-08-20 17:46:26</td>\n",
       "    </tr>\n",
       "    <tr>\n",
       "      <th>2</th>\n",
       "      <td>348</td>\n",
       "      <td>1164877</td>\n",
       "      <td>111395</td>\n",
       "      <td>1952</td>\n",
       "      <td>5.0</td>\n",
       "      <td>2020-11-13 05:40:26</td>\n",
       "    </tr>\n",
       "    <tr>\n",
       "      <th>3</th>\n",
       "      <td>374</td>\n",
       "      <td>1207665</td>\n",
       "      <td>111433</td>\n",
       "      <td>1953</td>\n",
       "      <td>5.0</td>\n",
       "      <td>2017-05-05 06:44:13</td>\n",
       "    </tr>\n",
       "    <tr>\n",
       "      <th>4</th>\n",
       "      <td>834</td>\n",
       "      <td>1075841</td>\n",
       "      <td>111431</td>\n",
       "      <td>1955</td>\n",
       "      <td>5.0</td>\n",
       "      <td>2016-09-14 20:18:38</td>\n",
       "    </tr>\n",
       "    <tr>\n",
       "      <th>5</th>\n",
       "      <td>876</td>\n",
       "      <td>1211463</td>\n",
       "      <td>111395</td>\n",
       "      <td>1955</td>\n",
       "      <td>5.0</td>\n",
       "      <td>2021-12-02 23:12:49</td>\n",
       "    </tr>\n",
       "    <tr>\n",
       "      <th>6</th>\n",
       "      <td>1005</td>\n",
       "      <td>1076348</td>\n",
       "      <td>111433</td>\n",
       "      <td>1955</td>\n",
       "      <td>4.5</td>\n",
       "      <td>2021-06-19 19:53:56</td>\n",
       "    </tr>\n",
       "    <tr>\n",
       "      <th>7</th>\n",
       "      <td>1020</td>\n",
       "      <td>1147051</td>\n",
       "      <td>111429</td>\n",
       "      <td>1955</td>\n",
       "      <td>5.0</td>\n",
       "      <td>2018-07-08 20:09:46</td>\n",
       "    </tr>\n",
       "    <tr>\n",
       "      <th>8</th>\n",
       "      <td>1029</td>\n",
       "      <td>1225931</td>\n",
       "      <td>111431</td>\n",
       "      <td>1955</td>\n",
       "      <td>5.0</td>\n",
       "      <td>2017-04-24 01:41:52</td>\n",
       "    </tr>\n",
       "    <tr>\n",
       "      <th>9</th>\n",
       "      <td>1399</td>\n",
       "      <td>1197513</td>\n",
       "      <td>111415</td>\n",
       "      <td>1958</td>\n",
       "      <td>5.0</td>\n",
       "      <td>2014-07-04 01:07:16</td>\n",
       "    </tr>\n",
       "  </tbody>\n",
       "</table>\n",
       "</div>"
      ],
      "text/plain": [
       "   RatingID   UserID  WineID Vintage  Rating                Date\n",
       "0       143  1356810  103471    1950     4.5 2021-11-02 20:52:59\n",
       "1       199  1173759  111415    1951     5.0 2015-08-20 17:46:26\n",
       "2       348  1164877  111395    1952     5.0 2020-11-13 05:40:26\n",
       "3       374  1207665  111433    1953     5.0 2017-05-05 06:44:13\n",
       "4       834  1075841  111431    1955     5.0 2016-09-14 20:18:38\n",
       "5       876  1211463  111395    1955     5.0 2021-12-02 23:12:49\n",
       "6      1005  1076348  111433    1955     4.5 2021-06-19 19:53:56\n",
       "7      1020  1147051  111429    1955     5.0 2018-07-08 20:09:46\n",
       "8      1029  1225931  111431    1955     5.0 2017-04-24 01:41:52\n",
       "9      1399  1197513  111415    1958     5.0 2014-07-04 01:07:16"
      ]
     },
     "metadata": {},
     "output_type": "display_data"
    }
   ],
   "source": [
    "# load dataset into dataframe\n",
    "ratings_df = pd.read_csv(\"Dataset/last/XWines_Slim_150K_ratings.csv\") \n",
    "# ensure the Date column is in datetime format\n",
    "ratings_df['Date'] = pd.to_datetime(ratings_df['Date'])\n",
    "display(ratings_df.head(10))\n"
   ]
  },
  {
   "cell_type": "markdown",
   "metadata": {},
   "source": [
    "# Temporal global split"
   ]
  },
  {
   "cell_type": "code",
   "execution_count": 3,
   "metadata": {},
   "outputs": [],
   "source": [
    "# create folders for data splits\n",
    "\n",
    "from pathlib import Path\n",
    "\n",
    "folder_path = Path(\"Dataset/ratings_splits/temporal_global/filtered\")\n",
    "folder_path.mkdir(parents=True, exist_ok=True)\n",
    "\n",
    "folder_path = Path(\"Dataset/ratings_splits/temporal_global/unfiltered\")\n",
    "folder_path.mkdir(parents=True, exist_ok=True)"
   ]
  },
  {
   "cell_type": "markdown",
   "metadata": {},
   "source": [
    "## Split based on cut-off date"
   ]
  },
  {
   "cell_type": "code",
   "execution_count": 4,
   "metadata": {},
   "outputs": [
    {
     "name": "stdout",
     "output_type": "stream",
     "text": [
      "Cutoff date at 80.0% quantile: 2020-08-25 02:03:53.800000\n",
      "Train set size: (120000, 6)\n",
      "Test set size: (30000, 6)\n",
      "Total number of entries: 150000\n",
      "Train-test ratio: 0.8 / 0.2\n"
     ]
    }
   ],
   "source": [
    "# take the 80th percentile of the Date column as the cutoff date\n",
    "quantile = 0.80  \n",
    "cutoff_date = ratings_df['Date'].quantile(quantile)\n",
    "\n",
    "print(f\"Cutoff date at {quantile*100}% quantile: {cutoff_date}\")\n",
    "\n",
    "# create the train and test sets based on the cutoff date\n",
    "train = ratings_df[ratings_df['Date'] < cutoff_date]\n",
    "test = ratings_df[ratings_df['Date'] >= cutoff_date]\n",
    "\n",
    "# display the sizes of the train and test sets\n",
    "print(\"Train set size:\", train.shape)\n",
    "print(\"Test set size:\", test.shape)\n",
    "print(\"Total number of entries:\", train.shape[0]+test.shape[0])\n",
    "print(\"Train-test ratio:\", train.shape[0] / (train.shape[0]+test.shape[0]), \"/\", test.shape[0] / (train.shape[0]+test.shape[0]))"
   ]
  },
  {
   "cell_type": "code",
   "execution_count": 5,
   "metadata": {},
   "outputs": [],
   "source": [
    "# save the unfiltered train and test datasets\n",
    "train.to_csv('Dataset/ratings_splits/temporal_global/unfiltered/train.csv', index=False)\n",
    "test.to_csv('Dataset/ratings_splits/temporal_global/unfiltered/test.csv', index=False)"
   ]
  },
  {
   "cell_type": "markdown",
   "metadata": {},
   "source": [
    "## Filtered split (including only user appearing in both Train and Test)"
   ]
  },
  {
   "cell_type": "code",
   "execution_count": 6,
   "metadata": {},
   "outputs": [
    {
     "name": "stdout",
     "output_type": "stream",
     "text": [
      "Filtered Train set size: (82693, 6)\n",
      "Filtered Test set size: (28218, 6)\n",
      "Total number of entries: 110911\n",
      "Train-test ratio: 0.7455797892003498 / 0.25442021079965016\n"
     ]
    }
   ],
   "source": [
    "# find users who are present in both train and test sets\n",
    "train_users = set(train['UserID'].unique())\n",
    "test_users = set(test['UserID'].unique())\n",
    "common_users = train_users.intersection(test_users)\n",
    "\n",
    "# filter the train and test sets to only include the common users\n",
    "train_filtered = train[train['UserID'].isin(common_users)]\n",
    "test_filtered = test[test['UserID'].isin(common_users)]\n",
    "\n",
    "# display the sizes of the train and test sets\n",
    "print(\"Filtered Train set size:\", train_filtered.shape)\n",
    "print(\"Filtered Test set size:\", test_filtered.shape)\n",
    "print(\"Total number of entries:\", train_filtered.shape[0]+test_filtered.shape[0])\n",
    "print(\"Train-test ratio:\", train_filtered.shape[0] / (train_filtered.shape[0]+test_filtered.shape[0]), \"/\", test_filtered.shape[0] / (train_filtered.shape[0]+test_filtered.shape[0]))"
   ]
  },
  {
   "cell_type": "code",
   "execution_count": 7,
   "metadata": {},
   "outputs": [],
   "source": [
    "# save the filtered train and test datasets\n",
    "train_filtered.to_csv('Dataset/ratings_splits/temporal_global/filtered/train.csv', index=False)\n",
    "test_filtered.to_csv('Dataset/ratings_splits/temporal_global/filtered/test.csv', index=False)"
   ]
  },
  {
   "cell_type": "code",
   "execution_count": 57,
   "metadata": {},
   "outputs": [],
   "source": []
  }
 ],
 "metadata": {
  "kernelspec": {
   "display_name": "Python 3",
   "language": "python",
   "name": "python3"
  },
  "language_info": {
   "codemirror_mode": {
    "name": "ipython",
    "version": 3
   },
   "file_extension": ".py",
   "mimetype": "text/x-python",
   "name": "python",
   "nbconvert_exporter": "python",
   "pygments_lexer": "ipython3",
   "version": "3.11.3"
  }
 },
 "nbformat": 4,
 "nbformat_minor": 2
}
