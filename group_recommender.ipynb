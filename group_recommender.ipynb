{
 "cells": [
  {
   "cell_type": "code",
   "id": "initial_id",
   "metadata": {
    "collapsed": true,
    "ExecuteTime": {
     "end_time": "2024-10-06T17:48:13.683301Z",
     "start_time": "2024-10-06T17:48:13.101288Z"
    }
   },
   "source": [
    "import pandas as pd\n",
    "\n",
    "ratings_data = pd.read_csv('Dataset/last/XWines_Slim_150K_ratings.csv')\n",
    "wine_data = pd.read_csv('Dataset/last/XWines_Slim_1K_wines.csv')\n",
    "group_data = pd.read_csv('Dataset/last/group_composition.csv')  \n",
    "\n",
    "# merge the two datasets on 'WineID'\n",
    "merged_data = pd.merge(ratings_data, wine_data, on='WineID')\n",
    "\n",
    "# function to find the best-rated wine or suggest a completely different one if rating < 4\n",
    "def recommend_wine_for_user(user_id, merged_data):\n",
    "    user_wines = merged_data[merged_data['UserID'] == user_id]\n",
    "\n",
    "    if user_wines.empty:\n",
    "        return f\"No wines found for user {user_id}.\", None\n",
    "\n",
    "    best_rated_wine = user_wines.loc[user_wines['Rating'].idxmax()]\n",
    "\n",
    "    # if the best rating is 4 or higher, return that wine\n",
    "    if best_rated_wine['Rating'] >= 4:\n",
    "        return best_rated_wine['WineID'], best_rated_wine['Rating']\n",
    "\n",
    "    # if no wine has a rating of 4 or higher, find a completely different wine\n",
    "    else:\n",
    "        \n",
    "        characteristics = ['Type', 'Body']\n",
    "\n",
    "        # filter out wines that are similar to the one the user rated poorly\n",
    "        different_wines = merged_data\n",
    "        for char in characteristics:\n",
    "            different_wines = different_wines[different_wines[char] != best_rated_wine[char]]\n",
    "\n",
    "        # if there are still wines left, choose one randomly or based on rating\n",
    "        if not different_wines.empty:\n",
    "            recommended_wine = different_wines.sample().iloc[0]  # Sample one random different wine\n",
    "            return recommended_wine['WineID'], None\n",
    "\n",
    "        return f\"No sufficiently different wines found for user {user_id}.\", None\n",
    "\n",
    "# function to recommend wine for a group \n",
    "def recommend_wine_for_group(group_id, group_data, merged_data):\n",
    "    group_info = group_data[group_data['group_id'] == group_id].iloc[0]\n",
    "    group_members = eval(group_info['group_members'])  \n",
    "    recommendations = []\n",
    "\n",
    "    # loop through each member of the group and get their favorite wine\n",
    "    for user_id in group_members:\n",
    "        wine_id, rating = recommend_wine_for_user(user_id, merged_data)\n",
    "        recommendations.append({\n",
    "            'group_id': group_id,\n",
    "            'user_id': user_id,\n",
    "            'wine_id': wine_id,\n",
    "            'rating': rating if rating is not None else 'Suggested different wine'\n",
    "        })\n",
    "\n",
    "    recommendation_df = pd.DataFrame(recommendations)\n",
    "    return recommendation_df\n",
    "\n",
    "\n",
    "group_id = int(group_data.loc[:,\"group_id\"].sample().iloc[0]) \n",
    "result_df = recommend_wine_for_group(group_id, group_data, merged_data)\n",
    "print(result_df)\n"
   ],
   "outputs": [
    {
     "name": "stderr",
     "output_type": "stream",
     "text": [
      "/var/folders/qx/s0s669bd3mx83v921rrrxcjw0000gn/T/ipykernel_61301/3810639437.py:3: DtypeWarning: Columns (3) have mixed types. Specify dtype option on import or set low_memory=False.\n",
      "  ratings_data = pd.read_csv('Dataset/last/XWines_Slim_150K_ratings.csv')\n"
     ]
    },
    {
     "name": "stdout",
     "output_type": "stream",
     "text": [
      "   group_id  user_id  wine_id  rating\n",
      "0       170  1042330   179080     5.0\n",
      "1       170  1809422   162497     4.5\n",
      "2       170  1176344   111395     5.0\n",
      "3       170  1253808   167418     4.0\n",
      "4       170  1151770   111415     5.0\n",
      "5       170  1393882   162514     4.0\n",
      "6       170  1335852   111395     4.5\n",
      "7       170  1023294   112875     5.0\n"
     ]
    }
   ],
   "execution_count": 55
  },
  {
   "cell_type": "code",
   "id": "14ad6018c6460b3",
   "metadata": {
    "ExecuteTime": {
     "end_time": "2024-10-06T17:48:28.565741Z",
     "start_time": "2024-10-06T17:48:13.693116Z"
    }
   },
   "source": [
    "# create average rating for each wine\n",
    "\n",
    "ratings = {}\n",
    "for index, row in ratings_data.iterrows():\n",
    "    if row['WineID'] not in ratings:\n",
    "        ratings[row['WineID']] = {\"total\": row['Rating'], \"count\": 1}\n",
    "    else:\n",
    "        ratings[row['WineID']][\"total\"] += row['Rating']\n",
    "        ratings[row['WineID']][\"count\"] += 1\n",
    "\n",
    "# add the averages to the df\n",
    "wine_data[\"AvgRating\"] = 0.0\n",
    "\n",
    "for index, row in wine_data.iterrows():\n",
    "    wine_data.loc[index, \"AvgRating\"] = ratings[row[\"WineID\"]][\"total\"]/ratings[row[\"WineID\"]][\"count\"]"
   ],
   "outputs": [],
   "execution_count": 56
  },
  {
   "cell_type": "code",
   "id": "eafd67c2e1e1de31",
   "metadata": {
    "ExecuteTime": {
     "end_time": "2024-10-06T17:48:43.416089Z",
     "start_time": "2024-10-06T17:48:28.568543Z"
    }
   },
   "source": [
    "\n",
    "from sklearn.neighbors import NearestNeighbors\n",
    "from sklearn.preprocessing import OneHotEncoder\n",
    "\n",
    "# Function to find similar wines using KNN for a given wine\n",
    "def find_knn_for_wine(wine_id, merged_data, user_id, k=10):\n",
    "    # Extract relevant features \n",
    "    features = ['Type', 'Body'] \n",
    "    wine_features = merged_data[features]\n",
    "    encoder = OneHotEncoder(sparse_output=False)\n",
    "    encoded_wine_features = encoder.fit_transform(wine_features)\n",
    "\n",
    "    # fit KNN model\n",
    "    knn_model = NearestNeighbors(n_neighbors=k, metric='euclidean', radius=20)\n",
    "    knn_model.fit(encoded_wine_features)\n",
    "\n",
    "    # get the features of the wine with the specified wine_id\n",
    "    target_wine = merged_data[merged_data['WineID'] == wine_id]\n",
    "\n",
    "    if target_wine.empty:\n",
    "        return f\"No wine found with WineID {wine_id}.\"\n",
    "    target_wine_features = target_wine[features]\n",
    "    encoded_target_wine_features = encoder.transform(target_wine_features)\n",
    "\n",
    "    # find K nearest wines to the target wine\n",
    "    distances, indices = knn_model.kneighbors(encoded_target_wine_features)\n",
    "\n",
    "    # get the recommended similar wines \n",
    "    recommended_wines = merged_data.iloc[indices[0]]\n",
    "    recommended_wines = recommended_wines[recommended_wines['WineID'] != wine_id]\n",
    "    recommended_list = recommended_wines[['WineID', 'Type', 'Body', 'Rating']].to_dict(orient='records')\n",
    "    \n",
    "    # get the wine that it eas recommended on\n",
    "    original_wine = wine_data.where(wine_data['WineID'] == wine_id).dropna()\n",
    "    original_wine_ratings = ratings_data.where((ratings_data['WineID'] == wine_id) & (ratings_data['UserID'] == user_id)).dropna().iloc[:]['Rating']\n",
    "    if len(original_wine_ratings) == 0:\n",
    "        original_wine_rating = None\n",
    "    else:\n",
    "        original_wine_rating = original_wine_ratings.iloc[0]\n",
    "    if len(original_wine.iloc[:][\"Type\"]) == 0:\n",
    "        rec_wine_type = None\n",
    "    else:\n",
    "        rec_wine_type = original_wine.iloc[0][\"Type\"]\n",
    "    if len(original_wine.iloc[:][\"Body\"]) == 0:\n",
    "        rec_wine_body = None\n",
    "    else:\n",
    "        rec_wine_body = original_wine.iloc[0][\"Body\"]\n",
    "    recommended_list.append({\"WineID\": wine_id, \"Type\": rec_wine_type, \"Body\": rec_wine_body, \"Rating\": original_wine_rating})\n",
    "\n",
    "    return recommended_list\n",
    "\n",
    "# function to find KNN recommendations for all wines in the group recommendation\n",
    "def recommend_similar_wines_for_group(result_df, merged_data, k=10):\n",
    "    knn_recommendations = []\n",
    "\n",
    "    for index, row in result_df.iterrows():\n",
    "        wine_id = row['wine_id']\n",
    "        user_id = row['user_id']\n",
    "        knn_result = find_knn_for_wine(wine_id, merged_data, user_id, k)\n",
    "\n",
    "        knn_recommendations.append({\n",
    "            'user_id': int(user_id),\n",
    "            'wine_id': int(wine_id),\n",
    "            'knn_recommendations': knn_result\n",
    "        })\n",
    "    \n",
    "\n",
    "    knn_recommendation_df = pd.DataFrame(knn_recommendations)\n",
    "    return knn_recommendation_df\n",
    "\n",
    "result_df = recommend_wine_for_group(group_id=group_id, group_data=group_data, merged_data=merged_data)\n",
    "knn_recommendation_df = recommend_similar_wines_for_group(result_df, merged_data, k=10)\n",
    "knn_recommendation_df\n"
   ],
   "outputs": [
    {
     "data": {
      "text/plain": [
       "   user_id  wine_id                                knn_recommendations\n",
       "0  1042330   179080  [{'WineID': 135885, 'Type': 'Red', 'Body': 'Ve...\n",
       "1  1809422   162497  [{'WineID': 111431, 'Type': 'Red', 'Body': 'Fu...\n",
       "2  1176344   111395  [{'WineID': 111431, 'Type': 'Red', 'Body': 'Fu...\n",
       "3  1253808   167418  [{'WineID': 135885, 'Type': 'Red', 'Body': 'Ve...\n",
       "4  1151770   111415  [{'WineID': 111431, 'Type': 'Red', 'Body': 'Fu...\n",
       "5  1393882   162514  [{'WineID': 111431, 'Type': 'Red', 'Body': 'Fu...\n",
       "6  1335852   111395  [{'WineID': 111431, 'Type': 'Red', 'Body': 'Fu...\n",
       "7  1023294   112875  [{'WineID': 113240, 'Type': 'Red', 'Body': 'Me..."
      ],
      "text/html": [
       "<div>\n",
       "<style scoped>\n",
       "    .dataframe tbody tr th:only-of-type {\n",
       "        vertical-align: middle;\n",
       "    }\n",
       "\n",
       "    .dataframe tbody tr th {\n",
       "        vertical-align: top;\n",
       "    }\n",
       "\n",
       "    .dataframe thead th {\n",
       "        text-align: right;\n",
       "    }\n",
       "</style>\n",
       "<table border=\"1\" class=\"dataframe\">\n",
       "  <thead>\n",
       "    <tr style=\"text-align: right;\">\n",
       "      <th></th>\n",
       "      <th>user_id</th>\n",
       "      <th>wine_id</th>\n",
       "      <th>knn_recommendations</th>\n",
       "    </tr>\n",
       "  </thead>\n",
       "  <tbody>\n",
       "    <tr>\n",
       "      <th>0</th>\n",
       "      <td>1042330</td>\n",
       "      <td>179080</td>\n",
       "      <td>[{'WineID': 135885, 'Type': 'Red', 'Body': 'Ve...</td>\n",
       "    </tr>\n",
       "    <tr>\n",
       "      <th>1</th>\n",
       "      <td>1809422</td>\n",
       "      <td>162497</td>\n",
       "      <td>[{'WineID': 111431, 'Type': 'Red', 'Body': 'Fu...</td>\n",
       "    </tr>\n",
       "    <tr>\n",
       "      <th>2</th>\n",
       "      <td>1176344</td>\n",
       "      <td>111395</td>\n",
       "      <td>[{'WineID': 111431, 'Type': 'Red', 'Body': 'Fu...</td>\n",
       "    </tr>\n",
       "    <tr>\n",
       "      <th>3</th>\n",
       "      <td>1253808</td>\n",
       "      <td>167418</td>\n",
       "      <td>[{'WineID': 135885, 'Type': 'Red', 'Body': 'Ve...</td>\n",
       "    </tr>\n",
       "    <tr>\n",
       "      <th>4</th>\n",
       "      <td>1151770</td>\n",
       "      <td>111415</td>\n",
       "      <td>[{'WineID': 111431, 'Type': 'Red', 'Body': 'Fu...</td>\n",
       "    </tr>\n",
       "    <tr>\n",
       "      <th>5</th>\n",
       "      <td>1393882</td>\n",
       "      <td>162514</td>\n",
       "      <td>[{'WineID': 111431, 'Type': 'Red', 'Body': 'Fu...</td>\n",
       "    </tr>\n",
       "    <tr>\n",
       "      <th>6</th>\n",
       "      <td>1335852</td>\n",
       "      <td>111395</td>\n",
       "      <td>[{'WineID': 111431, 'Type': 'Red', 'Body': 'Fu...</td>\n",
       "    </tr>\n",
       "    <tr>\n",
       "      <th>7</th>\n",
       "      <td>1023294</td>\n",
       "      <td>112875</td>\n",
       "      <td>[{'WineID': 113240, 'Type': 'Red', 'Body': 'Me...</td>\n",
       "    </tr>\n",
       "  </tbody>\n",
       "</table>\n",
       "</div>"
      ]
     },
     "execution_count": 57,
     "metadata": {},
     "output_type": "execute_result"
    }
   ],
   "execution_count": 57
  },
  {
   "cell_type": "code",
   "id": "5f09e5caf23a0f2",
   "metadata": {
    "ExecuteTime": {
     "end_time": "2024-10-06T17:48:43.425643Z",
     "start_time": "2024-10-06T17:48:43.420903Z"
    }
   },
   "source": [
    "# each property gets a score from each user, based on the ordering. Then sum the scores of each characteristic and choose the wine that have those characteristics. If multiple wines, then choose based on the rating (todo)"
   ],
   "outputs": [],
   "execution_count": 58
  },
  {
   "cell_type": "code",
   "id": "627a5178a16e904c",
   "metadata": {
    "ExecuteTime": {
     "end_time": "2024-10-06T17:48:43.441900Z",
     "start_time": "2024-10-06T17:48:43.428130Z"
    }
   },
   "source": [
    "def score_characteristics(recommendations):\n",
    "    scores = {\"Type\": {}, \"Body\": {}}\n",
    "    score = len(recommendations)\n",
    "    c = 0\n",
    "    for wine in recommendations:\n",
    "        for key, value in wine.items():\n",
    "            if key in [\"WineID\", \"Rating\"]:\n",
    "                continue\n",
    "            if key == \"Type\":\n",
    "                if value not in scores[\"Type\"]:\n",
    "                    scores[\"Type\"][value] = 1\n",
    "                else:\n",
    "                    scores[\"Type\"][value] += 1\n",
    "            elif key == \"Body\":\n",
    "                if value not in scores[\"Body\"]:\n",
    "                    scores[\"Body\"][value] = 1\n",
    "                else:\n",
    "                    scores[\"Body\"][value] += 1\n",
    "        c+=1\n",
    "    \n",
    "    return scores\n",
    "\n",
    "category_weights_by_user = []\n",
    "for index, row in knn_recommendation_df.iterrows():\n",
    "    x = score_characteristics(row.knn_recommendations)\n",
    "    category_weights_by_user.append(x)\n",
    "    print(x)"
   ],
   "outputs": [
    {
     "name": "stdout",
     "output_type": "stream",
     "text": [
      "{'Type': {'Red': 10}, 'Body': {'Very full-bodied': 10}}\n",
      "{'Type': {'Red': 11}, 'Body': {'Full-bodied': 11}}\n",
      "{'Type': {'Red': 9}, 'Body': {'Full-bodied': 9}}\n",
      "{'Type': {'Red': 11}, 'Body': {'Very full-bodied': 11}}\n",
      "{'Type': {'Red': 9}, 'Body': {'Full-bodied': 9}}\n",
      "{'Type': {'Red': 11}, 'Body': {'Full-bodied': 11}}\n",
      "{'Type': {'Red': 9}, 'Body': {'Full-bodied': 9}}\n",
      "{'Type': {'Red': 11}, 'Body': {'Medium-bodied': 11}}\n"
     ]
    }
   ],
   "execution_count": 59
  },
  {
   "cell_type": "code",
   "id": "3c73caf9c84e91ec",
   "metadata": {
    "ExecuteTime": {
     "end_time": "2024-10-06T17:48:43.456083Z",
     "start_time": "2024-10-06T17:48:43.444228Z"
    }
   },
   "source": [
    "category_weights = {\"Type\": {}, \"Body\": {}}\n",
    "for i in category_weights_by_user:\n",
    "    for key, value in i[\"Type\"].items():\n",
    "        if key not in category_weights[\"Type\"]:\n",
    "            category_weights[\"Type\"][key] = value\n",
    "        else:\n",
    "            category_weights[\"Type\"][key] += value\n",
    "        \n",
    "    for key, value in i[\"Body\"].items():\n",
    "        if key not in category_weights[\"Body\"]:\n",
    "            category_weights[\"Body\"][key] = value\n",
    "        else:\n",
    "            category_weights[\"Body\"][key] += value\n",
    "\n",
    "category_weights"
   ],
   "outputs": [
    {
     "data": {
      "text/plain": [
       "{'Type': {'Red': 81},\n",
       " 'Body': {'Very full-bodied': 21, 'Full-bodied': 49, 'Medium-bodied': 11}}"
      ]
     },
     "execution_count": 60,
     "metadata": {},
     "output_type": "execute_result"
    }
   ],
   "execution_count": 60
  },
  {
   "cell_type": "code",
   "id": "ccfa9614389af481",
   "metadata": {
    "ExecuteTime": {
     "end_time": "2024-10-06T17:48:43.466670Z",
     "start_time": "2024-10-06T17:48:43.457948Z"
    }
   },
   "source": [
    "# order according to the scores\n",
    "category_weights_sorted = {\"Type\": {}, \"Body\": {}}\n",
    "for key, value in category_weights.items():\n",
    "    category_weights_sorted[key] = dict(sorted(category_weights[key].items(), key=lambda item: item[1], reverse=True))\n",
    "\n",
    "category_weights_sorted"
   ],
   "outputs": [
    {
     "data": {
      "text/plain": [
       "{'Type': {'Red': 81},\n",
       " 'Body': {'Full-bodied': 49, 'Very full-bodied': 21, 'Medium-bodied': 11}}"
      ]
     },
     "execution_count": 61,
     "metadata": {},
     "output_type": "execute_result"
    }
   ],
   "execution_count": 61
  },
  {
   "cell_type": "code",
   "id": "735c6793e7ba9f63",
   "metadata": {
    "ExecuteTime": {
     "end_time": "2024-10-06T17:48:43.507387Z",
     "start_time": "2024-10-06T17:48:43.469383Z"
    }
   },
   "source": [
    "# select wine with top categories of each type\n",
    "def get_wine_with_top_categories(category_weights_sorted=category_weights_sorted, top_type_index=1, top_body_index=1):\n",
    "    top_type = list(category_weights_sorted[\"Type\"].keys())[top_type_index-1]\n",
    "    top_body = list(category_weights_sorted[\"Body\"].keys())[top_body_index-1]\n",
    "    \n",
    "    # find a wine with these categories\n",
    "    selection = wine_data.where((wine_data['Type'] == top_type) & (wine_data['Body'] == top_body)).dropna()\n",
    "    \n",
    "    if selection.shape[0] == 0:\n",
    "        if top_type_index == top_body_index:\n",
    "            selection = get_wine_with_top_categories(category_weights_sorted=category_weights_sorted, top_type_index=top_type_index+1, top_body_index=top_body_index)\n",
    "        else:\n",
    "            selection = get_wine_with_top_categories(category_weights_sorted=category_weights_sorted,top_type_index=top_type_index, top_body_index=top_body_index+1)\n",
    "    \n",
    "    selection.sort_values(by='AvgRating', ascending=False, inplace=True)\n",
    "\n",
    "    return selection.head(1)\n",
    "\n",
    "get_wine_with_top_categories()"
   ],
   "outputs": [
    {
     "data": {
      "text/plain": [
       "       WineID       WineName Type         Elaborate  \\\n",
       "809  180330.0  IX Estate Red  Red  Assemblage/Blend   \n",
       "\n",
       "                                                Grapes  \\\n",
       "809  ['Cabernet Sauvignon', 'Cabernet Franc', 'Merl...   \n",
       "\n",
       "                                    Harmonize   ABV         Body Acidity Code  \\\n",
       "809  ['Beef', 'Lamb', 'Game Meat', 'Poultry']  15.1  Full-bodied  Medium   US   \n",
       "\n",
       "           Country  RegionID   RegionName  WineryID WineryName  \\\n",
       "809  United States    1848.0  Napa Valley   57081.0     Colgin   \n",
       "\n",
       "                          Website  \\\n",
       "809  http://www.colgincellars.com   \n",
       "\n",
       "                                              Vintages  AvgRating  \n",
       "809  [2021, 2020, 2019, 2018, 2017, 2016, 2015, 201...   4.728261  "
      ],
      "text/html": [
       "<div>\n",
       "<style scoped>\n",
       "    .dataframe tbody tr th:only-of-type {\n",
       "        vertical-align: middle;\n",
       "    }\n",
       "\n",
       "    .dataframe tbody tr th {\n",
       "        vertical-align: top;\n",
       "    }\n",
       "\n",
       "    .dataframe thead th {\n",
       "        text-align: right;\n",
       "    }\n",
       "</style>\n",
       "<table border=\"1\" class=\"dataframe\">\n",
       "  <thead>\n",
       "    <tr style=\"text-align: right;\">\n",
       "      <th></th>\n",
       "      <th>WineID</th>\n",
       "      <th>WineName</th>\n",
       "      <th>Type</th>\n",
       "      <th>Elaborate</th>\n",
       "      <th>Grapes</th>\n",
       "      <th>Harmonize</th>\n",
       "      <th>ABV</th>\n",
       "      <th>Body</th>\n",
       "      <th>Acidity</th>\n",
       "      <th>Code</th>\n",
       "      <th>Country</th>\n",
       "      <th>RegionID</th>\n",
       "      <th>RegionName</th>\n",
       "      <th>WineryID</th>\n",
       "      <th>WineryName</th>\n",
       "      <th>Website</th>\n",
       "      <th>Vintages</th>\n",
       "      <th>AvgRating</th>\n",
       "    </tr>\n",
       "  </thead>\n",
       "  <tbody>\n",
       "    <tr>\n",
       "      <th>809</th>\n",
       "      <td>180330.0</td>\n",
       "      <td>IX Estate Red</td>\n",
       "      <td>Red</td>\n",
       "      <td>Assemblage/Blend</td>\n",
       "      <td>['Cabernet Sauvignon', 'Cabernet Franc', 'Merl...</td>\n",
       "      <td>['Beef', 'Lamb', 'Game Meat', 'Poultry']</td>\n",
       "      <td>15.1</td>\n",
       "      <td>Full-bodied</td>\n",
       "      <td>Medium</td>\n",
       "      <td>US</td>\n",
       "      <td>United States</td>\n",
       "      <td>1848.0</td>\n",
       "      <td>Napa Valley</td>\n",
       "      <td>57081.0</td>\n",
       "      <td>Colgin</td>\n",
       "      <td>http://www.colgincellars.com</td>\n",
       "      <td>[2021, 2020, 2019, 2018, 2017, 2016, 2015, 201...</td>\n",
       "      <td>4.728261</td>\n",
       "    </tr>\n",
       "  </tbody>\n",
       "</table>\n",
       "</div>"
      ]
     },
     "execution_count": 62,
     "metadata": {},
     "output_type": "execute_result"
    }
   ],
   "execution_count": 62
  },
  {
   "cell_type": "code",
   "id": "7f1ca723",
   "metadata": {
    "ExecuteTime": {
     "end_time": "2024-10-06T17:48:43.547534Z",
     "start_time": "2024-10-06T17:48:43.510836Z"
    }
   },
   "source": [
    "get_wine_with_top_categories()[\"WineID\"]"
   ],
   "outputs": [
    {
     "data": {
      "text/plain": [
       "809    180330.0\n",
       "Name: WineID, dtype: float64"
      ]
     },
     "execution_count": 63,
     "metadata": {},
     "output_type": "execute_result"
    }
   ],
   "execution_count": 63
  },
  {
   "cell_type": "code",
   "id": "7b2dac92",
   "metadata": {
    "ExecuteTime": {
     "end_time": "2024-10-06T17:48:43.582692Z",
     "start_time": "2024-10-06T17:48:43.555930Z"
    }
   },
   "source": [
    "group_data"
   ],
   "outputs": [
    {
     "data": {
      "text/plain": [
       "     Unnamed: 0  group_id  group_size       group_similarity  \\\n",
       "0             0         0           2                 random   \n",
       "1             1         1           2                 random   \n",
       "2             2         2           2                 random   \n",
       "3             3         3           2                 random   \n",
       "4             4         4           2                 random   \n",
       "..          ...       ...         ...                    ...   \n",
       "235         235       235           8  similar_one_divergent   \n",
       "236         236       236           8  similar_one_divergent   \n",
       "237         237       237           8  similar_one_divergent   \n",
       "238         238       238           8  similar_one_divergent   \n",
       "239         239       239           8  similar_one_divergent   \n",
       "\n",
       "                                         group_members  avg_similarity  \n",
       "0                                   [1110381, 1212243]       -0.006469  \n",
       "1                                   [1180876, 1006585]       -0.015370  \n",
       "2                                   [1174271, 1159745]       -0.015015  \n",
       "3                                   [1223585, 1150327]        0.105930  \n",
       "4                                   [1822155, 1138489]        0.163505  \n",
       "..                                                 ...             ...  \n",
       "235  [1174766, 1226880, 1059478, 1062080, 1039599, ...        0.376073  \n",
       "236  [1203902, 1166271, 1078943, 2056705, 1204723, ...        0.400792  \n",
       "237  [1198066, 1041042, 1086821, 1293899, 1134438, ...        0.248949  \n",
       "238  [1908334, 1714244, 1018208, 1054770, 1642793, ...        0.361038  \n",
       "239  [1262446, 1212920, 1199413, 1196804, 1206063, ...        0.339015  \n",
       "\n",
       "[240 rows x 6 columns]"
      ],
      "text/html": [
       "<div>\n",
       "<style scoped>\n",
       "    .dataframe tbody tr th:only-of-type {\n",
       "        vertical-align: middle;\n",
       "    }\n",
       "\n",
       "    .dataframe tbody tr th {\n",
       "        vertical-align: top;\n",
       "    }\n",
       "\n",
       "    .dataframe thead th {\n",
       "        text-align: right;\n",
       "    }\n",
       "</style>\n",
       "<table border=\"1\" class=\"dataframe\">\n",
       "  <thead>\n",
       "    <tr style=\"text-align: right;\">\n",
       "      <th></th>\n",
       "      <th>Unnamed: 0</th>\n",
       "      <th>group_id</th>\n",
       "      <th>group_size</th>\n",
       "      <th>group_similarity</th>\n",
       "      <th>group_members</th>\n",
       "      <th>avg_similarity</th>\n",
       "    </tr>\n",
       "  </thead>\n",
       "  <tbody>\n",
       "    <tr>\n",
       "      <th>0</th>\n",
       "      <td>0</td>\n",
       "      <td>0</td>\n",
       "      <td>2</td>\n",
       "      <td>random</td>\n",
       "      <td>[1110381, 1212243]</td>\n",
       "      <td>-0.006469</td>\n",
       "    </tr>\n",
       "    <tr>\n",
       "      <th>1</th>\n",
       "      <td>1</td>\n",
       "      <td>1</td>\n",
       "      <td>2</td>\n",
       "      <td>random</td>\n",
       "      <td>[1180876, 1006585]</td>\n",
       "      <td>-0.015370</td>\n",
       "    </tr>\n",
       "    <tr>\n",
       "      <th>2</th>\n",
       "      <td>2</td>\n",
       "      <td>2</td>\n",
       "      <td>2</td>\n",
       "      <td>random</td>\n",
       "      <td>[1174271, 1159745]</td>\n",
       "      <td>-0.015015</td>\n",
       "    </tr>\n",
       "    <tr>\n",
       "      <th>3</th>\n",
       "      <td>3</td>\n",
       "      <td>3</td>\n",
       "      <td>2</td>\n",
       "      <td>random</td>\n",
       "      <td>[1223585, 1150327]</td>\n",
       "      <td>0.105930</td>\n",
       "    </tr>\n",
       "    <tr>\n",
       "      <th>4</th>\n",
       "      <td>4</td>\n",
       "      <td>4</td>\n",
       "      <td>2</td>\n",
       "      <td>random</td>\n",
       "      <td>[1822155, 1138489]</td>\n",
       "      <td>0.163505</td>\n",
       "    </tr>\n",
       "    <tr>\n",
       "      <th>...</th>\n",
       "      <td>...</td>\n",
       "      <td>...</td>\n",
       "      <td>...</td>\n",
       "      <td>...</td>\n",
       "      <td>...</td>\n",
       "      <td>...</td>\n",
       "    </tr>\n",
       "    <tr>\n",
       "      <th>235</th>\n",
       "      <td>235</td>\n",
       "      <td>235</td>\n",
       "      <td>8</td>\n",
       "      <td>similar_one_divergent</td>\n",
       "      <td>[1174766, 1226880, 1059478, 1062080, 1039599, ...</td>\n",
       "      <td>0.376073</td>\n",
       "    </tr>\n",
       "    <tr>\n",
       "      <th>236</th>\n",
       "      <td>236</td>\n",
       "      <td>236</td>\n",
       "      <td>8</td>\n",
       "      <td>similar_one_divergent</td>\n",
       "      <td>[1203902, 1166271, 1078943, 2056705, 1204723, ...</td>\n",
       "      <td>0.400792</td>\n",
       "    </tr>\n",
       "    <tr>\n",
       "      <th>237</th>\n",
       "      <td>237</td>\n",
       "      <td>237</td>\n",
       "      <td>8</td>\n",
       "      <td>similar_one_divergent</td>\n",
       "      <td>[1198066, 1041042, 1086821, 1293899, 1134438, ...</td>\n",
       "      <td>0.248949</td>\n",
       "    </tr>\n",
       "    <tr>\n",
       "      <th>238</th>\n",
       "      <td>238</td>\n",
       "      <td>238</td>\n",
       "      <td>8</td>\n",
       "      <td>similar_one_divergent</td>\n",
       "      <td>[1908334, 1714244, 1018208, 1054770, 1642793, ...</td>\n",
       "      <td>0.361038</td>\n",
       "    </tr>\n",
       "    <tr>\n",
       "      <th>239</th>\n",
       "      <td>239</td>\n",
       "      <td>239</td>\n",
       "      <td>8</td>\n",
       "      <td>similar_one_divergent</td>\n",
       "      <td>[1262446, 1212920, 1199413, 1196804, 1206063, ...</td>\n",
       "      <td>0.339015</td>\n",
       "    </tr>\n",
       "  </tbody>\n",
       "</table>\n",
       "<p>240 rows × 6 columns</p>\n",
       "</div>"
      ]
     },
     "execution_count": 64,
     "metadata": {},
     "output_type": "execute_result"
    }
   ],
   "execution_count": 64
  },
  {
   "cell_type": "code",
   "id": "01250c0c",
   "metadata": {
    "ExecuteTime": {
     "end_time": "2024-10-06T17:48:43.592984Z",
     "start_time": "2024-10-06T17:48:43.587142Z"
    }
   },
   "source": "#evaluate_recommender(knn_recommendation_df, group_data, ratings_data)",
   "outputs": [],
   "execution_count": 65
  },
  {
   "cell_type": "code",
   "id": "e22f6204",
   "metadata": {
    "ExecuteTime": {
     "end_time": "2024-10-06T17:48:43.650976Z",
     "start_time": "2024-10-06T17:48:43.596511Z"
    }
   },
   "source": [
    "knn_recommendation_df"
   ],
   "outputs": [
    {
     "data": {
      "text/plain": [
       "   user_id  wine_id                                knn_recommendations\n",
       "0  1042330   179080  [{'WineID': 135885, 'Type': 'Red', 'Body': 'Ve...\n",
       "1  1809422   162497  [{'WineID': 111431, 'Type': 'Red', 'Body': 'Fu...\n",
       "2  1176344   111395  [{'WineID': 111431, 'Type': 'Red', 'Body': 'Fu...\n",
       "3  1253808   167418  [{'WineID': 135885, 'Type': 'Red', 'Body': 'Ve...\n",
       "4  1151770   111415  [{'WineID': 111431, 'Type': 'Red', 'Body': 'Fu...\n",
       "5  1393882   162514  [{'WineID': 111431, 'Type': 'Red', 'Body': 'Fu...\n",
       "6  1335852   111395  [{'WineID': 111431, 'Type': 'Red', 'Body': 'Fu...\n",
       "7  1023294   112875  [{'WineID': 113240, 'Type': 'Red', 'Body': 'Me..."
      ],
      "text/html": [
       "<div>\n",
       "<style scoped>\n",
       "    .dataframe tbody tr th:only-of-type {\n",
       "        vertical-align: middle;\n",
       "    }\n",
       "\n",
       "    .dataframe tbody tr th {\n",
       "        vertical-align: top;\n",
       "    }\n",
       "\n",
       "    .dataframe thead th {\n",
       "        text-align: right;\n",
       "    }\n",
       "</style>\n",
       "<table border=\"1\" class=\"dataframe\">\n",
       "  <thead>\n",
       "    <tr style=\"text-align: right;\">\n",
       "      <th></th>\n",
       "      <th>user_id</th>\n",
       "      <th>wine_id</th>\n",
       "      <th>knn_recommendations</th>\n",
       "    </tr>\n",
       "  </thead>\n",
       "  <tbody>\n",
       "    <tr>\n",
       "      <th>0</th>\n",
       "      <td>1042330</td>\n",
       "      <td>179080</td>\n",
       "      <td>[{'WineID': 135885, 'Type': 'Red', 'Body': 'Ve...</td>\n",
       "    </tr>\n",
       "    <tr>\n",
       "      <th>1</th>\n",
       "      <td>1809422</td>\n",
       "      <td>162497</td>\n",
       "      <td>[{'WineID': 111431, 'Type': 'Red', 'Body': 'Fu...</td>\n",
       "    </tr>\n",
       "    <tr>\n",
       "      <th>2</th>\n",
       "      <td>1176344</td>\n",
       "      <td>111395</td>\n",
       "      <td>[{'WineID': 111431, 'Type': 'Red', 'Body': 'Fu...</td>\n",
       "    </tr>\n",
       "    <tr>\n",
       "      <th>3</th>\n",
       "      <td>1253808</td>\n",
       "      <td>167418</td>\n",
       "      <td>[{'WineID': 135885, 'Type': 'Red', 'Body': 'Ve...</td>\n",
       "    </tr>\n",
       "    <tr>\n",
       "      <th>4</th>\n",
       "      <td>1151770</td>\n",
       "      <td>111415</td>\n",
       "      <td>[{'WineID': 111431, 'Type': 'Red', 'Body': 'Fu...</td>\n",
       "    </tr>\n",
       "    <tr>\n",
       "      <th>5</th>\n",
       "      <td>1393882</td>\n",
       "      <td>162514</td>\n",
       "      <td>[{'WineID': 111431, 'Type': 'Red', 'Body': 'Fu...</td>\n",
       "    </tr>\n",
       "    <tr>\n",
       "      <th>6</th>\n",
       "      <td>1335852</td>\n",
       "      <td>111395</td>\n",
       "      <td>[{'WineID': 111431, 'Type': 'Red', 'Body': 'Fu...</td>\n",
       "    </tr>\n",
       "    <tr>\n",
       "      <th>7</th>\n",
       "      <td>1023294</td>\n",
       "      <td>112875</td>\n",
       "      <td>[{'WineID': 113240, 'Type': 'Red', 'Body': 'Me...</td>\n",
       "    </tr>\n",
       "  </tbody>\n",
       "</table>\n",
       "</div>"
      ]
     },
     "execution_count": 66,
     "metadata": {},
     "output_type": "execute_result"
    }
   ],
   "execution_count": 66
  },
  {
   "cell_type": "code",
   "id": "e1057b6a",
   "metadata": {
    "ExecuteTime": {
     "end_time": "2024-10-06T17:48:43.665765Z",
     "start_time": "2024-10-06T17:48:43.656306Z"
    }
   },
   "source": [
    "group_data[\"group_members\"][0]"
   ],
   "outputs": [
    {
     "data": {
      "text/plain": [
       "'[1110381, 1212243]'"
      ]
     },
     "execution_count": 67,
     "metadata": {},
     "output_type": "execute_result"
    }
   ],
   "execution_count": 67
  },
  {
   "cell_type": "code",
   "id": "b6c9212b",
   "metadata": {
    "ExecuteTime": {
     "end_time": "2024-10-06T17:48:43.692105Z",
     "start_time": "2024-10-06T17:48:43.670234Z"
    }
   },
   "source": [
    "ratings_data"
   ],
   "outputs": [
    {
     "data": {
      "text/plain": [
       "        RatingID   UserID  WineID Vintage  Rating                 Date\n",
       "0            143  1356810  103471    1950     4.5  2021-11-02 20:52:59\n",
       "1            199  1173759  111415    1951     5.0  2015-08-20 17:46:26\n",
       "2            348  1164877  111395    1952     5.0  2020-11-13 05:40:26\n",
       "3            374  1207665  111433    1953     5.0  2017-05-05 06:44:13\n",
       "4            834  1075841  111431    1955     5.0  2016-09-14 20:18:38\n",
       "...          ...      ...     ...     ...     ...                  ...\n",
       "149995  21013438  1000052  111468    N.V.     4.5  2021-12-22 21:03:51\n",
       "149996  21013467  1180844  111461    N.V.     4.0  2017-04-23 21:07:55\n",
       "149997  21013494  1218581  113690    N.V.     3.5  2019-04-14 17:45:08\n",
       "149998  21013505  1106198  111468    N.V.     4.5  2021-07-10 07:00:15\n",
       "149999  21013509  1059173  111479    N.V.     5.0  2019-09-08 15:42:28\n",
       "\n",
       "[150000 rows x 6 columns]"
      ],
      "text/html": [
       "<div>\n",
       "<style scoped>\n",
       "    .dataframe tbody tr th:only-of-type {\n",
       "        vertical-align: middle;\n",
       "    }\n",
       "\n",
       "    .dataframe tbody tr th {\n",
       "        vertical-align: top;\n",
       "    }\n",
       "\n",
       "    .dataframe thead th {\n",
       "        text-align: right;\n",
       "    }\n",
       "</style>\n",
       "<table border=\"1\" class=\"dataframe\">\n",
       "  <thead>\n",
       "    <tr style=\"text-align: right;\">\n",
       "      <th></th>\n",
       "      <th>RatingID</th>\n",
       "      <th>UserID</th>\n",
       "      <th>WineID</th>\n",
       "      <th>Vintage</th>\n",
       "      <th>Rating</th>\n",
       "      <th>Date</th>\n",
       "    </tr>\n",
       "  </thead>\n",
       "  <tbody>\n",
       "    <tr>\n",
       "      <th>0</th>\n",
       "      <td>143</td>\n",
       "      <td>1356810</td>\n",
       "      <td>103471</td>\n",
       "      <td>1950</td>\n",
       "      <td>4.5</td>\n",
       "      <td>2021-11-02 20:52:59</td>\n",
       "    </tr>\n",
       "    <tr>\n",
       "      <th>1</th>\n",
       "      <td>199</td>\n",
       "      <td>1173759</td>\n",
       "      <td>111415</td>\n",
       "      <td>1951</td>\n",
       "      <td>5.0</td>\n",
       "      <td>2015-08-20 17:46:26</td>\n",
       "    </tr>\n",
       "    <tr>\n",
       "      <th>2</th>\n",
       "      <td>348</td>\n",
       "      <td>1164877</td>\n",
       "      <td>111395</td>\n",
       "      <td>1952</td>\n",
       "      <td>5.0</td>\n",
       "      <td>2020-11-13 05:40:26</td>\n",
       "    </tr>\n",
       "    <tr>\n",
       "      <th>3</th>\n",
       "      <td>374</td>\n",
       "      <td>1207665</td>\n",
       "      <td>111433</td>\n",
       "      <td>1953</td>\n",
       "      <td>5.0</td>\n",
       "      <td>2017-05-05 06:44:13</td>\n",
       "    </tr>\n",
       "    <tr>\n",
       "      <th>4</th>\n",
       "      <td>834</td>\n",
       "      <td>1075841</td>\n",
       "      <td>111431</td>\n",
       "      <td>1955</td>\n",
       "      <td>5.0</td>\n",
       "      <td>2016-09-14 20:18:38</td>\n",
       "    </tr>\n",
       "    <tr>\n",
       "      <th>...</th>\n",
       "      <td>...</td>\n",
       "      <td>...</td>\n",
       "      <td>...</td>\n",
       "      <td>...</td>\n",
       "      <td>...</td>\n",
       "      <td>...</td>\n",
       "    </tr>\n",
       "    <tr>\n",
       "      <th>149995</th>\n",
       "      <td>21013438</td>\n",
       "      <td>1000052</td>\n",
       "      <td>111468</td>\n",
       "      <td>N.V.</td>\n",
       "      <td>4.5</td>\n",
       "      <td>2021-12-22 21:03:51</td>\n",
       "    </tr>\n",
       "    <tr>\n",
       "      <th>149996</th>\n",
       "      <td>21013467</td>\n",
       "      <td>1180844</td>\n",
       "      <td>111461</td>\n",
       "      <td>N.V.</td>\n",
       "      <td>4.0</td>\n",
       "      <td>2017-04-23 21:07:55</td>\n",
       "    </tr>\n",
       "    <tr>\n",
       "      <th>149997</th>\n",
       "      <td>21013494</td>\n",
       "      <td>1218581</td>\n",
       "      <td>113690</td>\n",
       "      <td>N.V.</td>\n",
       "      <td>3.5</td>\n",
       "      <td>2019-04-14 17:45:08</td>\n",
       "    </tr>\n",
       "    <tr>\n",
       "      <th>149998</th>\n",
       "      <td>21013505</td>\n",
       "      <td>1106198</td>\n",
       "      <td>111468</td>\n",
       "      <td>N.V.</td>\n",
       "      <td>4.5</td>\n",
       "      <td>2021-07-10 07:00:15</td>\n",
       "    </tr>\n",
       "    <tr>\n",
       "      <th>149999</th>\n",
       "      <td>21013509</td>\n",
       "      <td>1059173</td>\n",
       "      <td>111479</td>\n",
       "      <td>N.V.</td>\n",
       "      <td>5.0</td>\n",
       "      <td>2019-09-08 15:42:28</td>\n",
       "    </tr>\n",
       "  </tbody>\n",
       "</table>\n",
       "<p>150000 rows × 6 columns</p>\n",
       "</div>"
      ]
     },
     "execution_count": 68,
     "metadata": {},
     "output_type": "execute_result"
    }
   ],
   "execution_count": 68
  },
  {
   "cell_type": "code",
   "id": "79a25b76",
   "metadata": {
    "ExecuteTime": {
     "end_time": "2024-10-06T17:48:43.709149Z",
     "start_time": "2024-10-06T17:48:43.696078Z"
    }
   },
   "source": [
    "import pandas as pd\n",
    "import ast  # Import to safely parse string representation of lists\n",
    "\n",
    "def get_wines_rated_by_group(group_df, group_id, ratings_df, wine_id=None):\n",
    "    \"\"\"\n",
    "    Get all wines rated by a specific group based on group_id, with optional filtering for a specific wine_id.\n",
    "\n",
    "    Parameters:\n",
    "    group_df (pd.DataFrame): DataFrame containing group data with columns like ['group_id', 'group_members'].\n",
    "    group_id (int): The ID of the group to analyze.\n",
    "    ratings_df (pd.DataFrame): DataFrame containing ratings data with columns ['UserID', 'WineID', 'Rating'].\n",
    "    wine_id (int, optional): The ID of a specific wine to filter. Defaults to None.\n",
    "\n",
    "    Returns:\n",
    "    pd.DataFrame: DataFrame containing all wines rated by users in the specified group, optionally filtered by the given WineID.\n",
    "    \"\"\"\n",
    "    # Step 1: Extract the group_members string using the group_id\n",
    "    group_row = group_df[group_df['group_id'] == group_id]\n",
    "\n",
    "    # Step 2: Check if group_members list is found\n",
    "    if group_row.empty:\n",
    "        print(f\"Group ID {group_id} not found.\")\n",
    "        return pd.DataFrame(columns=['UserID', 'WineID', 'Rating'])\n",
    "    \n",
    "    # Step 3: Convert the group_members string into an actual list\n",
    "    group_members_str = group_row['group_members'].values[0]\n",
    "    group_members = ast.literal_eval(group_members_str)  # Safely convert string to list\n",
    "    \n",
    "    # Step 4: Filter ratings_data for rows where UserID is in the group_members list\n",
    "    filtered_ratings = ratings_df[ratings_df['UserID'].isin(group_members)]\n",
    "    \n",
    "    # Step 5: If wine_id is provided, filter further for that specific WineID\n",
    "    if wine_id is not None:\n",
    "        filtered_ratings = filtered_ratings[filtered_ratings['WineID'] == wine_id]\n",
    "\n",
    "    # Step 6: Return the filtered DataFrame\n",
    "    return filtered_ratings[['UserID', 'WineID', 'Rating']]\n",
    "\n",
    "# Example Usage:\n",
    "# Assuming you have `group_data` and `ratings_data` DataFrames defined\n",
    "# result_df = get_wines_rated_by_group(group_data, 5, ratings_data, wine_id=111544)\n"
   ],
   "outputs": [],
   "execution_count": 69
  },
  {
   "cell_type": "code",
   "id": "51d8c78c",
   "metadata": {
    "ExecuteTime": {
     "end_time": "2024-10-06T17:48:43.736005Z",
     "start_time": "2024-10-06T17:48:43.713593Z"
    }
   },
   "source": [
    "get_wines_rated_by_group(group_data,5,ratings_data,wine_id=193478)"
   ],
   "outputs": [
    {
     "data": {
      "text/plain": [
       "       UserID  WineID  Rating\n",
       "5881  1078014  193478     4.5"
      ],
      "text/html": [
       "<div>\n",
       "<style scoped>\n",
       "    .dataframe tbody tr th:only-of-type {\n",
       "        vertical-align: middle;\n",
       "    }\n",
       "\n",
       "    .dataframe tbody tr th {\n",
       "        vertical-align: top;\n",
       "    }\n",
       "\n",
       "    .dataframe thead th {\n",
       "        text-align: right;\n",
       "    }\n",
       "</style>\n",
       "<table border=\"1\" class=\"dataframe\">\n",
       "  <thead>\n",
       "    <tr style=\"text-align: right;\">\n",
       "      <th></th>\n",
       "      <th>UserID</th>\n",
       "      <th>WineID</th>\n",
       "      <th>Rating</th>\n",
       "    </tr>\n",
       "  </thead>\n",
       "  <tbody>\n",
       "    <tr>\n",
       "      <th>5881</th>\n",
       "      <td>1078014</td>\n",
       "      <td>193478</td>\n",
       "      <td>4.5</td>\n",
       "    </tr>\n",
       "  </tbody>\n",
       "</table>\n",
       "</div>"
      ]
     },
     "execution_count": 70,
     "metadata": {},
     "output_type": "execute_result"
    }
   ],
   "execution_count": 70
  },
  {
   "cell_type": "code",
   "id": "3e49d374",
   "metadata": {
    "ExecuteTime": {
     "end_time": "2024-10-06T17:48:43.744116Z",
     "start_time": "2024-10-06T17:48:43.739579Z"
    }
   },
   "source": [],
   "outputs": [],
   "execution_count": 70
  }
 ],
 "metadata": {
  "kernelspec": {
   "display_name": "Python 3",
   "language": "python",
   "name": "python3"
  },
  "language_info": {
   "codemirror_mode": {
    "name": "ipython",
    "version": 3
   },
   "file_extension": ".py",
   "mimetype": "text/x-python",
   "name": "python",
   "nbconvert_exporter": "python",
   "pygments_lexer": "ipython3",
   "version": "3.11.9"
  }
 },
 "nbformat": 4,
 "nbformat_minor": 5
}
