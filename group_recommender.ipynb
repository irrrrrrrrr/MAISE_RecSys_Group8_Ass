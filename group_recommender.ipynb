{
 "cells": [
  {
   "cell_type": "code",
   "id": "initial_id",
   "metadata": {
    "collapsed": true,
    "ExecuteTime": {
     "end_time": "2024-09-23T15:05:20.168725Z",
     "start_time": "2024-09-23T15:05:19.562911Z"
    }
   },
   "source": [
    "import pandas as pd\n",
    "\n",
    "# Load the two datasets (replace 'ratings.csv' and 'wine_characteristics.csv' with your actual CSV file paths)\n",
    "ratings_data = pd.read_csv('Dataset/last/XWines_Slim_150K_ratings.csv')\n",
    "wine_data = pd.read_csv('Dataset/last/XWines_Slim_1K_wines.csv')\n",
    "group_data = pd.read_csv('Dataset/last/group_composition.csv')  # Add path to your group CSV\n",
    "\n",
    "# Merge the two datasets on 'WineID'\n",
    "merged_data = pd.merge(ratings_data, wine_data, on='WineID')\n",
    "\n",
    "# Function to find the best-rated wine or suggest a completely different one if rating < 4\n",
    "def recommend_wine_for_user(user_id, merged_data):\n",
    "    # Filter wines rated by the specific user\n",
    "    user_wines = merged_data[merged_data['UserID'] == user_id]\n",
    "\n",
    "    if user_wines.empty:\n",
    "        return f\"No wines found for user {user_id}.\", None\n",
    "\n",
    "    # Find the wine with the highest rating by the user\n",
    "    best_rated_wine = user_wines.loc[user_wines['Rating'].idxmax()]\n",
    "\n",
    "    # If the best rating is 4 or higher, return that wine\n",
    "    if best_rated_wine['Rating'] >= 4:\n",
    "        return best_rated_wine['WineID'], best_rated_wine['Rating']\n",
    "\n",
    "    # If no wine has a rating of 4 or higher, find a completely different wine\n",
    "    else:\n",
    "        # Define characteristics to consider (adjust based on your dataset)\n",
    "        characteristics = ['Type', 'Body']\n",
    "\n",
    "        # Filter out wines that are similar to the one the user rated poorly\n",
    "        different_wines = merged_data\n",
    "        for char in characteristics:\n",
    "            different_wines = different_wines[different_wines[char] != best_rated_wine[char]]\n",
    "\n",
    "        # If there are still wines left, choose one randomly or based on rating\n",
    "        if not different_wines.empty:\n",
    "            recommended_wine = different_wines.sample().iloc[0]  # Sample one random different wine\n",
    "            return recommended_wine['WineID'], None\n",
    "\n",
    "        return f\"No sufficiently different wines found for user {user_id}.\", None\n",
    "\n",
    "# Function to recommend wine for a group and output in a DataFrame\n",
    "def recommend_wine_for_group(group_id, group_data, merged_data):\n",
    "    # Get the group members from the group data\n",
    "    group_info = group_data[group_data['group_id'] == group_id].iloc[0]\n",
    "    group_members = eval(group_info['group_members'])  # Assuming group_members is a list stored as a string\n",
    "\n",
    "    # Create a list to store each user's recommendation\n",
    "    recommendations = []\n",
    "\n",
    "    # Loop through each member of the group and get their favorite wine\n",
    "    for user_id in group_members:\n",
    "        wine_id, rating = recommend_wine_for_user(user_id, merged_data)\n",
    "        recommendations.append({\n",
    "            'group_id': group_id,\n",
    "            'user_id': user_id,\n",
    "            'wine_id': wine_id,\n",
    "            'rating': rating if rating is not None else 'Suggested different wine'\n",
    "        })\n",
    "\n",
    "    # Convert the recommendations to a DataFrame\n",
    "    recommendation_df = pd.DataFrame(recommendations)\n",
    "    return recommendation_df\n",
    "\n",
    "# Example usage for a specific group (replace with an actual group_id from your dataset)\n",
    "group_id = 1  # Replace with the actual group_id you want to check\n",
    "result_df = recommend_wine_for_group(group_id, group_data, merged_data)\n",
    "\n",
    "# Output the DataFrame with the recommendations\n",
    "print(result_df)\n"
   ],
   "outputs": [
    {
     "name": "stderr",
     "output_type": "stream",
     "text": [
      "/var/folders/qx/s0s669bd3mx83v921rrrxcjw0000gn/T/ipykernel_97552/3377510125.py:4: DtypeWarning: Columns (3) have mixed types. Specify dtype option on import or set low_memory=False.\n",
      "  ratings_data = pd.read_csv('Dataset/last/XWines_Slim_150K_ratings.csv')\n"
     ]
    },
    {
     "name": "stdout",
     "output_type": "stream",
     "text": [
      "   group_id  user_id  wine_id  rating\n",
      "0         1  1180876   111521     4.5\n",
      "1         1  1006585   111422     5.0\n"
     ]
    }
   ],
   "execution_count": 19
  },
  {
   "metadata": {
    "ExecuteTime": {
     "end_time": "2024-09-21T18:37:33.243014Z",
     "start_time": "2024-09-21T18:37:32.861728Z"
    }
   },
   "cell_type": "code",
   "source": [
    "\n",
    "# Load the ratings dataset (replace 'ratings.csv' with your actual file path)\n",
    "ratings_data = pd.read_csv('Dataset/last/XWines_Slim_150K_ratings.csv')\n",
    "\n",
    "# Group by 'user_id' and find the maximum rating for each user\n",
    "user_max_ratings = ratings_data.groupby('UserID')['Rating'].max()\n",
    "\n",
    "# Filter to get only users whose max rating was 3\n",
    "users_with_max_rating_3 = user_max_ratings[user_max_ratings == 3].index\n",
    "\n",
    "# Print the list of users whose maximum rating was 3\n",
    "print(\"Users whose maximum rating was 3:\")\n",
    "print(users_with_max_rating_3)\n"
   ],
   "id": "abd72c3160e9abac",
   "outputs": [
    {
     "name": "stdout",
     "output_type": "stream",
     "text": [
      "Users whose maximum rating was 3:\n",
      "Index([1006724, 1056257, 1145862, 1196247, 1197650, 1220278, 1245717, 1279250,\n",
      "       1290651, 1316369, 1334222, 1380716, 1391592, 1393496, 1397551, 1400386,\n",
      "       1406797, 1420747, 1558571, 1563515, 1664756, 1719976, 1760544, 1762859,\n",
      "       1781649, 1816088, 1843929, 1936578, 1944444, 1977712, 1997980, 2061195],\n",
      "      dtype='int64', name='UserID')\n"
     ]
    },
    {
     "name": "stderr",
     "output_type": "stream",
     "text": [
      "/var/folders/qx/s0s669bd3mx83v921rrrxcjw0000gn/T/ipykernel_97552/744726888.py:2: DtypeWarning: Columns (3) have mixed types. Specify dtype option on import or set low_memory=False.\n",
      "  ratings_data = pd.read_csv('Dataset/last/XWines_Slim_150K_ratings.csv')\n"
     ]
    }
   ],
   "execution_count": 14
  },
  {
   "metadata": {
    "ExecuteTime": {
     "end_time": "2024-09-23T15:11:14.065460Z",
     "start_time": "2024-09-23T15:11:13.749208Z"
    }
   },
   "cell_type": "code",
   "source": [
    "from sklearn.neighbors import NearestNeighbors\n",
    "from sklearn.preprocessing import OneHotEncoder\n",
    "\n",
    "\n",
    "# Function to find the top-rated wine by a user and recommend similar wines using KNN\n",
    "def recommend_similar_wines(user_id, merged_data, k=10):\n",
    "    # Filter the wines rated by the specific user\n",
    "    user_wines = merged_data[merged_data['UserID'] == user_id]\n",
    "\n",
    "    if user_wines.empty:\n",
    "        return f\"No wines found for user {user_id}.\"\n",
    "\n",
    "    # Find the top-rated wine for this user\n",
    "    top_rated_wine = user_wines.loc[user_wines['Rating'].idxmax()]\n",
    "\n",
    "    # Extract relevant features (e.g., 'Type', 'Body') for KNN\n",
    "    features = ['Type', 'Body']  # Adjust based on your dataset\n",
    "\n",
    "    # Prepare the dataset for KNN (focus on wine characteristics, exclude 'WineID')\n",
    "    wine_features = merged_data[features]\n",
    "\n",
    "    # Apply OneHotEncoding to handle categorical variables like 'Type' and 'Body'\n",
    "    encoder = OneHotEncoder(sparse_output=False)\n",
    "    encoded_wine_features = encoder.fit_transform(wine_features)\n",
    "\n",
    "    # Fit KNN model\n",
    "    knn_model = NearestNeighbors(n_neighbors=k, metric='euclidean')\n",
    "    knn_model.fit(encoded_wine_features)\n",
    "\n",
    "    # Encode the top-rated wine's features (ensure it is passed as a DataFrame with feature names)\n",
    "    top_rated_wine_features = pd.DataFrame([top_rated_wine[features]], columns=features)\n",
    "    encoded_top_rated_wine_features = encoder.transform(top_rated_wine_features)\n",
    "\n",
    "    # Find K nearest wines to the top-rated wine\n",
    "    distances, indices = knn_model.kneighbors(encoded_top_rated_wine_features)\n",
    "\n",
    "    # Get the recommended similar wines (excluding the top-rated wine itself)\n",
    "    recommended_wines = merged_data.iloc[indices[0]]\n",
    "\n",
    "    # Exclude the top-rated wine itself from the recommendations\n",
    "    recommended_wines = recommended_wines[recommended_wines['WineID'] != top_rated_wine['WineID']]\n",
    "\n",
    "    return recommended_wines[['WineID', 'Type', 'Body']]\n",
    "\n",
    "\n",
    "# Example usage for a specific user (replace with an actual user_id from your dataset)\n",
    "user_id = 1356810  # Replace with the actual user_id you want to check\n",
    "\n",
    "# Find the best wine for the user\n",
    "result = recommend_wine_for_user(user_id, merged_data)\n",
    "print(result)\n",
    "\n",
    "# Recommend similar wines based on the top-rated wine\n",
    "recommended_wines = recommend_similar_wines(user_id, merged_data)\n",
    "\n",
    "# Display the recommended wines\n",
    "print(recommended_wines)"
   ],
   "id": "171dc8819e463d07",
   "outputs": [
    {
     "name": "stdout",
     "output_type": "stream",
     "text": [
      "(np.int64(112084), np.float64(5.0))\n",
      "     WineID       Type           Body\n",
      "25   102547  Sparkling  Medium-bodied\n",
      "153  116266  Sparkling  Medium-bodied\n",
      "150  111484  Sparkling  Medium-bodied\n",
      "64   111927  Sparkling  Medium-bodied\n",
      "127  111544  Sparkling  Medium-bodied\n",
      "78   111479  Sparkling  Medium-bodied\n",
      "37   116266  Sparkling  Medium-bodied\n",
      "107  111544  Sparkling  Medium-bodied\n",
      "93   111544  Sparkling  Medium-bodied\n"
     ]
    }
   ],
   "execution_count": 21
  },
  {
   "metadata": {
    "ExecuteTime": {
     "end_time": "2024-09-23T15:36:28.356703Z",
     "start_time": "2024-09-23T15:36:24.895798Z"
    }
   },
   "cell_type": "code",
   "source": [
    "import pandas as pd\n",
    "from sklearn.neighbors import NearestNeighbors\n",
    "from sklearn.preprocessing import OneHotEncoder\n",
    "\n",
    "# Function to find similar wines using KNN for a given wine\n",
    "def find_knn_for_wine(wine_id, merged_data, k=10):\n",
    "    # Extract relevant features (e.g., 'Type', 'Body') for KNN\n",
    "    features = ['Type', 'Body']  # Adjust based on your dataset\n",
    "\n",
    "    # Prepare the dataset for KNN (focus on wine characteristics, exclude 'WineID')\n",
    "    wine_features = merged_data[features]\n",
    "\n",
    "    # Apply OneHotEncoding to handle categorical variables like 'Type' and 'Body'\n",
    "    encoder = OneHotEncoder(sparse_output=False)\n",
    "    encoded_wine_features = encoder.fit_transform(wine_features)\n",
    "\n",
    "    # Fit KNN model\n",
    "    knn_model = NearestNeighbors(n_neighbors=k, metric='euclidean')\n",
    "    knn_model.fit(encoded_wine_features)\n",
    "\n",
    "    # Get the features of the wine with the specified wine_id\n",
    "    target_wine = merged_data[merged_data['WineID'] == wine_id]\n",
    "\n",
    "    if target_wine.empty:\n",
    "        return f\"No wine found with WineID {wine_id}.\"\n",
    "\n",
    "    # Encode the target wine's features (ensure it is passed as a DataFrame with feature names)\n",
    "    target_wine_features = target_wine[features]\n",
    "    encoded_target_wine_features = encoder.transform(target_wine_features)\n",
    "\n",
    "    # Find K nearest wines to the target wine\n",
    "    distances, indices = knn_model.kneighbors(encoded_target_wine_features)\n",
    "\n",
    "    # Get the recommended similar wines (excluding the target wine itself)\n",
    "    recommended_wines = merged_data.iloc[indices[0]]\n",
    "\n",
    "    # Exclude the target wine itself from the recommendations\n",
    "    recommended_wines = recommended_wines[recommended_wines['WineID'] != wine_id]\n",
    "\n",
    "    # Return the recommended wines in a summarized format (list of dicts with WineID, Type, Body, Rating)\n",
    "    recommended_list = recommended_wines[['WineID', 'Type', 'Body', 'Rating']].to_dict(orient='records')\n",
    "\n",
    "    return recommended_list\n",
    "\n",
    "# Function to find KNN recommendations for all wines in the group recommendation DataFrame\n",
    "def recommend_similar_wines_for_group(result_df, merged_data, k=10):\n",
    "    knn_recommendations = []\n",
    "\n",
    "    # Iterate over each wine recommended to the group\n",
    "    for index, row in result_df.iterrows():\n",
    "        wine_id = row['wine_id']\n",
    "        user_id = row['user_id']\n",
    "\n",
    "        # Find KNN recommendations for the wine\n",
    "        knn_result = find_knn_for_wine(wine_id, merged_data, k)\n",
    "\n",
    "        # Store the results in a list with the user_id for reference\n",
    "        knn_recommendations.append({\n",
    "            'user_id': user_id,\n",
    "            'wine_id': wine_id,\n",
    "            'knn_recommendations': knn_result\n",
    "        })\n",
    "\n",
    "    # Convert the recommendations into a DataFrame for easy viewing\n",
    "    knn_recommendation_df = pd.DataFrame(knn_recommendations)\n",
    "    return knn_recommendation_df\n",
    "\n",
    "# Example usage (replace 'result_df' with the actual DataFrame from group recommendations)\n",
    "result_df = recommend_wine_for_group(group_id=1, group_data=group_data, merged_data=merged_data)\n",
    "\n",
    "# Find KNN recommendations for all wines in the result_df\n",
    "knn_recommendation_df = recommend_similar_wines_for_group(result_df, merged_data, k=10)\n",
    "\n",
    "# Display the KNN recommendations for each user's wine\n",
    "knn_recommendation_df\n"
   ],
   "id": "eafd67c2e1e1de31",
   "outputs": [
    {
     "data": {
      "text/plain": [
       "     user_id   wine_id                                knn_recommendations\n",
       "0  1180876.0  111521.0  [{'WineID': 102547, 'Type': 'Sparkling', 'Body...\n",
       "1  1006585.0  111422.0  [{'WineID': 111431, 'Type': 'Red', 'Body': 'Fu..."
      ],
      "text/html": [
       "<div>\n",
       "<style scoped>\n",
       "    .dataframe tbody tr th:only-of-type {\n",
       "        vertical-align: middle;\n",
       "    }\n",
       "\n",
       "    .dataframe tbody tr th {\n",
       "        vertical-align: top;\n",
       "    }\n",
       "\n",
       "    .dataframe thead th {\n",
       "        text-align: right;\n",
       "    }\n",
       "</style>\n",
       "<table border=\"1\" class=\"dataframe\">\n",
       "  <thead>\n",
       "    <tr style=\"text-align: right;\">\n",
       "      <th></th>\n",
       "      <th>user_id</th>\n",
       "      <th>wine_id</th>\n",
       "      <th>knn_recommendations</th>\n",
       "    </tr>\n",
       "  </thead>\n",
       "  <tbody>\n",
       "    <tr>\n",
       "      <th>0</th>\n",
       "      <td>1180876.0</td>\n",
       "      <td>111521.0</td>\n",
       "      <td>[{'WineID': 102547, 'Type': 'Sparkling', 'Body...</td>\n",
       "    </tr>\n",
       "    <tr>\n",
       "      <th>1</th>\n",
       "      <td>1006585.0</td>\n",
       "      <td>111422.0</td>\n",
       "      <td>[{'WineID': 111431, 'Type': 'Red', 'Body': 'Fu...</td>\n",
       "    </tr>\n",
       "  </tbody>\n",
       "</table>\n",
       "</div>"
      ]
     },
     "execution_count": 25,
     "metadata": {},
     "output_type": "execute_result"
    }
   ],
   "execution_count": 25
  },
  {
   "metadata": {
    "ExecuteTime": {
     "end_time": "2024-09-24T19:36:40.709489Z",
     "start_time": "2024-09-24T19:36:40.671248Z"
    }
   },
   "cell_type": "code",
   "source": [
    "# function to expand each row\n",
    "def expand_dict_list(row):\n",
    "    # for each dictionary in the list, create a new column name with the index and expand the dict\n",
    "    expanded_cols = {}\n",
    "    for idx, d in enumerate(row):\n",
    "        for key, value in d.items():\n",
    "            expanded_cols[f'{idx+1}-{key}'] = value\n",
    "    return pd.Series(expanded_cols)\n",
    "\n",
    "# apply the function to the last column of the DataFrame\n",
    "expanded_df = knn_recommendation_df['knn_recommendations'].apply(expand_dict_list)\n",
    "\n",
    "# drop the original column with the list of dicts and concatenate the expanded DataFrame\n",
    "df_final = pd.concat([knn_recommendation_df.drop(columns=['knn_recommendations']), expanded_df], axis=1)\n",
    "df_final"
   ],
   "id": "fe7a09572d0b2da1",
   "outputs": [
    {
     "data": {
      "text/plain": [
       "     user_id   wine_id  1-WineID     1-Type         1-Body  1-Rating  \\\n",
       "0  1180876.0  111521.0    102547  Sparkling  Medium-bodied       3.0   \n",
       "1  1006585.0  111422.0    111431        Red    Full-bodied       5.0   \n",
       "\n",
       "   2-WineID     2-Type         2-Body  2-Rating  ...         8-Body 8-Rating  \\\n",
       "0    116266  Sparkling  Medium-bodied       5.0  ...  Medium-bodied      4.0   \n",
       "1    111429        Red    Full-bodied       4.5  ...    Full-bodied      5.0   \n",
       "\n",
       "  9-WineID     9-Type         9-Body 9-Rating 10-WineID    10-Type  \\\n",
       "0   111544  Sparkling  Medium-bodied      5.0    111544  Sparkling   \n",
       "1   111433        Red    Full-bodied      4.5    111431        Red   \n",
       "\n",
       "         10-Body 10-Rating  \n",
       "0  Medium-bodied       3.5  \n",
       "1    Full-bodied       5.0  \n",
       "\n",
       "[2 rows x 42 columns]"
      ],
      "text/html": [
       "<div>\n",
       "<style scoped>\n",
       "    .dataframe tbody tr th:only-of-type {\n",
       "        vertical-align: middle;\n",
       "    }\n",
       "\n",
       "    .dataframe tbody tr th {\n",
       "        vertical-align: top;\n",
       "    }\n",
       "\n",
       "    .dataframe thead th {\n",
       "        text-align: right;\n",
       "    }\n",
       "</style>\n",
       "<table border=\"1\" class=\"dataframe\">\n",
       "  <thead>\n",
       "    <tr style=\"text-align: right;\">\n",
       "      <th></th>\n",
       "      <th>user_id</th>\n",
       "      <th>wine_id</th>\n",
       "      <th>1-WineID</th>\n",
       "      <th>1-Type</th>\n",
       "      <th>1-Body</th>\n",
       "      <th>1-Rating</th>\n",
       "      <th>2-WineID</th>\n",
       "      <th>2-Type</th>\n",
       "      <th>2-Body</th>\n",
       "      <th>2-Rating</th>\n",
       "      <th>...</th>\n",
       "      <th>8-Body</th>\n",
       "      <th>8-Rating</th>\n",
       "      <th>9-WineID</th>\n",
       "      <th>9-Type</th>\n",
       "      <th>9-Body</th>\n",
       "      <th>9-Rating</th>\n",
       "      <th>10-WineID</th>\n",
       "      <th>10-Type</th>\n",
       "      <th>10-Body</th>\n",
       "      <th>10-Rating</th>\n",
       "    </tr>\n",
       "  </thead>\n",
       "  <tbody>\n",
       "    <tr>\n",
       "      <th>0</th>\n",
       "      <td>1180876.0</td>\n",
       "      <td>111521.0</td>\n",
       "      <td>102547</td>\n",
       "      <td>Sparkling</td>\n",
       "      <td>Medium-bodied</td>\n",
       "      <td>3.0</td>\n",
       "      <td>116266</td>\n",
       "      <td>Sparkling</td>\n",
       "      <td>Medium-bodied</td>\n",
       "      <td>5.0</td>\n",
       "      <td>...</td>\n",
       "      <td>Medium-bodied</td>\n",
       "      <td>4.0</td>\n",
       "      <td>111544</td>\n",
       "      <td>Sparkling</td>\n",
       "      <td>Medium-bodied</td>\n",
       "      <td>5.0</td>\n",
       "      <td>111544</td>\n",
       "      <td>Sparkling</td>\n",
       "      <td>Medium-bodied</td>\n",
       "      <td>3.5</td>\n",
       "    </tr>\n",
       "    <tr>\n",
       "      <th>1</th>\n",
       "      <td>1006585.0</td>\n",
       "      <td>111422.0</td>\n",
       "      <td>111431</td>\n",
       "      <td>Red</td>\n",
       "      <td>Full-bodied</td>\n",
       "      <td>5.0</td>\n",
       "      <td>111429</td>\n",
       "      <td>Red</td>\n",
       "      <td>Full-bodied</td>\n",
       "      <td>4.5</td>\n",
       "      <td>...</td>\n",
       "      <td>Full-bodied</td>\n",
       "      <td>5.0</td>\n",
       "      <td>111433</td>\n",
       "      <td>Red</td>\n",
       "      <td>Full-bodied</td>\n",
       "      <td>4.5</td>\n",
       "      <td>111431</td>\n",
       "      <td>Red</td>\n",
       "      <td>Full-bodied</td>\n",
       "      <td>5.0</td>\n",
       "    </tr>\n",
       "  </tbody>\n",
       "</table>\n",
       "<p>2 rows × 42 columns</p>\n",
       "</div>"
      ]
     },
     "execution_count": 28,
     "metadata": {},
     "output_type": "execute_result"
    }
   ],
   "execution_count": 28
  },
  {
   "metadata": {
    "ExecuteTime": {
     "end_time": "2024-09-24T19:52:02.005357Z",
     "start_time": "2024-09-24T19:52:01.999565Z"
    }
   },
   "cell_type": "code",
   "source": "# each property gets a score from each user, based on the ordering. Then sum the scores of each characteristic and choose the wine that have those characteristics. If multiple wines, then choose based on the rating (todo)",
   "id": "5f09e5caf23a0f2",
   "outputs": [],
   "execution_count": 31
  },
  {
   "metadata": {
    "ExecuteTime": {
     "end_time": "2024-09-25T18:46:20.116376Z",
     "start_time": "2024-09-25T18:46:19.969127Z"
    }
   },
   "cell_type": "code",
   "source": [
    "def score_characteristics(recommendations):\n",
    "    scores = {\"Type\": {}, \"Body\": {}}\n",
    "    score = len(recommendations)\n",
    "    c = 0\n",
    "    for wine in recommendations:\n",
    "        for key, value in wine.items():\n",
    "            if key in [\"WineID\", \"Rating\"]:\n",
    "                continue\n",
    "            if key == \"Type\":\n",
    "                if value not in scores[\"Type\"]:\n",
    "                    scores[\"Type\"][value] = score-c\n",
    "                else:\n",
    "                    scores[\"Type\"][value] += score-c\n",
    "            elif key == \"Body\":\n",
    "                if value not in scores[\"Body\"]:\n",
    "                    scores[\"Body\"][value] = score-c\n",
    "                else:\n",
    "                    scores[\"Body\"][value] += score-c\n",
    "        c+=1\n",
    "    \n",
    "    return scores\n",
    "\n",
    "category_weights_by_user = []\n",
    "for index, row in knn_recommendation_df.iterrows():\n",
    "    x = score_characteristics(row.knn_recommendations)\n",
    "    category_weights_by_user.append(x)\n",
    "    print(x)"
   ],
   "id": "627a5178a16e904c",
   "outputs": [
    {
     "name": "stdout",
     "output_type": "stream",
     "text": [
      "{'Type': {'Sparkling': 55}, 'Body': {'Medium-bodied': 55}}\n",
      "{'Type': {'Red': 55}, 'Body': {'Full-bodied': 55}}\n"
     ]
    }
   ],
   "execution_count": 47
  },
  {
   "metadata": {
    "ExecuteTime": {
     "end_time": "2024-09-25T18:51:10.465777Z",
     "start_time": "2024-09-25T18:51:10.414586Z"
    }
   },
   "cell_type": "code",
   "source": [
    "category_weights = {\"Type\": {}, \"Body\": {}}\n",
    "for i in category_weights_by_user:\n",
    "    for key, value in i[\"Type\"].items():\n",
    "        if key not in category_weights:\n",
    "            category_weights[\"Type\"][key] = value\n",
    "        else:\n",
    "            category_weights[\"Type\"][key] += value\n",
    "        \n",
    "    for key, value in i[\"Body\"].items():\n",
    "        if key not in category_weights:\n",
    "            category_weights[\"Body\"][key] = value\n",
    "        else:\n",
    "            category_weights[\"Body\"][key] += value\n",
    "\n",
    "category_weights"
   ],
   "id": "3c73caf9c84e91ec",
   "outputs": [
    {
     "data": {
      "text/plain": [
       "{'Type': {'Sparkling': 55, 'Red': 55},\n",
       " 'Body': {'Medium-bodied': 55, 'Full-bodied': 55}}"
      ]
     },
     "execution_count": 49,
     "metadata": {},
     "output_type": "execute_result"
    }
   ],
   "execution_count": 49
  },
  {
   "metadata": {
    "ExecuteTime": {
     "end_time": "2024-09-25T18:53:07.191993Z",
     "start_time": "2024-09-25T18:53:07.174642Z"
    }
   },
   "cell_type": "code",
   "source": [
    "# order according to the scores\n",
    "category_weights_sorted = {\"Type\": {}, \"Body\": {}}\n",
    "for key, value in category_weights.items():\n",
    "    category_weights_sorted[key] = dict(sorted(category_weights[key].items(), key=lambda item: item[1], reverse=True))\n",
    "\n",
    "category_weights_sorted"
   ],
   "id": "ccfa9614389af481",
   "outputs": [
    {
     "data": {
      "text/plain": [
       "{'Type': {'Sparkling': 55, 'Red': 55},\n",
       " 'Body': {'Medium-bodied': 55, 'Full-bodied': 55}}"
      ]
     },
     "execution_count": 51,
     "metadata": {},
     "output_type": "execute_result"
    }
   ],
   "execution_count": 51
  },
  {
   "metadata": {
    "ExecuteTime": {
     "end_time": "2024-09-25T19:15:59.680147Z",
     "start_time": "2024-09-25T19:15:59.633336Z"
    }
   },
   "cell_type": "code",
   "source": [
    "# select wine with top categories of each type\n",
    "def get_wine_with_top_categories(category_weights_sorted=category_weights_sorted, top_type_index=1, top_body_index=1):\n",
    "    top_type = list(category_weights_sorted[\"Type\"].keys())[top_type_index-1]\n",
    "    top_body = list(category_weights_sorted[\"Body\"].keys())[top_body_index-1]\n",
    "    \n",
    "    # find a wine with these categories\n",
    "    selection = wine_data.where((wine_data['Type'] == top_type) & (wine_data['Body'] == top_body)).dropna()\n",
    "    \n",
    "    if selection.shape[0] == 0:\n",
    "        if top_type_index == top_body_index:\n",
    "            selection = get_wine_with_top_categories(category_weights_sorted=category_weights_sorted, top_type_index=top_type_index+1, top_body_index=top_body_index)\n",
    "        else:\n",
    "            selection = get_wine_with_top_categories(category_weights_sorted=category_weights_sorted,top_type_index=top_type_index, top_body_index=top_body_index+1)\n",
    "    \n",
    "    return selection.head(1)\n",
    "\n",
    "get_wine_with_top_categories()"
   ],
   "id": "735c6793e7ba9f63",
   "outputs": [
    {
     "data": {
      "text/plain": [
       "     WineID            WineName       Type      Elaborate              Grapes  \\\n",
       "0  100001.0  Espumante Moscatel  Sparkling  Varietal/100%  ['Muscat/Moscato']   \n",
       "\n",
       "                            Harmonize  ABV           Body Acidity Code  \\\n",
       "0  ['Pork', 'Rich Fish', 'Shellfish']  7.5  Medium-bodied    High   BR   \n",
       "\n",
       "  Country  RegionID    RegionName  WineryID   WineryName  \\\n",
       "0  Brazil    1001.0  Serra Gaúcha   10001.0  Casa Perini   \n",
       "\n",
       "                            Website  \\\n",
       "0  http://www.vinicolaperini.com.br   \n",
       "\n",
       "                                                                                                                                                                                                                           Vintages  \n",
       "0  [2020, 2019, 2018, 2017, 2016, 2015, 2014, 2013, 2012, 2011, 2010, 2009, 2008, 2007, 2006, 2005, 2003, 2002, 2001, 2000, 1999, 1998, 1997, 1996, 1995, 1993, 1992, 1991, 1990, 1989, 1988, 1985, 1982, 1980, 1970, 1966, 'N.V.']  "
      ],
      "text/html": [
       "<div>\n",
       "<style scoped>\n",
       "    .dataframe tbody tr th:only-of-type {\n",
       "        vertical-align: middle;\n",
       "    }\n",
       "\n",
       "    .dataframe tbody tr th {\n",
       "        vertical-align: top;\n",
       "    }\n",
       "\n",
       "    .dataframe thead th {\n",
       "        text-align: right;\n",
       "    }\n",
       "</style>\n",
       "<table border=\"1\" class=\"dataframe\">\n",
       "  <thead>\n",
       "    <tr style=\"text-align: right;\">\n",
       "      <th></th>\n",
       "      <th>WineID</th>\n",
       "      <th>WineName</th>\n",
       "      <th>Type</th>\n",
       "      <th>Elaborate</th>\n",
       "      <th>Grapes</th>\n",
       "      <th>Harmonize</th>\n",
       "      <th>ABV</th>\n",
       "      <th>Body</th>\n",
       "      <th>Acidity</th>\n",
       "      <th>Code</th>\n",
       "      <th>Country</th>\n",
       "      <th>RegionID</th>\n",
       "      <th>RegionName</th>\n",
       "      <th>WineryID</th>\n",
       "      <th>WineryName</th>\n",
       "      <th>Website</th>\n",
       "      <th>Vintages</th>\n",
       "    </tr>\n",
       "  </thead>\n",
       "  <tbody>\n",
       "    <tr>\n",
       "      <th>0</th>\n",
       "      <td>100001.0</td>\n",
       "      <td>Espumante Moscatel</td>\n",
       "      <td>Sparkling</td>\n",
       "      <td>Varietal/100%</td>\n",
       "      <td>['Muscat/Moscato']</td>\n",
       "      <td>['Pork', 'Rich Fish', 'Shellfish']</td>\n",
       "      <td>7.5</td>\n",
       "      <td>Medium-bodied</td>\n",
       "      <td>High</td>\n",
       "      <td>BR</td>\n",
       "      <td>Brazil</td>\n",
       "      <td>1001.0</td>\n",
       "      <td>Serra Gaúcha</td>\n",
       "      <td>10001.0</td>\n",
       "      <td>Casa Perini</td>\n",
       "      <td>http://www.vinicolaperini.com.br</td>\n",
       "      <td>[2020, 2019, 2018, 2017, 2016, 2015, 2014, 2013, 2012, 2011, 2010, 2009, 2008, 2007, 2006, 2005, 2003, 2002, 2001, 2000, 1999, 1998, 1997, 1996, 1995, 1993, 1992, 1991, 1990, 1989, 1988, 1985, 1982, 1980, 1970, 1966, 'N.V.']</td>\n",
       "    </tr>\n",
       "  </tbody>\n",
       "</table>\n",
       "</div>"
      ]
     },
     "execution_count": 64,
     "metadata": {},
     "output_type": "execute_result"
    }
   ],
   "execution_count": 64
  },
  {
   "metadata": {},
   "cell_type": "code",
   "outputs": [],
   "execution_count": null,
   "source": "",
   "id": "64a5cbbc62cea14d"
  }
 ],
 "metadata": {
  "kernelspec": {
   "display_name": "Python 3",
   "language": "python",
   "name": "python3"
  },
  "language_info": {
   "codemirror_mode": {
    "name": "ipython",
    "version": 2
   },
   "file_extension": ".py",
   "mimetype": "text/x-python",
   "name": "python",
   "nbconvert_exporter": "python",
   "pygments_lexer": "ipython2",
   "version": "2.7.6"
  }
 },
 "nbformat": 4,
 "nbformat_minor": 5
}
