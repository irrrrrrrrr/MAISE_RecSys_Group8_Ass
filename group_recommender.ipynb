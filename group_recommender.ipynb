{
 "cells": [
  {
   "cell_type": "code",
   "id": "initial_id",
   "metadata": {
    "collapsed": true,
    "ExecuteTime": {
     "end_time": "2024-09-21T18:37:58.391405Z",
     "start_time": "2024-09-21T18:37:57.853033Z"
    }
   },
   "source": [
    "import pandas as pd\n",
    "\n",
    "# Load the two datasets (replace 'ratings.csv' and 'wine_characteristics.csv' with your actual CSV file paths)\n",
    "ratings_data = pd.read_csv('Dataset/last/XWines_Slim_150K_ratings.csv')\n",
    "wine_data = pd.read_csv('Dataset/last/XWines_Slim_1K_wines.csv')\n",
    "\n",
    "# Merge the two datasets on 'wine_id'\n",
    "merged_data = pd.merge(ratings_data, wine_data, on='WineID')\n",
    "\n",
    "# Function to find the best-rated wine or suggest a completely different one if rating < 4\n",
    "def recommend_wine_for_user(user_id, merged_data):\n",
    "    # Filter wines rated by the specific user\n",
    "    user_wines = merged_data[merged_data['UserID'] == user_id]\n",
    "\n",
    "    if user_wines.empty:\n",
    "        return f\"No wines found for user {user_id}.\"\n",
    "\n",
    "    # Find the wine with the highest rating by the user\n",
    "    best_rated_wine = user_wines.loc[user_wines['Rating'].idxmax()]\n",
    "\n",
    "    # If the best rating is 4 or higher, return that wine\n",
    "    if best_rated_wine['Rating'] >= 4:\n",
    "        return f\"Best rated wine for user {user_id}: {best_rated_wine['WineID']} (Rating: {best_rated_wine['Rating']})\"\n",
    "\n",
    "    # If no wine has a rating of 4 or higher, find a completely different wine\n",
    "    else:\n",
    "        # Find a wine that is different in terms of 'wine_type', 'wine_body', etc.\n",
    "        # Define characteristics to consider (adjust based on your dataset)\n",
    "        characteristics = ['Type', 'Body']\n",
    "\n",
    "        # Filter out wines that are similar to the one the user rated poorly\n",
    "        different_wines = merged_data\n",
    "        for char in characteristics:\n",
    "            different_wines = different_wines[different_wines[char] != best_rated_wine[char]]\n",
    "\n",
    "        # If there are still wines left, choose one randomly or based on rating\n",
    "        if not different_wines.empty:\n",
    "            recommended_wine = different_wines.sample().iloc[0]  # Sample one random different wine\n",
    "            return f\"User {user_id} rated less than 4. Suggesting different wine: {recommended_wine['WineID']}\"\n",
    "\n",
    "        return f\"No sufficiently different wines found for user {user_id}.\"\n",
    "\n",
    "# Example usage for a specific user (replace with an actual user_id from your dataset)\n",
    "user_id = 1006724  # Replace with the actual user_id you want to check\n",
    "result = recommend_wine_for_user(user_id, merged_data)\n",
    "print(result)\n"
   ],
   "outputs": [
    {
     "name": "stderr",
     "output_type": "stream",
     "text": [
      "/var/folders/qx/s0s669bd3mx83v921rrrxcjw0000gn/T/ipykernel_97552/2428498603.py:4: DtypeWarning: Columns (3) have mixed types. Specify dtype option on import or set low_memory=False.\n",
      "  ratings_data = pd.read_csv('Dataset/last/XWines_Slim_150K_ratings.csv')\n"
     ]
    },
    {
     "name": "stdout",
     "output_type": "stream",
     "text": [
      "User 1006724 rated less than 4. Suggesting different wine: 193483\n"
     ]
    }
   ],
   "execution_count": 15
  },
  {
   "metadata": {
    "ExecuteTime": {
     "end_time": "2024-09-21T18:37:33.243014Z",
     "start_time": "2024-09-21T18:37:32.861728Z"
    }
   },
   "cell_type": "code",
   "source": [
    "\n",
    "# Load the ratings dataset (replace 'ratings.csv' with your actual file path)\n",
    "ratings_data = pd.read_csv('Dataset/last/XWines_Slim_150K_ratings.csv')\n",
    "\n",
    "# Group by 'user_id' and find the maximum rating for each user\n",
    "user_max_ratings = ratings_data.groupby('UserID')['Rating'].max()\n",
    "\n",
    "# Filter to get only users whose max rating was 3\n",
    "users_with_max_rating_3 = user_max_ratings[user_max_ratings == 3].index\n",
    "\n",
    "# Print the list of users whose maximum rating was 3\n",
    "print(\"Users whose maximum rating was 3:\")\n",
    "print(users_with_max_rating_3)\n"
   ],
   "id": "abd72c3160e9abac",
   "outputs": [
    {
     "name": "stdout",
     "output_type": "stream",
     "text": [
      "Users whose maximum rating was 3:\n",
      "Index([1006724, 1056257, 1145862, 1196247, 1197650, 1220278, 1245717, 1279250,\n",
      "       1290651, 1316369, 1334222, 1380716, 1391592, 1393496, 1397551, 1400386,\n",
      "       1406797, 1420747, 1558571, 1563515, 1664756, 1719976, 1760544, 1762859,\n",
      "       1781649, 1816088, 1843929, 1936578, 1944444, 1977712, 1997980, 2061195],\n",
      "      dtype='int64', name='UserID')\n"
     ]
    },
    {
     "name": "stderr",
     "output_type": "stream",
     "text": [
      "/var/folders/qx/s0s669bd3mx83v921rrrxcjw0000gn/T/ipykernel_97552/744726888.py:2: DtypeWarning: Columns (3) have mixed types. Specify dtype option on import or set low_memory=False.\n",
      "  ratings_data = pd.read_csv('Dataset/last/XWines_Slim_150K_ratings.csv')\n"
     ]
    }
   ],
   "execution_count": 14
  },
  {
   "metadata": {
    "ExecuteTime": {
     "end_time": "2024-09-21T18:52:41.286629Z",
     "start_time": "2024-09-21T18:52:40.590606Z"
    }
   },
   "cell_type": "code",
   "source": [
    "from sklearn.neighbors import NearestNeighbors\n",
    "from sklearn.preprocessing import OneHotEncoder\n",
    "\n",
    "\n",
    "# Function to find the top-rated wine by a user and recommend similar wines using KNN\n",
    "def recommend_similar_wines(user_id, merged_data, k=10):\n",
    "    # Filter the wines rated by the specific user\n",
    "    user_wines = merged_data[merged_data['UserID'] == user_id]\n",
    "\n",
    "    if user_wines.empty:\n",
    "        return f\"No wines found for user {user_id}.\"\n",
    "\n",
    "    # Find the top-rated wine for this user\n",
    "    top_rated_wine = user_wines.loc[user_wines['Rating'].idxmax()]\n",
    "\n",
    "    # Extract relevant features (e.g., 'Type', 'Body') for KNN\n",
    "    features = ['Type', 'Body']  # Adjust based on your dataset\n",
    "\n",
    "    # Prepare the dataset for KNN (focus on wine characteristics, exclude 'WineID')\n",
    "    wine_features = merged_data[features]\n",
    "\n",
    "    # Apply OneHotEncoding to handle categorical variables like 'Type' and 'Body'\n",
    "    encoder = OneHotEncoder(sparse_output=False)\n",
    "    encoded_wine_features = encoder.fit_transform(wine_features)\n",
    "\n",
    "    # Fit KNN model\n",
    "    knn_model = NearestNeighbors(n_neighbors=k, metric='euclidean')\n",
    "    knn_model.fit(encoded_wine_features)\n",
    "\n",
    "    # Encode the top-rated wine's features (ensure it is passed as a DataFrame with feature names)\n",
    "    top_rated_wine_features = pd.DataFrame([top_rated_wine[features]], columns=features)\n",
    "    encoded_top_rated_wine_features = encoder.transform(top_rated_wine_features)\n",
    "\n",
    "    # Find K nearest wines to the top-rated wine\n",
    "    distances, indices = knn_model.kneighbors(encoded_top_rated_wine_features)\n",
    "\n",
    "    # Get the recommended similar wines (excluding the top-rated wine itself)\n",
    "    recommended_wines = merged_data.iloc[indices[0]]\n",
    "\n",
    "    # Exclude the top-rated wine itself from the recommendations\n",
    "    recommended_wines = recommended_wines[recommended_wines['WineID'] != top_rated_wine['WineID']]\n",
    "\n",
    "    return recommended_wines[['WineID', 'Type', 'Body']]\n",
    "\n",
    "\n",
    "# Example usage for a specific user (replace with an actual user_id from your dataset)\n",
    "user_id = 1356810  # Replace with the actual user_id you want to check\n",
    "\n",
    "# Find the best wine for the user\n",
    "result = recommend_wine_for_user(user_id, merged_data)\n",
    "print(result)\n",
    "\n",
    "# Recommend similar wines based on the top-rated wine\n",
    "recommended_wines = recommend_similar_wines(user_id, merged_data)\n",
    "\n",
    "# Display the recommended wines\n",
    "print(recommended_wines)"
   ],
   "id": "171dc8819e463d07",
   "outputs": [
    {
     "name": "stdout",
     "output_type": "stream",
     "text": [
      "Best rated wine for user 1356810: 112084 (Rating: 5.0)\n",
      "     WineID       Type           Body\n",
      "25   102547  Sparkling  Medium-bodied\n",
      "153  116266  Sparkling  Medium-bodied\n",
      "150  111484  Sparkling  Medium-bodied\n",
      "64   111927  Sparkling  Medium-bodied\n",
      "127  111544  Sparkling  Medium-bodied\n",
      "78   111479  Sparkling  Medium-bodied\n",
      "37   116266  Sparkling  Medium-bodied\n",
      "107  111544  Sparkling  Medium-bodied\n",
      "93   111544  Sparkling  Medium-bodied\n"
     ]
    }
   ],
   "execution_count": 17
  },
  {
   "metadata": {},
   "cell_type": "code",
   "outputs": [],
   "execution_count": null,
   "source": "",
   "id": "eafd67c2e1e1de31"
  }
 ],
 "metadata": {
  "kernelspec": {
   "display_name": "Python 3",
   "language": "python",
   "name": "python3"
  },
  "language_info": {
   "codemirror_mode": {
    "name": "ipython",
    "version": 2
   },
   "file_extension": ".py",
   "mimetype": "text/x-python",
   "name": "python",
   "nbconvert_exporter": "python",
   "pygments_lexer": "ipython2",
   "version": "2.7.6"
  }
 },
 "nbformat": 4,
 "nbformat_minor": 5
}
