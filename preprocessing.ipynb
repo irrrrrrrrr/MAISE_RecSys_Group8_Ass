{
 "cells": [
  {
   "cell_type": "markdown",
   "metadata": {},
   "source": [
    "### Importing the dataset"
   ]
  },
  {
   "cell_type": "code",
   "execution_count": 1,
   "metadata": {},
   "outputs": [],
   "source": [
    "import pandas as pd\n",
    "import numpy as np\n",
    "\n",
    "pd.set_option('display.max_columns', None)"
   ]
  },
  {
   "cell_type": "code",
   "execution_count": 2,
   "metadata": {},
   "outputs": [],
   "source": [
    "wines = pd.read_csv(\"Dataset/last/XWines_Slim_1K_wines.csv\", encoding=\"utf-8\")\n",
    "ratings = pd.read_csv(\"Dataset/last/XWines_Slim_150K_ratings.csv\", low_memory=False)"
   ]
  },
  {
   "cell_type": "code",
   "execution_count": 3,
   "metadata": {},
   "outputs": [
    {
     "data": {
      "text/html": [
       "<div>\n",
       "<style scoped>\n",
       "    .dataframe tbody tr th:only-of-type {\n",
       "        vertical-align: middle;\n",
       "    }\n",
       "\n",
       "    .dataframe tbody tr th {\n",
       "        vertical-align: top;\n",
       "    }\n",
       "\n",
       "    .dataframe thead th {\n",
       "        text-align: right;\n",
       "    }\n",
       "</style>\n",
       "<table border=\"1\" class=\"dataframe\">\n",
       "  <thead>\n",
       "    <tr style=\"text-align: right;\">\n",
       "      <th></th>\n",
       "      <th>WineID</th>\n",
       "      <th>WineName</th>\n",
       "      <th>Type</th>\n",
       "      <th>Elaborate</th>\n",
       "      <th>Grapes</th>\n",
       "      <th>Harmonize</th>\n",
       "      <th>ABV</th>\n",
       "      <th>Body</th>\n",
       "      <th>Acidity</th>\n",
       "      <th>Code</th>\n",
       "      <th>Country</th>\n",
       "      <th>RegionID</th>\n",
       "      <th>RegionName</th>\n",
       "      <th>WineryID</th>\n",
       "      <th>WineryName</th>\n",
       "      <th>Website</th>\n",
       "      <th>Vintages</th>\n",
       "    </tr>\n",
       "  </thead>\n",
       "  <tbody>\n",
       "    <tr>\n",
       "      <th>0</th>\n",
       "      <td>100001</td>\n",
       "      <td>Espumante Moscatel</td>\n",
       "      <td>Sparkling</td>\n",
       "      <td>Varietal/100%</td>\n",
       "      <td>['Muscat/Moscato']</td>\n",
       "      <td>['Pork', 'Rich Fish', 'Shellfish']</td>\n",
       "      <td>7.5</td>\n",
       "      <td>Medium-bodied</td>\n",
       "      <td>High</td>\n",
       "      <td>BR</td>\n",
       "      <td>Brazil</td>\n",
       "      <td>1001</td>\n",
       "      <td>Serra Gaúcha</td>\n",
       "      <td>10001</td>\n",
       "      <td>Casa Perini</td>\n",
       "      <td>http://www.vinicolaperini.com.br</td>\n",
       "      <td>[2020, 2019, 2018, 2017, 2016, 2015, 2014, 201...</td>\n",
       "    </tr>\n",
       "    <tr>\n",
       "      <th>1</th>\n",
       "      <td>100002</td>\n",
       "      <td>Ancellotta</td>\n",
       "      <td>Red</td>\n",
       "      <td>Varietal/100%</td>\n",
       "      <td>['Ancellotta']</td>\n",
       "      <td>['Beef', 'Barbecue', 'Codfish', 'Pasta', 'Pizz...</td>\n",
       "      <td>12.0</td>\n",
       "      <td>Medium-bodied</td>\n",
       "      <td>Medium</td>\n",
       "      <td>BR</td>\n",
       "      <td>Brazil</td>\n",
       "      <td>1001</td>\n",
       "      <td>Serra Gaúcha</td>\n",
       "      <td>10001</td>\n",
       "      <td>Casa Perini</td>\n",
       "      <td>http://www.vinicolaperini.com.br</td>\n",
       "      <td>[2016, 2015, 2014, 2013, 2012, 2011, 2010, 200...</td>\n",
       "    </tr>\n",
       "  </tbody>\n",
       "</table>\n",
       "</div>"
      ],
      "text/plain": [
       "   WineID            WineName       Type      Elaborate              Grapes  \\\n",
       "0  100001  Espumante Moscatel  Sparkling  Varietal/100%  ['Muscat/Moscato']   \n",
       "1  100002          Ancellotta        Red  Varietal/100%      ['Ancellotta']   \n",
       "\n",
       "                                           Harmonize   ABV           Body  \\\n",
       "0                 ['Pork', 'Rich Fish', 'Shellfish']   7.5  Medium-bodied   \n",
       "1  ['Beef', 'Barbecue', 'Codfish', 'Pasta', 'Pizz...  12.0  Medium-bodied   \n",
       "\n",
       "  Acidity Code Country  RegionID    RegionName  WineryID   WineryName  \\\n",
       "0    High   BR  Brazil      1001  Serra Gaúcha     10001  Casa Perini   \n",
       "1  Medium   BR  Brazil      1001  Serra Gaúcha     10001  Casa Perini   \n",
       "\n",
       "                            Website  \\\n",
       "0  http://www.vinicolaperini.com.br   \n",
       "1  http://www.vinicolaperini.com.br   \n",
       "\n",
       "                                            Vintages  \n",
       "0  [2020, 2019, 2018, 2017, 2016, 2015, 2014, 201...  \n",
       "1  [2016, 2015, 2014, 2013, 2012, 2011, 2010, 200...  "
      ]
     },
     "execution_count": 3,
     "metadata": {},
     "output_type": "execute_result"
    }
   ],
   "source": [
    "wines.head(2)"
   ]
  },
  {
   "cell_type": "code",
   "execution_count": 4,
   "metadata": {},
   "outputs": [
    {
     "data": {
      "text/html": [
       "<div>\n",
       "<style scoped>\n",
       "    .dataframe tbody tr th:only-of-type {\n",
       "        vertical-align: middle;\n",
       "    }\n",
       "\n",
       "    .dataframe tbody tr th {\n",
       "        vertical-align: top;\n",
       "    }\n",
       "\n",
       "    .dataframe thead th {\n",
       "        text-align: right;\n",
       "    }\n",
       "</style>\n",
       "<table border=\"1\" class=\"dataframe\">\n",
       "  <thead>\n",
       "    <tr style=\"text-align: right;\">\n",
       "      <th></th>\n",
       "      <th>RatingID</th>\n",
       "      <th>UserID</th>\n",
       "      <th>WineID</th>\n",
       "      <th>Vintage</th>\n",
       "      <th>Rating</th>\n",
       "      <th>Date</th>\n",
       "    </tr>\n",
       "  </thead>\n",
       "  <tbody>\n",
       "    <tr>\n",
       "      <th>0</th>\n",
       "      <td>143</td>\n",
       "      <td>1356810</td>\n",
       "      <td>103471</td>\n",
       "      <td>1950</td>\n",
       "      <td>4.5</td>\n",
       "      <td>2021-11-02 20:52:59</td>\n",
       "    </tr>\n",
       "    <tr>\n",
       "      <th>1</th>\n",
       "      <td>199</td>\n",
       "      <td>1173759</td>\n",
       "      <td>111415</td>\n",
       "      <td>1951</td>\n",
       "      <td>5.0</td>\n",
       "      <td>2015-08-20 17:46:26</td>\n",
       "    </tr>\n",
       "    <tr>\n",
       "      <th>2</th>\n",
       "      <td>348</td>\n",
       "      <td>1164877</td>\n",
       "      <td>111395</td>\n",
       "      <td>1952</td>\n",
       "      <td>5.0</td>\n",
       "      <td>2020-11-13 05:40:26</td>\n",
       "    </tr>\n",
       "    <tr>\n",
       "      <th>3</th>\n",
       "      <td>374</td>\n",
       "      <td>1207665</td>\n",
       "      <td>111433</td>\n",
       "      <td>1953</td>\n",
       "      <td>5.0</td>\n",
       "      <td>2017-05-05 06:44:13</td>\n",
       "    </tr>\n",
       "    <tr>\n",
       "      <th>4</th>\n",
       "      <td>834</td>\n",
       "      <td>1075841</td>\n",
       "      <td>111431</td>\n",
       "      <td>1955</td>\n",
       "      <td>5.0</td>\n",
       "      <td>2016-09-14 20:18:38</td>\n",
       "    </tr>\n",
       "  </tbody>\n",
       "</table>\n",
       "</div>"
      ],
      "text/plain": [
       "   RatingID   UserID  WineID Vintage  Rating                 Date\n",
       "0       143  1356810  103471    1950     4.5  2021-11-02 20:52:59\n",
       "1       199  1173759  111415    1951     5.0  2015-08-20 17:46:26\n",
       "2       348  1164877  111395    1952     5.0  2020-11-13 05:40:26\n",
       "3       374  1207665  111433    1953     5.0  2017-05-05 06:44:13\n",
       "4       834  1075841  111431    1955     5.0  2016-09-14 20:18:38"
      ]
     },
     "execution_count": 4,
     "metadata": {},
     "output_type": "execute_result"
    }
   ],
   "source": [
    "ratings.head(5)"
   ]
  },
  {
   "cell_type": "markdown",
   "metadata": {},
   "source": [
    "### Preprocessing"
   ]
  },
  {
   "cell_type": "markdown",
   "metadata": {},
   "source": [
    "#### Joining the datasets"
   ]
  },
  {
   "cell_type": "code",
   "execution_count": 5,
   "metadata": {},
   "outputs": [],
   "source": [
    "wines_ratings = pd.merge(wines, ratings, on=\"WineID\")"
   ]
  },
  {
   "cell_type": "markdown",
   "metadata": {},
   "source": [
    "#### Selecting the variables"
   ]
  },
  {
   "cell_type": "code",
   "execution_count": 6,
   "metadata": {},
   "outputs": [
    {
     "data": {
      "text/plain": [
       "Index(['WineID', 'WineName', 'Type', 'Elaborate', 'Grapes', 'Harmonize', 'ABV',\n",
       "       'Body', 'Acidity', 'Code', 'Country', 'RegionID', 'RegionName',\n",
       "       'WineryID', 'WineryName', 'Website', 'Vintages', 'RatingID', 'UserID',\n",
       "       'Vintage', 'Rating', 'Date'],\n",
       "      dtype='object')"
      ]
     },
     "execution_count": 6,
     "metadata": {},
     "output_type": "execute_result"
    }
   ],
   "source": [
    "wines_ratings.columns"
   ]
  },
  {
   "cell_type": "code",
   "execution_count": 7,
   "metadata": {},
   "outputs": [
    {
     "name": "stdout",
     "output_type": "stream",
     "text": [
      "<class 'pandas.core.frame.DataFrame'>\n",
      "RangeIndex: 150000 entries, 0 to 149999\n",
      "Data columns (total 22 columns):\n",
      " #   Column      Non-Null Count   Dtype  \n",
      "---  ------      --------------   -----  \n",
      " 0   WineID      150000 non-null  int64  \n",
      " 1   WineName    150000 non-null  object \n",
      " 2   Type        150000 non-null  object \n",
      " 3   Elaborate   150000 non-null  object \n",
      " 4   Grapes      150000 non-null  object \n",
      " 5   Harmonize   150000 non-null  object \n",
      " 6   ABV         150000 non-null  float64\n",
      " 7   Body        150000 non-null  object \n",
      " 8   Acidity     150000 non-null  object \n",
      " 9   Code        150000 non-null  object \n",
      " 10  Country     150000 non-null  object \n",
      " 11  RegionID    150000 non-null  int64  \n",
      " 12  RegionName  150000 non-null  object \n",
      " 13  WineryID    150000 non-null  int64  \n",
      " 14  WineryName  150000 non-null  object \n",
      " 15  Website     139935 non-null  object \n",
      " 16  Vintages    150000 non-null  object \n",
      " 17  RatingID    150000 non-null  int64  \n",
      " 18  UserID      150000 non-null  int64  \n",
      " 19  Vintage     150000 non-null  object \n",
      " 20  Rating      150000 non-null  float64\n",
      " 21  Date        150000 non-null  object \n",
      "dtypes: float64(2), int64(5), object(15)\n",
      "memory usage: 25.2+ MB\n"
     ]
    }
   ],
   "source": [
    "wines_ratings.info()"
   ]
  },
  {
   "cell_type": "code",
   "execution_count": 8,
   "metadata": {},
   "outputs": [],
   "source": [
    "wines_ratings = wines_ratings[\n",
    "    [\n",
    "        \"RatingID\",\n",
    "        \"UserID\",\n",
    "        \"Rating\",\n",
    "        \"WineName\",\n",
    "        \"Vintage\",\n",
    "        \"Type\",\n",
    "        \"Elaborate\",\n",
    "        \"Grapes\",\n",
    "        \"Harmonize\",\n",
    "        \"ABV\",\n",
    "        \"Body\",\n",
    "        \"Acidity\",\n",
    "        \"Country\",\n",
    "        \"RegionName\",\n",
    "        \"WineryName\",\n",
    "    ]\n",
    "]"
   ]
  },
  {
   "cell_type": "markdown",
   "metadata": {},
   "source": [
    "#### Replacing special characters"
   ]
  },
  {
   "cell_type": "code",
   "execution_count": 9,
   "metadata": {},
   "outputs": [
    {
     "data": {
      "text/html": [
       "<div>\n",
       "<style scoped>\n",
       "    .dataframe tbody tr th:only-of-type {\n",
       "        vertical-align: middle;\n",
       "    }\n",
       "\n",
       "    .dataframe tbody tr th {\n",
       "        vertical-align: top;\n",
       "    }\n",
       "\n",
       "    .dataframe thead th {\n",
       "        text-align: right;\n",
       "    }\n",
       "</style>\n",
       "<table border=\"1\" class=\"dataframe\">\n",
       "  <thead>\n",
       "    <tr style=\"text-align: right;\">\n",
       "      <th></th>\n",
       "      <th>RatingID</th>\n",
       "      <th>UserID</th>\n",
       "      <th>Rating</th>\n",
       "      <th>WineName</th>\n",
       "      <th>Vintage</th>\n",
       "      <th>Type</th>\n",
       "      <th>Elaborate</th>\n",
       "      <th>Grapes</th>\n",
       "      <th>Harmonize</th>\n",
       "      <th>ABV</th>\n",
       "      <th>Body</th>\n",
       "      <th>Acidity</th>\n",
       "      <th>Country</th>\n",
       "      <th>RegionName</th>\n",
       "      <th>WineryName</th>\n",
       "    </tr>\n",
       "  </thead>\n",
       "  <tbody>\n",
       "    <tr>\n",
       "      <th>0</th>\n",
       "      <td>326545</td>\n",
       "      <td>1756594</td>\n",
       "      <td>4.0</td>\n",
       "      <td>Espumante Moscatel</td>\n",
       "      <td>1999</td>\n",
       "      <td>Sparkling</td>\n",
       "      <td>Varietal/100%</td>\n",
       "      <td>['Muscat/Moscato']</td>\n",
       "      <td>['Pork', 'Rich Fish', 'Shellfish']</td>\n",
       "      <td>7.5</td>\n",
       "      <td>Medium-bodied</td>\n",
       "      <td>High</td>\n",
       "      <td>Brazil</td>\n",
       "      <td>Serra Gaúcha</td>\n",
       "      <td>Casa Perini</td>\n",
       "    </tr>\n",
       "    <tr>\n",
       "      <th>1</th>\n",
       "      <td>1314107</td>\n",
       "      <td>1219305</td>\n",
       "      <td>2.5</td>\n",
       "      <td>Espumante Moscatel</td>\n",
       "      <td>2007</td>\n",
       "      <td>Sparkling</td>\n",
       "      <td>Varietal/100%</td>\n",
       "      <td>['Muscat/Moscato']</td>\n",
       "      <td>['Pork', 'Rich Fish', 'Shellfish']</td>\n",
       "      <td>7.5</td>\n",
       "      <td>Medium-bodied</td>\n",
       "      <td>High</td>\n",
       "      <td>Brazil</td>\n",
       "      <td>Serra Gaúcha</td>\n",
       "      <td>Casa Perini</td>\n",
       "    </tr>\n",
       "    <tr>\n",
       "      <th>2</th>\n",
       "      <td>1446366</td>\n",
       "      <td>2047929</td>\n",
       "      <td>3.5</td>\n",
       "      <td>Espumante Moscatel</td>\n",
       "      <td>2008</td>\n",
       "      <td>Sparkling</td>\n",
       "      <td>Varietal/100%</td>\n",
       "      <td>['Muscat/Moscato']</td>\n",
       "      <td>['Pork', 'Rich Fish', 'Shellfish']</td>\n",
       "      <td>7.5</td>\n",
       "      <td>Medium-bodied</td>\n",
       "      <td>High</td>\n",
       "      <td>Brazil</td>\n",
       "      <td>Serra Gaúcha</td>\n",
       "      <td>Casa Perini</td>\n",
       "    </tr>\n",
       "  </tbody>\n",
       "</table>\n",
       "</div>"
      ],
      "text/plain": [
       "   RatingID   UserID  Rating            WineName Vintage       Type  \\\n",
       "0    326545  1756594     4.0  Espumante Moscatel    1999  Sparkling   \n",
       "1   1314107  1219305     2.5  Espumante Moscatel    2007  Sparkling   \n",
       "2   1446366  2047929     3.5  Espumante Moscatel    2008  Sparkling   \n",
       "\n",
       "       Elaborate              Grapes                           Harmonize  ABV  \\\n",
       "0  Varietal/100%  ['Muscat/Moscato']  ['Pork', 'Rich Fish', 'Shellfish']  7.5   \n",
       "1  Varietal/100%  ['Muscat/Moscato']  ['Pork', 'Rich Fish', 'Shellfish']  7.5   \n",
       "2  Varietal/100%  ['Muscat/Moscato']  ['Pork', 'Rich Fish', 'Shellfish']  7.5   \n",
       "\n",
       "            Body Acidity Country    RegionName   WineryName  \n",
       "0  Medium-bodied    High  Brazil  Serra Gaúcha  Casa Perini  \n",
       "1  Medium-bodied    High  Brazil  Serra Gaúcha  Casa Perini  \n",
       "2  Medium-bodied    High  Brazil  Serra Gaúcha  Casa Perini  "
      ]
     },
     "execution_count": 9,
     "metadata": {},
     "output_type": "execute_result"
    }
   ],
   "source": [
    "wines_ratings.head(3)"
   ]
  },
  {
   "cell_type": "code",
   "execution_count": 10,
   "metadata": {},
   "outputs": [
    {
     "data": {
      "text/plain": [
       "0    ['Muscat/Moscato']\n",
       "1    ['Muscat/Moscato']\n",
       "2    ['Muscat/Moscato']\n",
       "3    ['Muscat/Moscato']\n",
       "4    ['Muscat/Moscato']\n",
       "Name: Grapes, dtype: object"
      ]
     },
     "execution_count": 10,
     "metadata": {},
     "output_type": "execute_result"
    }
   ],
   "source": [
    "wines_ratings['Grapes'].head()"
   ]
  },
  {
   "cell_type": "code",
   "execution_count": 11,
   "metadata": {},
   "outputs": [
    {
     "data": {
      "text/plain": [
       "0    Muscat/Moscato\n",
       "1    Muscat/Moscato\n",
       "2    Muscat/Moscato\n",
       "3    Muscat/Moscato\n",
       "4    Muscat/Moscato\n",
       "Name: Grapes, dtype: object"
      ]
     },
     "execution_count": 11,
     "metadata": {},
     "output_type": "execute_result"
    }
   ],
   "source": [
    "wines_ratings['Grapes'] = wines_ratings['Grapes'].str.replace(\"[\", \" \").str.replace(\"]\", \" \").str.replace(\"'\", \"\").str.strip()\n",
    "wines_ratings['Grapes'].head()"
   ]
  },
  {
   "cell_type": "code",
   "execution_count": 12,
   "metadata": {},
   "outputs": [
    {
     "data": {
      "text/plain": [
       "0    Mediumbodied\n",
       "1    Mediumbodied\n",
       "2    Mediumbodied\n",
       "3    Mediumbodied\n",
       "4    Mediumbodied\n",
       "Name: Body, dtype: object"
      ]
     },
     "execution_count": 12,
     "metadata": {},
     "output_type": "execute_result"
    }
   ],
   "source": [
    "wines_ratings['Body'] = wines_ratings['Body'].str.replace('-', '')\n",
    "wines_ratings['Body'].head()"
   ]
  },
  {
   "cell_type": "code",
   "execution_count": 13,
   "metadata": {},
   "outputs": [
    {
     "data": {
      "text/plain": [
       "0    Pork, Rich Fish, Shellfish\n",
       "1    Pork, Rich Fish, Shellfish\n",
       "2    Pork, Rich Fish, Shellfish\n",
       "3    Pork, Rich Fish, Shellfish\n",
       "4    Pork, Rich Fish, Shellfish\n",
       "Name: Harmonize, dtype: object"
      ]
     },
     "execution_count": 13,
     "metadata": {},
     "output_type": "execute_result"
    }
   ],
   "source": [
    "wines_ratings[\"Harmonize\"] = wines_ratings[\"Harmonize\"].str.replace(\"[\", \" \").str.replace(\"]\", \" \").str.replace(\"'\", \"\").str.strip()\n",
    "wines_ratings[\"Harmonize\"].head()"
   ]
  },
  {
   "cell_type": "code",
   "execution_count": 14,
   "metadata": {},
   "outputs": [
    {
     "data": {
      "text/html": [
       "<div>\n",
       "<style scoped>\n",
       "    .dataframe tbody tr th:only-of-type {\n",
       "        vertical-align: middle;\n",
       "    }\n",
       "\n",
       "    .dataframe tbody tr th {\n",
       "        vertical-align: top;\n",
       "    }\n",
       "\n",
       "    .dataframe thead th {\n",
       "        text-align: right;\n",
       "    }\n",
       "</style>\n",
       "<table border=\"1\" class=\"dataframe\">\n",
       "  <thead>\n",
       "    <tr style=\"text-align: right;\">\n",
       "      <th></th>\n",
       "      <th>RatingID</th>\n",
       "      <th>UserID</th>\n",
       "      <th>Rating</th>\n",
       "      <th>WineName</th>\n",
       "      <th>Vintage</th>\n",
       "      <th>Type</th>\n",
       "      <th>Elaborate</th>\n",
       "      <th>Grapes</th>\n",
       "      <th>Harmonize</th>\n",
       "      <th>ABV</th>\n",
       "      <th>Body</th>\n",
       "      <th>Acidity</th>\n",
       "      <th>Country</th>\n",
       "      <th>RegionName</th>\n",
       "      <th>WineryName</th>\n",
       "    </tr>\n",
       "  </thead>\n",
       "  <tbody>\n",
       "    <tr>\n",
       "      <th>0</th>\n",
       "      <td>326545</td>\n",
       "      <td>1756594</td>\n",
       "      <td>4.0</td>\n",
       "      <td>Espumante Moscatel</td>\n",
       "      <td>1999</td>\n",
       "      <td>Sparkling</td>\n",
       "      <td>Varietal/100%</td>\n",
       "      <td>Muscat/Moscato</td>\n",
       "      <td>Pork, Rich Fish, Shellfish</td>\n",
       "      <td>7.5</td>\n",
       "      <td>Mediumbodied</td>\n",
       "      <td>High</td>\n",
       "      <td>Brazil</td>\n",
       "      <td>Serra Gaúcha</td>\n",
       "      <td>Casa Perini</td>\n",
       "    </tr>\n",
       "    <tr>\n",
       "      <th>1</th>\n",
       "      <td>1314107</td>\n",
       "      <td>1219305</td>\n",
       "      <td>2.5</td>\n",
       "      <td>Espumante Moscatel</td>\n",
       "      <td>2007</td>\n",
       "      <td>Sparkling</td>\n",
       "      <td>Varietal/100%</td>\n",
       "      <td>Muscat/Moscato</td>\n",
       "      <td>Pork, Rich Fish, Shellfish</td>\n",
       "      <td>7.5</td>\n",
       "      <td>Mediumbodied</td>\n",
       "      <td>High</td>\n",
       "      <td>Brazil</td>\n",
       "      <td>Serra Gaúcha</td>\n",
       "      <td>Casa Perini</td>\n",
       "    </tr>\n",
       "    <tr>\n",
       "      <th>2</th>\n",
       "      <td>1446366</td>\n",
       "      <td>2047929</td>\n",
       "      <td>3.5</td>\n",
       "      <td>Espumante Moscatel</td>\n",
       "      <td>2008</td>\n",
       "      <td>Sparkling</td>\n",
       "      <td>Varietal/100%</td>\n",
       "      <td>Muscat/Moscato</td>\n",
       "      <td>Pork, Rich Fish, Shellfish</td>\n",
       "      <td>7.5</td>\n",
       "      <td>Mediumbodied</td>\n",
       "      <td>High</td>\n",
       "      <td>Brazil</td>\n",
       "      <td>Serra Gaúcha</td>\n",
       "      <td>Casa Perini</td>\n",
       "    </tr>\n",
       "  </tbody>\n",
       "</table>\n",
       "</div>"
      ],
      "text/plain": [
       "   RatingID   UserID  Rating            WineName Vintage       Type  \\\n",
       "0    326545  1756594     4.0  Espumante Moscatel    1999  Sparkling   \n",
       "1   1314107  1219305     2.5  Espumante Moscatel    2007  Sparkling   \n",
       "2   1446366  2047929     3.5  Espumante Moscatel    2008  Sparkling   \n",
       "\n",
       "       Elaborate          Grapes                   Harmonize  ABV  \\\n",
       "0  Varietal/100%  Muscat/Moscato  Pork, Rich Fish, Shellfish  7.5   \n",
       "1  Varietal/100%  Muscat/Moscato  Pork, Rich Fish, Shellfish  7.5   \n",
       "2  Varietal/100%  Muscat/Moscato  Pork, Rich Fish, Shellfish  7.5   \n",
       "\n",
       "           Body Acidity Country    RegionName   WineryName  \n",
       "0  Mediumbodied    High  Brazil  Serra Gaúcha  Casa Perini  \n",
       "1  Mediumbodied    High  Brazil  Serra Gaúcha  Casa Perini  \n",
       "2  Mediumbodied    High  Brazil  Serra Gaúcha  Casa Perini  "
      ]
     },
     "execution_count": 14,
     "metadata": {},
     "output_type": "execute_result"
    }
   ],
   "source": [
    "wines_ratings.head(3)"
   ]
  },
  {
   "cell_type": "code",
   "execution_count": 15,
   "metadata": {},
   "outputs": [],
   "source": [
    "def check_special_characters(df, column_name, special_characters_pattern):\n",
    "    rows_with_special_characters = df[df[column_name].str.contains(special_characters_pattern, regex=True, na=False)]\n",
    "    row_count = len(rows_with_special_characters)\n",
    "    print(\"Number of rows with special characters in {}: {}\".format(column_name, row_count))\n",
    "    print(rows_with_special_characters[[column_name]].drop_duplicates().sort_values(by=column_name))"
   ]
  },
  {
   "cell_type": "code",
   "execution_count": 16,
   "metadata": {},
   "outputs": [],
   "source": [
    "import re\n",
    "def remove_special_characters(df, column_name, characters_to_remove):\n",
    "    df[column_name] = df[column_name].str.replace(f'[{re.escape(characters_to_remove)}]', ' ', regex=True)\n",
    "    return df"
   ]
  },
  {
   "cell_type": "code",
   "execution_count": 17,
   "metadata": {},
   "outputs": [],
   "source": [
    "characters_to_remove = '[!\"#$%°&\\'()*+,-./:;<=>?@[\\\\]^_`{|}~]'"
   ]
  },
  {
   "cell_type": "code",
   "execution_count": 18,
   "metadata": {},
   "outputs": [
    {
     "name": "stdout",
     "output_type": "stream",
     "text": [
      "Number of rows with special characters in WineName: 34495\n",
      "                                               WineName\n",
      "75903                                101 Moscato d'Asti\n",
      "121723               Abednego Shiraz-Grenache-Mourvedre\n",
      "88926                         Adobe Carmenère (Reserva)\n",
      "122656              Australia Felix Chardonnay-Viognier\n",
      "75939                                    Barbera D'Alba\n",
      "...                                                 ...\n",
      "121869              Wallcliffe Sauvignon Blanc-Sémillon\n",
      "122101       Wilyabrup Valley Cabernet Sauvignon-Merlot\n",
      "119028             Winemaker's Collection Blanc de Noir\n",
      "74237    Winemaker's Collection Montepulciano d'Abruzzo\n",
      "148461  Красностоп Золотовский (Krasnostop Zolotovskiy)\n",
      "\n",
      "[158 rows x 1 columns]\n"
     ]
    }
   ],
   "source": [
    "check_special_characters(wines_ratings, 'WineName', characters_to_remove)"
   ]
  },
  {
   "cell_type": "code",
   "execution_count": 19,
   "metadata": {},
   "outputs": [
    {
     "name": "stdout",
     "output_type": "stream",
     "text": [
      "Number of rows with special characters in WineName: 0\n",
      "Empty DataFrame\n",
      "Columns: [WineName]\n",
      "Index: []\n"
     ]
    }
   ],
   "source": [
    "wines_ratings = remove_special_characters(wines_ratings, 'WineName', characters_to_remove)\n",
    "check_special_characters(wines_ratings, 'WineName', characters_to_remove)"
   ]
  },
  {
   "cell_type": "code",
   "execution_count": 20,
   "metadata": {},
   "outputs": [
    {
     "name": "stdout",
     "output_type": "stream",
     "text": [
      "Number of rows with special characters in RegionName: 20160\n",
      "                                              RegionName\n",
      "148704                                     Anapa (Анапа)\n",
      "71856                                     Barbera d'Alba\n",
      "75402                                     Barbera d'Asti\n",
      "28411                                Beaujolais-Villages\n",
      "75625                                  Brachetto d'Acqui\n",
      "87301                                Central Valley (CL)\n",
      "64898                        Chablis 1er Cru 'Montmains'\n",
      "61694                                  Chambolle-Musigny\n",
      "64600                     Champagne Grand Cru 'Ambonnay'\n",
      "54559                        Champagne Grand Cru 'Bouzy'\n",
      "63514           Champagne Grand Cru 'Le Mesnil-sur-Oger'\n",
      "29073                                Châteauneuf-du-Pape\n",
      "73529                  Conegliano-Valdobbiadene Prosecco\n",
      "76774   Conegliano-Valdobbiadene Prosecco Superiore Rive\n",
      "49819                       Corton-Charlemagne Grand Cru\n",
      "84646                                     Crimeia (Крим)\n",
      "63076                                   Crémant d'Alsace\n",
      "35446                                     Côtes-du-Rhône\n",
      "76025                                    Dolcetto d'Alba\n",
      "148461                          Don Valley (Долина Дона)\n",
      "73573                                     Emilia-Romagna\n",
      "138087                                  Eola-Amity Hills\n",
      "60351                           Francs-Côtes de Bordeaux\n",
      "72853                              Friuli-Venezia Giulia\n",
      "57806                                  Gevrey-Chambertin\n",
      "43785                                         Haut-Médoc\n",
      "149218                                       Hawke's Bay\n",
      "20412                                 Jerez-Xérès-Sherry\n",
      "45054                               Languedoc-Roussillon\n",
      "61424                                      Listrac-Médoc\n",
      "64930          Meursault 1er Cru 'La pièce sous le Bois'\n",
      "74237                            Montepulciano d'Abruzzo\n",
      "83457                                   Montilla-Moriles\n",
      "74667                                     Moscato d'Asti\n",
      "55487                                    Moulis-en-Médoc\n",
      "64761                                Nuits-Saint-Georges\n",
      "84765                                     Odessa (Одеса)\n",
      "46745                                     Pessac-Léognan\n",
      "52051                                     Pouilly-Fuissé\n",
      "47156                                       Pouilly-Fumé\n",
      "30564                                      Saint-Estèphe\n",
      "31426                                       Saint-Julien\n",
      "39816                            Saint-Émilion Grand Cru\n",
      "71720                                Südtirol-Alto Adige\n",
      "148029            Taman Peninsula (Таманский полуостров)\n",
      "76685                                      Valle d'Aosta\n",
      "74987                                      Vino d'Italia\n",
      "84561                         Zakarpattia (Закарпатська)\n"
     ]
    }
   ],
   "source": [
    "check_special_characters(wines_ratings, 'RegionName', characters_to_remove)"
   ]
  },
  {
   "cell_type": "code",
   "execution_count": 21,
   "metadata": {},
   "outputs": [
    {
     "name": "stdout",
     "output_type": "stream",
     "text": [
      "Number of rows with special characters in RegionName: 0\n",
      "Empty DataFrame\n",
      "Columns: [RegionName]\n",
      "Index: []\n"
     ]
    }
   ],
   "source": [
    "wines_ratings = remove_special_characters(wines_ratings, 'RegionName', characters_to_remove)\n",
    "check_special_characters(wines_ratings, 'RegionName', characters_to_remove)"
   ]
  },
  {
   "cell_type": "code",
   "execution_count": 22,
   "metadata": {},
   "outputs": [
    {
     "name": "stdout",
     "output_type": "stream",
     "text": [
      "Number of rows with special characters in WineryName: 17792\n",
      "                                        WineryName\n",
      "104798                              Achaval-Ferrer\n",
      "59411                Barons de Rothschild (Lafite)\n",
      "61506                            Barton & Guestier\n",
      "137553                      Beaulieu Vineyard (BV)\n",
      "137297                        Beringer Main & Vine\n",
      "...                                            ...\n",
      "19832                                      Warre's\n",
      "24718                    Weingut Max Ferd. Richter\n",
      "21002              Weingut Nik Weis-St. Urbans-Hof\n",
      "24247      Winzergenossenschaft Mayschoss-Altenahr\n",
      "148461  Винодельня Ведерниковъ (Vedernikov Winery)\n",
      "\n",
      "[88 rows x 1 columns]\n"
     ]
    }
   ],
   "source": [
    "check_special_characters(wines_ratings, 'WineryName', characters_to_remove)"
   ]
  },
  {
   "cell_type": "code",
   "execution_count": 23,
   "metadata": {},
   "outputs": [
    {
     "name": "stdout",
     "output_type": "stream",
     "text": [
      "Number of rows with special characters in WineryName: 0\n",
      "Empty DataFrame\n",
      "Columns: [WineryName]\n",
      "Index: []\n"
     ]
    }
   ],
   "source": [
    "wines_ratings = remove_special_characters(wines_ratings, 'WineryName', characters_to_remove)\n",
    "check_special_characters(wines_ratings, 'WineryName', characters_to_remove)"
   ]
  },
  {
   "cell_type": "markdown",
   "metadata": {},
   "source": [
    "#### Null values"
   ]
  },
  {
   "cell_type": "code",
   "execution_count": 24,
   "metadata": {},
   "outputs": [
    {
     "data": {
      "text/plain": [
       "RatingID      0\n",
       "UserID        0\n",
       "Rating        0\n",
       "WineName      0\n",
       "Vintage       0\n",
       "Type          0\n",
       "Elaborate     0\n",
       "Grapes        0\n",
       "Harmonize     0\n",
       "ABV           0\n",
       "Body          0\n",
       "Acidity       0\n",
       "Country       0\n",
       "RegionName    0\n",
       "WineryName    0\n",
       "dtype: int64"
      ]
     },
     "execution_count": 24,
     "metadata": {},
     "output_type": "execute_result"
    }
   ],
   "source": [
    "wines_ratings.isnull().sum()"
   ]
  },
  {
   "cell_type": "markdown",
   "metadata": {},
   "source": [
    "#### Splitting list variables"
   ]
  },
  {
   "cell_type": "code",
   "execution_count": 25,
   "metadata": {},
   "outputs": [
    {
     "data": {
      "text/html": [
       "<div>\n",
       "<style scoped>\n",
       "    .dataframe tbody tr th:only-of-type {\n",
       "        vertical-align: middle;\n",
       "    }\n",
       "\n",
       "    .dataframe tbody tr th {\n",
       "        vertical-align: top;\n",
       "    }\n",
       "\n",
       "    .dataframe thead th {\n",
       "        text-align: right;\n",
       "    }\n",
       "</style>\n",
       "<table border=\"1\" class=\"dataframe\">\n",
       "  <thead>\n",
       "    <tr style=\"text-align: right;\">\n",
       "      <th></th>\n",
       "      <th>RatingID</th>\n",
       "      <th>UserID</th>\n",
       "      <th>Rating</th>\n",
       "      <th>WineName</th>\n",
       "      <th>Vintage</th>\n",
       "      <th>Type</th>\n",
       "      <th>Elaborate</th>\n",
       "      <th>Grapes</th>\n",
       "      <th>Harmonize</th>\n",
       "      <th>ABV</th>\n",
       "      <th>Body</th>\n",
       "      <th>Acidity</th>\n",
       "      <th>Country</th>\n",
       "      <th>RegionName</th>\n",
       "      <th>WineryName</th>\n",
       "    </tr>\n",
       "  </thead>\n",
       "  <tbody>\n",
       "    <tr>\n",
       "      <th>0</th>\n",
       "      <td>326545</td>\n",
       "      <td>1756594</td>\n",
       "      <td>4.0</td>\n",
       "      <td>Espumante Moscatel</td>\n",
       "      <td>1999</td>\n",
       "      <td>Sparkling</td>\n",
       "      <td>Varietal/100%</td>\n",
       "      <td>Muscat/Moscato</td>\n",
       "      <td>Pork, Rich Fish, Shellfish</td>\n",
       "      <td>7.5</td>\n",
       "      <td>Mediumbodied</td>\n",
       "      <td>High</td>\n",
       "      <td>Brazil</td>\n",
       "      <td>Serra Gaúcha</td>\n",
       "      <td>Casa Perini</td>\n",
       "    </tr>\n",
       "    <tr>\n",
       "      <th>1</th>\n",
       "      <td>1314107</td>\n",
       "      <td>1219305</td>\n",
       "      <td>2.5</td>\n",
       "      <td>Espumante Moscatel</td>\n",
       "      <td>2007</td>\n",
       "      <td>Sparkling</td>\n",
       "      <td>Varietal/100%</td>\n",
       "      <td>Muscat/Moscato</td>\n",
       "      <td>Pork, Rich Fish, Shellfish</td>\n",
       "      <td>7.5</td>\n",
       "      <td>Mediumbodied</td>\n",
       "      <td>High</td>\n",
       "      <td>Brazil</td>\n",
       "      <td>Serra Gaúcha</td>\n",
       "      <td>Casa Perini</td>\n",
       "    </tr>\n",
       "    <tr>\n",
       "      <th>2</th>\n",
       "      <td>1446366</td>\n",
       "      <td>2047929</td>\n",
       "      <td>3.5</td>\n",
       "      <td>Espumante Moscatel</td>\n",
       "      <td>2008</td>\n",
       "      <td>Sparkling</td>\n",
       "      <td>Varietal/100%</td>\n",
       "      <td>Muscat/Moscato</td>\n",
       "      <td>Pork, Rich Fish, Shellfish</td>\n",
       "      <td>7.5</td>\n",
       "      <td>Mediumbodied</td>\n",
       "      <td>High</td>\n",
       "      <td>Brazil</td>\n",
       "      <td>Serra Gaúcha</td>\n",
       "      <td>Casa Perini</td>\n",
       "    </tr>\n",
       "  </tbody>\n",
       "</table>\n",
       "</div>"
      ],
      "text/plain": [
       "   RatingID   UserID  Rating            WineName Vintage       Type  \\\n",
       "0    326545  1756594     4.0  Espumante Moscatel    1999  Sparkling   \n",
       "1   1314107  1219305     2.5  Espumante Moscatel    2007  Sparkling   \n",
       "2   1446366  2047929     3.5  Espumante Moscatel    2008  Sparkling   \n",
       "\n",
       "       Elaborate          Grapes                   Harmonize  ABV  \\\n",
       "0  Varietal/100%  Muscat/Moscato  Pork, Rich Fish, Shellfish  7.5   \n",
       "1  Varietal/100%  Muscat/Moscato  Pork, Rich Fish, Shellfish  7.5   \n",
       "2  Varietal/100%  Muscat/Moscato  Pork, Rich Fish, Shellfish  7.5   \n",
       "\n",
       "           Body Acidity Country    RegionName   WineryName  \n",
       "0  Mediumbodied    High  Brazil  Serra Gaúcha  Casa Perini  \n",
       "1  Mediumbodied    High  Brazil  Serra Gaúcha  Casa Perini  \n",
       "2  Mediumbodied    High  Brazil  Serra Gaúcha  Casa Perini  "
      ]
     },
     "execution_count": 25,
     "metadata": {},
     "output_type": "execute_result"
    }
   ],
   "source": [
    "wines_ratings.head(3)"
   ]
  },
  {
   "cell_type": "code",
   "execution_count": 26,
   "metadata": {},
   "outputs": [],
   "source": [
    "def split_and_expand_columns(df, column_name, delimiter=\"/\"):\n",
    "    expanded_columns = df[column_name].str.split(delimiter, expand=True)\n",
    "    new_columns = [f\"{column_name}{i+1}\" for i in range(expanded_columns.shape[1])]\n",
    "    expanded_columns.columns = new_columns\n",
    "\n",
    "    df = pd.concat([df, expanded_columns], axis=1)\n",
    "    df = df.fillna(\"\")\n",
    "    df = df.drop(columns=[column_name])\n",
    "\n",
    "    return df"
   ]
  },
  {
   "cell_type": "code",
   "execution_count": 27,
   "metadata": {},
   "outputs": [
    {
     "data": {
      "text/plain": [
       "0    Pork, Rich Fish, Shellfish\n",
       "1    Pork, Rich Fish, Shellfish\n",
       "2    Pork, Rich Fish, Shellfish\n",
       "3    Pork, Rich Fish, Shellfish\n",
       "4    Pork, Rich Fish, Shellfish\n",
       "Name: Harmonize, dtype: object"
      ]
     },
     "execution_count": 27,
     "metadata": {},
     "output_type": "execute_result"
    }
   ],
   "source": [
    "wines_ratings['Harmonize'].head()"
   ]
  },
  {
   "cell_type": "code",
   "execution_count": 28,
   "metadata": {},
   "outputs": [],
   "source": [
    "wines_ratings = split_and_expand_columns(wines_ratings, \"Harmonize\", delimiter=\", \")"
   ]
  },
  {
   "cell_type": "code",
   "execution_count": 29,
   "metadata": {},
   "outputs": [
    {
     "data": {
      "text/html": [
       "<div>\n",
       "<style scoped>\n",
       "    .dataframe tbody tr th:only-of-type {\n",
       "        vertical-align: middle;\n",
       "    }\n",
       "\n",
       "    .dataframe tbody tr th {\n",
       "        vertical-align: top;\n",
       "    }\n",
       "\n",
       "    .dataframe thead th {\n",
       "        text-align: right;\n",
       "    }\n",
       "</style>\n",
       "<table border=\"1\" class=\"dataframe\">\n",
       "  <thead>\n",
       "    <tr style=\"text-align: right;\">\n",
       "      <th></th>\n",
       "      <th>Harmonize7</th>\n",
       "      <th>Harmonize8</th>\n",
       "      <th>Harmonize9</th>\n",
       "      <th>Harmonize10</th>\n",
       "      <th>Harmonize11</th>\n",
       "      <th>Harmonize12</th>\n",
       "    </tr>\n",
       "  </thead>\n",
       "  <tbody>\n",
       "    <tr>\n",
       "      <th>0</th>\n",
       "      <td></td>\n",
       "      <td></td>\n",
       "      <td></td>\n",
       "      <td></td>\n",
       "      <td></td>\n",
       "      <td></td>\n",
       "    </tr>\n",
       "    <tr>\n",
       "      <th>1</th>\n",
       "      <td></td>\n",
       "      <td></td>\n",
       "      <td></td>\n",
       "      <td></td>\n",
       "      <td></td>\n",
       "      <td></td>\n",
       "    </tr>\n",
       "    <tr>\n",
       "      <th>2</th>\n",
       "      <td></td>\n",
       "      <td></td>\n",
       "      <td></td>\n",
       "      <td></td>\n",
       "      <td></td>\n",
       "      <td></td>\n",
       "    </tr>\n",
       "    <tr>\n",
       "      <th>3</th>\n",
       "      <td></td>\n",
       "      <td></td>\n",
       "      <td></td>\n",
       "      <td></td>\n",
       "      <td></td>\n",
       "      <td></td>\n",
       "    </tr>\n",
       "    <tr>\n",
       "      <th>4</th>\n",
       "      <td></td>\n",
       "      <td></td>\n",
       "      <td></td>\n",
       "      <td></td>\n",
       "      <td></td>\n",
       "      <td></td>\n",
       "    </tr>\n",
       "  </tbody>\n",
       "</table>\n",
       "</div>"
      ],
      "text/plain": [
       "  Harmonize7 Harmonize8 Harmonize9 Harmonize10 Harmonize11 Harmonize12\n",
       "0                                                                     \n",
       "1                                                                     \n",
       "2                                                                     \n",
       "3                                                                     \n",
       "4                                                                     "
      ]
     },
     "execution_count": 29,
     "metadata": {},
     "output_type": "execute_result"
    }
   ],
   "source": [
    "wines_ratings.iloc[:, -6:].head()"
   ]
  },
  {
   "cell_type": "code",
   "execution_count": 30,
   "metadata": {},
   "outputs": [],
   "source": [
    "wines_ratings = split_and_expand_columns(wines_ratings, \"Grapes\", delimiter=\", \")"
   ]
  },
  {
   "cell_type": "code",
   "execution_count": 31,
   "metadata": {},
   "outputs": [
    {
     "data": {
      "text/html": [
       "<div>\n",
       "<style scoped>\n",
       "    .dataframe tbody tr th:only-of-type {\n",
       "        vertical-align: middle;\n",
       "    }\n",
       "\n",
       "    .dataframe tbody tr th {\n",
       "        vertical-align: top;\n",
       "    }\n",
       "\n",
       "    .dataframe thead th {\n",
       "        text-align: right;\n",
       "    }\n",
       "</style>\n",
       "<table border=\"1\" class=\"dataframe\">\n",
       "  <thead>\n",
       "    <tr style=\"text-align: right;\">\n",
       "      <th></th>\n",
       "      <th>Grapes1</th>\n",
       "      <th>Grapes2</th>\n",
       "      <th>Grapes3</th>\n",
       "      <th>Grapes4</th>\n",
       "      <th>Grapes5</th>\n",
       "      <th>Grapes6</th>\n",
       "      <th>Grapes7</th>\n",
       "      <th>Grapes8</th>\n",
       "      <th>Grapes9</th>\n",
       "    </tr>\n",
       "  </thead>\n",
       "  <tbody>\n",
       "    <tr>\n",
       "      <th>138053</th>\n",
       "      <td>Chardonnay</td>\n",
       "      <td>Pinot Noir</td>\n",
       "      <td></td>\n",
       "      <td></td>\n",
       "      <td></td>\n",
       "      <td></td>\n",
       "      <td></td>\n",
       "      <td></td>\n",
       "      <td></td>\n",
       "    </tr>\n",
       "    <tr>\n",
       "      <th>138740</th>\n",
       "      <td>Cabernet Sauvignon</td>\n",
       "      <td></td>\n",
       "      <td></td>\n",
       "      <td></td>\n",
       "      <td></td>\n",
       "      <td></td>\n",
       "      <td></td>\n",
       "      <td></td>\n",
       "      <td></td>\n",
       "    </tr>\n",
       "    <tr>\n",
       "      <th>6303</th>\n",
       "      <td>Cabernet Sauvignon</td>\n",
       "      <td></td>\n",
       "      <td></td>\n",
       "      <td></td>\n",
       "      <td></td>\n",
       "      <td></td>\n",
       "      <td></td>\n",
       "      <td></td>\n",
       "      <td></td>\n",
       "    </tr>\n",
       "    <tr>\n",
       "      <th>101851</th>\n",
       "      <td>Malbec</td>\n",
       "      <td></td>\n",
       "      <td></td>\n",
       "      <td></td>\n",
       "      <td></td>\n",
       "      <td></td>\n",
       "      <td></td>\n",
       "      <td></td>\n",
       "      <td></td>\n",
       "    </tr>\n",
       "    <tr>\n",
       "      <th>117104</th>\n",
       "      <td>Cabernet Sauvignon</td>\n",
       "      <td></td>\n",
       "      <td></td>\n",
       "      <td></td>\n",
       "      <td></td>\n",
       "      <td></td>\n",
       "      <td></td>\n",
       "      <td></td>\n",
       "      <td></td>\n",
       "    </tr>\n",
       "    <tr>\n",
       "      <th>78869</th>\n",
       "      <td>Tempranillo</td>\n",
       "      <td>Cabernet Sauvignon</td>\n",
       "      <td></td>\n",
       "      <td></td>\n",
       "      <td></td>\n",
       "      <td></td>\n",
       "      <td></td>\n",
       "      <td></td>\n",
       "      <td></td>\n",
       "    </tr>\n",
       "    <tr>\n",
       "      <th>47148</th>\n",
       "      <td>Cabernet Franc</td>\n",
       "      <td>Merlot</td>\n",
       "      <td>Cabernet Sauvignon</td>\n",
       "      <td></td>\n",
       "      <td></td>\n",
       "      <td></td>\n",
       "      <td></td>\n",
       "      <td></td>\n",
       "      <td></td>\n",
       "    </tr>\n",
       "    <tr>\n",
       "      <th>112877</th>\n",
       "      <td>Chardonnay</td>\n",
       "      <td></td>\n",
       "      <td></td>\n",
       "      <td></td>\n",
       "      <td></td>\n",
       "      <td></td>\n",
       "      <td></td>\n",
       "      <td></td>\n",
       "      <td></td>\n",
       "    </tr>\n",
       "    <tr>\n",
       "      <th>13141</th>\n",
       "      <td>Touriga Nacional</td>\n",
       "      <td>Touriga Franca</td>\n",
       "      <td>Tinta Roriz</td>\n",
       "      <td></td>\n",
       "      <td></td>\n",
       "      <td></td>\n",
       "      <td></td>\n",
       "      <td></td>\n",
       "      <td></td>\n",
       "    </tr>\n",
       "    <tr>\n",
       "      <th>22319</th>\n",
       "      <td>Riesling</td>\n",
       "      <td></td>\n",
       "      <td></td>\n",
       "      <td></td>\n",
       "      <td></td>\n",
       "      <td></td>\n",
       "      <td></td>\n",
       "      <td></td>\n",
       "      <td></td>\n",
       "    </tr>\n",
       "    <tr>\n",
       "      <th>54423</th>\n",
       "      <td>Sauvignon Blanc</td>\n",
       "      <td></td>\n",
       "      <td></td>\n",
       "      <td></td>\n",
       "      <td></td>\n",
       "      <td></td>\n",
       "      <td></td>\n",
       "      <td></td>\n",
       "      <td></td>\n",
       "    </tr>\n",
       "    <tr>\n",
       "      <th>77675</th>\n",
       "      <td>Tempranillo</td>\n",
       "      <td></td>\n",
       "      <td></td>\n",
       "      <td></td>\n",
       "      <td></td>\n",
       "      <td></td>\n",
       "      <td></td>\n",
       "      <td></td>\n",
       "      <td></td>\n",
       "    </tr>\n",
       "    <tr>\n",
       "      <th>47135</th>\n",
       "      <td>Cabernet Franc</td>\n",
       "      <td>Merlot</td>\n",
       "      <td>Cabernet Sauvignon</td>\n",
       "      <td></td>\n",
       "      <td></td>\n",
       "      <td></td>\n",
       "      <td></td>\n",
       "      <td></td>\n",
       "      <td></td>\n",
       "    </tr>\n",
       "    <tr>\n",
       "      <th>42111</th>\n",
       "      <td>Pinot Noir</td>\n",
       "      <td></td>\n",
       "      <td></td>\n",
       "      <td></td>\n",
       "      <td></td>\n",
       "      <td></td>\n",
       "      <td></td>\n",
       "      <td></td>\n",
       "      <td></td>\n",
       "    </tr>\n",
       "    <tr>\n",
       "      <th>48307</th>\n",
       "      <td>Sauvignon Blanc</td>\n",
       "      <td></td>\n",
       "      <td></td>\n",
       "      <td></td>\n",
       "      <td></td>\n",
       "      <td></td>\n",
       "      <td></td>\n",
       "      <td></td>\n",
       "      <td></td>\n",
       "    </tr>\n",
       "  </tbody>\n",
       "</table>\n",
       "</div>"
      ],
      "text/plain": [
       "                   Grapes1             Grapes2             Grapes3 Grapes4  \\\n",
       "138053          Chardonnay          Pinot Noir                               \n",
       "138740  Cabernet Sauvignon                                                   \n",
       "6303    Cabernet Sauvignon                                                   \n",
       "101851              Malbec                                                   \n",
       "117104  Cabernet Sauvignon                                                   \n",
       "78869          Tempranillo  Cabernet Sauvignon                               \n",
       "47148       Cabernet Franc              Merlot  Cabernet Sauvignon           \n",
       "112877          Chardonnay                                                   \n",
       "13141     Touriga Nacional      Touriga Franca         Tinta Roriz           \n",
       "22319             Riesling                                                   \n",
       "54423      Sauvignon Blanc                                                   \n",
       "77675          Tempranillo                                                   \n",
       "47135       Cabernet Franc              Merlot  Cabernet Sauvignon           \n",
       "42111           Pinot Noir                                                   \n",
       "48307      Sauvignon Blanc                                                   \n",
       "\n",
       "       Grapes5 Grapes6 Grapes7 Grapes8 Grapes9  \n",
       "138053                                          \n",
       "138740                                          \n",
       "6303                                            \n",
       "101851                                          \n",
       "117104                                          \n",
       "78869                                           \n",
       "47148                                           \n",
       "112877                                          \n",
       "13141                                           \n",
       "22319                                           \n",
       "54423                                           \n",
       "77675                                           \n",
       "47135                                           \n",
       "42111                                           \n",
       "48307                                           "
      ]
     },
     "execution_count": 31,
     "metadata": {},
     "output_type": "execute_result"
    }
   ],
   "source": [
    "wines_ratings.sample(15).iloc[:, -9:]"
   ]
  },
  {
   "cell_type": "code",
   "execution_count": 32,
   "metadata": {},
   "outputs": [
    {
     "data": {
      "text/plain": [
       "Elaborate\n",
       "Varietal/100%                        105462\n",
       "Assemblage/Blend                      29477\n",
       "Assemblage/Bordeaux Red Blend          6737\n",
       "Assemblage/Portuguese Red Blend        3170\n",
       "Assemblage/Champagne Blend             1631\n",
       "Assemblage/Port Blend                  1457\n",
       "Varietal/>75%                           843\n",
       "Assemblage/Portuguese White Blend       408\n",
       "Assemblage/Rhône Red Blend              381\n",
       "Assemblage/Valpolicella Red Blend       302\n",
       "Assemblage/Provence Rosé Blend           99\n",
       "Assemblage/Tuscan Red Blend              30\n",
       "Assemblage/Priorat Red Blend              3\n",
       "Name: count, dtype: int64"
      ]
     },
     "execution_count": 32,
     "metadata": {},
     "output_type": "execute_result"
    }
   ],
   "source": [
    "wines_ratings['Elaborate'].value_counts()"
   ]
  },
  {
   "cell_type": "code",
   "execution_count": 33,
   "metadata": {},
   "outputs": [],
   "source": [
    "wines_ratings = split_and_expand_columns(wines_ratings, \"Elaborate\")"
   ]
  },
  {
   "cell_type": "code",
   "execution_count": 34,
   "metadata": {},
   "outputs": [
    {
     "data": {
      "text/html": [
       "<div>\n",
       "<style scoped>\n",
       "    .dataframe tbody tr th:only-of-type {\n",
       "        vertical-align: middle;\n",
       "    }\n",
       "\n",
       "    .dataframe tbody tr th {\n",
       "        vertical-align: top;\n",
       "    }\n",
       "\n",
       "    .dataframe thead th {\n",
       "        text-align: right;\n",
       "    }\n",
       "</style>\n",
       "<table border=\"1\" class=\"dataframe\">\n",
       "  <thead>\n",
       "    <tr style=\"text-align: right;\">\n",
       "      <th></th>\n",
       "      <th>Elaborate1</th>\n",
       "      <th>Elaborate2</th>\n",
       "    </tr>\n",
       "  </thead>\n",
       "  <tbody>\n",
       "    <tr>\n",
       "      <th>52941</th>\n",
       "      <td>Varietal</td>\n",
       "      <td>100%</td>\n",
       "    </tr>\n",
       "    <tr>\n",
       "      <th>111918</th>\n",
       "      <td>Varietal</td>\n",
       "      <td>100%</td>\n",
       "    </tr>\n",
       "    <tr>\n",
       "      <th>14882</th>\n",
       "      <td>Varietal</td>\n",
       "      <td>100%</td>\n",
       "    </tr>\n",
       "    <tr>\n",
       "      <th>101970</th>\n",
       "      <td>Varietal</td>\n",
       "      <td>100%</td>\n",
       "    </tr>\n",
       "    <tr>\n",
       "      <th>60769</th>\n",
       "      <td>Varietal</td>\n",
       "      <td>100%</td>\n",
       "    </tr>\n",
       "    <tr>\n",
       "      <th>124551</th>\n",
       "      <td>Varietal</td>\n",
       "      <td>100%</td>\n",
       "    </tr>\n",
       "    <tr>\n",
       "      <th>148470</th>\n",
       "      <td>Varietal</td>\n",
       "      <td>100%</td>\n",
       "    </tr>\n",
       "    <tr>\n",
       "      <th>66815</th>\n",
       "      <td>Varietal</td>\n",
       "      <td>100%</td>\n",
       "    </tr>\n",
       "    <tr>\n",
       "      <th>62040</th>\n",
       "      <td>Assemblage</td>\n",
       "      <td>Champagne Blend</td>\n",
       "    </tr>\n",
       "    <tr>\n",
       "      <th>62450</th>\n",
       "      <td>Assemblage</td>\n",
       "      <td>Champagne Blend</td>\n",
       "    </tr>\n",
       "  </tbody>\n",
       "</table>\n",
       "</div>"
      ],
      "text/plain": [
       "        Elaborate1       Elaborate2\n",
       "52941     Varietal             100%\n",
       "111918    Varietal             100%\n",
       "14882     Varietal             100%\n",
       "101970    Varietal             100%\n",
       "60769     Varietal             100%\n",
       "124551    Varietal             100%\n",
       "148470    Varietal             100%\n",
       "66815     Varietal             100%\n",
       "62040   Assemblage  Champagne Blend\n",
       "62450   Assemblage  Champagne Blend"
      ]
     },
     "execution_count": 34,
     "metadata": {},
     "output_type": "execute_result"
    }
   ],
   "source": [
    "wines_ratings.sample(10).iloc[:, -2:]"
   ]
  },
  {
   "cell_type": "code",
   "execution_count": 35,
   "metadata": {},
   "outputs": [
    {
     "data": {
      "text/plain": [
       "Type\n",
       "Red             98884\n",
       "White           24506\n",
       "Sparkling       16988\n",
       "Rosé             4714\n",
       "Dessert/Port     2522\n",
       "Dessert          2386\n",
       "Name: count, dtype: int64"
      ]
     },
     "execution_count": 35,
     "metadata": {},
     "output_type": "execute_result"
    }
   ],
   "source": [
    "wines_ratings['Type'].value_counts()"
   ]
  },
  {
   "cell_type": "code",
   "execution_count": 36,
   "metadata": {},
   "outputs": [],
   "source": [
    "wines_ratings = split_and_expand_columns(wines_ratings, \"Type\")"
   ]
  },
  {
   "cell_type": "code",
   "execution_count": 37,
   "metadata": {},
   "outputs": [
    {
     "data": {
      "text/html": [
       "<div>\n",
       "<style scoped>\n",
       "    .dataframe tbody tr th:only-of-type {\n",
       "        vertical-align: middle;\n",
       "    }\n",
       "\n",
       "    .dataframe tbody tr th {\n",
       "        vertical-align: top;\n",
       "    }\n",
       "\n",
       "    .dataframe thead th {\n",
       "        text-align: right;\n",
       "    }\n",
       "</style>\n",
       "<table border=\"1\" class=\"dataframe\">\n",
       "  <thead>\n",
       "    <tr style=\"text-align: right;\">\n",
       "      <th></th>\n",
       "      <th>Type1</th>\n",
       "      <th>Type2</th>\n",
       "    </tr>\n",
       "  </thead>\n",
       "  <tbody>\n",
       "    <tr>\n",
       "      <th>76835</th>\n",
       "      <td>Red</td>\n",
       "      <td></td>\n",
       "    </tr>\n",
       "    <tr>\n",
       "      <th>62340</th>\n",
       "      <td>Sparkling</td>\n",
       "      <td></td>\n",
       "    </tr>\n",
       "    <tr>\n",
       "      <th>69436</th>\n",
       "      <td>Red</td>\n",
       "      <td></td>\n",
       "    </tr>\n",
       "    <tr>\n",
       "      <th>53578</th>\n",
       "      <td>Red</td>\n",
       "      <td></td>\n",
       "    </tr>\n",
       "    <tr>\n",
       "      <th>85084</th>\n",
       "      <td>Red</td>\n",
       "      <td></td>\n",
       "    </tr>\n",
       "    <tr>\n",
       "      <th>100753</th>\n",
       "      <td>Red</td>\n",
       "      <td></td>\n",
       "    </tr>\n",
       "    <tr>\n",
       "      <th>120743</th>\n",
       "      <td>White</td>\n",
       "      <td></td>\n",
       "    </tr>\n",
       "    <tr>\n",
       "      <th>140881</th>\n",
       "      <td>Dessert</td>\n",
       "      <td></td>\n",
       "    </tr>\n",
       "    <tr>\n",
       "      <th>136609</th>\n",
       "      <td>Red</td>\n",
       "      <td></td>\n",
       "    </tr>\n",
       "    <tr>\n",
       "      <th>83328</th>\n",
       "      <td>Rosé</td>\n",
       "      <td></td>\n",
       "    </tr>\n",
       "  </tbody>\n",
       "</table>\n",
       "</div>"
      ],
      "text/plain": [
       "            Type1 Type2\n",
       "76835         Red      \n",
       "62340   Sparkling      \n",
       "69436         Red      \n",
       "53578         Red      \n",
       "85084         Red      \n",
       "100753        Red      \n",
       "120743      White      \n",
       "140881    Dessert      \n",
       "136609        Red      \n",
       "83328        Rosé      "
      ]
     },
     "execution_count": 37,
     "metadata": {},
     "output_type": "execute_result"
    }
   ],
   "source": [
    "wines_ratings.sample(10).iloc[:, -2:]"
   ]
  },
  {
   "cell_type": "markdown",
   "metadata": {},
   "source": [
    "#### Alcohol beverage outliers"
   ]
  },
  {
   "cell_type": "code",
   "execution_count": 38,
   "metadata": {},
   "outputs": [
    {
     "data": {
      "text/plain": [
       "count    150000.000000\n",
       "mean         13.400817\n",
       "std           1.563714\n",
       "min           4.000000\n",
       "25%          12.500000\n",
       "50%          13.500000\n",
       "75%          14.000000\n",
       "max          50.000000\n",
       "Name: ABV, dtype: float64"
      ]
     },
     "execution_count": 38,
     "metadata": {},
     "output_type": "execute_result"
    }
   ],
   "source": [
    "wines_ratings['ABV'].describe()"
   ]
  },
  {
   "cell_type": "code",
   "execution_count": 39,
   "metadata": {},
   "outputs": [
    {
     "data": {
      "text/plain": [
       "ABV\n",
       "14.5    22860\n",
       "12.5    21716\n",
       "13.5    20672\n",
       "14.0    20567\n",
       "13.0    19244\n",
       "        ...  \n",
       "38.5        4\n",
       "18.5        3\n",
       "39.0        2\n",
       "50.0        2\n",
       "44.0        2\n",
       "Name: count, Length: 76, dtype: int64"
      ]
     },
     "execution_count": 39,
     "metadata": {},
     "output_type": "execute_result"
    }
   ],
   "source": [
    "wines_ratings['ABV'].value_counts()"
   ]
  },
  {
   "cell_type": "code",
   "execution_count": 40,
   "metadata": {},
   "outputs": [],
   "source": [
    "def transform_values(df, column_name):\n",
    "    df[column_name] = np.where(df[column_name] > 15, 15, df[column_name])\n",
    "    df[column_name] = np.where(df[column_name] < 8, 8, df[column_name])\n",
    "    return df"
   ]
  },
  {
   "cell_type": "code",
   "execution_count": 41,
   "metadata": {},
   "outputs": [],
   "source": [
    "wines_ratings = transform_values(wines_ratings, 'ABV')"
   ]
  },
  {
   "cell_type": "code",
   "execution_count": 42,
   "metadata": {},
   "outputs": [
    {
     "data": {
      "text/plain": [
       "count    150000.000000\n",
       "mean         13.310263\n",
       "std           1.150805\n",
       "min           8.000000\n",
       "25%          12.500000\n",
       "50%          13.500000\n",
       "75%          14.000000\n",
       "max          15.000000\n",
       "Name: ABV, dtype: float64"
      ]
     },
     "execution_count": 42,
     "metadata": {},
     "output_type": "execute_result"
    }
   ],
   "source": [
    "wines_ratings['ABV'].describe()"
   ]
  },
  {
   "cell_type": "code",
   "execution_count": 43,
   "metadata": {},
   "outputs": [
    {
     "data": {
      "text/plain": [
       "ABV\n",
       "14.5    22860\n",
       "12.5    21716\n",
       "13.5    20672\n",
       "14.0    20567\n",
       "13.0    19244\n",
       "12.0    10234\n",
       "15.0     5837\n",
       "13.7     2724\n",
       "13.9     2694\n",
       "12.8     2627\n",
       "13.2     2175\n",
       "11.5     1987\n",
       "13.8     1921\n",
       "8.0      1882\n",
       "11.0     1720\n",
       "14.8     1215\n",
       "14.2     1159\n",
       "14.9      945\n",
       "12.3      914\n",
       "12.9      865\n",
       "14.1      810\n",
       "9.5       804\n",
       "13.1      752\n",
       "13.3      632\n",
       "14.4      473\n",
       "10.5      436\n",
       "10.0      348\n",
       "12.2      326\n",
       "14.6      267\n",
       "12.4      200\n",
       "14.3      196\n",
       "9.0       178\n",
       "13.4      148\n",
       "14.7      145\n",
       "9.8       116\n",
       "13.6       55\n",
       "11.9       37\n",
       "11.8       32\n",
       "9.3        18\n",
       "11.4       18\n",
       "12.7       12\n",
       "11.2       10\n",
       "12.6        8\n",
       "8.5         8\n",
       "12.1        8\n",
       "10.2        5\n",
       "Name: count, dtype: int64"
      ]
     },
     "execution_count": 43,
     "metadata": {},
     "output_type": "execute_result"
    }
   ],
   "source": [
    "wines_ratings['ABV'].value_counts()"
   ]
  },
  {
   "cell_type": "markdown",
   "metadata": {},
   "source": [
    "### Exporting"
   ]
  },
  {
   "cell_type": "code",
   "execution_count": 44,
   "metadata": {},
   "outputs": [],
   "source": [
    "wines_ratings.to_csv('Dataset/XWines_with_Ratings.csv', index=False)"
   ]
  }
 ],
 "metadata": {
  "kernelspec": {
   "display_name": ".venv",
   "language": "python",
   "name": "python3"
  },
  "language_info": {
   "codemirror_mode": {
    "name": "ipython",
    "version": 3
   },
   "file_extension": ".py",
   "mimetype": "text/x-python",
   "name": "python",
   "nbconvert_exporter": "python",
   "pygments_lexer": "ipython3",
   "version": "3.9.6"
  }
 },
 "nbformat": 4,
 "nbformat_minor": 2
}
