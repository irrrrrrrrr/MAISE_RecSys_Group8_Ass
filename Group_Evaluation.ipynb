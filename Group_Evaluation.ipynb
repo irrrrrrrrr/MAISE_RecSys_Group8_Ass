{
 "cells": [
  {
   "cell_type": "code",
   "execution_count": 9,
   "metadata": {},
   "outputs": [
    {
     "name": "stderr",
     "output_type": "stream",
     "text": [
      "C:\\Users\\antoi\\AppData\\Local\\Temp\\ipykernel_11612\\1387989594.py:14: DtypeWarning: Columns (3) have mixed types. Specify dtype option on import or set low_memory=False.\n",
      "  ratings_data = pd.read_csv('Dataset/last/XWines_Slim_150K_ratings.csv')\n"
     ]
    }
   ],
   "source": [
    "import pandas as pd\n",
    "import ast\n",
    "from sklearn.neighbors import NearestNeighbors\n",
    "from sklearn.preprocessing import OneHotEncoder\n",
    "from group_recommender_algs import group_rec, get_wine_with_top_categories\n",
    "import importlib\n",
    "import group_recommender_algs  # Dein Modul, in dem die Funktion gespeichert ist\n",
    "\n",
    "# Neu laden des Moduls, um die Änderungen zu übernehmen\n",
    "importlib.reload(group_recommender_algs)\n",
    "\n",
    "\n",
    "# Load the datasets (replace 'ratings.csv' and 'wine_characteristics.csv' with the actual CSV file paths)\n",
    "ratings_data = pd.read_csv('Dataset/last/XWines_Slim_150K_ratings.csv')\n",
    "wine_data = pd.read_csv('Dataset/last/XWines_Slim_1K_wines.csv')\n",
    "group_data = pd.read_csv('Dataset/last/group_composition.csv')  # Add path to your group CSV\n",
    "\n",
    "# Merge the two datasets on 'WineID'\n",
    "merged_data = pd.merge(ratings_data, wine_data, on='WineID')"
   ]
  },
  {
   "cell_type": "code",
   "execution_count": 10,
   "metadata": {},
   "outputs": [],
   "source": [
    "ratings = {}\n",
    "for index, row in ratings_data.iterrows():\n",
    "    if row['WineID'] not in ratings:\n",
    "        ratings[row['WineID']] = {\"total\": row['Rating'], \"count\": 1}\n",
    "    else:\n",
    "        ratings[row['WineID']][\"total\"] += row['Rating']\n",
    "        ratings[row['WineID']][\"count\"] += 1\n",
    "\n",
    "# add the averages to the df\n",
    "wine_data[\"AvgRating\"] = 0.0\n",
    "\n",
    "for index, row in wine_data.iterrows():\n",
    "    wine_data.loc[index, \"AvgRating\"] = ratings[row[\"WineID\"]][\"total\"]/ratings[row[\"WineID\"]][\"count\"]"
   ]
  },
  {
   "cell_type": "code",
   "execution_count": 11,
   "metadata": {},
   "outputs": [],
   "source": [
    "def get_wines_rated_by_group(group_df, group_id, ratings_df, wine_id=None):\n",
    "    # Step 1: Extract group members based on `group_id`\n",
    "    group_row = group_df[group_df['group_id'] == group_id]\n",
    "\n",
    "    # Step 2: Check if the group ID exists\n",
    "    if group_row.empty:\n",
    "        print(f\"Group with ID {group_id} not found.\")\n",
    "        return pd.DataFrame(columns=['UserID', 'WineID', 'Rating'])\n",
    "\n",
    "    # Step 3: Convert the `group_members` string to a list\n",
    "    group_members_str = group_row['group_members'].values[0]\n",
    "    group_members = ast.literal_eval(group_members_str)  # Safely convert string to list\n",
    "\n",
    "    # Step 4: Filter `ratings_df` for UserIDs in the `group_members` list\n",
    "    filtered_ratings = ratings_df[ratings_df['UserID'].isin(group_members)]\n",
    "\n",
    "    # Step 5: If `wine_id` is provided, filter further\n",
    "    if wine_id is not None:\n",
    "        # Use `isin` if `wine_id` is a list\n",
    "        if isinstance(wine_id, list):\n",
    "            filtered_ratings = filtered_ratings[filtered_ratings['WineID'].isin(wine_id)]\n",
    "        else:\n",
    "            # Otherwise, filter for a single WineID\n",
    "            filtered_ratings = filtered_ratings[filtered_ratings['WineID'] == wine_id]\n",
    "\n",
    "    # Step 6: Return the filtered DataFrame\n",
    "    return filtered_ratings[['UserID', 'WineID', 'Rating']]\n"
   ]
  },
  {
   "cell_type": "code",
   "execution_count": 25,
   "metadata": {},
   "outputs": [],
   "source": [
    "from group_recommender_algs import group_rec"
   ]
  },
  {
   "cell_type": "code",
   "execution_count": 20,
   "metadata": {},
   "outputs": [
    {
     "name": "stderr",
     "output_type": "stream",
     "text": [
      "Processing Group IDs:  24%|██▍       | 58/240 [03:44<19:30,  6.43s/group]"
     ]
    },
    {
     "name": "stdout",
     "output_type": "stream",
     "text": [
      "Keine Empfehlungen für Gruppe 57. Überspringen...\n"
     ]
    },
    {
     "name": "stderr",
     "output_type": "stream",
     "text": [
      "Processing Group IDs:  29%|██▉       | 69/240 [04:13<04:25,  1.55s/group]"
     ]
    },
    {
     "name": "stdout",
     "output_type": "stream",
     "text": [
      "Keine Empfehlungen für Gruppe 68. Überspringen...\n"
     ]
    },
    {
     "name": "stderr",
     "output_type": "stream",
     "text": [
      "Processing Group IDs:  57%|█████▋    | 136/240 [08:58<03:01,  1.75s/group]"
     ]
    },
    {
     "name": "stdout",
     "output_type": "stream",
     "text": [
      "Keine Empfehlungen für Gruppe 135. Überspringen...\n"
     ]
    },
    {
     "name": "stderr",
     "output_type": "stream",
     "text": [
      "Processing Group IDs:  69%|██████▉   | 166/240 [11:00<08:48,  7.14s/group]"
     ]
    },
    {
     "name": "stdout",
     "output_type": "stream",
     "text": [
      "Keine Empfehlungen für Gruppe 165. Überspringen...\n"
     ]
    },
    {
     "name": "stderr",
     "output_type": "stream",
     "text": [
      "Processing Group IDs: 100%|██████████| 240/240 [16:51<00:00,  4.21s/group]\n"
     ]
    },
    {
     "name": "stdout",
     "output_type": "stream",
     "text": [
      "Erste 5 Zeilen von group_avg_ratings_df:\n",
      "   GroupID  AverageRating\n",
      "0        0            NaN\n",
      "1        1       4.333333\n",
      "2        2            NaN\n",
      "3        3       5.000000\n",
      "4        4            NaN\n",
      "Erste 5 Zeilen von individual_ratings_df:\n",
      "   GroupID     UserID    WineID  Rating\n",
      "0        1  1006585.0  112834.0     4.5\n",
      "1        1  1006585.0  115984.0     4.5\n",
      "2        1  1006585.0  113321.0     4.0\n",
      "3        3  1223585.0  174184.0     5.0\n",
      "4        7  1069807.0  174184.0     5.0\n"
     ]
    },
    {
     "data": {
      "application/vnd.plotly.v1+json": {
       "config": {
        "plotlyServerURL": "https://plot.ly"
       },
       "data": [
        {
         "alignmentgroup": "True",
         "hovertemplate": "Group ID=%{x}<br>Average Rating=%{y}<extra></extra>",
         "legendgroup": "",
         "marker": {
          "color": "#636efa",
          "pattern": {
           "shape": ""
          }
         },
         "name": "",
         "offsetgroup": "",
         "orientation": "v",
         "showlegend": false,
         "textposition": "auto",
         "type": "bar",
         "x": [
          0,
          1,
          2,
          3,
          4,
          5,
          6,
          7,
          8,
          9,
          10,
          11,
          12,
          13,
          14,
          15,
          16,
          17,
          18,
          19,
          20,
          21,
          22,
          23,
          24,
          25,
          26,
          27,
          28,
          29,
          30,
          31,
          32,
          33,
          34,
          35,
          36,
          37,
          38,
          39,
          40,
          41,
          42,
          43,
          44,
          45,
          46,
          47,
          48,
          49,
          50,
          51,
          52,
          53,
          54,
          55,
          56,
          57,
          58,
          59,
          60,
          61,
          62,
          63,
          64,
          65,
          66,
          67,
          68,
          69,
          70,
          71,
          72,
          73,
          74,
          75,
          76,
          77,
          78,
          79,
          80,
          81,
          82,
          83,
          84,
          85,
          86,
          87,
          88,
          89,
          90,
          91,
          92,
          93,
          94,
          95,
          96,
          97,
          98,
          99,
          100,
          101,
          102,
          103,
          104,
          105,
          106,
          107,
          108,
          109,
          110,
          111,
          112,
          113,
          114,
          115,
          116,
          117,
          118,
          119,
          120,
          121,
          122,
          123,
          124,
          125,
          126,
          127,
          128,
          129,
          130,
          131,
          132,
          133,
          134,
          135,
          136,
          137,
          138,
          139,
          140,
          141,
          142,
          143,
          144,
          145,
          146,
          147,
          148,
          149,
          150,
          151,
          152,
          153,
          154,
          155,
          156,
          157,
          158,
          159,
          160,
          161,
          162,
          163,
          164,
          165,
          166,
          167,
          168,
          169,
          170,
          171,
          172,
          173,
          174,
          175,
          176,
          177,
          178,
          179,
          180,
          181,
          182,
          183,
          184,
          185,
          186,
          187,
          188,
          189,
          190,
          191,
          192,
          193,
          194,
          195,
          196,
          197,
          198,
          199,
          200,
          201,
          202,
          203,
          204,
          205,
          206,
          207,
          208,
          209,
          210,
          211,
          212,
          213,
          214,
          215,
          216,
          217,
          218,
          219,
          220,
          221,
          222,
          223,
          224,
          225,
          226,
          227,
          228,
          229,
          230,
          231,
          232,
          233,
          234,
          235,
          236,
          237,
          238,
          239
         ],
         "xaxis": "x",
         "y": [
          null,
          4.333333333333333,
          null,
          5,
          null,
          null,
          null,
          5,
          5,
          4.5,
          null,
          3.5,
          null,
          null,
          null,
          null,
          null,
          5,
          null,
          null,
          null,
          4.5,
          4.5,
          null,
          5,
          5,
          null,
          5,
          null,
          4.666666666666667,
          null,
          null,
          null,
          4.5,
          null,
          null,
          null,
          4.833333333333333,
          4.75,
          5,
          4.5,
          5,
          null,
          5,
          4.666666666666667,
          4.916666666666667,
          null,
          null,
          5,
          4.833333333333333,
          null,
          4.5,
          4.5,
          4.75,
          4.5,
          4.875,
          4,
          null,
          4.75,
          4.75,
          4.5,
          null,
          4.75,
          4.875,
          null,
          4.75,
          null,
          5,
          null,
          null,
          4,
          5,
          4.5,
          5,
          4.75,
          null,
          null,
          null,
          5,
          5,
          4.9375,
          4.8125,
          4.875,
          4.625,
          5,
          5,
          null,
          5,
          4.5,
          4.954545454545454,
          null,
          5,
          4.9375,
          null,
          4.785714285714286,
          4.75,
          5,
          4.875,
          4.5,
          5,
          4.944444444444445,
          null,
          5,
          null,
          4.9375,
          4.911764705882353,
          5,
          null,
          null,
          4.5,
          null,
          4.875,
          4.8,
          4.9375,
          null,
          4.785714285714286,
          null,
          4.933333333333334,
          null,
          4.911764705882353,
          null,
          4,
          null,
          4.75,
          null,
          5,
          null,
          null,
          5,
          4.5,
          4.5,
          4.5,
          null,
          null,
          null,
          null,
          5,
          null,
          5,
          null,
          4.75,
          5,
          null,
          4,
          null,
          null,
          null,
          4,
          null,
          4.833333333333333,
          null,
          5,
          4.5,
          null,
          5,
          4.5,
          4.5,
          null,
          4.5,
          null,
          null,
          null,
          4.75,
          4.5,
          4.25,
          null,
          null,
          4.5,
          4.5,
          3.5,
          null,
          5,
          4,
          5,
          4.5,
          null,
          4.75,
          null,
          null,
          5,
          null,
          null,
          5,
          4.5,
          5,
          null,
          null,
          4.75,
          null,
          4.5,
          null,
          4.5,
          4,
          4.5,
          4.5,
          5,
          4.5,
          null,
          null,
          null,
          null,
          null,
          4.5,
          null,
          null,
          null,
          4.666666666666667,
          5,
          4.25,
          null,
          5,
          null,
          5,
          4.875,
          4.875,
          null,
          4.9,
          4.833333333333333,
          null,
          null,
          4.666666666666667,
          4.7,
          4.875,
          null,
          null,
          5,
          4.583333333333333,
          4.923076923076923,
          4.875,
          null,
          4.833333333333333,
          4.9,
          null,
          4.875,
          4.9,
          null,
          5,
          4.833333333333333,
          4.5,
          4.916666666666667
         ],
         "yaxis": "y"
        }
       ],
       "layout": {
        "barmode": "relative",
        "legend": {
         "tracegroupgap": 0
        },
        "template": {
         "data": {
          "bar": [
           {
            "error_x": {
             "color": "#2a3f5f"
            },
            "error_y": {
             "color": "#2a3f5f"
            },
            "marker": {
             "line": {
              "color": "#E5ECF6",
              "width": 0.5
             },
             "pattern": {
              "fillmode": "overlay",
              "size": 10,
              "solidity": 0.2
             }
            },
            "type": "bar"
           }
          ],
          "barpolar": [
           {
            "marker": {
             "line": {
              "color": "#E5ECF6",
              "width": 0.5
             },
             "pattern": {
              "fillmode": "overlay",
              "size": 10,
              "solidity": 0.2
             }
            },
            "type": "barpolar"
           }
          ],
          "carpet": [
           {
            "aaxis": {
             "endlinecolor": "#2a3f5f",
             "gridcolor": "white",
             "linecolor": "white",
             "minorgridcolor": "white",
             "startlinecolor": "#2a3f5f"
            },
            "baxis": {
             "endlinecolor": "#2a3f5f",
             "gridcolor": "white",
             "linecolor": "white",
             "minorgridcolor": "white",
             "startlinecolor": "#2a3f5f"
            },
            "type": "carpet"
           }
          ],
          "choropleth": [
           {
            "colorbar": {
             "outlinewidth": 0,
             "ticks": ""
            },
            "type": "choropleth"
           }
          ],
          "contour": [
           {
            "colorbar": {
             "outlinewidth": 0,
             "ticks": ""
            },
            "colorscale": [
             [
              0,
              "#0d0887"
             ],
             [
              0.1111111111111111,
              "#46039f"
             ],
             [
              0.2222222222222222,
              "#7201a8"
             ],
             [
              0.3333333333333333,
              "#9c179e"
             ],
             [
              0.4444444444444444,
              "#bd3786"
             ],
             [
              0.5555555555555556,
              "#d8576b"
             ],
             [
              0.6666666666666666,
              "#ed7953"
             ],
             [
              0.7777777777777778,
              "#fb9f3a"
             ],
             [
              0.8888888888888888,
              "#fdca26"
             ],
             [
              1,
              "#f0f921"
             ]
            ],
            "type": "contour"
           }
          ],
          "contourcarpet": [
           {
            "colorbar": {
             "outlinewidth": 0,
             "ticks": ""
            },
            "type": "contourcarpet"
           }
          ],
          "heatmap": [
           {
            "colorbar": {
             "outlinewidth": 0,
             "ticks": ""
            },
            "colorscale": [
             [
              0,
              "#0d0887"
             ],
             [
              0.1111111111111111,
              "#46039f"
             ],
             [
              0.2222222222222222,
              "#7201a8"
             ],
             [
              0.3333333333333333,
              "#9c179e"
             ],
             [
              0.4444444444444444,
              "#bd3786"
             ],
             [
              0.5555555555555556,
              "#d8576b"
             ],
             [
              0.6666666666666666,
              "#ed7953"
             ],
             [
              0.7777777777777778,
              "#fb9f3a"
             ],
             [
              0.8888888888888888,
              "#fdca26"
             ],
             [
              1,
              "#f0f921"
             ]
            ],
            "type": "heatmap"
           }
          ],
          "heatmapgl": [
           {
            "colorbar": {
             "outlinewidth": 0,
             "ticks": ""
            },
            "colorscale": [
             [
              0,
              "#0d0887"
             ],
             [
              0.1111111111111111,
              "#46039f"
             ],
             [
              0.2222222222222222,
              "#7201a8"
             ],
             [
              0.3333333333333333,
              "#9c179e"
             ],
             [
              0.4444444444444444,
              "#bd3786"
             ],
             [
              0.5555555555555556,
              "#d8576b"
             ],
             [
              0.6666666666666666,
              "#ed7953"
             ],
             [
              0.7777777777777778,
              "#fb9f3a"
             ],
             [
              0.8888888888888888,
              "#fdca26"
             ],
             [
              1,
              "#f0f921"
             ]
            ],
            "type": "heatmapgl"
           }
          ],
          "histogram": [
           {
            "marker": {
             "pattern": {
              "fillmode": "overlay",
              "size": 10,
              "solidity": 0.2
             }
            },
            "type": "histogram"
           }
          ],
          "histogram2d": [
           {
            "colorbar": {
             "outlinewidth": 0,
             "ticks": ""
            },
            "colorscale": [
             [
              0,
              "#0d0887"
             ],
             [
              0.1111111111111111,
              "#46039f"
             ],
             [
              0.2222222222222222,
              "#7201a8"
             ],
             [
              0.3333333333333333,
              "#9c179e"
             ],
             [
              0.4444444444444444,
              "#bd3786"
             ],
             [
              0.5555555555555556,
              "#d8576b"
             ],
             [
              0.6666666666666666,
              "#ed7953"
             ],
             [
              0.7777777777777778,
              "#fb9f3a"
             ],
             [
              0.8888888888888888,
              "#fdca26"
             ],
             [
              1,
              "#f0f921"
             ]
            ],
            "type": "histogram2d"
           }
          ],
          "histogram2dcontour": [
           {
            "colorbar": {
             "outlinewidth": 0,
             "ticks": ""
            },
            "colorscale": [
             [
              0,
              "#0d0887"
             ],
             [
              0.1111111111111111,
              "#46039f"
             ],
             [
              0.2222222222222222,
              "#7201a8"
             ],
             [
              0.3333333333333333,
              "#9c179e"
             ],
             [
              0.4444444444444444,
              "#bd3786"
             ],
             [
              0.5555555555555556,
              "#d8576b"
             ],
             [
              0.6666666666666666,
              "#ed7953"
             ],
             [
              0.7777777777777778,
              "#fb9f3a"
             ],
             [
              0.8888888888888888,
              "#fdca26"
             ],
             [
              1,
              "#f0f921"
             ]
            ],
            "type": "histogram2dcontour"
           }
          ],
          "mesh3d": [
           {
            "colorbar": {
             "outlinewidth": 0,
             "ticks": ""
            },
            "type": "mesh3d"
           }
          ],
          "parcoords": [
           {
            "line": {
             "colorbar": {
              "outlinewidth": 0,
              "ticks": ""
             }
            },
            "type": "parcoords"
           }
          ],
          "pie": [
           {
            "automargin": true,
            "type": "pie"
           }
          ],
          "scatter": [
           {
            "fillpattern": {
             "fillmode": "overlay",
             "size": 10,
             "solidity": 0.2
            },
            "type": "scatter"
           }
          ],
          "scatter3d": [
           {
            "line": {
             "colorbar": {
              "outlinewidth": 0,
              "ticks": ""
             }
            },
            "marker": {
             "colorbar": {
              "outlinewidth": 0,
              "ticks": ""
             }
            },
            "type": "scatter3d"
           }
          ],
          "scattercarpet": [
           {
            "marker": {
             "colorbar": {
              "outlinewidth": 0,
              "ticks": ""
             }
            },
            "type": "scattercarpet"
           }
          ],
          "scattergeo": [
           {
            "marker": {
             "colorbar": {
              "outlinewidth": 0,
              "ticks": ""
             }
            },
            "type": "scattergeo"
           }
          ],
          "scattergl": [
           {
            "marker": {
             "colorbar": {
              "outlinewidth": 0,
              "ticks": ""
             }
            },
            "type": "scattergl"
           }
          ],
          "scattermapbox": [
           {
            "marker": {
             "colorbar": {
              "outlinewidth": 0,
              "ticks": ""
             }
            },
            "type": "scattermapbox"
           }
          ],
          "scatterpolar": [
           {
            "marker": {
             "colorbar": {
              "outlinewidth": 0,
              "ticks": ""
             }
            },
            "type": "scatterpolar"
           }
          ],
          "scatterpolargl": [
           {
            "marker": {
             "colorbar": {
              "outlinewidth": 0,
              "ticks": ""
             }
            },
            "type": "scatterpolargl"
           }
          ],
          "scatterternary": [
           {
            "marker": {
             "colorbar": {
              "outlinewidth": 0,
              "ticks": ""
             }
            },
            "type": "scatterternary"
           }
          ],
          "surface": [
           {
            "colorbar": {
             "outlinewidth": 0,
             "ticks": ""
            },
            "colorscale": [
             [
              0,
              "#0d0887"
             ],
             [
              0.1111111111111111,
              "#46039f"
             ],
             [
              0.2222222222222222,
              "#7201a8"
             ],
             [
              0.3333333333333333,
              "#9c179e"
             ],
             [
              0.4444444444444444,
              "#bd3786"
             ],
             [
              0.5555555555555556,
              "#d8576b"
             ],
             [
              0.6666666666666666,
              "#ed7953"
             ],
             [
              0.7777777777777778,
              "#fb9f3a"
             ],
             [
              0.8888888888888888,
              "#fdca26"
             ],
             [
              1,
              "#f0f921"
             ]
            ],
            "type": "surface"
           }
          ],
          "table": [
           {
            "cells": {
             "fill": {
              "color": "#EBF0F8"
             },
             "line": {
              "color": "white"
             }
            },
            "header": {
             "fill": {
              "color": "#C8D4E3"
             },
             "line": {
              "color": "white"
             }
            },
            "type": "table"
           }
          ]
         },
         "layout": {
          "annotationdefaults": {
           "arrowcolor": "#2a3f5f",
           "arrowhead": 0,
           "arrowwidth": 1
          },
          "autotypenumbers": "strict",
          "coloraxis": {
           "colorbar": {
            "outlinewidth": 0,
            "ticks": ""
           }
          },
          "colorscale": {
           "diverging": [
            [
             0,
             "#8e0152"
            ],
            [
             0.1,
             "#c51b7d"
            ],
            [
             0.2,
             "#de77ae"
            ],
            [
             0.3,
             "#f1b6da"
            ],
            [
             0.4,
             "#fde0ef"
            ],
            [
             0.5,
             "#f7f7f7"
            ],
            [
             0.6,
             "#e6f5d0"
            ],
            [
             0.7,
             "#b8e186"
            ],
            [
             0.8,
             "#7fbc41"
            ],
            [
             0.9,
             "#4d9221"
            ],
            [
             1,
             "#276419"
            ]
           ],
           "sequential": [
            [
             0,
             "#0d0887"
            ],
            [
             0.1111111111111111,
             "#46039f"
            ],
            [
             0.2222222222222222,
             "#7201a8"
            ],
            [
             0.3333333333333333,
             "#9c179e"
            ],
            [
             0.4444444444444444,
             "#bd3786"
            ],
            [
             0.5555555555555556,
             "#d8576b"
            ],
            [
             0.6666666666666666,
             "#ed7953"
            ],
            [
             0.7777777777777778,
             "#fb9f3a"
            ],
            [
             0.8888888888888888,
             "#fdca26"
            ],
            [
             1,
             "#f0f921"
            ]
           ],
           "sequentialminus": [
            [
             0,
             "#0d0887"
            ],
            [
             0.1111111111111111,
             "#46039f"
            ],
            [
             0.2222222222222222,
             "#7201a8"
            ],
            [
             0.3333333333333333,
             "#9c179e"
            ],
            [
             0.4444444444444444,
             "#bd3786"
            ],
            [
             0.5555555555555556,
             "#d8576b"
            ],
            [
             0.6666666666666666,
             "#ed7953"
            ],
            [
             0.7777777777777778,
             "#fb9f3a"
            ],
            [
             0.8888888888888888,
             "#fdca26"
            ],
            [
             1,
             "#f0f921"
            ]
           ]
          },
          "colorway": [
           "#636efa",
           "#EF553B",
           "#00cc96",
           "#ab63fa",
           "#FFA15A",
           "#19d3f3",
           "#FF6692",
           "#B6E880",
           "#FF97FF",
           "#FECB52"
          ],
          "font": {
           "color": "#2a3f5f"
          },
          "geo": {
           "bgcolor": "white",
           "lakecolor": "white",
           "landcolor": "#E5ECF6",
           "showlakes": true,
           "showland": true,
           "subunitcolor": "white"
          },
          "hoverlabel": {
           "align": "left"
          },
          "hovermode": "closest",
          "mapbox": {
           "style": "light"
          },
          "paper_bgcolor": "white",
          "plot_bgcolor": "#E5ECF6",
          "polar": {
           "angularaxis": {
            "gridcolor": "white",
            "linecolor": "white",
            "ticks": ""
           },
           "bgcolor": "#E5ECF6",
           "radialaxis": {
            "gridcolor": "white",
            "linecolor": "white",
            "ticks": ""
           }
          },
          "scene": {
           "xaxis": {
            "backgroundcolor": "#E5ECF6",
            "gridcolor": "white",
            "gridwidth": 2,
            "linecolor": "white",
            "showbackground": true,
            "ticks": "",
            "zerolinecolor": "white"
           },
           "yaxis": {
            "backgroundcolor": "#E5ECF6",
            "gridcolor": "white",
            "gridwidth": 2,
            "linecolor": "white",
            "showbackground": true,
            "ticks": "",
            "zerolinecolor": "white"
           },
           "zaxis": {
            "backgroundcolor": "#E5ECF6",
            "gridcolor": "white",
            "gridwidth": 2,
            "linecolor": "white",
            "showbackground": true,
            "ticks": "",
            "zerolinecolor": "white"
           }
          },
          "shapedefaults": {
           "line": {
            "color": "#2a3f5f"
           }
          },
          "ternary": {
           "aaxis": {
            "gridcolor": "white",
            "linecolor": "white",
            "ticks": ""
           },
           "baxis": {
            "gridcolor": "white",
            "linecolor": "white",
            "ticks": ""
           },
           "bgcolor": "#E5ECF6",
           "caxis": {
            "gridcolor": "white",
            "linecolor": "white",
            "ticks": ""
           }
          },
          "title": {
           "x": 0.05
          },
          "xaxis": {
           "automargin": true,
           "gridcolor": "white",
           "linecolor": "white",
           "ticks": "",
           "title": {
            "standoff": 15
           },
           "zerolinecolor": "white",
           "zerolinewidth": 2
          },
          "yaxis": {
           "automargin": true,
           "gridcolor": "white",
           "linecolor": "white",
           "ticks": "",
           "title": {
            "standoff": 15
           },
           "zerolinecolor": "white",
           "zerolinewidth": 2
          }
         }
        },
        "title": {
         "text": "Average Wine Rating per Group"
        },
        "xaxis": {
         "anchor": "y",
         "domain": [
          0,
          1
         ],
         "title": {
          "text": "Group ID"
         }
        },
        "yaxis": {
         "anchor": "x",
         "domain": [
          0,
          1
         ],
         "title": {
          "text": "Average Rating"
         }
        }
       }
      }
     },
     "metadata": {},
     "output_type": "display_data"
    }
   ],
   "source": [
    "import pandas as pd\n",
    "from tqdm import tqdm\n",
    "import plotly.express as px\n",
    "\n",
    "# Assuming `group_data`, `ratings_data`, `merged_data`, and `wine_data` are already defined DataFrames.\n",
    "\n",
    "# Schritt 1: Leere Listen erstellen, um die durchschnittlichen Bewertungen und die individuellen Bewertungen zu speichern\n",
    "group_avg_ratings = []  # Liste für durchschnittliche Bewertungen pro Gruppe\n",
    "individual_ratings = []  # Liste für individuelle Bewertungen jedes Gruppenmitglieds\n",
    "\n",
    "# Schritt 2: Iteration über alle Gruppen-IDs (0 bis 239) mit Fortschrittsanzeige\n",
    "for group_id in tqdm(range(240), desc=\"Processing Group IDs\", unit=\"group\"):\n",
    "    try:\n",
    "        # Schritt 3: Get the top 5 wine recommendations for the current group using the `group_rec` function\n",
    "        recommended_wines = group_rec(group_id, group_data, merged_data, wine_data, ratings_data)\n",
    "\n",
    "        # Überprüfen, ob Empfehlungen zurückgegeben wurden\n",
    "        if recommended_wines is None or recommended_wines.empty:\n",
    "            print(f\"Keine Empfehlungen für Gruppe {group_id}. Überspringen...\")\n",
    "            group_avg_ratings.append((group_id, None))\n",
    "            continue\n",
    "\n",
    "\n",
    "        # Konvertieren Sie die WineIDs in eine Liste\n",
    "        if 'WineID' in recommended_wines.columns:\n",
    "            wine_id_list = recommended_wines['WineID'].tolist()\n",
    "        else:\n",
    "            print(f\"Keine gültige 'WineID'-Spalte für Gruppe {group_id}. Überspringen...\")\n",
    "            group_avg_ratings.append((group_id, None))\n",
    "            continue\n",
    "\n",
    "        # Schritt 4: Holen Sie die Bewertungen der Gruppenmitglieder für die empfohlenen Weine\n",
    "        group_ratings_df = get_wines_rated_by_group(\n",
    "            group_df=group_data,\n",
    "            group_id=group_id,\n",
    "            ratings_df=ratings_data,\n",
    "            wine_id=wine_id_list\n",
    "        )\n",
    "\n",
    "        # Schritt 5: Durchschnittliche Bewertung für die zurückgegebenen Weine berechnen\n",
    "        if not group_ratings_df.empty:\n",
    "            avg_rating = group_ratings_df['Rating'].mean()\n",
    "        else:\n",
    "            avg_rating = None  # Keine Bewertungen gefunden\n",
    "\n",
    "        # Speichern der individuellen Bewertungen in `individual_ratings`\n",
    "        for _, row in group_ratings_df.iterrows():\n",
    "            individual_ratings.append({\n",
    "                'GroupID': group_id,\n",
    "                'UserID': row['UserID'],\n",
    "                'WineID': row['WineID'],\n",
    "                'Rating': row['Rating']\n",
    "            })\n",
    "\n",
    "    except ValueError as e:\n",
    "        # Fehler abfangen und None als Durchschnittswert speichern\n",
    "        print(f\"Fehler bei Gruppe {group_id}: {e}\")\n",
    "        avg_rating = None\n",
    "\n",
    "    # Schritt 6: Ergebnis als Tupel (GroupID, AverageRating) speichern\n",
    "    group_avg_ratings.append((group_id, avg_rating))\n",
    "\n",
    "# Schritt 7: Ausgabe der durchschnittlichen Bewertungen für jede Gruppe als DataFrame\n",
    "group_avg_ratings_df = pd.DataFrame(group_avg_ratings, columns=[\"GroupID\", \"AverageRating\"])\n",
    "\n",
    "# Schritt 8: Ausgabe der individuellen Bewertungen als DataFrame\n",
    "individual_ratings_df = pd.DataFrame(individual_ratings, columns=[\"GroupID\", \"UserID\", \"WineID\", \"Rating\"])\n",
    "\n",
    "# Debug-Ausgabe: Anzeigen der Struktur und der ersten Zeilen von `group_avg_ratings_df`\n",
    "print(\"Erste 5 Zeilen von group_avg_ratings_df:\")\n",
    "print(group_avg_ratings_df.head())\n",
    "\n",
    "print(\"Erste 5 Zeilen von individual_ratings_df:\")\n",
    "print(individual_ratings_df.head())\n",
    "\n",
    "# Schritt 9: Erstellen eines interaktiven Balkendiagramms der Durchschnittsbewertungen pro Gruppe\n",
    "fig = px.bar(group_avg_ratings_df, x='GroupID', y='AverageRating',\n",
    "             labels={'GroupID': 'Group ID', 'AverageRating': 'Average Rating'},\n",
    "             title='Average Wine Rating per Group')\n",
    "\n",
    "# Interaktives Diagramm anzeigen\n",
    "fig.show()\n"
   ]
  },
  {
   "cell_type": "code",
   "execution_count": 21,
   "metadata": {},
   "outputs": [
    {
     "data": {
      "image/png": "[encoded data removed]",
      "text/plain": [
       "<Figure size 1000x600 with 1 Axes>"
      ]
     },
     "metadata": {},
     "output_type": "display_data"
    }
   ],
   "source": [
    "import matplotlib.pyplot as plt\n",
    "\n",
    "# Create a histogram of average ratings per group\n",
    "plt.figure(figsize=(10, 6))\n",
    "plt.hist(group_avg_ratings_df['AverageRating'].dropna(), bins=20, color='skyblue', edgecolor='black')\n",
    "\n",
    "# Add labels and title in English\n",
    "plt.xlabel('Average Rating')\n",
    "plt.ylabel('Number of Groups')\n",
    "plt.title('Distribution of Average Ratings per Group')\n",
    "\n",
    "# Show the histogram\n",
    "plt.show()\n"
   ]
  },
  {
   "cell_type": "code",
   "execution_count": 22,
   "metadata": {},
   "outputs": [
    {
     "data": {
      "application/vnd.plotly.v1+json": {
       "config": {
        "plotlyServerURL": "https://plot.ly"
       },
       "data": [
        {
         "alignmentgroup": "True",
         "bingroup": "x",
         "hovertemplate": "Satisfaction Rate=%{x}<br>count=%{y}<extra></extra>",
         "legendgroup": "",
         "marker": {
          "color": "#636efa",
          "pattern": {
           "shape": ""
          }
         },
         "name": "",
         "nbinsx": 10,
         "offsetgroup": "",
         "orientation": "v",
         "showlegend": false,
         "type": "histogram",
         "x": [
          1,
          1,
          1,
          1,
          1,
          0,
          1,
          1,
          1,
          1,
          1,
          1,
          1,
          1,
          1,
          1,
          1,
          1,
          1,
          1,
          1,
          1,
          1,
          1,
          1,
          1,
          1,
          1,
          1,
          1,
          1,
          1,
          1,
          1,
          1,
          1,
          1,
          1,
          1,
          1,
          1,
          1,
          1,
          1,
          1,
          1,
          1,
          1,
          1,
          1,
          1,
          1,
          1,
          1,
          1,
          1,
          1,
          1,
          1,
          0.75,
          1,
          1,
          1,
          1,
          1,
          1,
          1,
          1,
          1,
          1,
          1,
          1,
          1,
          1,
          1,
          1,
          1,
          1,
          1,
          1,
          1,
          1,
          1,
          1,
          1,
          1,
          1,
          1,
          1,
          1,
          1,
          1,
          1,
          1,
          1,
          1,
          0.6666666666666666,
          1,
          0,
          1,
          1,
          1,
          1,
          1,
          1,
          1,
          1,
          1,
          1,
          1,
          1,
          1,
          1,
          1,
          1,
          1,
          0.75,
          1,
          1,
          0.5,
          1,
          1,
          1,
          1,
          1,
          1,
          1,
          1,
          1,
          1,
          0.9166666666666666,
          1,
          1,
          1,
          1,
          1,
          1,
          1,
          1,
          1,
          1
         ],
         "xaxis": "x",
         "yaxis": "y"
        }
       ],
       "layout": {
        "barmode": "relative",
        "legend": {
         "tracegroupgap": 0
        },
        "template": {
         "data": {
          "bar": [
           {
            "error_x": {
             "color": "#2a3f5f"
            },
            "error_y": {
             "color": "#2a3f5f"
            },
            "marker": {
             "line": {
              "color": "#E5ECF6",
              "width": 0.5
             },
             "pattern": {
              "fillmode": "overlay",
              "size": 10,
              "solidity": 0.2
             }
            },
            "type": "bar"
           }
          ],
          "barpolar": [
           {
            "marker": {
             "line": {
              "color": "#E5ECF6",
              "width": 0.5
             },
             "pattern": {
              "fillmode": "overlay",
              "size": 10,
              "solidity": 0.2
             }
            },
            "type": "barpolar"
           }
          ],
          "carpet": [
           {
            "aaxis": {
             "endlinecolor": "#2a3f5f",
             "gridcolor": "white",
             "linecolor": "white",
             "minorgridcolor": "white",
             "startlinecolor": "#2a3f5f"
            },
            "baxis": {
             "endlinecolor": "#2a3f5f",
             "gridcolor": "white",
             "linecolor": "white",
             "minorgridcolor": "white",
             "startlinecolor": "#2a3f5f"
            },
            "type": "carpet"
           }
          ],
          "choropleth": [
           {
            "colorbar": {
             "outlinewidth": 0,
             "ticks": ""
            },
            "type": "choropleth"
           }
          ],
          "contour": [
           {
            "colorbar": {
             "outlinewidth": 0,
             "ticks": ""
            },
            "colorscale": [
             [
              0,
              "#0d0887"
             ],
             [
              0.1111111111111111,
              "#46039f"
             ],
             [
              0.2222222222222222,
              "#7201a8"
             ],
             [
              0.3333333333333333,
              "#9c179e"
             ],
             [
              0.4444444444444444,
              "#bd3786"
             ],
             [
              0.5555555555555556,
              "#d8576b"
             ],
             [
              0.6666666666666666,
              "#ed7953"
             ],
             [
              0.7777777777777778,
              "#fb9f3a"
             ],
             [
              0.8888888888888888,
              "#fdca26"
             ],
             [
              1,
              "#f0f921"
             ]
            ],
            "type": "contour"
           }
          ],
          "contourcarpet": [
           {
            "colorbar": {
             "outlinewidth": 0,
             "ticks": ""
            },
            "type": "contourcarpet"
           }
          ],
          "heatmap": [
           {
            "colorbar": {
             "outlinewidth": 0,
             "ticks": ""
            },
            "colorscale": [
             [
              0,
              "#0d0887"
             ],
             [
              0.1111111111111111,
              "#46039f"
             ],
             [
              0.2222222222222222,
              "#7201a8"
             ],
             [
              0.3333333333333333,
              "#9c179e"
             ],
             [
              0.4444444444444444,
              "#bd3786"
             ],
             [
              0.5555555555555556,
              "#d8576b"
             ],
             [
              0.6666666666666666,
              "#ed7953"
             ],
             [
              0.7777777777777778,
              "#fb9f3a"
             ],
             [
              0.8888888888888888,
              "#fdca26"
             ],
             [
              1,
              "#f0f921"
             ]
            ],
            "type": "heatmap"
           }
          ],
          "heatmapgl": [
           {
            "colorbar": {
             "outlinewidth": 0,
             "ticks": ""
            },
            "colorscale": [
             [
              0,
              "#0d0887"
             ],
             [
              0.1111111111111111,
              "#46039f"
             ],
             [
              0.2222222222222222,
              "#7201a8"
             ],
             [
              0.3333333333333333,
              "#9c179e"
             ],
             [
              0.4444444444444444,
              "#bd3786"
             ],
             [
              0.5555555555555556,
              "#d8576b"
             ],
             [
              0.6666666666666666,
              "#ed7953"
             ],
             [
              0.7777777777777778,
              "#fb9f3a"
             ],
             [
              0.8888888888888888,
              "#fdca26"
             ],
             [
              1,
              "#f0f921"
             ]
            ],
            "type": "heatmapgl"
           }
          ],
          "histogram": [
           {
            "marker": {
             "pattern": {
              "fillmode": "overlay",
              "size": 10,
              "solidity": 0.2
             }
            },
            "type": "histogram"
           }
          ],
          "histogram2d": [
           {
            "colorbar": {
             "outlinewidth": 0,
             "ticks": ""
            },
            "colorscale": [
             [
              0,
              "#0d0887"
             ],
             [
              0.1111111111111111,
              "#46039f"
             ],
             [
              0.2222222222222222,
              "#7201a8"
             ],
             [
              0.3333333333333333,
              "#9c179e"
             ],
             [
              0.4444444444444444,
              "#bd3786"
             ],
             [
              0.5555555555555556,
              "#d8576b"
             ],
             [
              0.6666666666666666,
              "#ed7953"
             ],
             [
              0.7777777777777778,
              "#fb9f3a"
             ],
             [
              0.8888888888888888,
              "#fdca26"
             ],
             [
              1,
              "#f0f921"
             ]
            ],
            "type": "histogram2d"
           }
          ],
          "histogram2dcontour": [
           {
            "colorbar": {
             "outlinewidth": 0,
             "ticks": ""
            },
            "colorscale": [
             [
              0,
              "#0d0887"
             ],
             [
              0.1111111111111111,
              "#46039f"
             ],
             [
              0.2222222222222222,
              "#7201a8"
             ],
             [
              0.3333333333333333,
              "#9c179e"
             ],
             [
              0.4444444444444444,
              "#bd3786"
             ],
             [
              0.5555555555555556,
              "#d8576b"
             ],
             [
              0.6666666666666666,
              "#ed7953"
             ],
             [
              0.7777777777777778,
              "#fb9f3a"
             ],
             [
              0.8888888888888888,
              "#fdca26"
             ],
             [
              1,
              "#f0f921"
             ]
            ],
            "type": "histogram2dcontour"
           }
          ],
          "mesh3d": [
           {
            "colorbar": {
             "outlinewidth": 0,
             "ticks": ""
            },
            "type": "mesh3d"
           }
          ],
          "parcoords": [
           {
            "line": {
             "colorbar": {
              "outlinewidth": 0,
              "ticks": ""
             }
            },
            "type": "parcoords"
           }
          ],
          "pie": [
           {
            "automargin": true,
            "type": "pie"
           }
          ],
          "scatter": [
           {
            "fillpattern": {
             "fillmode": "overlay",
             "size": 10,
             "solidity": 0.2
            },
            "type": "scatter"
           }
          ],
          "scatter3d": [
           {
            "line": {
             "colorbar": {
              "outlinewidth": 0,
              "ticks": ""
             }
            },
            "marker": {
             "colorbar": {
              "outlinewidth": 0,
              "ticks": ""
             }
            },
            "type": "scatter3d"
           }
          ],
          "scattercarpet": [
           {
            "marker": {
             "colorbar": {
              "outlinewidth": 0,
              "ticks": ""
             }
            },
            "type": "scattercarpet"
           }
          ],
          "scattergeo": [
           {
            "marker": {
             "colorbar": {
              "outlinewidth": 0,
              "ticks": ""
             }
            },
            "type": "scattergeo"
           }
          ],
          "scattergl": [
           {
            "marker": {
             "colorbar": {
              "outlinewidth": 0,
              "ticks": ""
             }
            },
            "type": "scattergl"
           }
          ],
          "scattermapbox": [
           {
            "marker": {
             "colorbar": {
              "outlinewidth": 0,
              "ticks": ""
             }
            },
            "type": "scattermapbox"
           }
          ],
          "scatterpolar": [
           {
            "marker": {
             "colorbar": {
              "outlinewidth": 0,
              "ticks": ""
             }
            },
            "type": "scatterpolar"
           }
          ],
          "scatterpolargl": [
           {
            "marker": {
             "colorbar": {
              "outlinewidth": 0,
              "ticks": ""
             }
            },
            "type": "scatterpolargl"
           }
          ],
          "scatterternary": [
           {
            "marker": {
             "colorbar": {
              "outlinewidth": 0,
              "ticks": ""
             }
            },
            "type": "scatterternary"
           }
          ],
          "surface": [
           {
            "colorbar": {
             "outlinewidth": 0,
             "ticks": ""
            },
            "colorscale": [
             [
              0,
              "#0d0887"
             ],
             [
              0.1111111111111111,
              "#46039f"
             ],
             [
              0.2222222222222222,
              "#7201a8"
             ],
             [
              0.3333333333333333,
              "#9c179e"
             ],
             [
              0.4444444444444444,
              "#bd3786"
             ],
             [
              0.5555555555555556,
              "#d8576b"
             ],
             [
              0.6666666666666666,
              "#ed7953"
             ],
             [
              0.7777777777777778,
              "#fb9f3a"
             ],
             [
              0.8888888888888888,
              "#fdca26"
             ],
             [
              1,
              "#f0f921"
             ]
            ],
            "type": "surface"
           }
          ],
          "table": [
           {
            "cells": {
             "fill": {
              "color": "#EBF0F8"
             },
             "line": {
              "color": "white"
             }
            },
            "header": {
             "fill": {
              "color": "#C8D4E3"
             },
             "line": {
              "color": "white"
             }
            },
            "type": "table"
           }
          ]
         },
         "layout": {
          "annotationdefaults": {
           "arrowcolor": "#2a3f5f",
           "arrowhead": 0,
           "arrowwidth": 1
          },
          "autotypenumbers": "strict",
          "coloraxis": {
           "colorbar": {
            "outlinewidth": 0,
            "ticks": ""
           }
          },
          "colorscale": {
           "diverging": [
            [
             0,
             "#8e0152"
            ],
            [
             0.1,
             "#c51b7d"
            ],
            [
             0.2,
             "#de77ae"
            ],
            [
             0.3,
             "#f1b6da"
            ],
            [
             0.4,
             "#fde0ef"
            ],
            [
             0.5,
             "#f7f7f7"
            ],
            [
             0.6,
             "#e6f5d0"
            ],
            [
             0.7,
             "#b8e186"
            ],
            [
             0.8,
             "#7fbc41"
            ],
            [
             0.9,
             "#4d9221"
            ],
            [
             1,
             "#276419"
            ]
           ],
           "sequential": [
            [
             0,
             "#0d0887"
            ],
            [
             0.1111111111111111,
             "#46039f"
            ],
            [
             0.2222222222222222,
             "#7201a8"
            ],
            [
             0.3333333333333333,
             "#9c179e"
            ],
            [
             0.4444444444444444,
             "#bd3786"
            ],
            [
             0.5555555555555556,
             "#d8576b"
            ],
            [
             0.6666666666666666,
             "#ed7953"
            ],
            [
             0.7777777777777778,
             "#fb9f3a"
            ],
            [
             0.8888888888888888,
             "#fdca26"
            ],
            [
             1,
             "#f0f921"
            ]
           ],
           "sequentialminus": [
            [
             0,
             "#0d0887"
            ],
            [
             0.1111111111111111,
             "#46039f"
            ],
            [
             0.2222222222222222,
             "#7201a8"
            ],
            [
             0.3333333333333333,
             "#9c179e"
            ],
            [
             0.4444444444444444,
             "#bd3786"
            ],
            [
             0.5555555555555556,
             "#d8576b"
            ],
            [
             0.6666666666666666,
             "#ed7953"
            ],
            [
             0.7777777777777778,
             "#fb9f3a"
            ],
            [
             0.8888888888888888,
             "#fdca26"
            ],
            [
             1,
             "#f0f921"
            ]
           ]
          },
          "colorway": [
           "#636efa",
           "#EF553B",
           "#00cc96",
           "#ab63fa",
           "#FFA15A",
           "#19d3f3",
           "#FF6692",
           "#B6E880",
           "#FF97FF",
           "#FECB52"
          ],
          "font": {
           "color": "#2a3f5f"
          },
          "geo": {
           "bgcolor": "white",
           "lakecolor": "white",
           "landcolor": "#E5ECF6",
           "showlakes": true,
           "showland": true,
           "subunitcolor": "white"
          },
          "hoverlabel": {
           "align": "left"
          },
          "hovermode": "closest",
          "mapbox": {
           "style": "light"
          },
          "paper_bgcolor": "white",
          "plot_bgcolor": "#E5ECF6",
          "polar": {
           "angularaxis": {
            "gridcolor": "white",
            "linecolor": "white",
            "ticks": ""
           },
           "bgcolor": "#E5ECF6",
           "radialaxis": {
            "gridcolor": "white",
            "linecolor": "white",
            "ticks": ""
           }
          },
          "scene": {
           "xaxis": {
            "backgroundcolor": "#E5ECF6",
            "gridcolor": "white",
            "gridwidth": 2,
            "linecolor": "white",
            "showbackground": true,
            "ticks": "",
            "zerolinecolor": "white"
           },
           "yaxis": {
            "backgroundcolor": "#E5ECF6",
            "gridcolor": "white",
            "gridwidth": 2,
            "linecolor": "white",
            "showbackground": true,
            "ticks": "",
            "zerolinecolor": "white"
           },
           "zaxis": {
            "backgroundcolor": "#E5ECF6",
            "gridcolor": "white",
            "gridwidth": 2,
            "linecolor": "white",
            "showbackground": true,
            "ticks": "",
            "zerolinecolor": "white"
           }
          },
          "shapedefaults": {
           "line": {
            "color": "#2a3f5f"
           }
          },
          "ternary": {
           "aaxis": {
            "gridcolor": "white",
            "linecolor": "white",
            "ticks": ""
           },
           "baxis": {
            "gridcolor": "white",
            "linecolor": "white",
            "ticks": ""
           },
           "bgcolor": "#E5ECF6",
           "caxis": {
            "gridcolor": "white",
            "linecolor": "white",
            "ticks": ""
           }
          },
          "title": {
           "x": 0.05
          },
          "xaxis": {
           "automargin": true,
           "gridcolor": "white",
           "linecolor": "white",
           "ticks": "",
           "title": {
            "standoff": 15
           },
           "zerolinecolor": "white",
           "zerolinewidth": 2
          },
          "yaxis": {
           "automargin": true,
           "gridcolor": "white",
           "linecolor": "white",
           "ticks": "",
           "title": {
            "standoff": 15
           },
           "zerolinecolor": "white",
           "zerolinewidth": 2
          }
         }
        },
        "title": {
         "text": "Distribution of Satisfaction Rate Across Groups"
        },
        "xaxis": {
         "anchor": "y",
         "domain": [
          0,
          1
         ],
         "title": {
          "text": "Satisfaction Rate"
         }
        },
        "yaxis": {
         "anchor": "x",
         "domain": [
          0,
          1
         ],
         "title": {
          "text": "count"
         }
        }
       }
      }
     },
     "metadata": {},
     "output_type": "display_data"
    }
   ],
   "source": [
    "import pandas as pd\n",
    "from tqdm import tqdm\n",
    "import plotly.express as px\n",
    "\n",
    "# Assuming `individual_ratings_df` is already defined and contains \"GroupID\", \"UserID\", \"WineID\", and \"Rating\".\n",
    "\n",
    "# Schritt 1: Definieren eines Schwellenwerts für Zufriedenheit\n",
    "satisfaction_threshold = 4.0  # Alle Bewertungen >= 4.0 werden als zufriedenstellend betrachtet\n",
    "\n",
    "# Schritt 2: Berechnung der Satisfaction Rate für jede Gruppe\n",
    "satisfaction_rate_per_group = []\n",
    "\n",
    "# Berechnung der Satisfaction Rate mit `groupby`\n",
    "for group_id, group_df in individual_ratings_df.groupby('GroupID'):\n",
    "    # Berechne die Anzahl der zufriedenen Bewertungen (Rating >= threshold)\n",
    "    satisfied_count = group_df[group_df['Rating'] >= satisfaction_threshold].shape[0]\n",
    "    \n",
    "    # Gesamtzahl der Bewertungen für diese Gruppe\n",
    "    total_count = group_df.shape[0]\n",
    "    \n",
    "    # Berechne die Satisfaction Rate, wenn Bewertungen vorhanden sind\n",
    "    satisfaction_rate = satisfied_count / total_count if total_count > 0 else None\n",
    "    \n",
    "    # Speichern der Satisfaction Rate für die aktuelle Gruppe\n",
    "    satisfaction_rate_per_group.append((group_id, satisfaction_rate))\n",
    "\n",
    "# Schritt 3: Umwandeln der Liste in einen DataFrame\n",
    "satisfaction_rate_df = pd.DataFrame(satisfaction_rate_per_group, columns=[\"GroupID\", \"SatisfactionRate\"])\n",
    "\n",
    "# Schritt 4: Histogramm erstellen, um die Verteilung der Satisfaction Rate pro Gruppe anzuzeigen\n",
    "fig = px.histogram(satisfaction_rate_df, x='SatisfactionRate',\n",
    "                   nbins=10,  # Anzahl der Bins im Histogramm (z.B. 10 für 0-1 in 0.1-Schritten)\n",
    "                   labels={'SatisfactionRate': 'Satisfaction Rate'},\n",
    "                   title='Distribution of Satisfaction Rate Across Groups')\n",
    "\n",
    "# Interaktives Histogramm anzeigen\n",
    "fig.show()\n",
    "\n"
   ]
  },
  {
   "cell_type": "code",
   "execution_count": 23,
   "metadata": {},
   "outputs": [
    {
     "data": {
      "image/png": "[encoded data removed]",
      "text/plain": [
       "<Figure size 1000x600 with 1 Axes>"
      ]
     },
     "metadata": {},
     "output_type": "display_data"
    }
   ],
   "source": [
    "import matplotlib.pyplot as plt\n",
    "\n",
    "# Stellen Sie sicher, dass `individual_ratings_df` der DataFrame mit den individuellen Bewertungen ist\n",
    "# und die Spalte \"Rating\" enthält\n",
    "\n",
    "# Größe der Grafik festlegen\n",
    "plt.figure(figsize=(10, 6))\n",
    "\n",
    "# Histogramm der Spalte `Rating` im DataFrame `individual_ratings_df` erstellen\n",
    "plt.hist(individual_ratings_df['Rating'], bins=4, color='lightcoral', edgecolor='black')\n",
    "\n",
    "# Labels und Titel hinzufügen\n",
    "plt.xlabel('Rating')\n",
    "plt.ylabel('Number of Ratings')\n",
    "plt.title('Distribution of Individual Ratings (Based on individual_ratings_df)')\n",
    "\n",
    "# Histogramm anzeigen\n",
    "plt.show()\n"
   ]
  },
  {
   "cell_type": "code",
   "execution_count": 24,
   "metadata": {},
   "outputs": [
    {
     "data": {
      "image/png": "[encoded data removed]",
      "text/plain": [
       "<Figure size 1000x600 with 1 Axes>"
      ]
     },
     "metadata": {},
     "output_type": "display_data"
    }
   ],
   "source": [
    "import pandas as pd\n",
    "import numpy as np\n",
    "import matplotlib.pyplot as plt\n",
    "\n",
    "# Beispielannahme: `individual_ratings_df` enthält die Spalten \"GroupID\", \"UserID\", \"WineID\" und \"Rating\".\n",
    "\n",
    "# Funktion zur Berechnung der Fairness basierend auf den Bewertungen einer Gruppe\n",
    "def calculate_fairness(group_ratings_df):\n",
    "    \"\"\"\n",
    "    Berechnet die Fairness basierend auf der Standardabweichung der Gruppenbewertungen.\n",
    "\n",
    "    Parameter:\n",
    "    - group_ratings_df: DataFrame mit den Spalten 'UserID', 'WineID' und 'Rating'.\n",
    "\n",
    "    Rückgabe:\n",
    "    - Fairness-Score (zwischen 0 und 1), wobei 1 perfekte Fairness bedeutet.\n",
    "    \"\"\"\n",
    "    # Überprüfen, ob keine Bewertungen vorliegen oder alle Bewertungen identisch sind\n",
    "    if group_ratings_df.empty or len(group_ratings_df['Rating'].unique()) == 1:\n",
    "        return 1.0  # Perfekte Fairness\n",
    "\n",
    "    # Berechnung der Standardabweichung der Bewertungen in der Gruppe\n",
    "    std_dev = group_ratings_df['Rating'].std()\n",
    "\n",
    "    # Fairness-Score berechnen: 1 - (std deviation) / (max rating - min rating)\n",
    "    fairness = 1 - (std_dev / (5 - 1))  # max Rating = 5, min Rating = 1\n",
    "\n",
    "    return round(fairness, 2)  # Fairness-Wert auf 2 Dezimalstellen runden\n",
    "\n",
    "# Schritt 1: Berechnung der Fairness für jede Gruppe basierend auf `individual_ratings_df`\n",
    "group_fairness_scores = []  # Speichert die Fairness-Werte für jede Gruppe\n",
    "\n",
    "# Iteration über alle Gruppen-IDs in `individual_ratings_df` mit `groupby`\n",
    "for group_id, group_df in individual_ratings_df.groupby('GroupID'):\n",
    "    # Berechnung der Fairness für die aktuelle Gruppe\n",
    "    fairness_score = calculate_fairness(group_df)\n",
    "\n",
    "    # Speichern der Gruppen-ID und des Fairness-Scores\n",
    "    group_fairness_scores.append({'GroupID': group_id, 'FairnessScore': fairness_score})\n",
    "\n",
    "# Konvertieren der Ergebnisse in einen DataFrame zur besseren Visualisierung\n",
    "fairness_df = pd.DataFrame(group_fairness_scores)\n",
    "\n",
    "# Schritt 2: Visualisierung der Fairness Scores als Histogramm\n",
    "plt.figure(figsize=(10, 6))  # Größe der Grafik festlegen\n",
    "plt.hist(fairness_df['FairnessScore'].dropna(), bins=10, color='skyblue', edgecolor='black')  # Histogramm der Fairness-Werte\n",
    "plt.xlabel('Fairness Score')  # X-Achsen-Beschriftung\n",
    "plt.ylabel('Number of Groups')  # Y-Achsen-Beschriftung\n",
    "plt.title('Distribution of Fairness Scores Across Groups')  # Titel des Diagramms\n",
    "plt.grid(axis='y', linestyle='--', alpha=0.7)  # Gitterlinie für bessere Lesbarkeit\n",
    "plt.show()\n"
   ]
  },
  {
   "cell_type": "code",
   "execution_count": 76,
   "metadata": {},
   "outputs": [
    {
     "data": {
      "image/png": "[encoded data removed]",
      "text/plain": [
       "<Figure size 1000x600 with 1 Axes>"
      ]
     },
     "metadata": {},
     "output_type": "display_data"
    }
   ],
   "source": [
    "import seaborn as sns\n",
    "import matplotlib.pyplot as plt\n",
    "\n",
    "# Set the style for the histogram\n",
    "sns.set(style=\"whitegrid\")\n",
    "\n",
    "# Create the histogram\n",
    "plt.figure(figsize=(10, 6))\n",
    "sns.histplot(group_avg_ratings_df['AverageRating'].dropna(), bins=20, kde=True, color='purple')\n",
    "\n",
    "# Add labels and title in English\n",
    "plt.xlabel('Average Rating')\n",
    "plt.ylabel('Number of Groups')\n",
    "plt.title('Distribution of Average Ratings per Group')\n",
    "\n",
    "# Show the histogram\n",
    "plt.show()\n"
   ]
  },
  {
   "cell_type": "code",
   "execution_count": 77,
   "metadata": {},
   "outputs": [],
   "source": [
    "def calculate_least_misery(group_id, group_data, ratings_data, wine_data, n=5):\n",
    "    # Step 1: Get the top n recommended wines for the group\n",
    "    recommended_wine_ids = recommend_for_group(group_id, group_data, ratings_data, wine_data, wine_id_only=True, n=n)\n",
    "\n",
    "    # Convert recommended_wine_ids to a list (if it's a Series or another object)\n",
    "    if not isinstance(recommended_wine_ids, list):\n",
    "        recommended_wine_ids = recommended_wine_ids.tolist()\n",
    "\n",
    "    # Step 2: Get ratings of the group members for these recommended wines\n",
    "    group_ratings_df = get_wines_rated_by_group(group_data, group_id, ratings_data, wine_id=recommended_wine_ids)\n",
    "\n",
    "    # Step 3: Check if group_ratings_df is empty, which means no ratings for these wines by group members\n",
    "    if group_ratings_df.empty:\n",
    "        return pd.DataFrame(columns=['WineID', 'LeastMiseryScore'])\n",
    "\n",
    "    # Step 4: Calculate Least Misery: the minimum rating for each recommended WineID within the group\n",
    "    least_misery_df = group_ratings_df[group_ratings_df['WineID'].isin(recommended_wine_ids)].groupby('WineID')['Rating'].min().reset_index()\n",
    "    least_misery_df.columns = ['WineID', 'LeastMiseryScore']\n",
    "\n",
    "    return least_misery_df\n"
   ]
  },
  {
   "cell_type": "code",
   "execution_count": 78,
   "metadata": {},
   "outputs": [
    {
     "name": "stdout",
     "output_type": "stream",
     "text": [
      "Error processing Group ID 0: 'Rating'\n",
      "Error processing Group ID 1: 'Rating'\n",
      "Error processing Group ID 2: 'Rating'\n",
      "Error processing Group ID 3: 'Rating'\n",
      "Error processing Group ID 4: 'Rating'\n",
      "Error processing Group ID 5: 'Rating'\n",
      "Error processing Group ID 6: 'Rating'\n",
      "Error processing Group ID 7: 'Rating'\n",
      "Error processing Group ID 8: 'Rating'\n",
      "Error processing Group ID 9: 'Rating'\n",
      "Error processing Group ID 10: 'Rating'\n",
      "Error processing Group ID 11: 'Rating'\n",
      "Error processing Group ID 12: 'Rating'\n",
      "Error processing Group ID 13: 'Rating'\n",
      "Error processing Group ID 14: 'Rating'\n",
      "Error processing Group ID 15: 'Rating'\n",
      "Error processing Group ID 16: 'Rating'\n",
      "Error processing Group ID 17: 'Rating'\n",
      "Error processing Group ID 18: 'Rating'\n",
      "Error processing Group ID 19: 'Rating'\n",
      "Error processing Group ID 20: 'Rating'\n",
      "Error processing Group ID 21: 'Rating'\n",
      "Error processing Group ID 22: 'Rating'\n",
      "Error processing Group ID 23: 'Rating'\n",
      "Error processing Group ID 24: 'Rating'\n",
      "Error processing Group ID 25: 'Rating'\n",
      "Error processing Group ID 26: 'Rating'\n",
      "Error processing Group ID 27: 'Rating'\n",
      "Error processing Group ID 28: 'Rating'\n",
      "Error processing Group ID 29: 'Rating'\n",
      "Error processing Group ID 30: 'Rating'\n",
      "Error processing Group ID 31: 'Rating'\n",
      "Error processing Group ID 32: 'Rating'\n",
      "Error processing Group ID 33: 'Rating'\n",
      "Error processing Group ID 34: 'Rating'\n",
      "Error processing Group ID 35: 'Rating'\n",
      "Error processing Group ID 36: 'Rating'\n",
      "Error processing Group ID 37: 'Rating'\n",
      "Error processing Group ID 38: 'Rating'\n",
      "Error processing Group ID 39: 'Rating'\n",
      "Error processing Group ID 40: 'Rating'\n",
      "Error processing Group ID 41: 'Rating'\n",
      "Error processing Group ID 42: 'Rating'\n",
      "Error processing Group ID 43: 'Rating'\n",
      "Error processing Group ID 44: 'Rating'\n",
      "Error processing Group ID 45: 'Rating'\n",
      "Error processing Group ID 46: 'Rating'\n",
      "Error processing Group ID 47: 'Rating'\n",
      "Error processing Group ID 48: 'Rating'\n",
      "Error processing Group ID 49: 'Rating'\n",
      "Error processing Group ID 50: 'Rating'\n",
      "Error processing Group ID 51: 'Rating'\n",
      "Error processing Group ID 52: 'Rating'\n",
      "Error processing Group ID 53: 'Rating'\n",
      "Error processing Group ID 54: 'Rating'\n",
      "Error processing Group ID 55: 'Rating'\n",
      "Error processing Group ID 56: 'Rating'\n",
      "Error processing Group ID 57: 'Rating'\n",
      "Error processing Group ID 58: 'Rating'\n",
      "Error processing Group ID 59: 'Rating'\n",
      "Error processing Group ID 60: 'Rating'\n",
      "Error processing Group ID 61: 'Rating'\n",
      "Error processing Group ID 62: 'Rating'\n",
      "Error processing Group ID 63: 'Rating'\n",
      "Error processing Group ID 64: 'Rating'\n",
      "Error processing Group ID 65: 'Rating'\n",
      "Error processing Group ID 66: 'Rating'\n",
      "Error processing Group ID 67: 'Rating'\n",
      "Error processing Group ID 68: 'Rating'\n",
      "Error processing Group ID 69: 'Rating'\n",
      "Error processing Group ID 70: 'Rating'\n",
      "Error processing Group ID 71: 'Rating'\n",
      "Error processing Group ID 72: 'Rating'\n",
      "Error processing Group ID 73: 'Rating'\n",
      "Error processing Group ID 74: 'Rating'\n",
      "Error processing Group ID 75: 'Rating'\n",
      "Error processing Group ID 76: 'Rating'\n",
      "Error processing Group ID 77: 'Rating'\n",
      "Error processing Group ID 78: 'Rating'\n",
      "Error processing Group ID 79: 'Rating'\n",
      "Error processing Group ID 80: 'Rating'\n",
      "Error processing Group ID 81: 'Rating'\n",
      "Error processing Group ID 82: 'Rating'\n",
      "Error processing Group ID 83: 'Rating'\n",
      "Error processing Group ID 84: 'Rating'\n",
      "Error processing Group ID 85: 'Rating'\n",
      "Error processing Group ID 86: 'Rating'\n",
      "Error processing Group ID 87: 'Rating'\n",
      "Error processing Group ID 88: 'Rating'\n",
      "Error processing Group ID 89: 'Rating'\n",
      "Error processing Group ID 90: 'Rating'\n",
      "Error processing Group ID 91: 'Rating'\n",
      "Error processing Group ID 92: 'Rating'\n",
      "Error processing Group ID 93: 'Rating'\n",
      "Error processing Group ID 94: 'Rating'\n",
      "Error processing Group ID 95: 'Rating'\n",
      "Error processing Group ID 96: 'Rating'\n",
      "Error processing Group ID 97: 'Rating'\n",
      "Error processing Group ID 98: 'Rating'\n",
      "Error processing Group ID 99: 'Rating'\n",
      "Error processing Group ID 100: 'Rating'\n",
      "Error processing Group ID 101: 'Rating'\n",
      "Error processing Group ID 102: 'Rating'\n",
      "Error processing Group ID 103: 'Rating'\n",
      "Error processing Group ID 104: 'Rating'\n",
      "Error processing Group ID 105: 'Rating'\n",
      "Error processing Group ID 106: 'Rating'\n",
      "Error processing Group ID 107: 'Rating'\n",
      "Error processing Group ID 108: 'Rating'\n",
      "Error processing Group ID 109: 'Rating'\n",
      "Error processing Group ID 110: 'Rating'\n",
      "Error processing Group ID 111: 'Rating'\n",
      "Error processing Group ID 112: 'Rating'\n",
      "Error processing Group ID 113: 'Rating'\n",
      "Error processing Group ID 114: 'Rating'\n",
      "Error processing Group ID 115: 'Rating'\n",
      "Error processing Group ID 116: 'Rating'\n",
      "Error processing Group ID 117: 'Rating'\n",
      "Error processing Group ID 118: 'Rating'\n",
      "Error processing Group ID 119: 'Rating'\n",
      "Error processing Group ID 120: 'Rating'\n",
      "Error processing Group ID 121: 'Rating'\n",
      "Error processing Group ID 122: 'Rating'\n",
      "Error processing Group ID 123: 'Rating'\n",
      "Error processing Group ID 124: 'Rating'\n",
      "Error processing Group ID 125: 'Rating'\n",
      "Error processing Group ID 126: 'Rating'\n",
      "Error processing Group ID 127: 'Rating'\n",
      "Error processing Group ID 128: 'Rating'\n",
      "Error processing Group ID 129: 'Rating'\n",
      "Error processing Group ID 130: 'Rating'\n",
      "Error processing Group ID 131: 'Rating'\n",
      "Error processing Group ID 132: 'Rating'\n",
      "Error processing Group ID 133: 'Rating'\n",
      "Error processing Group ID 134: 'Rating'\n",
      "Error processing Group ID 135: 'Rating'\n",
      "Error processing Group ID 136: 'Rating'\n",
      "Error processing Group ID 137: 'Rating'\n",
      "Error processing Group ID 138: 'Rating'\n",
      "Error processing Group ID 139: 'Rating'\n",
      "Error processing Group ID 140: 'Rating'\n",
      "Error processing Group ID 141: 'Rating'\n",
      "Error processing Group ID 142: 'Rating'\n",
      "Error processing Group ID 143: 'Rating'\n",
      "Error processing Group ID 144: 'Rating'\n",
      "Error processing Group ID 145: 'Rating'\n",
      "Error processing Group ID 146: 'Rating'\n",
      "Error processing Group ID 147: 'Rating'\n",
      "Error processing Group ID 148: 'Rating'\n",
      "Error processing Group ID 149: 'Rating'\n",
      "Error processing Group ID 150: 'Rating'\n",
      "Error processing Group ID 151: 'Rating'\n",
      "Error processing Group ID 152: 'Rating'\n",
      "Error processing Group ID 153: 'Rating'\n",
      "Error processing Group ID 154: 'Rating'\n",
      "Error processing Group ID 155: 'Rating'\n",
      "Error processing Group ID 156: 'Rating'\n",
      "Error processing Group ID 157: 'Rating'\n",
      "Error processing Group ID 158: 'Rating'\n",
      "Error processing Group ID 159: 'Rating'\n",
      "Error processing Group ID 160: 'Rating'\n",
      "Error processing Group ID 161: 'Rating'\n",
      "Error processing Group ID 162: 'Rating'\n",
      "Error processing Group ID 163: 'Rating'\n",
      "Error processing Group ID 164: 'Rating'\n",
      "Error processing Group ID 165: 'Rating'\n",
      "Error processing Group ID 166: 'Rating'\n",
      "Error processing Group ID 167: 'Rating'\n",
      "Error processing Group ID 168: 'Rating'\n",
      "Error processing Group ID 169: 'Rating'\n",
      "Error processing Group ID 170: 'Rating'\n",
      "Error processing Group ID 171: 'Rating'\n",
      "Error processing Group ID 172: 'Rating'\n",
      "Error processing Group ID 173: 'Rating'\n",
      "Error processing Group ID 174: 'Rating'\n",
      "Error processing Group ID 175: 'Rating'\n",
      "Error processing Group ID 176: 'Rating'\n",
      "Error processing Group ID 177: 'Rating'\n",
      "Error processing Group ID 178: 'Rating'\n",
      "Error processing Group ID 179: 'Rating'\n",
      "Error processing Group ID 180: 'Rating'\n",
      "Error processing Group ID 181: 'Rating'\n",
      "Error processing Group ID 182: 'Rating'\n",
      "Error processing Group ID 183: 'Rating'\n",
      "Error processing Group ID 184: 'Rating'\n",
      "Error processing Group ID 185: 'Rating'\n",
      "Error processing Group ID 186: 'Rating'\n",
      "Error processing Group ID 187: 'Rating'\n",
      "Error processing Group ID 188: 'Rating'\n",
      "Error processing Group ID 189: 'Rating'\n",
      "Error processing Group ID 190: 'Rating'\n",
      "Error processing Group ID 191: 'Rating'\n",
      "Error processing Group ID 192: 'Rating'\n",
      "Error processing Group ID 193: 'Rating'\n",
      "Error processing Group ID 194: 'Rating'\n",
      "Error processing Group ID 195: 'Rating'\n",
      "Error processing Group ID 196: 'Rating'\n",
      "Error processing Group ID 197: 'Rating'\n",
      "Error processing Group ID 198: 'Rating'\n",
      "Error processing Group ID 199: 'Rating'\n",
      "Error processing Group ID 200: 'Rating'\n",
      "Error processing Group ID 201: 'Rating'\n",
      "Error processing Group ID 202: 'Rating'\n",
      "Error processing Group ID 203: 'Rating'\n",
      "Error processing Group ID 204: 'Rating'\n",
      "Error processing Group ID 205: 'Rating'\n",
      "Error processing Group ID 206: 'Rating'\n",
      "Error processing Group ID 207: 'Rating'\n",
      "Error processing Group ID 208: 'Rating'\n",
      "Error processing Group ID 209: 'Rating'\n",
      "Error processing Group ID 210: 'Rating'\n",
      "Error processing Group ID 211: 'Rating'\n",
      "Error processing Group ID 212: 'Rating'\n",
      "Error processing Group ID 213: 'Rating'\n",
      "Error processing Group ID 214: 'Rating'\n",
      "Error processing Group ID 215: 'Rating'\n",
      "Error processing Group ID 216: 'Rating'\n",
      "Error processing Group ID 217: 'Rating'\n",
      "Error processing Group ID 218: 'Rating'\n",
      "Error processing Group ID 219: 'Rating'\n",
      "Error processing Group ID 220: 'Rating'\n",
      "Error processing Group ID 221: 'Rating'\n",
      "Error processing Group ID 222: 'Rating'\n",
      "Error processing Group ID 223: 'Rating'\n",
      "Error processing Group ID 224: 'Rating'\n",
      "Error processing Group ID 225: 'Rating'\n",
      "Error processing Group ID 226: 'Rating'\n",
      "Error processing Group ID 227: 'Rating'\n",
      "Error processing Group ID 228: 'Rating'\n",
      "Error processing Group ID 229: 'Rating'\n",
      "Error processing Group ID 230: 'Rating'\n",
      "Error processing Group ID 231: 'Rating'\n",
      "Error processing Group ID 232: 'Rating'\n",
      "Error processing Group ID 233: 'Rating'\n",
      "Error processing Group ID 234: 'Rating'\n",
      "Error processing Group ID 235: 'Rating'\n",
      "Error processing Group ID 236: 'Rating'\n",
      "Error processing Group ID 237: 'Rating'\n",
      "Error processing Group ID 238: 'Rating'\n",
      "Error processing Group ID 239: 'Rating'\n"
     ]
    }
   ],
   "source": [
    "# Iterate over all group IDs and calculate the Least Misery score for each group\n",
    "all_group_least_misery = []  # Initialize an empty list to store results\n",
    "\n",
    "for group_id in range(240):  # Assuming there are 240 groups (IDs 0 to 239)\n",
    "    try:\n",
    "        # Calculate least misery for the current group\n",
    "        least_misery_df = calculate_least_misery(group_id, group_data, ratings_data, wine_data, n=5)\n",
    "        \n",
    "        # Check if the DataFrame is not empty before appending\n",
    "        if not least_misery_df.empty:\n",
    "            # Append group ID to the result for better tracking\n",
    "            least_misery_df['GroupID'] = group_id\n",
    "            all_group_least_misery.append(least_misery_df)\n",
    "    except Exception as e:\n",
    "        print(f\"Error processing Group ID {group_id}: {e}\")\n",
    "\n",
    "# Ensure that there are DataFrames to concatenate\n",
    "if all_group_least_misery:\n",
    "    # Concatenate the results for all groups into a single DataFrame\n",
    "    least_misery_results_df = pd.concat(all_group_least_misery, ignore_index=True)\n"
   ]
  },
  {
   "cell_type": "code",
   "execution_count": 79,
   "metadata": {},
   "outputs": [
    {
     "ename": "NameError",
     "evalue": "name 'least_misery_results_df' is not defined",
     "output_type": "error",
     "traceback": [
      "\u001b[1;31m---------------------------------------------------------------------------\u001b[0m",
      "\u001b[1;31mNameError\u001b[0m                                 Traceback (most recent call last)",
      "Cell \u001b[1;32mIn[79], line 5\u001b[0m\n\u001b[0;32m      3\u001b[0m \u001b[38;5;66;03m# Create a histogram of Least Misery Scores\u001b[39;00m\n\u001b[0;32m      4\u001b[0m plt\u001b[38;5;241m.\u001b[39mfigure(figsize\u001b[38;5;241m=\u001b[39m(\u001b[38;5;241m12\u001b[39m, \u001b[38;5;241m6\u001b[39m))\n\u001b[1;32m----> 5\u001b[0m plt\u001b[38;5;241m.\u001b[39mhist(\u001b[43mleast_misery_results_df\u001b[49m[\u001b[38;5;124m'\u001b[39m\u001b[38;5;124mLeastMiseryScore\u001b[39m\u001b[38;5;124m'\u001b[39m], bins\u001b[38;5;241m=\u001b[39m\u001b[38;5;241m5\u001b[39m, color\u001b[38;5;241m=\u001b[39m\u001b[38;5;124m'\u001b[39m\u001b[38;5;124mlightblue\u001b[39m\u001b[38;5;124m'\u001b[39m, edgecolor\u001b[38;5;241m=\u001b[39m\u001b[38;5;124m'\u001b[39m\u001b[38;5;124mblack\u001b[39m\u001b[38;5;124m'\u001b[39m)\n\u001b[0;32m      6\u001b[0m plt\u001b[38;5;241m.\u001b[39mxlabel(\u001b[38;5;124m'\u001b[39m\u001b[38;5;124mLeast Misery Score\u001b[39m\u001b[38;5;124m'\u001b[39m)\n\u001b[0;32m      7\u001b[0m plt\u001b[38;5;241m.\u001b[39mylabel(\u001b[38;5;124m'\u001b[39m\u001b[38;5;124mNumber of Recommended Wines\u001b[39m\u001b[38;5;124m'\u001b[39m)\n",
      "\u001b[1;31mNameError\u001b[0m: name 'least_misery_results_df' is not defined"
     ]
    },
    {
     "data": {
      "text/plain": [
       "<Figure size 1200x600 with 0 Axes>"
      ]
     },
     "metadata": {},
     "output_type": "display_data"
    }
   ],
   "source": [
    "# import matplotlib.pyplot as plt\n",
    "\n",
    "# # Create a histogram of Least Misery Scores\n",
    "# plt.figure(figsize=(12, 6))\n",
    "# plt.hist(least_misery_results_df['LeastMiseryScore'], bins=5, color='lightblue', edgecolor='black')\n",
    "# plt.xlabel('Least Misery Score')\n",
    "# plt.ylabel('Number of Recommended Wines')\n",
    "# plt.title('Distribution of Least Misery Scores Across All Groups')\n",
    "# plt.show()\n"
   ]
  },
  {
   "cell_type": "code",
   "execution_count": 80,
   "metadata": {},
   "outputs": [],
   "source": [
    "import pandas as pd\n",
    "import numpy as np\n",
    "\n",
    "def calculate_fairness(group_ratings_df):\n",
    "    # Calculate standard deviation of ratings within the group for the recommended wines\n",
    "    if group_ratings_df.empty or len(group_ratings_df['Rating'].unique()) == 1:\n",
    "        # If there is only one unique rating or no ratings, fairness is 1 (perfect fairness)\n",
    "        return 1.0\n",
    "\n",
    "    std_dev = group_ratings_df['Rating'].std()  # Standard deviation of ratings\n",
    "\n",
    "    # Calculate Fairness: 1 - (std deviation) / (max rating - min rating)\n",
    "    fairness = 1 - (std_dev / (5 - 1))  # Using 5 as max and 1 as min rating\n",
    "\n",
    "    return round(fairness, 2)  # Return the Fairness score rounded to 2 decimal places\n",
    "\n",
    "# Beispiel: Berechnung der Fairness für alle Gruppen\n",
    "group_fairness_scores = []  # Store the fairness scores for each group\n",
    "\n",
    "for group_id in range(240):  # Assuming there are 240 groups\n",
    "    try:\n",
    "        # Get ratings for the group and recommended wines\n",
    "        group_ratings_df = get_wines_rated_by_group(group_data, group_id, ratings_data, wine_id=None)  # Get all ratings for the group\n",
    "\n",
    "        # Calculate fairness for the current group\n",
    "        fairness_score = calculate_fairness(group_ratings_df)\n",
    "        \n",
    "        # Store group ID and fairness score\n",
    "        group_fairness_scores.append({'GroupID': group_id, 'FairnessScore': fairness_score})\n",
    "    \n",
    "    except Exception as e:\n",
    "        print(f\"Error processing Group ID {group_id}: {e}\")\n",
    "\n",
    "# Convert to DataFrame for better visualization\n",
    "fairness_df = pd.DataFrame(group_fairness_scores)\n",
    "\n"
   ]
  },
  {
   "cell_type": "code",
   "execution_count": 81,
   "metadata": {},
   "outputs": [
    {
     "data": {
      "image/png": "[encoded data removed]",
      "text/plain": [
       "<Figure size 1200x600 with 1 Axes>"
      ]
     },
     "metadata": {},
     "output_type": "display_data"
    }
   ],
   "source": [
    "import matplotlib.pyplot as plt\n",
    "\n",
    "# Create a histogram of fairness scores\n",
    "plt.figure(figsize=(12, 6))\n",
    "plt.hist(fairness_df['FairnessScore'], bins=20, color='lightgreen', edgecolor='black')\n",
    "plt.xlabel('Fairness Score')\n",
    "plt.ylabel('Number of Groups')\n",
    "plt.title('Distribution of Fairness Scores Across All Groups')\n",
    "plt.show()\n"
   ]
  },
  {
   "cell_type": "code",
   "execution_count": 82,
   "metadata": {},
   "outputs": [
    {
     "name": "stderr",
     "output_type": "stream",
     "text": [
      "C:\\Users\\antoi\\AppData\\Local\\Temp\\ipykernel_26536\\2448386283.py:5: FutureWarning:\n",
      "\n",
      "\n",
      "\n",
      "Passing `palette` without assigning `hue` is deprecated and will be removed in v0.14.0. Assign the `x` variable to `hue` and set `legend=False` for the same effect.\n",
      "\n",
      "\n"
     ]
    },
    {
     "data": {
      "image/png": "[encoded data removed]",
      "text/plain": [
       "<Figure size 600x1200 with 1 Axes>"
      ]
     },
     "metadata": {},
     "output_type": "display_data"
    }
   ],
   "source": [
    "import seaborn as sns\n",
    "\n",
    "# Create a boxplot to visualize the fairness scores across groups\n",
    "plt.figure(figsize=(6, 12))\n",
    "sns.boxplot(y='FairnessScore', data=fairness_df, palette='coolwarm')\n",
    "plt.ylabel('Fairness Score')\n",
    "plt.title('Boxplot of Fairness Scores Across Groups')\n",
    "plt.show()\n"
   ]
  },
  {
   "cell_type": "code",
   "execution_count": 83,
   "metadata": {},
   "outputs": [
    {
     "name": "stderr",
     "output_type": "stream",
     "text": [
      "C:\\Users\\antoi\\AppData\\Local\\Temp\\ipykernel_26536\\4128874332.py:11: DeprecationWarning:\n",
      "\n",
      "DataFrameGroupBy.apply operated on the grouping columns. This behavior is deprecated, and in a future version of pandas the grouping columns will be excluded from the operation. Either pass `include_groups=False` to exclude the groupings or explicitly select the grouping columns after groupby to silence this warning.\n",
      "\n",
      "C:\\Users\\antoi\\AppData\\Local\\Temp\\ipykernel_26536\\4128874332.py:11: DeprecationWarning:\n",
      "\n",
      "DataFrameGroupBy.apply operated on the grouping columns. This behavior is deprecated, and in a future version of pandas the grouping columns will be excluded from the operation. Either pass `include_groups=False` to exclude the groupings or explicitly select the grouping columns after groupby to silence this warning.\n",
      "\n",
      "C:\\Users\\antoi\\AppData\\Local\\Temp\\ipykernel_26536\\4128874332.py:11: DeprecationWarning:\n",
      "\n",
      "DataFrameGroupBy.apply operated on the grouping columns. This behavior is deprecated, and in a future version of pandas the grouping columns will be excluded from the operation. Either pass `include_groups=False` to exclude the groupings or explicitly select the grouping columns after groupby to silence this warning.\n",
      "\n",
      "C:\\Users\\antoi\\AppData\\Local\\Temp\\ipykernel_26536\\4128874332.py:11: DeprecationWarning:\n",
      "\n",
      "DataFrameGroupBy.apply operated on the grouping columns. This behavior is deprecated, and in a future version of pandas the grouping columns will be excluded from the operation. Either pass `include_groups=False` to exclude the groupings or explicitly select the grouping columns after groupby to silence this warning.\n",
      "\n",
      "C:\\Users\\antoi\\AppData\\Local\\Temp\\ipykernel_26536\\4128874332.py:11: DeprecationWarning:\n",
      "\n",
      "DataFrameGroupBy.apply operated on the grouping columns. This behavior is deprecated, and in a future version of pandas the grouping columns will be excluded from the operation. Either pass `include_groups=False` to exclude the groupings or explicitly select the grouping columns after groupby to silence this warning.\n",
      "\n",
      "C:\\Users\\antoi\\AppData\\Local\\Temp\\ipykernel_26536\\4128874332.py:11: DeprecationWarning:\n",
      "\n",
      "DataFrameGroupBy.apply operated on the grouping columns. This behavior is deprecated, and in a future version of pandas the grouping columns will be excluded from the operation. Either pass `include_groups=False` to exclude the groupings or explicitly select the grouping columns after groupby to silence this warning.\n",
      "\n",
      "C:\\Users\\antoi\\AppData\\Local\\Temp\\ipykernel_26536\\4128874332.py:11: DeprecationWarning:\n",
      "\n",
      "DataFrameGroupBy.apply operated on the grouping columns. This behavior is deprecated, and in a future version of pandas the grouping columns will be excluded from the operation. Either pass `include_groups=False` to exclude the groupings or explicitly select the grouping columns after groupby to silence this warning.\n",
      "\n",
      "C:\\Users\\antoi\\AppData\\Local\\Temp\\ipykernel_26536\\4128874332.py:11: DeprecationWarning:\n",
      "\n",
      "DataFrameGroupBy.apply operated on the grouping columns. This behavior is deprecated, and in a future version of pandas the grouping columns will be excluded from the operation. Either pass `include_groups=False` to exclude the groupings or explicitly select the grouping columns after groupby to silence this warning.\n",
      "\n",
      "C:\\Users\\antoi\\AppData\\Local\\Temp\\ipykernel_26536\\4128874332.py:11: DeprecationWarning:\n",
      "\n",
      "DataFrameGroupBy.apply operated on the grouping columns. This behavior is deprecated, and in a future version of pandas the grouping columns will be excluded from the operation. Either pass `include_groups=False` to exclude the groupings or explicitly select the grouping columns after groupby to silence this warning.\n",
      "\n",
      "C:\\Users\\antoi\\AppData\\Local\\Temp\\ipykernel_26536\\4128874332.py:11: DeprecationWarning:\n",
      "\n",
      "DataFrameGroupBy.apply operated on the grouping columns. This behavior is deprecated, and in a future version of pandas the grouping columns will be excluded from the operation. Either pass `include_groups=False` to exclude the groupings or explicitly select the grouping columns after groupby to silence this warning.\n",
      "\n",
      "C:\\Users\\antoi\\AppData\\Local\\Temp\\ipykernel_26536\\4128874332.py:11: DeprecationWarning:\n",
      "\n",
      "DataFrameGroupBy.apply operated on the grouping columns. This behavior is deprecated, and in a future version of pandas the grouping columns will be excluded from the operation. Either pass `include_groups=False` to exclude the groupings or explicitly select the grouping columns after groupby to silence this warning.\n",
      "\n",
      "C:\\Users\\antoi\\AppData\\Local\\Temp\\ipykernel_26536\\4128874332.py:11: DeprecationWarning:\n",
      "\n",
      "DataFrameGroupBy.apply operated on the grouping columns. This behavior is deprecated, and in a future version of pandas the grouping columns will be excluded from the operation. Either pass `include_groups=False` to exclude the groupings or explicitly select the grouping columns after groupby to silence this warning.\n",
      "\n",
      "C:\\Users\\antoi\\AppData\\Local\\Temp\\ipykernel_26536\\4128874332.py:11: DeprecationWarning:\n",
      "\n",
      "DataFrameGroupBy.apply operated on the grouping columns. This behavior is deprecated, and in a future version of pandas the grouping columns will be excluded from the operation. Either pass `include_groups=False` to exclude the groupings or explicitly select the grouping columns after groupby to silence this warning.\n",
      "\n",
      "C:\\Users\\antoi\\AppData\\Local\\Temp\\ipykernel_26536\\4128874332.py:11: DeprecationWarning:\n",
      "\n",
      "DataFrameGroupBy.apply operated on the grouping columns. This behavior is deprecated, and in a future version of pandas the grouping columns will be excluded from the operation. Either pass `include_groups=False` to exclude the groupings or explicitly select the grouping columns after groupby to silence this warning.\n",
      "\n",
      "C:\\Users\\antoi\\AppData\\Local\\Temp\\ipykernel_26536\\4128874332.py:11: DeprecationWarning:\n",
      "\n",
      "DataFrameGroupBy.apply operated on the grouping columns. This behavior is deprecated, and in a future version of pandas the grouping columns will be excluded from the operation. Either pass `include_groups=False` to exclude the groupings or explicitly select the grouping columns after groupby to silence this warning.\n",
      "\n",
      "C:\\Users\\antoi\\AppData\\Local\\Temp\\ipykernel_26536\\4128874332.py:11: DeprecationWarning:\n",
      "\n",
      "DataFrameGroupBy.apply operated on the grouping columns. This behavior is deprecated, and in a future version of pandas the grouping columns will be excluded from the operation. Either pass `include_groups=False` to exclude the groupings or explicitly select the grouping columns after groupby to silence this warning.\n",
      "\n",
      "C:\\Users\\antoi\\AppData\\Local\\Temp\\ipykernel_26536\\4128874332.py:11: DeprecationWarning:\n",
      "\n",
      "DataFrameGroupBy.apply operated on the grouping columns. This behavior is deprecated, and in a future version of pandas the grouping columns will be excluded from the operation. Either pass `include_groups=False` to exclude the groupings or explicitly select the grouping columns after groupby to silence this warning.\n",
      "\n",
      "C:\\Users\\antoi\\AppData\\Local\\Temp\\ipykernel_26536\\4128874332.py:11: DeprecationWarning:\n",
      "\n",
      "DataFrameGroupBy.apply operated on the grouping columns. This behavior is deprecated, and in a future version of pandas the grouping columns will be excluded from the operation. Either pass `include_groups=False` to exclude the groupings or explicitly select the grouping columns after groupby to silence this warning.\n",
      "\n",
      "C:\\Users\\antoi\\AppData\\Local\\Temp\\ipykernel_26536\\4128874332.py:11: DeprecationWarning:\n",
      "\n",
      "DataFrameGroupBy.apply operated on the grouping columns. This behavior is deprecated, and in a future version of pandas the grouping columns will be excluded from the operation. Either pass `include_groups=False` to exclude the groupings or explicitly select the grouping columns after groupby to silence this warning.\n",
      "\n",
      "C:\\Users\\antoi\\AppData\\Local\\Temp\\ipykernel_26536\\4128874332.py:11: DeprecationWarning:\n",
      "\n",
      "DataFrameGroupBy.apply operated on the grouping columns. This behavior is deprecated, and in a future version of pandas the grouping columns will be excluded from the operation. Either pass `include_groups=False` to exclude the groupings or explicitly select the grouping columns after groupby to silence this warning.\n",
      "\n",
      "C:\\Users\\antoi\\AppData\\Local\\Temp\\ipykernel_26536\\4128874332.py:11: DeprecationWarning:\n",
      "\n",
      "DataFrameGroupBy.apply operated on the grouping columns. This behavior is deprecated, and in a future version of pandas the grouping columns will be excluded from the operation. Either pass `include_groups=False` to exclude the groupings or explicitly select the grouping columns after groupby to silence this warning.\n",
      "\n",
      "C:\\Users\\antoi\\AppData\\Local\\Temp\\ipykernel_26536\\4128874332.py:11: DeprecationWarning:\n",
      "\n",
      "DataFrameGroupBy.apply operated on the grouping columns. This behavior is deprecated, and in a future version of pandas the grouping columns will be excluded from the operation. Either pass `include_groups=False` to exclude the groupings or explicitly select the grouping columns after groupby to silence this warning.\n",
      "\n",
      "C:\\Users\\antoi\\AppData\\Local\\Temp\\ipykernel_26536\\4128874332.py:11: DeprecationWarning:\n",
      "\n",
      "DataFrameGroupBy.apply operated on the grouping columns. This behavior is deprecated, and in a future version of pandas the grouping columns will be excluded from the operation. Either pass `include_groups=False` to exclude the groupings or explicitly select the grouping columns after groupby to silence this warning.\n",
      "\n",
      "C:\\Users\\antoi\\AppData\\Local\\Temp\\ipykernel_26536\\4128874332.py:11: DeprecationWarning:\n",
      "\n",
      "DataFrameGroupBy.apply operated on the grouping columns. This behavior is deprecated, and in a future version of pandas the grouping columns will be excluded from the operation. Either pass `include_groups=False` to exclude the groupings or explicitly select the grouping columns after groupby to silence this warning.\n",
      "\n",
      "C:\\Users\\antoi\\AppData\\Local\\Temp\\ipykernel_26536\\4128874332.py:11: DeprecationWarning:\n",
      "\n",
      "DataFrameGroupBy.apply operated on the grouping columns. This behavior is deprecated, and in a future version of pandas the grouping columns will be excluded from the operation. Either pass `include_groups=False` to exclude the groupings or explicitly select the grouping columns after groupby to silence this warning.\n",
      "\n",
      "C:\\Users\\antoi\\AppData\\Local\\Temp\\ipykernel_26536\\4128874332.py:11: DeprecationWarning:\n",
      "\n",
      "DataFrameGroupBy.apply operated on the grouping columns. This behavior is deprecated, and in a future version of pandas the grouping columns will be excluded from the operation. Either pass `include_groups=False` to exclude the groupings or explicitly select the grouping columns after groupby to silence this warning.\n",
      "\n",
      "C:\\Users\\antoi\\AppData\\Local\\Temp\\ipykernel_26536\\4128874332.py:11: DeprecationWarning:\n",
      "\n",
      "DataFrameGroupBy.apply operated on the grouping columns. This behavior is deprecated, and in a future version of pandas the grouping columns will be excluded from the operation. Either pass `include_groups=False` to exclude the groupings or explicitly select the grouping columns after groupby to silence this warning.\n",
      "\n",
      "C:\\Users\\antoi\\AppData\\Local\\Temp\\ipykernel_26536\\4128874332.py:11: DeprecationWarning:\n",
      "\n",
      "DataFrameGroupBy.apply operated on the grouping columns. This behavior is deprecated, and in a future version of pandas the grouping columns will be excluded from the operation. Either pass `include_groups=False` to exclude the groupings or explicitly select the grouping columns after groupby to silence this warning.\n",
      "\n",
      "C:\\Users\\antoi\\AppData\\Local\\Temp\\ipykernel_26536\\4128874332.py:11: DeprecationWarning:\n",
      "\n",
      "DataFrameGroupBy.apply operated on the grouping columns. This behavior is deprecated, and in a future version of pandas the grouping columns will be excluded from the operation. Either pass `include_groups=False` to exclude the groupings or explicitly select the grouping columns after groupby to silence this warning.\n",
      "\n",
      "C:\\Users\\antoi\\AppData\\Local\\Temp\\ipykernel_26536\\4128874332.py:11: DeprecationWarning:\n",
      "\n",
      "DataFrameGroupBy.apply operated on the grouping columns. This behavior is deprecated, and in a future version of pandas the grouping columns will be excluded from the operation. Either pass `include_groups=False` to exclude the groupings or explicitly select the grouping columns after groupby to silence this warning.\n",
      "\n",
      "C:\\Users\\antoi\\AppData\\Local\\Temp\\ipykernel_26536\\4128874332.py:11: DeprecationWarning:\n",
      "\n",
      "DataFrameGroupBy.apply operated on the grouping columns. This behavior is deprecated, and in a future version of pandas the grouping columns will be excluded from the operation. Either pass `include_groups=False` to exclude the groupings or explicitly select the grouping columns after groupby to silence this warning.\n",
      "\n",
      "C:\\Users\\antoi\\AppData\\Local\\Temp\\ipykernel_26536\\4128874332.py:11: DeprecationWarning:\n",
      "\n",
      "DataFrameGroupBy.apply operated on the grouping columns. This behavior is deprecated, and in a future version of pandas the grouping columns will be excluded from the operation. Either pass `include_groups=False` to exclude the groupings or explicitly select the grouping columns after groupby to silence this warning.\n",
      "\n",
      "C:\\Users\\antoi\\AppData\\Local\\Temp\\ipykernel_26536\\4128874332.py:11: DeprecationWarning:\n",
      "\n",
      "DataFrameGroupBy.apply operated on the grouping columns. This behavior is deprecated, and in a future version of pandas the grouping columns will be excluded from the operation. Either pass `include_groups=False` to exclude the groupings or explicitly select the grouping columns after groupby to silence this warning.\n",
      "\n",
      "C:\\Users\\antoi\\AppData\\Local\\Temp\\ipykernel_26536\\4128874332.py:11: DeprecationWarning:\n",
      "\n",
      "DataFrameGroupBy.apply operated on the grouping columns. This behavior is deprecated, and in a future version of pandas the grouping columns will be excluded from the operation. Either pass `include_groups=False` to exclude the groupings or explicitly select the grouping columns after groupby to silence this warning.\n",
      "\n",
      "C:\\Users\\antoi\\AppData\\Local\\Temp\\ipykernel_26536\\4128874332.py:11: DeprecationWarning:\n",
      "\n",
      "DataFrameGroupBy.apply operated on the grouping columns. This behavior is deprecated, and in a future version of pandas the grouping columns will be excluded from the operation. Either pass `include_groups=False` to exclude the groupings or explicitly select the grouping columns after groupby to silence this warning.\n",
      "\n",
      "C:\\Users\\antoi\\AppData\\Local\\Temp\\ipykernel_26536\\4128874332.py:11: DeprecationWarning:\n",
      "\n",
      "DataFrameGroupBy.apply operated on the grouping columns. This behavior is deprecated, and in a future version of pandas the grouping columns will be excluded from the operation. Either pass `include_groups=False` to exclude the groupings or explicitly select the grouping columns after groupby to silence this warning.\n",
      "\n",
      "C:\\Users\\antoi\\AppData\\Local\\Temp\\ipykernel_26536\\4128874332.py:11: DeprecationWarning:\n",
      "\n",
      "DataFrameGroupBy.apply operated on the grouping columns. This behavior is deprecated, and in a future version of pandas the grouping columns will be excluded from the operation. Either pass `include_groups=False` to exclude the groupings or explicitly select the grouping columns after groupby to silence this warning.\n",
      "\n",
      "C:\\Users\\antoi\\AppData\\Local\\Temp\\ipykernel_26536\\4128874332.py:11: DeprecationWarning:\n",
      "\n",
      "DataFrameGroupBy.apply operated on the grouping columns. This behavior is deprecated, and in a future version of pandas the grouping columns will be excluded from the operation. Either pass `include_groups=False` to exclude the groupings or explicitly select the grouping columns after groupby to silence this warning.\n",
      "\n",
      "C:\\Users\\antoi\\AppData\\Local\\Temp\\ipykernel_26536\\4128874332.py:11: DeprecationWarning:\n",
      "\n",
      "DataFrameGroupBy.apply operated on the grouping columns. This behavior is deprecated, and in a future version of pandas the grouping columns will be excluded from the operation. Either pass `include_groups=False` to exclude the groupings or explicitly select the grouping columns after groupby to silence this warning.\n",
      "\n",
      "C:\\Users\\antoi\\AppData\\Local\\Temp\\ipykernel_26536\\4128874332.py:11: DeprecationWarning:\n",
      "\n",
      "DataFrameGroupBy.apply operated on the grouping columns. This behavior is deprecated, and in a future version of pandas the grouping columns will be excluded from the operation. Either pass `include_groups=False` to exclude the groupings or explicitly select the grouping columns after groupby to silence this warning.\n",
      "\n",
      "C:\\Users\\antoi\\AppData\\Local\\Temp\\ipykernel_26536\\4128874332.py:11: DeprecationWarning:\n",
      "\n",
      "DataFrameGroupBy.apply operated on the grouping columns. This behavior is deprecated, and in a future version of pandas the grouping columns will be excluded from the operation. Either pass `include_groups=False` to exclude the groupings or explicitly select the grouping columns after groupby to silence this warning.\n",
      "\n",
      "C:\\Users\\antoi\\AppData\\Local\\Temp\\ipykernel_26536\\4128874332.py:11: DeprecationWarning:\n",
      "\n",
      "DataFrameGroupBy.apply operated on the grouping columns. This behavior is deprecated, and in a future version of pandas the grouping columns will be excluded from the operation. Either pass `include_groups=False` to exclude the groupings or explicitly select the grouping columns after groupby to silence this warning.\n",
      "\n",
      "C:\\Users\\antoi\\AppData\\Local\\Temp\\ipykernel_26536\\4128874332.py:11: DeprecationWarning:\n",
      "\n",
      "DataFrameGroupBy.apply operated on the grouping columns. This behavior is deprecated, and in a future version of pandas the grouping columns will be excluded from the operation. Either pass `include_groups=False` to exclude the groupings or explicitly select the grouping columns after groupby to silence this warning.\n",
      "\n",
      "C:\\Users\\antoi\\AppData\\Local\\Temp\\ipykernel_26536\\4128874332.py:11: DeprecationWarning:\n",
      "\n",
      "DataFrameGroupBy.apply operated on the grouping columns. This behavior is deprecated, and in a future version of pandas the grouping columns will be excluded from the operation. Either pass `include_groups=False` to exclude the groupings or explicitly select the grouping columns after groupby to silence this warning.\n",
      "\n",
      "C:\\Users\\antoi\\AppData\\Local\\Temp\\ipykernel_26536\\4128874332.py:11: DeprecationWarning:\n",
      "\n",
      "DataFrameGroupBy.apply operated on the grouping columns. This behavior is deprecated, and in a future version of pandas the grouping columns will be excluded from the operation. Either pass `include_groups=False` to exclude the groupings or explicitly select the grouping columns after groupby to silence this warning.\n",
      "\n",
      "C:\\Users\\antoi\\AppData\\Local\\Temp\\ipykernel_26536\\4128874332.py:11: DeprecationWarning:\n",
      "\n",
      "DataFrameGroupBy.apply operated on the grouping columns. This behavior is deprecated, and in a future version of pandas the grouping columns will be excluded from the operation. Either pass `include_groups=False` to exclude the groupings or explicitly select the grouping columns after groupby to silence this warning.\n",
      "\n",
      "C:\\Users\\antoi\\AppData\\Local\\Temp\\ipykernel_26536\\4128874332.py:11: DeprecationWarning:\n",
      "\n",
      "DataFrameGroupBy.apply operated on the grouping columns. This behavior is deprecated, and in a future version of pandas the grouping columns will be excluded from the operation. Either pass `include_groups=False` to exclude the groupings or explicitly select the grouping columns after groupby to silence this warning.\n",
      "\n",
      "C:\\Users\\antoi\\AppData\\Local\\Temp\\ipykernel_26536\\4128874332.py:11: DeprecationWarning:\n",
      "\n",
      "DataFrameGroupBy.apply operated on the grouping columns. This behavior is deprecated, and in a future version of pandas the grouping columns will be excluded from the operation. Either pass `include_groups=False` to exclude the groupings or explicitly select the grouping columns after groupby to silence this warning.\n",
      "\n",
      "C:\\Users\\antoi\\AppData\\Local\\Temp\\ipykernel_26536\\4128874332.py:11: DeprecationWarning:\n",
      "\n",
      "DataFrameGroupBy.apply operated on the grouping columns. This behavior is deprecated, and in a future version of pandas the grouping columns will be excluded from the operation. Either pass `include_groups=False` to exclude the groupings or explicitly select the grouping columns after groupby to silence this warning.\n",
      "\n",
      "C:\\Users\\antoi\\AppData\\Local\\Temp\\ipykernel_26536\\4128874332.py:11: DeprecationWarning:\n",
      "\n",
      "DataFrameGroupBy.apply operated on the grouping columns. This behavior is deprecated, and in a future version of pandas the grouping columns will be excluded from the operation. Either pass `include_groups=False` to exclude the groupings or explicitly select the grouping columns after groupby to silence this warning.\n",
      "\n",
      "C:\\Users\\antoi\\AppData\\Local\\Temp\\ipykernel_26536\\4128874332.py:11: DeprecationWarning:\n",
      "\n",
      "DataFrameGroupBy.apply operated on the grouping columns. This behavior is deprecated, and in a future version of pandas the grouping columns will be excluded from the operation. Either pass `include_groups=False` to exclude the groupings or explicitly select the grouping columns after groupby to silence this warning.\n",
      "\n",
      "C:\\Users\\antoi\\AppData\\Local\\Temp\\ipykernel_26536\\4128874332.py:11: DeprecationWarning:\n",
      "\n",
      "DataFrameGroupBy.apply operated on the grouping columns. This behavior is deprecated, and in a future version of pandas the grouping columns will be excluded from the operation. Either pass `include_groups=False` to exclude the groupings or explicitly select the grouping columns after groupby to silence this warning.\n",
      "\n",
      "C:\\Users\\antoi\\AppData\\Local\\Temp\\ipykernel_26536\\4128874332.py:11: DeprecationWarning:\n",
      "\n",
      "DataFrameGroupBy.apply operated on the grouping columns. This behavior is deprecated, and in a future version of pandas the grouping columns will be excluded from the operation. Either pass `include_groups=False` to exclude the groupings or explicitly select the grouping columns after groupby to silence this warning.\n",
      "\n",
      "C:\\Users\\antoi\\AppData\\Local\\Temp\\ipykernel_26536\\4128874332.py:11: DeprecationWarning:\n",
      "\n",
      "DataFrameGroupBy.apply operated on the grouping columns. This behavior is deprecated, and in a future version of pandas the grouping columns will be excluded from the operation. Either pass `include_groups=False` to exclude the groupings or explicitly select the grouping columns after groupby to silence this warning.\n",
      "\n",
      "C:\\Users\\antoi\\AppData\\Local\\Temp\\ipykernel_26536\\4128874332.py:11: DeprecationWarning:\n",
      "\n",
      "DataFrameGroupBy.apply operated on the grouping columns. This behavior is deprecated, and in a future version of pandas the grouping columns will be excluded from the operation. Either pass `include_groups=False` to exclude the groupings or explicitly select the grouping columns after groupby to silence this warning.\n",
      "\n",
      "C:\\Users\\antoi\\AppData\\Local\\Temp\\ipykernel_26536\\4128874332.py:11: DeprecationWarning:\n",
      "\n",
      "DataFrameGroupBy.apply operated on the grouping columns. This behavior is deprecated, and in a future version of pandas the grouping columns will be excluded from the operation. Either pass `include_groups=False` to exclude the groupings or explicitly select the grouping columns after groupby to silence this warning.\n",
      "\n",
      "C:\\Users\\antoi\\AppData\\Local\\Temp\\ipykernel_26536\\4128874332.py:11: DeprecationWarning:\n",
      "\n",
      "DataFrameGroupBy.apply operated on the grouping columns. This behavior is deprecated, and in a future version of pandas the grouping columns will be excluded from the operation. Either pass `include_groups=False` to exclude the groupings or explicitly select the grouping columns after groupby to silence this warning.\n",
      "\n",
      "C:\\Users\\antoi\\AppData\\Local\\Temp\\ipykernel_26536\\4128874332.py:11: DeprecationWarning:\n",
      "\n",
      "DataFrameGroupBy.apply operated on the grouping columns. This behavior is deprecated, and in a future version of pandas the grouping columns will be excluded from the operation. Either pass `include_groups=False` to exclude the groupings or explicitly select the grouping columns after groupby to silence this warning.\n",
      "\n",
      "C:\\Users\\antoi\\AppData\\Local\\Temp\\ipykernel_26536\\4128874332.py:11: DeprecationWarning:\n",
      "\n",
      "DataFrameGroupBy.apply operated on the grouping columns. This behavior is deprecated, and in a future version of pandas the grouping columns will be excluded from the operation. Either pass `include_groups=False` to exclude the groupings or explicitly select the grouping columns after groupby to silence this warning.\n",
      "\n",
      "C:\\Users\\antoi\\AppData\\Local\\Temp\\ipykernel_26536\\4128874332.py:11: DeprecationWarning:\n",
      "\n",
      "DataFrameGroupBy.apply operated on the grouping columns. This behavior is deprecated, and in a future version of pandas the grouping columns will be excluded from the operation. Either pass `include_groups=False` to exclude the groupings or explicitly select the grouping columns after groupby to silence this warning.\n",
      "\n",
      "C:\\Users\\antoi\\AppData\\Local\\Temp\\ipykernel_26536\\4128874332.py:11: DeprecationWarning:\n",
      "\n",
      "DataFrameGroupBy.apply operated on the grouping columns. This behavior is deprecated, and in a future version of pandas the grouping columns will be excluded from the operation. Either pass `include_groups=False` to exclude the groupings or explicitly select the grouping columns after groupby to silence this warning.\n",
      "\n",
      "C:\\Users\\antoi\\AppData\\Local\\Temp\\ipykernel_26536\\4128874332.py:11: DeprecationWarning:\n",
      "\n",
      "DataFrameGroupBy.apply operated on the grouping columns. This behavior is deprecated, and in a future version of pandas the grouping columns will be excluded from the operation. Either pass `include_groups=False` to exclude the groupings or explicitly select the grouping columns after groupby to silence this warning.\n",
      "\n",
      "C:\\Users\\antoi\\AppData\\Local\\Temp\\ipykernel_26536\\4128874332.py:11: DeprecationWarning:\n",
      "\n",
      "DataFrameGroupBy.apply operated on the grouping columns. This behavior is deprecated, and in a future version of pandas the grouping columns will be excluded from the operation. Either pass `include_groups=False` to exclude the groupings or explicitly select the grouping columns after groupby to silence this warning.\n",
      "\n",
      "C:\\Users\\antoi\\AppData\\Local\\Temp\\ipykernel_26536\\4128874332.py:11: DeprecationWarning:\n",
      "\n",
      "DataFrameGroupBy.apply operated on the grouping columns. This behavior is deprecated, and in a future version of pandas the grouping columns will be excluded from the operation. Either pass `include_groups=False` to exclude the groupings or explicitly select the grouping columns after groupby to silence this warning.\n",
      "\n",
      "C:\\Users\\antoi\\AppData\\Local\\Temp\\ipykernel_26536\\4128874332.py:11: DeprecationWarning:\n",
      "\n",
      "DataFrameGroupBy.apply operated on the grouping columns. This behavior is deprecated, and in a future version of pandas the grouping columns will be excluded from the operation. Either pass `include_groups=False` to exclude the groupings or explicitly select the grouping columns after groupby to silence this warning.\n",
      "\n",
      "C:\\Users\\antoi\\AppData\\Local\\Temp\\ipykernel_26536\\4128874332.py:11: DeprecationWarning:\n",
      "\n",
      "DataFrameGroupBy.apply operated on the grouping columns. This behavior is deprecated, and in a future version of pandas the grouping columns will be excluded from the operation. Either pass `include_groups=False` to exclude the groupings or explicitly select the grouping columns after groupby to silence this warning.\n",
      "\n",
      "C:\\Users\\antoi\\AppData\\Local\\Temp\\ipykernel_26536\\4128874332.py:11: DeprecationWarning:\n",
      "\n",
      "DataFrameGroupBy.apply operated on the grouping columns. This behavior is deprecated, and in a future version of pandas the grouping columns will be excluded from the operation. Either pass `include_groups=False` to exclude the groupings or explicitly select the grouping columns after groupby to silence this warning.\n",
      "\n",
      "C:\\Users\\antoi\\AppData\\Local\\Temp\\ipykernel_26536\\4128874332.py:11: DeprecationWarning:\n",
      "\n",
      "DataFrameGroupBy.apply operated on the grouping columns. This behavior is deprecated, and in a future version of pandas the grouping columns will be excluded from the operation. Either pass `include_groups=False` to exclude the groupings or explicitly select the grouping columns after groupby to silence this warning.\n",
      "\n",
      "C:\\Users\\antoi\\AppData\\Local\\Temp\\ipykernel_26536\\4128874332.py:11: DeprecationWarning:\n",
      "\n",
      "DataFrameGroupBy.apply operated on the grouping columns. This behavior is deprecated, and in a future version of pandas the grouping columns will be excluded from the operation. Either pass `include_groups=False` to exclude the groupings or explicitly select the grouping columns after groupby to silence this warning.\n",
      "\n",
      "C:\\Users\\antoi\\AppData\\Local\\Temp\\ipykernel_26536\\4128874332.py:11: DeprecationWarning:\n",
      "\n",
      "DataFrameGroupBy.apply operated on the grouping columns. This behavior is deprecated, and in a future version of pandas the grouping columns will be excluded from the operation. Either pass `include_groups=False` to exclude the groupings or explicitly select the grouping columns after groupby to silence this warning.\n",
      "\n",
      "C:\\Users\\antoi\\AppData\\Local\\Temp\\ipykernel_26536\\4128874332.py:11: DeprecationWarning:\n",
      "\n",
      "DataFrameGroupBy.apply operated on the grouping columns. This behavior is deprecated, and in a future version of pandas the grouping columns will be excluded from the operation. Either pass `include_groups=False` to exclude the groupings or explicitly select the grouping columns after groupby to silence this warning.\n",
      "\n",
      "C:\\Users\\antoi\\AppData\\Local\\Temp\\ipykernel_26536\\4128874332.py:11: DeprecationWarning:\n",
      "\n",
      "DataFrameGroupBy.apply operated on the grouping columns. This behavior is deprecated, and in a future version of pandas the grouping columns will be excluded from the operation. Either pass `include_groups=False` to exclude the groupings or explicitly select the grouping columns after groupby to silence this warning.\n",
      "\n",
      "C:\\Users\\antoi\\AppData\\Local\\Temp\\ipykernel_26536\\4128874332.py:11: DeprecationWarning:\n",
      "\n",
      "DataFrameGroupBy.apply operated on the grouping columns. This behavior is deprecated, and in a future version of pandas the grouping columns will be excluded from the operation. Either pass `include_groups=False` to exclude the groupings or explicitly select the grouping columns after groupby to silence this warning.\n",
      "\n",
      "C:\\Users\\antoi\\AppData\\Local\\Temp\\ipykernel_26536\\4128874332.py:11: DeprecationWarning:\n",
      "\n",
      "DataFrameGroupBy.apply operated on the grouping columns. This behavior is deprecated, and in a future version of pandas the grouping columns will be excluded from the operation. Either pass `include_groups=False` to exclude the groupings or explicitly select the grouping columns after groupby to silence this warning.\n",
      "\n",
      "C:\\Users\\antoi\\AppData\\Local\\Temp\\ipykernel_26536\\4128874332.py:11: DeprecationWarning:\n",
      "\n",
      "DataFrameGroupBy.apply operated on the grouping columns. This behavior is deprecated, and in a future version of pandas the grouping columns will be excluded from the operation. Either pass `include_groups=False` to exclude the groupings or explicitly select the grouping columns after groupby to silence this warning.\n",
      "\n",
      "C:\\Users\\antoi\\AppData\\Local\\Temp\\ipykernel_26536\\4128874332.py:11: DeprecationWarning:\n",
      "\n",
      "DataFrameGroupBy.apply operated on the grouping columns. This behavior is deprecated, and in a future version of pandas the grouping columns will be excluded from the operation. Either pass `include_groups=False` to exclude the groupings or explicitly select the grouping columns after groupby to silence this warning.\n",
      "\n",
      "C:\\Users\\antoi\\AppData\\Local\\Temp\\ipykernel_26536\\4128874332.py:11: DeprecationWarning:\n",
      "\n",
      "DataFrameGroupBy.apply operated on the grouping columns. This behavior is deprecated, and in a future version of pandas the grouping columns will be excluded from the operation. Either pass `include_groups=False` to exclude the groupings or explicitly select the grouping columns after groupby to silence this warning.\n",
      "\n",
      "C:\\Users\\antoi\\AppData\\Local\\Temp\\ipykernel_26536\\4128874332.py:11: DeprecationWarning:\n",
      "\n",
      "DataFrameGroupBy.apply operated on the grouping columns. This behavior is deprecated, and in a future version of pandas the grouping columns will be excluded from the operation. Either pass `include_groups=False` to exclude the groupings or explicitly select the grouping columns after groupby to silence this warning.\n",
      "\n",
      "C:\\Users\\antoi\\AppData\\Local\\Temp\\ipykernel_26536\\4128874332.py:11: DeprecationWarning:\n",
      "\n",
      "DataFrameGroupBy.apply operated on the grouping columns. This behavior is deprecated, and in a future version of pandas the grouping columns will be excluded from the operation. Either pass `include_groups=False` to exclude the groupings or explicitly select the grouping columns after groupby to silence this warning.\n",
      "\n",
      "C:\\Users\\antoi\\AppData\\Local\\Temp\\ipykernel_26536\\4128874332.py:11: DeprecationWarning:\n",
      "\n",
      "DataFrameGroupBy.apply operated on the grouping columns. This behavior is deprecated, and in a future version of pandas the grouping columns will be excluded from the operation. Either pass `include_groups=False` to exclude the groupings or explicitly select the grouping columns after groupby to silence this warning.\n",
      "\n",
      "C:\\Users\\antoi\\AppData\\Local\\Temp\\ipykernel_26536\\4128874332.py:11: DeprecationWarning:\n",
      "\n",
      "DataFrameGroupBy.apply operated on the grouping columns. This behavior is deprecated, and in a future version of pandas the grouping columns will be excluded from the operation. Either pass `include_groups=False` to exclude the groupings or explicitly select the grouping columns after groupby to silence this warning.\n",
      "\n",
      "C:\\Users\\antoi\\AppData\\Local\\Temp\\ipykernel_26536\\4128874332.py:11: DeprecationWarning:\n",
      "\n",
      "DataFrameGroupBy.apply operated on the grouping columns. This behavior is deprecated, and in a future version of pandas the grouping columns will be excluded from the operation. Either pass `include_groups=False` to exclude the groupings or explicitly select the grouping columns after groupby to silence this warning.\n",
      "\n",
      "C:\\Users\\antoi\\AppData\\Local\\Temp\\ipykernel_26536\\4128874332.py:11: DeprecationWarning:\n",
      "\n",
      "DataFrameGroupBy.apply operated on the grouping columns. This behavior is deprecated, and in a future version of pandas the grouping columns will be excluded from the operation. Either pass `include_groups=False` to exclude the groupings or explicitly select the grouping columns after groupby to silence this warning.\n",
      "\n",
      "C:\\Users\\antoi\\AppData\\Local\\Temp\\ipykernel_26536\\4128874332.py:11: DeprecationWarning:\n",
      "\n",
      "DataFrameGroupBy.apply operated on the grouping columns. This behavior is deprecated, and in a future version of pandas the grouping columns will be excluded from the operation. Either pass `include_groups=False` to exclude the groupings or explicitly select the grouping columns after groupby to silence this warning.\n",
      "\n",
      "C:\\Users\\antoi\\AppData\\Local\\Temp\\ipykernel_26536\\4128874332.py:11: DeprecationWarning:\n",
      "\n",
      "DataFrameGroupBy.apply operated on the grouping columns. This behavior is deprecated, and in a future version of pandas the grouping columns will be excluded from the operation. Either pass `include_groups=False` to exclude the groupings or explicitly select the grouping columns after groupby to silence this warning.\n",
      "\n",
      "C:\\Users\\antoi\\AppData\\Local\\Temp\\ipykernel_26536\\4128874332.py:11: DeprecationWarning:\n",
      "\n",
      "DataFrameGroupBy.apply operated on the grouping columns. This behavior is deprecated, and in a future version of pandas the grouping columns will be excluded from the operation. Either pass `include_groups=False` to exclude the groupings or explicitly select the grouping columns after groupby to silence this warning.\n",
      "\n",
      "C:\\Users\\antoi\\AppData\\Local\\Temp\\ipykernel_26536\\4128874332.py:11: DeprecationWarning:\n",
      "\n",
      "DataFrameGroupBy.apply operated on the grouping columns. This behavior is deprecated, and in a future version of pandas the grouping columns will be excluded from the operation. Either pass `include_groups=False` to exclude the groupings or explicitly select the grouping columns after groupby to silence this warning.\n",
      "\n",
      "C:\\Users\\antoi\\AppData\\Local\\Temp\\ipykernel_26536\\4128874332.py:11: DeprecationWarning:\n",
      "\n",
      "DataFrameGroupBy.apply operated on the grouping columns. This behavior is deprecated, and in a future version of pandas the grouping columns will be excluded from the operation. Either pass `include_groups=False` to exclude the groupings or explicitly select the grouping columns after groupby to silence this warning.\n",
      "\n",
      "C:\\Users\\antoi\\AppData\\Local\\Temp\\ipykernel_26536\\4128874332.py:11: DeprecationWarning:\n",
      "\n",
      "DataFrameGroupBy.apply operated on the grouping columns. This behavior is deprecated, and in a future version of pandas the grouping columns will be excluded from the operation. Either pass `include_groups=False` to exclude the groupings or explicitly select the grouping columns after groupby to silence this warning.\n",
      "\n",
      "C:\\Users\\antoi\\AppData\\Local\\Temp\\ipykernel_26536\\4128874332.py:11: DeprecationWarning:\n",
      "\n",
      "DataFrameGroupBy.apply operated on the grouping columns. This behavior is deprecated, and in a future version of pandas the grouping columns will be excluded from the operation. Either pass `include_groups=False` to exclude the groupings or explicitly select the grouping columns after groupby to silence this warning.\n",
      "\n",
      "C:\\Users\\antoi\\AppData\\Local\\Temp\\ipykernel_26536\\4128874332.py:11: DeprecationWarning:\n",
      "\n",
      "DataFrameGroupBy.apply operated on the grouping columns. This behavior is deprecated, and in a future version of pandas the grouping columns will be excluded from the operation. Either pass `include_groups=False` to exclude the groupings or explicitly select the grouping columns after groupby to silence this warning.\n",
      "\n",
      "C:\\Users\\antoi\\AppData\\Local\\Temp\\ipykernel_26536\\4128874332.py:11: DeprecationWarning:\n",
      "\n",
      "DataFrameGroupBy.apply operated on the grouping columns. This behavior is deprecated, and in a future version of pandas the grouping columns will be excluded from the operation. Either pass `include_groups=False` to exclude the groupings or explicitly select the grouping columns after groupby to silence this warning.\n",
      "\n",
      "C:\\Users\\antoi\\AppData\\Local\\Temp\\ipykernel_26536\\4128874332.py:11: DeprecationWarning:\n",
      "\n",
      "DataFrameGroupBy.apply operated on the grouping columns. This behavior is deprecated, and in a future version of pandas the grouping columns will be excluded from the operation. Either pass `include_groups=False` to exclude the groupings or explicitly select the grouping columns after groupby to silence this warning.\n",
      "\n",
      "C:\\Users\\antoi\\AppData\\Local\\Temp\\ipykernel_26536\\4128874332.py:11: DeprecationWarning:\n",
      "\n",
      "DataFrameGroupBy.apply operated on the grouping columns. This behavior is deprecated, and in a future version of pandas the grouping columns will be excluded from the operation. Either pass `include_groups=False` to exclude the groupings or explicitly select the grouping columns after groupby to silence this warning.\n",
      "\n",
      "C:\\Users\\antoi\\AppData\\Local\\Temp\\ipykernel_26536\\4128874332.py:11: DeprecationWarning:\n",
      "\n",
      "DataFrameGroupBy.apply operated on the grouping columns. This behavior is deprecated, and in a future version of pandas the grouping columns will be excluded from the operation. Either pass `include_groups=False` to exclude the groupings or explicitly select the grouping columns after groupby to silence this warning.\n",
      "\n",
      "C:\\Users\\antoi\\AppData\\Local\\Temp\\ipykernel_26536\\4128874332.py:11: DeprecationWarning:\n",
      "\n",
      "DataFrameGroupBy.apply operated on the grouping columns. This behavior is deprecated, and in a future version of pandas the grouping columns will be excluded from the operation. Either pass `include_groups=False` to exclude the groupings or explicitly select the grouping columns after groupby to silence this warning.\n",
      "\n",
      "C:\\Users\\antoi\\AppData\\Local\\Temp\\ipykernel_26536\\4128874332.py:11: DeprecationWarning:\n",
      "\n",
      "DataFrameGroupBy.apply operated on the grouping columns. This behavior is deprecated, and in a future version of pandas the grouping columns will be excluded from the operation. Either pass `include_groups=False` to exclude the groupings or explicitly select the grouping columns after groupby to silence this warning.\n",
      "\n",
      "C:\\Users\\antoi\\AppData\\Local\\Temp\\ipykernel_26536\\4128874332.py:11: DeprecationWarning:\n",
      "\n",
      "DataFrameGroupBy.apply operated on the grouping columns. This behavior is deprecated, and in a future version of pandas the grouping columns will be excluded from the operation. Either pass `include_groups=False` to exclude the groupings or explicitly select the grouping columns after groupby to silence this warning.\n",
      "\n",
      "C:\\Users\\antoi\\AppData\\Local\\Temp\\ipykernel_26536\\4128874332.py:11: DeprecationWarning:\n",
      "\n",
      "DataFrameGroupBy.apply operated on the grouping columns. This behavior is deprecated, and in a future version of pandas the grouping columns will be excluded from the operation. Either pass `include_groups=False` to exclude the groupings or explicitly select the grouping columns after groupby to silence this warning.\n",
      "\n",
      "C:\\Users\\antoi\\AppData\\Local\\Temp\\ipykernel_26536\\4128874332.py:11: DeprecationWarning:\n",
      "\n",
      "DataFrameGroupBy.apply operated on the grouping columns. This behavior is deprecated, and in a future version of pandas the grouping columns will be excluded from the operation. Either pass `include_groups=False` to exclude the groupings or explicitly select the grouping columns after groupby to silence this warning.\n",
      "\n",
      "C:\\Users\\antoi\\AppData\\Local\\Temp\\ipykernel_26536\\4128874332.py:11: DeprecationWarning:\n",
      "\n",
      "DataFrameGroupBy.apply operated on the grouping columns. This behavior is deprecated, and in a future version of pandas the grouping columns will be excluded from the operation. Either pass `include_groups=False` to exclude the groupings or explicitly select the grouping columns after groupby to silence this warning.\n",
      "\n",
      "C:\\Users\\antoi\\AppData\\Local\\Temp\\ipykernel_26536\\4128874332.py:11: DeprecationWarning:\n",
      "\n",
      "DataFrameGroupBy.apply operated on the grouping columns. This behavior is deprecated, and in a future version of pandas the grouping columns will be excluded from the operation. Either pass `include_groups=False` to exclude the groupings or explicitly select the grouping columns after groupby to silence this warning.\n",
      "\n",
      "C:\\Users\\antoi\\AppData\\Local\\Temp\\ipykernel_26536\\4128874332.py:11: DeprecationWarning:\n",
      "\n",
      "DataFrameGroupBy.apply operated on the grouping columns. This behavior is deprecated, and in a future version of pandas the grouping columns will be excluded from the operation. Either pass `include_groups=False` to exclude the groupings or explicitly select the grouping columns after groupby to silence this warning.\n",
      "\n",
      "C:\\Users\\antoi\\AppData\\Local\\Temp\\ipykernel_26536\\4128874332.py:11: DeprecationWarning:\n",
      "\n",
      "DataFrameGroupBy.apply operated on the grouping columns. This behavior is deprecated, and in a future version of pandas the grouping columns will be excluded from the operation. Either pass `include_groups=False` to exclude the groupings or explicitly select the grouping columns after groupby to silence this warning.\n",
      "\n",
      "C:\\Users\\antoi\\AppData\\Local\\Temp\\ipykernel_26536\\4128874332.py:11: DeprecationWarning:\n",
      "\n",
      "DataFrameGroupBy.apply operated on the grouping columns. This behavior is deprecated, and in a future version of pandas the grouping columns will be excluded from the operation. Either pass `include_groups=False` to exclude the groupings or explicitly select the grouping columns after groupby to silence this warning.\n",
      "\n",
      "C:\\Users\\antoi\\AppData\\Local\\Temp\\ipykernel_26536\\4128874332.py:11: DeprecationWarning:\n",
      "\n",
      "DataFrameGroupBy.apply operated on the grouping columns. This behavior is deprecated, and in a future version of pandas the grouping columns will be excluded from the operation. Either pass `include_groups=False` to exclude the groupings or explicitly select the grouping columns after groupby to silence this warning.\n",
      "\n",
      "C:\\Users\\antoi\\AppData\\Local\\Temp\\ipykernel_26536\\4128874332.py:11: DeprecationWarning:\n",
      "\n",
      "DataFrameGroupBy.apply operated on the grouping columns. This behavior is deprecated, and in a future version of pandas the grouping columns will be excluded from the operation. Either pass `include_groups=False` to exclude the groupings or explicitly select the grouping columns after groupby to silence this warning.\n",
      "\n",
      "C:\\Users\\antoi\\AppData\\Local\\Temp\\ipykernel_26536\\4128874332.py:11: DeprecationWarning:\n",
      "\n",
      "DataFrameGroupBy.apply operated on the grouping columns. This behavior is deprecated, and in a future version of pandas the grouping columns will be excluded from the operation. Either pass `include_groups=False` to exclude the groupings or explicitly select the grouping columns after groupby to silence this warning.\n",
      "\n",
      "C:\\Users\\antoi\\AppData\\Local\\Temp\\ipykernel_26536\\4128874332.py:11: DeprecationWarning:\n",
      "\n",
      "DataFrameGroupBy.apply operated on the grouping columns. This behavior is deprecated, and in a future version of pandas the grouping columns will be excluded from the operation. Either pass `include_groups=False` to exclude the groupings or explicitly select the grouping columns after groupby to silence this warning.\n",
      "\n",
      "C:\\Users\\antoi\\AppData\\Local\\Temp\\ipykernel_26536\\4128874332.py:11: DeprecationWarning:\n",
      "\n",
      "DataFrameGroupBy.apply operated on the grouping columns. This behavior is deprecated, and in a future version of pandas the grouping columns will be excluded from the operation. Either pass `include_groups=False` to exclude the groupings or explicitly select the grouping columns after groupby to silence this warning.\n",
      "\n",
      "C:\\Users\\antoi\\AppData\\Local\\Temp\\ipykernel_26536\\4128874332.py:11: DeprecationWarning:\n",
      "\n",
      "DataFrameGroupBy.apply operated on the grouping columns. This behavior is deprecated, and in a future version of pandas the grouping columns will be excluded from the operation. Either pass `include_groups=False` to exclude the groupings or explicitly select the grouping columns after groupby to silence this warning.\n",
      "\n",
      "C:\\Users\\antoi\\AppData\\Local\\Temp\\ipykernel_26536\\4128874332.py:11: DeprecationWarning:\n",
      "\n",
      "DataFrameGroupBy.apply operated on the grouping columns. This behavior is deprecated, and in a future version of pandas the grouping columns will be excluded from the operation. Either pass `include_groups=False` to exclude the groupings or explicitly select the grouping columns after groupby to silence this warning.\n",
      "\n",
      "C:\\Users\\antoi\\AppData\\Local\\Temp\\ipykernel_26536\\4128874332.py:11: DeprecationWarning:\n",
      "\n",
      "DataFrameGroupBy.apply operated on the grouping columns. This behavior is deprecated, and in a future version of pandas the grouping columns will be excluded from the operation. Either pass `include_groups=False` to exclude the groupings or explicitly select the grouping columns after groupby to silence this warning.\n",
      "\n",
      "C:\\Users\\antoi\\AppData\\Local\\Temp\\ipykernel_26536\\4128874332.py:11: DeprecationWarning:\n",
      "\n",
      "DataFrameGroupBy.apply operated on the grouping columns. This behavior is deprecated, and in a future version of pandas the grouping columns will be excluded from the operation. Either pass `include_groups=False` to exclude the groupings or explicitly select the grouping columns after groupby to silence this warning.\n",
      "\n",
      "C:\\Users\\antoi\\AppData\\Local\\Temp\\ipykernel_26536\\4128874332.py:11: DeprecationWarning:\n",
      "\n",
      "DataFrameGroupBy.apply operated on the grouping columns. This behavior is deprecated, and in a future version of pandas the grouping columns will be excluded from the operation. Either pass `include_groups=False` to exclude the groupings or explicitly select the grouping columns after groupby to silence this warning.\n",
      "\n",
      "C:\\Users\\antoi\\AppData\\Local\\Temp\\ipykernel_26536\\4128874332.py:11: DeprecationWarning:\n",
      "\n",
      "DataFrameGroupBy.apply operated on the grouping columns. This behavior is deprecated, and in a future version of pandas the grouping columns will be excluded from the operation. Either pass `include_groups=False` to exclude the groupings or explicitly select the grouping columns after groupby to silence this warning.\n",
      "\n",
      "C:\\Users\\antoi\\AppData\\Local\\Temp\\ipykernel_26536\\4128874332.py:11: DeprecationWarning:\n",
      "\n",
      "DataFrameGroupBy.apply operated on the grouping columns. This behavior is deprecated, and in a future version of pandas the grouping columns will be excluded from the operation. Either pass `include_groups=False` to exclude the groupings or explicitly select the grouping columns after groupby to silence this warning.\n",
      "\n",
      "C:\\Users\\antoi\\AppData\\Local\\Temp\\ipykernel_26536\\4128874332.py:11: DeprecationWarning:\n",
      "\n",
      "DataFrameGroupBy.apply operated on the grouping columns. This behavior is deprecated, and in a future version of pandas the grouping columns will be excluded from the operation. Either pass `include_groups=False` to exclude the groupings or explicitly select the grouping columns after groupby to silence this warning.\n",
      "\n",
      "C:\\Users\\antoi\\AppData\\Local\\Temp\\ipykernel_26536\\4128874332.py:11: DeprecationWarning:\n",
      "\n",
      "DataFrameGroupBy.apply operated on the grouping columns. This behavior is deprecated, and in a future version of pandas the grouping columns will be excluded from the operation. Either pass `include_groups=False` to exclude the groupings or explicitly select the grouping columns after groupby to silence this warning.\n",
      "\n",
      "C:\\Users\\antoi\\AppData\\Local\\Temp\\ipykernel_26536\\4128874332.py:11: DeprecationWarning:\n",
      "\n",
      "DataFrameGroupBy.apply operated on the grouping columns. This behavior is deprecated, and in a future version of pandas the grouping columns will be excluded from the operation. Either pass `include_groups=False` to exclude the groupings or explicitly select the grouping columns after groupby to silence this warning.\n",
      "\n",
      "C:\\Users\\antoi\\AppData\\Local\\Temp\\ipykernel_26536\\4128874332.py:11: DeprecationWarning:\n",
      "\n",
      "DataFrameGroupBy.apply operated on the grouping columns. This behavior is deprecated, and in a future version of pandas the grouping columns will be excluded from the operation. Either pass `include_groups=False` to exclude the groupings or explicitly select the grouping columns after groupby to silence this warning.\n",
      "\n",
      "C:\\Users\\antoi\\AppData\\Local\\Temp\\ipykernel_26536\\4128874332.py:11: DeprecationWarning:\n",
      "\n",
      "DataFrameGroupBy.apply operated on the grouping columns. This behavior is deprecated, and in a future version of pandas the grouping columns will be excluded from the operation. Either pass `include_groups=False` to exclude the groupings or explicitly select the grouping columns after groupby to silence this warning.\n",
      "\n",
      "C:\\Users\\antoi\\AppData\\Local\\Temp\\ipykernel_26536\\4128874332.py:11: DeprecationWarning:\n",
      "\n",
      "DataFrameGroupBy.apply operated on the grouping columns. This behavior is deprecated, and in a future version of pandas the grouping columns will be excluded from the operation. Either pass `include_groups=False` to exclude the groupings or explicitly select the grouping columns after groupby to silence this warning.\n",
      "\n",
      "C:\\Users\\antoi\\AppData\\Local\\Temp\\ipykernel_26536\\4128874332.py:11: DeprecationWarning:\n",
      "\n",
      "DataFrameGroupBy.apply operated on the grouping columns. This behavior is deprecated, and in a future version of pandas the grouping columns will be excluded from the operation. Either pass `include_groups=False` to exclude the groupings or explicitly select the grouping columns after groupby to silence this warning.\n",
      "\n",
      "C:\\Users\\antoi\\AppData\\Local\\Temp\\ipykernel_26536\\4128874332.py:11: DeprecationWarning:\n",
      "\n",
      "DataFrameGroupBy.apply operated on the grouping columns. This behavior is deprecated, and in a future version of pandas the grouping columns will be excluded from the operation. Either pass `include_groups=False` to exclude the groupings or explicitly select the grouping columns after groupby to silence this warning.\n",
      "\n",
      "C:\\Users\\antoi\\AppData\\Local\\Temp\\ipykernel_26536\\4128874332.py:11: DeprecationWarning:\n",
      "\n",
      "DataFrameGroupBy.apply operated on the grouping columns. This behavior is deprecated, and in a future version of pandas the grouping columns will be excluded from the operation. Either pass `include_groups=False` to exclude the groupings or explicitly select the grouping columns after groupby to silence this warning.\n",
      "\n",
      "C:\\Users\\antoi\\AppData\\Local\\Temp\\ipykernel_26536\\4128874332.py:11: DeprecationWarning:\n",
      "\n",
      "DataFrameGroupBy.apply operated on the grouping columns. This behavior is deprecated, and in a future version of pandas the grouping columns will be excluded from the operation. Either pass `include_groups=False` to exclude the groupings or explicitly select the grouping columns after groupby to silence this warning.\n",
      "\n",
      "C:\\Users\\antoi\\AppData\\Local\\Temp\\ipykernel_26536\\4128874332.py:11: DeprecationWarning:\n",
      "\n",
      "DataFrameGroupBy.apply operated on the grouping columns. This behavior is deprecated, and in a future version of pandas the grouping columns will be excluded from the operation. Either pass `include_groups=False` to exclude the groupings or explicitly select the grouping columns after groupby to silence this warning.\n",
      "\n",
      "C:\\Users\\antoi\\AppData\\Local\\Temp\\ipykernel_26536\\4128874332.py:11: DeprecationWarning:\n",
      "\n",
      "DataFrameGroupBy.apply operated on the grouping columns. This behavior is deprecated, and in a future version of pandas the grouping columns will be excluded from the operation. Either pass `include_groups=False` to exclude the groupings or explicitly select the grouping columns after groupby to silence this warning.\n",
      "\n",
      "C:\\Users\\antoi\\AppData\\Local\\Temp\\ipykernel_26536\\4128874332.py:11: DeprecationWarning:\n",
      "\n",
      "DataFrameGroupBy.apply operated on the grouping columns. This behavior is deprecated, and in a future version of pandas the grouping columns will be excluded from the operation. Either pass `include_groups=False` to exclude the groupings or explicitly select the grouping columns after groupby to silence this warning.\n",
      "\n",
      "C:\\Users\\antoi\\AppData\\Local\\Temp\\ipykernel_26536\\4128874332.py:11: DeprecationWarning:\n",
      "\n",
      "DataFrameGroupBy.apply operated on the grouping columns. This behavior is deprecated, and in a future version of pandas the grouping columns will be excluded from the operation. Either pass `include_groups=False` to exclude the groupings or explicitly select the grouping columns after groupby to silence this warning.\n",
      "\n",
      "C:\\Users\\antoi\\AppData\\Local\\Temp\\ipykernel_26536\\4128874332.py:11: DeprecationWarning:\n",
      "\n",
      "DataFrameGroupBy.apply operated on the grouping columns. This behavior is deprecated, and in a future version of pandas the grouping columns will be excluded from the operation. Either pass `include_groups=False` to exclude the groupings or explicitly select the grouping columns after groupby to silence this warning.\n",
      "\n",
      "C:\\Users\\antoi\\AppData\\Local\\Temp\\ipykernel_26536\\4128874332.py:11: DeprecationWarning:\n",
      "\n",
      "DataFrameGroupBy.apply operated on the grouping columns. This behavior is deprecated, and in a future version of pandas the grouping columns will be excluded from the operation. Either pass `include_groups=False` to exclude the groupings or explicitly select the grouping columns after groupby to silence this warning.\n",
      "\n",
      "C:\\Users\\antoi\\AppData\\Local\\Temp\\ipykernel_26536\\4128874332.py:11: DeprecationWarning:\n",
      "\n",
      "DataFrameGroupBy.apply operated on the grouping columns. This behavior is deprecated, and in a future version of pandas the grouping columns will be excluded from the operation. Either pass `include_groups=False` to exclude the groupings or explicitly select the grouping columns after groupby to silence this warning.\n",
      "\n",
      "C:\\Users\\antoi\\AppData\\Local\\Temp\\ipykernel_26536\\4128874332.py:11: DeprecationWarning:\n",
      "\n",
      "DataFrameGroupBy.apply operated on the grouping columns. This behavior is deprecated, and in a future version of pandas the grouping columns will be excluded from the operation. Either pass `include_groups=False` to exclude the groupings or explicitly select the grouping columns after groupby to silence this warning.\n",
      "\n",
      "C:\\Users\\antoi\\AppData\\Local\\Temp\\ipykernel_26536\\4128874332.py:11: DeprecationWarning:\n",
      "\n",
      "DataFrameGroupBy.apply operated on the grouping columns. This behavior is deprecated, and in a future version of pandas the grouping columns will be excluded from the operation. Either pass `include_groups=False` to exclude the groupings or explicitly select the grouping columns after groupby to silence this warning.\n",
      "\n",
      "C:\\Users\\antoi\\AppData\\Local\\Temp\\ipykernel_26536\\4128874332.py:11: DeprecationWarning:\n",
      "\n",
      "DataFrameGroupBy.apply operated on the grouping columns. This behavior is deprecated, and in a future version of pandas the grouping columns will be excluded from the operation. Either pass `include_groups=False` to exclude the groupings or explicitly select the grouping columns after groupby to silence this warning.\n",
      "\n",
      "C:\\Users\\antoi\\AppData\\Local\\Temp\\ipykernel_26536\\4128874332.py:11: DeprecationWarning:\n",
      "\n",
      "DataFrameGroupBy.apply operated on the grouping columns. This behavior is deprecated, and in a future version of pandas the grouping columns will be excluded from the operation. Either pass `include_groups=False` to exclude the groupings or explicitly select the grouping columns after groupby to silence this warning.\n",
      "\n",
      "C:\\Users\\antoi\\AppData\\Local\\Temp\\ipykernel_26536\\4128874332.py:11: DeprecationWarning:\n",
      "\n",
      "DataFrameGroupBy.apply operated on the grouping columns. This behavior is deprecated, and in a future version of pandas the grouping columns will be excluded from the operation. Either pass `include_groups=False` to exclude the groupings or explicitly select the grouping columns after groupby to silence this warning.\n",
      "\n",
      "C:\\Users\\antoi\\AppData\\Local\\Temp\\ipykernel_26536\\4128874332.py:11: DeprecationWarning:\n",
      "\n",
      "DataFrameGroupBy.apply operated on the grouping columns. This behavior is deprecated, and in a future version of pandas the grouping columns will be excluded from the operation. Either pass `include_groups=False` to exclude the groupings or explicitly select the grouping columns after groupby to silence this warning.\n",
      "\n",
      "C:\\Users\\antoi\\AppData\\Local\\Temp\\ipykernel_26536\\4128874332.py:11: DeprecationWarning:\n",
      "\n",
      "DataFrameGroupBy.apply operated on the grouping columns. This behavior is deprecated, and in a future version of pandas the grouping columns will be excluded from the operation. Either pass `include_groups=False` to exclude the groupings or explicitly select the grouping columns after groupby to silence this warning.\n",
      "\n",
      "C:\\Users\\antoi\\AppData\\Local\\Temp\\ipykernel_26536\\4128874332.py:11: DeprecationWarning:\n",
      "\n",
      "DataFrameGroupBy.apply operated on the grouping columns. This behavior is deprecated, and in a future version of pandas the grouping columns will be excluded from the operation. Either pass `include_groups=False` to exclude the groupings or explicitly select the grouping columns after groupby to silence this warning.\n",
      "\n",
      "C:\\Users\\antoi\\AppData\\Local\\Temp\\ipykernel_26536\\4128874332.py:11: DeprecationWarning:\n",
      "\n",
      "DataFrameGroupBy.apply operated on the grouping columns. This behavior is deprecated, and in a future version of pandas the grouping columns will be excluded from the operation. Either pass `include_groups=False` to exclude the groupings or explicitly select the grouping columns after groupby to silence this warning.\n",
      "\n",
      "C:\\Users\\antoi\\AppData\\Local\\Temp\\ipykernel_26536\\4128874332.py:11: DeprecationWarning:\n",
      "\n",
      "DataFrameGroupBy.apply operated on the grouping columns. This behavior is deprecated, and in a future version of pandas the grouping columns will be excluded from the operation. Either pass `include_groups=False` to exclude the groupings or explicitly select the grouping columns after groupby to silence this warning.\n",
      "\n",
      "C:\\Users\\antoi\\AppData\\Local\\Temp\\ipykernel_26536\\4128874332.py:11: DeprecationWarning:\n",
      "\n",
      "DataFrameGroupBy.apply operated on the grouping columns. This behavior is deprecated, and in a future version of pandas the grouping columns will be excluded from the operation. Either pass `include_groups=False` to exclude the groupings or explicitly select the grouping columns after groupby to silence this warning.\n",
      "\n",
      "C:\\Users\\antoi\\AppData\\Local\\Temp\\ipykernel_26536\\4128874332.py:11: DeprecationWarning:\n",
      "\n",
      "DataFrameGroupBy.apply operated on the grouping columns. This behavior is deprecated, and in a future version of pandas the grouping columns will be excluded from the operation. Either pass `include_groups=False` to exclude the groupings or explicitly select the grouping columns after groupby to silence this warning.\n",
      "\n",
      "C:\\Users\\antoi\\AppData\\Local\\Temp\\ipykernel_26536\\4128874332.py:11: DeprecationWarning:\n",
      "\n",
      "DataFrameGroupBy.apply operated on the grouping columns. This behavior is deprecated, and in a future version of pandas the grouping columns will be excluded from the operation. Either pass `include_groups=False` to exclude the groupings or explicitly select the grouping columns after groupby to silence this warning.\n",
      "\n",
      "C:\\Users\\antoi\\AppData\\Local\\Temp\\ipykernel_26536\\4128874332.py:11: DeprecationWarning:\n",
      "\n",
      "DataFrameGroupBy.apply operated on the grouping columns. This behavior is deprecated, and in a future version of pandas the grouping columns will be excluded from the operation. Either pass `include_groups=False` to exclude the groupings or explicitly select the grouping columns after groupby to silence this warning.\n",
      "\n",
      "C:\\Users\\antoi\\AppData\\Local\\Temp\\ipykernel_26536\\4128874332.py:11: DeprecationWarning:\n",
      "\n",
      "DataFrameGroupBy.apply operated on the grouping columns. This behavior is deprecated, and in a future version of pandas the grouping columns will be excluded from the operation. Either pass `include_groups=False` to exclude the groupings or explicitly select the grouping columns after groupby to silence this warning.\n",
      "\n",
      "C:\\Users\\antoi\\AppData\\Local\\Temp\\ipykernel_26536\\4128874332.py:11: DeprecationWarning:\n",
      "\n",
      "DataFrameGroupBy.apply operated on the grouping columns. This behavior is deprecated, and in a future version of pandas the grouping columns will be excluded from the operation. Either pass `include_groups=False` to exclude the groupings or explicitly select the grouping columns after groupby to silence this warning.\n",
      "\n",
      "C:\\Users\\antoi\\AppData\\Local\\Temp\\ipykernel_26536\\4128874332.py:11: DeprecationWarning:\n",
      "\n",
      "DataFrameGroupBy.apply operated on the grouping columns. This behavior is deprecated, and in a future version of pandas the grouping columns will be excluded from the operation. Either pass `include_groups=False` to exclude the groupings or explicitly select the grouping columns after groupby to silence this warning.\n",
      "\n",
      "C:\\Users\\antoi\\AppData\\Local\\Temp\\ipykernel_26536\\4128874332.py:11: DeprecationWarning:\n",
      "\n",
      "DataFrameGroupBy.apply operated on the grouping columns. This behavior is deprecated, and in a future version of pandas the grouping columns will be excluded from the operation. Either pass `include_groups=False` to exclude the groupings or explicitly select the grouping columns after groupby to silence this warning.\n",
      "\n",
      "C:\\Users\\antoi\\AppData\\Local\\Temp\\ipykernel_26536\\4128874332.py:11: DeprecationWarning:\n",
      "\n",
      "DataFrameGroupBy.apply operated on the grouping columns. This behavior is deprecated, and in a future version of pandas the grouping columns will be excluded from the operation. Either pass `include_groups=False` to exclude the groupings or explicitly select the grouping columns after groupby to silence this warning.\n",
      "\n",
      "C:\\Users\\antoi\\AppData\\Local\\Temp\\ipykernel_26536\\4128874332.py:11: DeprecationWarning:\n",
      "\n",
      "DataFrameGroupBy.apply operated on the grouping columns. This behavior is deprecated, and in a future version of pandas the grouping columns will be excluded from the operation. Either pass `include_groups=False` to exclude the groupings or explicitly select the grouping columns after groupby to silence this warning.\n",
      "\n",
      "C:\\Users\\antoi\\AppData\\Local\\Temp\\ipykernel_26536\\4128874332.py:11: DeprecationWarning:\n",
      "\n",
      "DataFrameGroupBy.apply operated on the grouping columns. This behavior is deprecated, and in a future version of pandas the grouping columns will be excluded from the operation. Either pass `include_groups=False` to exclude the groupings or explicitly select the grouping columns after groupby to silence this warning.\n",
      "\n",
      "C:\\Users\\antoi\\AppData\\Local\\Temp\\ipykernel_26536\\4128874332.py:11: DeprecationWarning:\n",
      "\n",
      "DataFrameGroupBy.apply operated on the grouping columns. This behavior is deprecated, and in a future version of pandas the grouping columns will be excluded from the operation. Either pass `include_groups=False` to exclude the groupings or explicitly select the grouping columns after groupby to silence this warning.\n",
      "\n",
      "C:\\Users\\antoi\\AppData\\Local\\Temp\\ipykernel_26536\\4128874332.py:11: DeprecationWarning:\n",
      "\n",
      "DataFrameGroupBy.apply operated on the grouping columns. This behavior is deprecated, and in a future version of pandas the grouping columns will be excluded from the operation. Either pass `include_groups=False` to exclude the groupings or explicitly select the grouping columns after groupby to silence this warning.\n",
      "\n",
      "C:\\Users\\antoi\\AppData\\Local\\Temp\\ipykernel_26536\\4128874332.py:11: DeprecationWarning:\n",
      "\n",
      "DataFrameGroupBy.apply operated on the grouping columns. This behavior is deprecated, and in a future version of pandas the grouping columns will be excluded from the operation. Either pass `include_groups=False` to exclude the groupings or explicitly select the grouping columns after groupby to silence this warning.\n",
      "\n",
      "C:\\Users\\antoi\\AppData\\Local\\Temp\\ipykernel_26536\\4128874332.py:11: DeprecationWarning:\n",
      "\n",
      "DataFrameGroupBy.apply operated on the grouping columns. This behavior is deprecated, and in a future version of pandas the grouping columns will be excluded from the operation. Either pass `include_groups=False` to exclude the groupings or explicitly select the grouping columns after groupby to silence this warning.\n",
      "\n",
      "C:\\Users\\antoi\\AppData\\Local\\Temp\\ipykernel_26536\\4128874332.py:11: DeprecationWarning:\n",
      "\n",
      "DataFrameGroupBy.apply operated on the grouping columns. This behavior is deprecated, and in a future version of pandas the grouping columns will be excluded from the operation. Either pass `include_groups=False` to exclude the groupings or explicitly select the grouping columns after groupby to silence this warning.\n",
      "\n",
      "C:\\Users\\antoi\\AppData\\Local\\Temp\\ipykernel_26536\\4128874332.py:11: DeprecationWarning:\n",
      "\n",
      "DataFrameGroupBy.apply operated on the grouping columns. This behavior is deprecated, and in a future version of pandas the grouping columns will be excluded from the operation. Either pass `include_groups=False` to exclude the groupings or explicitly select the grouping columns after groupby to silence this warning.\n",
      "\n",
      "C:\\Users\\antoi\\AppData\\Local\\Temp\\ipykernel_26536\\4128874332.py:11: DeprecationWarning:\n",
      "\n",
      "DataFrameGroupBy.apply operated on the grouping columns. This behavior is deprecated, and in a future version of pandas the grouping columns will be excluded from the operation. Either pass `include_groups=False` to exclude the groupings or explicitly select the grouping columns after groupby to silence this warning.\n",
      "\n",
      "C:\\Users\\antoi\\AppData\\Local\\Temp\\ipykernel_26536\\4128874332.py:11: DeprecationWarning:\n",
      "\n",
      "DataFrameGroupBy.apply operated on the grouping columns. This behavior is deprecated, and in a future version of pandas the grouping columns will be excluded from the operation. Either pass `include_groups=False` to exclude the groupings or explicitly select the grouping columns after groupby to silence this warning.\n",
      "\n",
      "C:\\Users\\antoi\\AppData\\Local\\Temp\\ipykernel_26536\\4128874332.py:11: DeprecationWarning:\n",
      "\n",
      "DataFrameGroupBy.apply operated on the grouping columns. This behavior is deprecated, and in a future version of pandas the grouping columns will be excluded from the operation. Either pass `include_groups=False` to exclude the groupings or explicitly select the grouping columns after groupby to silence this warning.\n",
      "\n",
      "C:\\Users\\antoi\\AppData\\Local\\Temp\\ipykernel_26536\\4128874332.py:11: DeprecationWarning:\n",
      "\n",
      "DataFrameGroupBy.apply operated on the grouping columns. This behavior is deprecated, and in a future version of pandas the grouping columns will be excluded from the operation. Either pass `include_groups=False` to exclude the groupings or explicitly select the grouping columns after groupby to silence this warning.\n",
      "\n",
      "C:\\Users\\antoi\\AppData\\Local\\Temp\\ipykernel_26536\\4128874332.py:11: DeprecationWarning:\n",
      "\n",
      "DataFrameGroupBy.apply operated on the grouping columns. This behavior is deprecated, and in a future version of pandas the grouping columns will be excluded from the operation. Either pass `include_groups=False` to exclude the groupings or explicitly select the grouping columns after groupby to silence this warning.\n",
      "\n",
      "C:\\Users\\antoi\\AppData\\Local\\Temp\\ipykernel_26536\\4128874332.py:11: DeprecationWarning:\n",
      "\n",
      "DataFrameGroupBy.apply operated on the grouping columns. This behavior is deprecated, and in a future version of pandas the grouping columns will be excluded from the operation. Either pass `include_groups=False` to exclude the groupings or explicitly select the grouping columns after groupby to silence this warning.\n",
      "\n",
      "C:\\Users\\antoi\\AppData\\Local\\Temp\\ipykernel_26536\\4128874332.py:11: DeprecationWarning:\n",
      "\n",
      "DataFrameGroupBy.apply operated on the grouping columns. This behavior is deprecated, and in a future version of pandas the grouping columns will be excluded from the operation. Either pass `include_groups=False` to exclude the groupings or explicitly select the grouping columns after groupby to silence this warning.\n",
      "\n",
      "C:\\Users\\antoi\\AppData\\Local\\Temp\\ipykernel_26536\\4128874332.py:11: DeprecationWarning:\n",
      "\n",
      "DataFrameGroupBy.apply operated on the grouping columns. This behavior is deprecated, and in a future version of pandas the grouping columns will be excluded from the operation. Either pass `include_groups=False` to exclude the groupings or explicitly select the grouping columns after groupby to silence this warning.\n",
      "\n",
      "C:\\Users\\antoi\\AppData\\Local\\Temp\\ipykernel_26536\\4128874332.py:11: DeprecationWarning:\n",
      "\n",
      "DataFrameGroupBy.apply operated on the grouping columns. This behavior is deprecated, and in a future version of pandas the grouping columns will be excluded from the operation. Either pass `include_groups=False` to exclude the groupings or explicitly select the grouping columns after groupby to silence this warning.\n",
      "\n",
      "C:\\Users\\antoi\\AppData\\Local\\Temp\\ipykernel_26536\\4128874332.py:11: DeprecationWarning:\n",
      "\n",
      "DataFrameGroupBy.apply operated on the grouping columns. This behavior is deprecated, and in a future version of pandas the grouping columns will be excluded from the operation. Either pass `include_groups=False` to exclude the groupings or explicitly select the grouping columns after groupby to silence this warning.\n",
      "\n",
      "C:\\Users\\antoi\\AppData\\Local\\Temp\\ipykernel_26536\\4128874332.py:11: DeprecationWarning:\n",
      "\n",
      "DataFrameGroupBy.apply operated on the grouping columns. This behavior is deprecated, and in a future version of pandas the grouping columns will be excluded from the operation. Either pass `include_groups=False` to exclude the groupings or explicitly select the grouping columns after groupby to silence this warning.\n",
      "\n",
      "C:\\Users\\antoi\\AppData\\Local\\Temp\\ipykernel_26536\\4128874332.py:11: DeprecationWarning:\n",
      "\n",
      "DataFrameGroupBy.apply operated on the grouping columns. This behavior is deprecated, and in a future version of pandas the grouping columns will be excluded from the operation. Either pass `include_groups=False` to exclude the groupings or explicitly select the grouping columns after groupby to silence this warning.\n",
      "\n",
      "C:\\Users\\antoi\\AppData\\Local\\Temp\\ipykernel_26536\\4128874332.py:11: DeprecationWarning:\n",
      "\n",
      "DataFrameGroupBy.apply operated on the grouping columns. This behavior is deprecated, and in a future version of pandas the grouping columns will be excluded from the operation. Either pass `include_groups=False` to exclude the groupings or explicitly select the grouping columns after groupby to silence this warning.\n",
      "\n",
      "C:\\Users\\antoi\\AppData\\Local\\Temp\\ipykernel_26536\\4128874332.py:11: DeprecationWarning:\n",
      "\n",
      "DataFrameGroupBy.apply operated on the grouping columns. This behavior is deprecated, and in a future version of pandas the grouping columns will be excluded from the operation. Either pass `include_groups=False` to exclude the groupings or explicitly select the grouping columns after groupby to silence this warning.\n",
      "\n",
      "C:\\Users\\antoi\\AppData\\Local\\Temp\\ipykernel_26536\\4128874332.py:11: DeprecationWarning:\n",
      "\n",
      "DataFrameGroupBy.apply operated on the grouping columns. This behavior is deprecated, and in a future version of pandas the grouping columns will be excluded from the operation. Either pass `include_groups=False` to exclude the groupings or explicitly select the grouping columns after groupby to silence this warning.\n",
      "\n",
      "C:\\Users\\antoi\\AppData\\Local\\Temp\\ipykernel_26536\\4128874332.py:11: DeprecationWarning:\n",
      "\n",
      "DataFrameGroupBy.apply operated on the grouping columns. This behavior is deprecated, and in a future version of pandas the grouping columns will be excluded from the operation. Either pass `include_groups=False` to exclude the groupings or explicitly select the grouping columns after groupby to silence this warning.\n",
      "\n",
      "C:\\Users\\antoi\\AppData\\Local\\Temp\\ipykernel_26536\\4128874332.py:11: DeprecationWarning:\n",
      "\n",
      "DataFrameGroupBy.apply operated on the grouping columns. This behavior is deprecated, and in a future version of pandas the grouping columns will be excluded from the operation. Either pass `include_groups=False` to exclude the groupings or explicitly select the grouping columns after groupby to silence this warning.\n",
      "\n",
      "C:\\Users\\antoi\\AppData\\Local\\Temp\\ipykernel_26536\\4128874332.py:11: DeprecationWarning:\n",
      "\n",
      "DataFrameGroupBy.apply operated on the grouping columns. This behavior is deprecated, and in a future version of pandas the grouping columns will be excluded from the operation. Either pass `include_groups=False` to exclude the groupings or explicitly select the grouping columns after groupby to silence this warning.\n",
      "\n",
      "C:\\Users\\antoi\\AppData\\Local\\Temp\\ipykernel_26536\\4128874332.py:11: DeprecationWarning:\n",
      "\n",
      "DataFrameGroupBy.apply operated on the grouping columns. This behavior is deprecated, and in a future version of pandas the grouping columns will be excluded from the operation. Either pass `include_groups=False` to exclude the groupings or explicitly select the grouping columns after groupby to silence this warning.\n",
      "\n",
      "C:\\Users\\antoi\\AppData\\Local\\Temp\\ipykernel_26536\\4128874332.py:11: DeprecationWarning:\n",
      "\n",
      "DataFrameGroupBy.apply operated on the grouping columns. This behavior is deprecated, and in a future version of pandas the grouping columns will be excluded from the operation. Either pass `include_groups=False` to exclude the groupings or explicitly select the grouping columns after groupby to silence this warning.\n",
      "\n",
      "C:\\Users\\antoi\\AppData\\Local\\Temp\\ipykernel_26536\\4128874332.py:11: DeprecationWarning:\n",
      "\n",
      "DataFrameGroupBy.apply operated on the grouping columns. This behavior is deprecated, and in a future version of pandas the grouping columns will be excluded from the operation. Either pass `include_groups=False` to exclude the groupings or explicitly select the grouping columns after groupby to silence this warning.\n",
      "\n",
      "C:\\Users\\antoi\\AppData\\Local\\Temp\\ipykernel_26536\\4128874332.py:11: DeprecationWarning:\n",
      "\n",
      "DataFrameGroupBy.apply operated on the grouping columns. This behavior is deprecated, and in a future version of pandas the grouping columns will be excluded from the operation. Either pass `include_groups=False` to exclude the groupings or explicitly select the grouping columns after groupby to silence this warning.\n",
      "\n",
      "C:\\Users\\antoi\\AppData\\Local\\Temp\\ipykernel_26536\\4128874332.py:11: DeprecationWarning:\n",
      "\n",
      "DataFrameGroupBy.apply operated on the grouping columns. This behavior is deprecated, and in a future version of pandas the grouping columns will be excluded from the operation. Either pass `include_groups=False` to exclude the groupings or explicitly select the grouping columns after groupby to silence this warning.\n",
      "\n",
      "C:\\Users\\antoi\\AppData\\Local\\Temp\\ipykernel_26536\\4128874332.py:11: DeprecationWarning:\n",
      "\n",
      "DataFrameGroupBy.apply operated on the grouping columns. This behavior is deprecated, and in a future version of pandas the grouping columns will be excluded from the operation. Either pass `include_groups=False` to exclude the groupings or explicitly select the grouping columns after groupby to silence this warning.\n",
      "\n",
      "C:\\Users\\antoi\\AppData\\Local\\Temp\\ipykernel_26536\\4128874332.py:11: DeprecationWarning:\n",
      "\n",
      "DataFrameGroupBy.apply operated on the grouping columns. This behavior is deprecated, and in a future version of pandas the grouping columns will be excluded from the operation. Either pass `include_groups=False` to exclude the groupings or explicitly select the grouping columns after groupby to silence this warning.\n",
      "\n",
      "C:\\Users\\antoi\\AppData\\Local\\Temp\\ipykernel_26536\\4128874332.py:11: DeprecationWarning:\n",
      "\n",
      "DataFrameGroupBy.apply operated on the grouping columns. This behavior is deprecated, and in a future version of pandas the grouping columns will be excluded from the operation. Either pass `include_groups=False` to exclude the groupings or explicitly select the grouping columns after groupby to silence this warning.\n",
      "\n",
      "C:\\Users\\antoi\\AppData\\Local\\Temp\\ipykernel_26536\\4128874332.py:11: DeprecationWarning:\n",
      "\n",
      "DataFrameGroupBy.apply operated on the grouping columns. This behavior is deprecated, and in a future version of pandas the grouping columns will be excluded from the operation. Either pass `include_groups=False` to exclude the groupings or explicitly select the grouping columns after groupby to silence this warning.\n",
      "\n",
      "C:\\Users\\antoi\\AppData\\Local\\Temp\\ipykernel_26536\\4128874332.py:11: DeprecationWarning:\n",
      "\n",
      "DataFrameGroupBy.apply operated on the grouping columns. This behavior is deprecated, and in a future version of pandas the grouping columns will be excluded from the operation. Either pass `include_groups=False` to exclude the groupings or explicitly select the grouping columns after groupby to silence this warning.\n",
      "\n",
      "C:\\Users\\antoi\\AppData\\Local\\Temp\\ipykernel_26536\\4128874332.py:11: DeprecationWarning:\n",
      "\n",
      "DataFrameGroupBy.apply operated on the grouping columns. This behavior is deprecated, and in a future version of pandas the grouping columns will be excluded from the operation. Either pass `include_groups=False` to exclude the groupings or explicitly select the grouping columns after groupby to silence this warning.\n",
      "\n",
      "C:\\Users\\antoi\\AppData\\Local\\Temp\\ipykernel_26536\\4128874332.py:11: DeprecationWarning:\n",
      "\n",
      "DataFrameGroupBy.apply operated on the grouping columns. This behavior is deprecated, and in a future version of pandas the grouping columns will be excluded from the operation. Either pass `include_groups=False` to exclude the groupings or explicitly select the grouping columns after groupby to silence this warning.\n",
      "\n",
      "C:\\Users\\antoi\\AppData\\Local\\Temp\\ipykernel_26536\\4128874332.py:11: DeprecationWarning:\n",
      "\n",
      "DataFrameGroupBy.apply operated on the grouping columns. This behavior is deprecated, and in a future version of pandas the grouping columns will be excluded from the operation. Either pass `include_groups=False` to exclude the groupings or explicitly select the grouping columns after groupby to silence this warning.\n",
      "\n",
      "C:\\Users\\antoi\\AppData\\Local\\Temp\\ipykernel_26536\\4128874332.py:11: DeprecationWarning:\n",
      "\n",
      "DataFrameGroupBy.apply operated on the grouping columns. This behavior is deprecated, and in a future version of pandas the grouping columns will be excluded from the operation. Either pass `include_groups=False` to exclude the groupings or explicitly select the grouping columns after groupby to silence this warning.\n",
      "\n",
      "C:\\Users\\antoi\\AppData\\Local\\Temp\\ipykernel_26536\\4128874332.py:11: DeprecationWarning:\n",
      "\n",
      "DataFrameGroupBy.apply operated on the grouping columns. This behavior is deprecated, and in a future version of pandas the grouping columns will be excluded from the operation. Either pass `include_groups=False` to exclude the groupings or explicitly select the grouping columns after groupby to silence this warning.\n",
      "\n",
      "C:\\Users\\antoi\\AppData\\Local\\Temp\\ipykernel_26536\\4128874332.py:11: DeprecationWarning:\n",
      "\n",
      "DataFrameGroupBy.apply operated on the grouping columns. This behavior is deprecated, and in a future version of pandas the grouping columns will be excluded from the operation. Either pass `include_groups=False` to exclude the groupings or explicitly select the grouping columns after groupby to silence this warning.\n",
      "\n",
      "C:\\Users\\antoi\\AppData\\Local\\Temp\\ipykernel_26536\\4128874332.py:11: DeprecationWarning:\n",
      "\n",
      "DataFrameGroupBy.apply operated on the grouping columns. This behavior is deprecated, and in a future version of pandas the grouping columns will be excluded from the operation. Either pass `include_groups=False` to exclude the groupings or explicitly select the grouping columns after groupby to silence this warning.\n",
      "\n",
      "C:\\Users\\antoi\\AppData\\Local\\Temp\\ipykernel_26536\\4128874332.py:11: DeprecationWarning:\n",
      "\n",
      "DataFrameGroupBy.apply operated on the grouping columns. This behavior is deprecated, and in a future version of pandas the grouping columns will be excluded from the operation. Either pass `include_groups=False` to exclude the groupings or explicitly select the grouping columns after groupby to silence this warning.\n",
      "\n",
      "C:\\Users\\antoi\\AppData\\Local\\Temp\\ipykernel_26536\\4128874332.py:11: DeprecationWarning:\n",
      "\n",
      "DataFrameGroupBy.apply operated on the grouping columns. This behavior is deprecated, and in a future version of pandas the grouping columns will be excluded from the operation. Either pass `include_groups=False` to exclude the groupings or explicitly select the grouping columns after groupby to silence this warning.\n",
      "\n",
      "C:\\Users\\antoi\\AppData\\Local\\Temp\\ipykernel_26536\\4128874332.py:11: DeprecationWarning:\n",
      "\n",
      "DataFrameGroupBy.apply operated on the grouping columns. This behavior is deprecated, and in a future version of pandas the grouping columns will be excluded from the operation. Either pass `include_groups=False` to exclude the groupings or explicitly select the grouping columns after groupby to silence this warning.\n",
      "\n",
      "C:\\Users\\antoi\\AppData\\Local\\Temp\\ipykernel_26536\\4128874332.py:11: DeprecationWarning:\n",
      "\n",
      "DataFrameGroupBy.apply operated on the grouping columns. This behavior is deprecated, and in a future version of pandas the grouping columns will be excluded from the operation. Either pass `include_groups=False` to exclude the groupings or explicitly select the grouping columns after groupby to silence this warning.\n",
      "\n",
      "C:\\Users\\antoi\\AppData\\Local\\Temp\\ipykernel_26536\\4128874332.py:11: DeprecationWarning:\n",
      "\n",
      "DataFrameGroupBy.apply operated on the grouping columns. This behavior is deprecated, and in a future version of pandas the grouping columns will be excluded from the operation. Either pass `include_groups=False` to exclude the groupings or explicitly select the grouping columns after groupby to silence this warning.\n",
      "\n",
      "C:\\Users\\antoi\\AppData\\Local\\Temp\\ipykernel_26536\\4128874332.py:11: DeprecationWarning:\n",
      "\n",
      "DataFrameGroupBy.apply operated on the grouping columns. This behavior is deprecated, and in a future version of pandas the grouping columns will be excluded from the operation. Either pass `include_groups=False` to exclude the groupings or explicitly select the grouping columns after groupby to silence this warning.\n",
      "\n",
      "C:\\Users\\antoi\\AppData\\Local\\Temp\\ipykernel_26536\\4128874332.py:11: DeprecationWarning:\n",
      "\n",
      "DataFrameGroupBy.apply operated on the grouping columns. This behavior is deprecated, and in a future version of pandas the grouping columns will be excluded from the operation. Either pass `include_groups=False` to exclude the groupings or explicitly select the grouping columns after groupby to silence this warning.\n",
      "\n",
      "C:\\Users\\antoi\\AppData\\Local\\Temp\\ipykernel_26536\\4128874332.py:11: DeprecationWarning:\n",
      "\n",
      "DataFrameGroupBy.apply operated on the grouping columns. This behavior is deprecated, and in a future version of pandas the grouping columns will be excluded from the operation. Either pass `include_groups=False` to exclude the groupings or explicitly select the grouping columns after groupby to silence this warning.\n",
      "\n",
      "C:\\Users\\antoi\\AppData\\Local\\Temp\\ipykernel_26536\\4128874332.py:11: DeprecationWarning:\n",
      "\n",
      "DataFrameGroupBy.apply operated on the grouping columns. This behavior is deprecated, and in a future version of pandas the grouping columns will be excluded from the operation. Either pass `include_groups=False` to exclude the groupings or explicitly select the grouping columns after groupby to silence this warning.\n",
      "\n",
      "C:\\Users\\antoi\\AppData\\Local\\Temp\\ipykernel_26536\\4128874332.py:11: DeprecationWarning:\n",
      "\n",
      "DataFrameGroupBy.apply operated on the grouping columns. This behavior is deprecated, and in a future version of pandas the grouping columns will be excluded from the operation. Either pass `include_groups=False` to exclude the groupings or explicitly select the grouping columns after groupby to silence this warning.\n",
      "\n",
      "C:\\Users\\antoi\\AppData\\Local\\Temp\\ipykernel_26536\\4128874332.py:11: DeprecationWarning:\n",
      "\n",
      "DataFrameGroupBy.apply operated on the grouping columns. This behavior is deprecated, and in a future version of pandas the grouping columns will be excluded from the operation. Either pass `include_groups=False` to exclude the groupings or explicitly select the grouping columns after groupby to silence this warning.\n",
      "\n",
      "C:\\Users\\antoi\\AppData\\Local\\Temp\\ipykernel_26536\\4128874332.py:11: DeprecationWarning:\n",
      "\n",
      "DataFrameGroupBy.apply operated on the grouping columns. This behavior is deprecated, and in a future version of pandas the grouping columns will be excluded from the operation. Either pass `include_groups=False` to exclude the groupings or explicitly select the grouping columns after groupby to silence this warning.\n",
      "\n",
      "C:\\Users\\antoi\\AppData\\Local\\Temp\\ipykernel_26536\\4128874332.py:11: DeprecationWarning:\n",
      "\n",
      "DataFrameGroupBy.apply operated on the grouping columns. This behavior is deprecated, and in a future version of pandas the grouping columns will be excluded from the operation. Either pass `include_groups=False` to exclude the groupings or explicitly select the grouping columns after groupby to silence this warning.\n",
      "\n",
      "C:\\Users\\antoi\\AppData\\Local\\Temp\\ipykernel_26536\\4128874332.py:11: DeprecationWarning:\n",
      "\n",
      "DataFrameGroupBy.apply operated on the grouping columns. This behavior is deprecated, and in a future version of pandas the grouping columns will be excluded from the operation. Either pass `include_groups=False` to exclude the groupings or explicitly select the grouping columns after groupby to silence this warning.\n",
      "\n",
      "C:\\Users\\antoi\\AppData\\Local\\Temp\\ipykernel_26536\\4128874332.py:11: DeprecationWarning:\n",
      "\n",
      "DataFrameGroupBy.apply operated on the grouping columns. This behavior is deprecated, and in a future version of pandas the grouping columns will be excluded from the operation. Either pass `include_groups=False` to exclude the groupings or explicitly select the grouping columns after groupby to silence this warning.\n",
      "\n",
      "C:\\Users\\antoi\\AppData\\Local\\Temp\\ipykernel_26536\\4128874332.py:11: DeprecationWarning:\n",
      "\n",
      "DataFrameGroupBy.apply operated on the grouping columns. This behavior is deprecated, and in a future version of pandas the grouping columns will be excluded from the operation. Either pass `include_groups=False` to exclude the groupings or explicitly select the grouping columns after groupby to silence this warning.\n",
      "\n",
      "C:\\Users\\antoi\\AppData\\Local\\Temp\\ipykernel_26536\\4128874332.py:11: DeprecationWarning:\n",
      "\n",
      "DataFrameGroupBy.apply operated on the grouping columns. This behavior is deprecated, and in a future version of pandas the grouping columns will be excluded from the operation. Either pass `include_groups=False` to exclude the groupings or explicitly select the grouping columns after groupby to silence this warning.\n",
      "\n",
      "C:\\Users\\antoi\\AppData\\Local\\Temp\\ipykernel_26536\\4128874332.py:11: DeprecationWarning:\n",
      "\n",
      "DataFrameGroupBy.apply operated on the grouping columns. This behavior is deprecated, and in a future version of pandas the grouping columns will be excluded from the operation. Either pass `include_groups=False` to exclude the groupings or explicitly select the grouping columns after groupby to silence this warning.\n",
      "\n",
      "C:\\Users\\antoi\\AppData\\Local\\Temp\\ipykernel_26536\\4128874332.py:11: DeprecationWarning:\n",
      "\n",
      "DataFrameGroupBy.apply operated on the grouping columns. This behavior is deprecated, and in a future version of pandas the grouping columns will be excluded from the operation. Either pass `include_groups=False` to exclude the groupings or explicitly select the grouping columns after groupby to silence this warning.\n",
      "\n",
      "C:\\Users\\antoi\\AppData\\Local\\Temp\\ipykernel_26536\\4128874332.py:11: DeprecationWarning:\n",
      "\n",
      "DataFrameGroupBy.apply operated on the grouping columns. This behavior is deprecated, and in a future version of pandas the grouping columns will be excluded from the operation. Either pass `include_groups=False` to exclude the groupings or explicitly select the grouping columns after groupby to silence this warning.\n",
      "\n",
      "C:\\Users\\antoi\\AppData\\Local\\Temp\\ipykernel_26536\\4128874332.py:11: DeprecationWarning:\n",
      "\n",
      "DataFrameGroupBy.apply operated on the grouping columns. This behavior is deprecated, and in a future version of pandas the grouping columns will be excluded from the operation. Either pass `include_groups=False` to exclude the groupings or explicitly select the grouping columns after groupby to silence this warning.\n",
      "\n",
      "C:\\Users\\antoi\\AppData\\Local\\Temp\\ipykernel_26536\\4128874332.py:11: DeprecationWarning:\n",
      "\n",
      "DataFrameGroupBy.apply operated on the grouping columns. This behavior is deprecated, and in a future version of pandas the grouping columns will be excluded from the operation. Either pass `include_groups=False` to exclude the groupings or explicitly select the grouping columns after groupby to silence this warning.\n",
      "\n",
      "C:\\Users\\antoi\\AppData\\Local\\Temp\\ipykernel_26536\\4128874332.py:11: DeprecationWarning:\n",
      "\n",
      "DataFrameGroupBy.apply operated on the grouping columns. This behavior is deprecated, and in a future version of pandas the grouping columns will be excluded from the operation. Either pass `include_groups=False` to exclude the groupings or explicitly select the grouping columns after groupby to silence this warning.\n",
      "\n",
      "C:\\Users\\antoi\\AppData\\Local\\Temp\\ipykernel_26536\\4128874332.py:11: DeprecationWarning:\n",
      "\n",
      "DataFrameGroupBy.apply operated on the grouping columns. This behavior is deprecated, and in a future version of pandas the grouping columns will be excluded from the operation. Either pass `include_groups=False` to exclude the groupings or explicitly select the grouping columns after groupby to silence this warning.\n",
      "\n",
      "C:\\Users\\antoi\\AppData\\Local\\Temp\\ipykernel_26536\\4128874332.py:11: DeprecationWarning:\n",
      "\n",
      "DataFrameGroupBy.apply operated on the grouping columns. This behavior is deprecated, and in a future version of pandas the grouping columns will be excluded from the operation. Either pass `include_groups=False` to exclude the groupings or explicitly select the grouping columns after groupby to silence this warning.\n",
      "\n",
      "C:\\Users\\antoi\\AppData\\Local\\Temp\\ipykernel_26536\\4128874332.py:11: DeprecationWarning:\n",
      "\n",
      "DataFrameGroupBy.apply operated on the grouping columns. This behavior is deprecated, and in a future version of pandas the grouping columns will be excluded from the operation. Either pass `include_groups=False` to exclude the groupings or explicitly select the grouping columns after groupby to silence this warning.\n",
      "\n",
      "C:\\Users\\antoi\\AppData\\Local\\Temp\\ipykernel_26536\\4128874332.py:11: DeprecationWarning:\n",
      "\n",
      "DataFrameGroupBy.apply operated on the grouping columns. This behavior is deprecated, and in a future version of pandas the grouping columns will be excluded from the operation. Either pass `include_groups=False` to exclude the groupings or explicitly select the grouping columns after groupby to silence this warning.\n",
      "\n",
      "C:\\Users\\antoi\\AppData\\Local\\Temp\\ipykernel_26536\\4128874332.py:11: DeprecationWarning:\n",
      "\n",
      "DataFrameGroupBy.apply operated on the grouping columns. This behavior is deprecated, and in a future version of pandas the grouping columns will be excluded from the operation. Either pass `include_groups=False` to exclude the groupings or explicitly select the grouping columns after groupby to silence this warning.\n",
      "\n",
      "C:\\Users\\antoi\\AppData\\Local\\Temp\\ipykernel_26536\\4128874332.py:11: DeprecationWarning:\n",
      "\n",
      "DataFrameGroupBy.apply operated on the grouping columns. This behavior is deprecated, and in a future version of pandas the grouping columns will be excluded from the operation. Either pass `include_groups=False` to exclude the groupings or explicitly select the grouping columns after groupby to silence this warning.\n",
      "\n",
      "C:\\Users\\antoi\\AppData\\Local\\Temp\\ipykernel_26536\\4128874332.py:11: DeprecationWarning:\n",
      "\n",
      "DataFrameGroupBy.apply operated on the grouping columns. This behavior is deprecated, and in a future version of pandas the grouping columns will be excluded from the operation. Either pass `include_groups=False` to exclude the groupings or explicitly select the grouping columns after groupby to silence this warning.\n",
      "\n",
      "C:\\Users\\antoi\\AppData\\Local\\Temp\\ipykernel_26536\\4128874332.py:11: DeprecationWarning:\n",
      "\n",
      "DataFrameGroupBy.apply operated on the grouping columns. This behavior is deprecated, and in a future version of pandas the grouping columns will be excluded from the operation. Either pass `include_groups=False` to exclude the groupings or explicitly select the grouping columns after groupby to silence this warning.\n",
      "\n",
      "C:\\Users\\antoi\\AppData\\Local\\Temp\\ipykernel_26536\\4128874332.py:11: DeprecationWarning:\n",
      "\n",
      "DataFrameGroupBy.apply operated on the grouping columns. This behavior is deprecated, and in a future version of pandas the grouping columns will be excluded from the operation. Either pass `include_groups=False` to exclude the groupings or explicitly select the grouping columns after groupby to silence this warning.\n",
      "\n",
      "C:\\Users\\antoi\\AppData\\Local\\Temp\\ipykernel_26536\\4128874332.py:11: DeprecationWarning:\n",
      "\n",
      "DataFrameGroupBy.apply operated on the grouping columns. This behavior is deprecated, and in a future version of pandas the grouping columns will be excluded from the operation. Either pass `include_groups=False` to exclude the groupings or explicitly select the grouping columns after groupby to silence this warning.\n",
      "\n",
      "C:\\Users\\antoi\\AppData\\Local\\Temp\\ipykernel_26536\\4128874332.py:11: DeprecationWarning:\n",
      "\n",
      "DataFrameGroupBy.apply operated on the grouping columns. This behavior is deprecated, and in a future version of pandas the grouping columns will be excluded from the operation. Either pass `include_groups=False` to exclude the groupings or explicitly select the grouping columns after groupby to silence this warning.\n",
      "\n",
      "C:\\Users\\antoi\\AppData\\Local\\Temp\\ipykernel_26536\\4128874332.py:11: DeprecationWarning:\n",
      "\n",
      "DataFrameGroupBy.apply operated on the grouping columns. This behavior is deprecated, and in a future version of pandas the grouping columns will be excluded from the operation. Either pass `include_groups=False` to exclude the groupings or explicitly select the grouping columns after groupby to silence this warning.\n",
      "\n",
      "C:\\Users\\antoi\\AppData\\Local\\Temp\\ipykernel_26536\\4128874332.py:11: DeprecationWarning:\n",
      "\n",
      "DataFrameGroupBy.apply operated on the grouping columns. This behavior is deprecated, and in a future version of pandas the grouping columns will be excluded from the operation. Either pass `include_groups=False` to exclude the groupings or explicitly select the grouping columns after groupby to silence this warning.\n",
      "\n",
      "C:\\Users\\antoi\\AppData\\Local\\Temp\\ipykernel_26536\\4128874332.py:11: DeprecationWarning:\n",
      "\n",
      "DataFrameGroupBy.apply operated on the grouping columns. This behavior is deprecated, and in a future version of pandas the grouping columns will be excluded from the operation. Either pass `include_groups=False` to exclude the groupings or explicitly select the grouping columns after groupby to silence this warning.\n",
      "\n",
      "C:\\Users\\antoi\\AppData\\Local\\Temp\\ipykernel_26536\\4128874332.py:11: DeprecationWarning:\n",
      "\n",
      "DataFrameGroupBy.apply operated on the grouping columns. This behavior is deprecated, and in a future version of pandas the grouping columns will be excluded from the operation. Either pass `include_groups=False` to exclude the groupings or explicitly select the grouping columns after groupby to silence this warning.\n",
      "\n",
      "C:\\Users\\antoi\\AppData\\Local\\Temp\\ipykernel_26536\\4128874332.py:11: DeprecationWarning:\n",
      "\n",
      "DataFrameGroupBy.apply operated on the grouping columns. This behavior is deprecated, and in a future version of pandas the grouping columns will be excluded from the operation. Either pass `include_groups=False` to exclude the groupings or explicitly select the grouping columns after groupby to silence this warning.\n",
      "\n",
      "C:\\Users\\antoi\\AppData\\Local\\Temp\\ipykernel_26536\\4128874332.py:11: DeprecationWarning:\n",
      "\n",
      "DataFrameGroupBy.apply operated on the grouping columns. This behavior is deprecated, and in a future version of pandas the grouping columns will be excluded from the operation. Either pass `include_groups=False` to exclude the groupings or explicitly select the grouping columns after groupby to silence this warning.\n",
      "\n",
      "C:\\Users\\antoi\\AppData\\Local\\Temp\\ipykernel_26536\\4128874332.py:11: DeprecationWarning:\n",
      "\n",
      "DataFrameGroupBy.apply operated on the grouping columns. This behavior is deprecated, and in a future version of pandas the grouping columns will be excluded from the operation. Either pass `include_groups=False` to exclude the groupings or explicitly select the grouping columns after groupby to silence this warning.\n",
      "\n",
      "C:\\Users\\antoi\\AppData\\Local\\Temp\\ipykernel_26536\\4128874332.py:11: DeprecationWarning:\n",
      "\n",
      "DataFrameGroupBy.apply operated on the grouping columns. This behavior is deprecated, and in a future version of pandas the grouping columns will be excluded from the operation. Either pass `include_groups=False` to exclude the groupings or explicitly select the grouping columns after groupby to silence this warning.\n",
      "\n",
      "C:\\Users\\antoi\\AppData\\Local\\Temp\\ipykernel_26536\\4128874332.py:11: DeprecationWarning:\n",
      "\n",
      "DataFrameGroupBy.apply operated on the grouping columns. This behavior is deprecated, and in a future version of pandas the grouping columns will be excluded from the operation. Either pass `include_groups=False` to exclude the groupings or explicitly select the grouping columns after groupby to silence this warning.\n",
      "\n",
      "C:\\Users\\antoi\\AppData\\Local\\Temp\\ipykernel_26536\\4128874332.py:11: DeprecationWarning:\n",
      "\n",
      "DataFrameGroupBy.apply operated on the grouping columns. This behavior is deprecated, and in a future version of pandas the grouping columns will be excluded from the operation. Either pass `include_groups=False` to exclude the groupings or explicitly select the grouping columns after groupby to silence this warning.\n",
      "\n"
     ]
    }
   ],
   "source": [
    "import pandas as pd\n",
    "\n",
    "def calculate_satisfaction_rate(group_ratings_df, threshold=4):\n",
    "\n",
    "    # Step 1: Check if the DataFrame is empty\n",
    "    if group_ratings_df.empty:\n",
    "        return 0.0\n",
    "\n",
    "    # Step 2: Calculate satisfaction for each wine\n",
    "    # Group by WineID and calculate the percentage of group members rating >= threshold\n",
    "    satisfaction_df = group_ratings_df.groupby('WineID').apply(\n",
    "        lambda x: (x['Rating'] >= threshold).mean()\n",
    "    ).reset_index()\n",
    "    \n",
    "    # Step 3: Calculate Satisfaction Rate: Proportion of wines with a satisfaction rate >= 0.5\n",
    "    satisfaction_df.columns = ['WineID', 'SatisfactionPercentage']\n",
    "    satisfaction_rate = (satisfaction_df['SatisfactionPercentage'] >= 0.5).mean()\n",
    "\n",
    "    return round(satisfaction_rate, 2)  # Return the satisfaction rate rounded to 2 decimal places\n",
    "\n",
    "# Beispiel: Berechnung der Satisfaction Rate für alle Gruppen\n",
    "group_satisfaction_scores = []  # Store the satisfaction rate for each group\n",
    "\n",
    "for group_id in range(240):  # Assuming there are 240 groups\n",
    "    try:\n",
    "        # Get ratings for the group and recommended wines\n",
    "        group_ratings_df = get_wines_rated_by_group(group_data, group_id, ratings_data, wine_id=None)  # Get all ratings for the group\n",
    "\n",
    "        # Calculate satisfaction rate for the current group\n",
    "        satisfaction_rate = calculate_satisfaction_rate(group_ratings_df)\n",
    "        \n",
    "        # Store group ID and satisfaction rate\n",
    "        group_satisfaction_scores.append({'GroupID': group_id, 'SatisfactionRate': satisfaction_rate})\n",
    "    \n",
    "    except Exception as e:\n",
    "        print(f\"Error processing Group ID {group_id}: {e}\")\n",
    "\n",
    "# Convert to DataFrame for better visualization\n",
    "satisfaction_df = pd.DataFrame(group_satisfaction_scores)\n"
   ]
  },
  {
   "cell_type": "code",
   "execution_count": 84,
   "metadata": {},
   "outputs": [
    {
     "data": {
      "image/png": "[encoded data removed]",
      "text/plain": [
       "<Figure size 1200x600 with 1 Axes>"
      ]
     },
     "metadata": {},
     "output_type": "display_data"
    }
   ],
   "source": [
    "import matplotlib.pyplot as plt\n",
    "\n",
    "# Create a histogram of satisfaction rates\n",
    "plt.figure(figsize=(12, 6))\n",
    "plt.hist(satisfaction_df['SatisfactionRate'], bins=20, color='skyblue', edgecolor='black')\n",
    "plt.xlabel('Satisfaction Rate')\n",
    "plt.ylabel('Number of Groups')\n",
    "plt.title('Distribution of Satisfaction Rates Across All Groups')\n",
    "plt.show()\n"
   ]
  },
  {
   "cell_type": "code",
   "execution_count": 27,
   "metadata": {},
   "outputs": [
    {
     "name": "stdout",
     "output_type": "stream",
     "text": [
      "Average Fairness Score: 0.93\n",
      "Average Satisfaction Rate: 0.99\n",
      "Average Bewertung über alle Gruppen: 4.73\n"
     ]
    },
    {
     "data": {
      "image/png": "[encoded data removed]",
      "text/plain": [
       "<Figure size 1000x600 with 1 Axes>"
      ]
     },
     "metadata": {},
     "output_type": "display_data"
    },
    {
     "data": {
      "image/png": "[encoded data removed]",
      "text/plain": [
       "<Figure size 1000x600 with 1 Axes>"
      ]
     },
     "metadata": {},
     "output_type": "display_data"
    }
   ],
   "source": [
    "import pandas as pd\n",
    "import matplotlib.pyplot as plt\n",
    "\n",
    "# Annahme: `group_avg_ratings_df` und `individual_ratings_df` sind bereits definiert.\n",
    "\n",
    "# Schritt 1: Definiere den Zufriedenheitsschwellenwert\n",
    "satisfaction_threshold = 4.0\n",
    "\n",
    "# Schritt 2: Berechnung des Fairness Scores pro Gruppe\n",
    "# Berechnen der Standardabweichung der Bewertungen für jede Gruppe\n",
    "group_fairness_df = (\n",
    "    individual_ratings_df.groupby('GroupID')['Rating']\n",
    "    .std()  # Berechne die Standardabweichung pro Gruppe\n",
    "    .reset_index()  # Zurücksetzen des Index\n",
    "    .rename(columns={'Rating': 'StdDev'})  # Spalte umbenennen\n",
    ")\n",
    "\n",
    "# Berechnung des Fairness Scores: 1 - (Standardabweichung / (max rating - min rating))\n",
    "group_fairness_df['FairnessScore'] = 1 - (group_fairness_df['StdDev'] / (5 - 1))\n",
    "\n",
    "# Schritt 3: Berechnung der Satisfaction Rate pro Gruppe\n",
    "# Berechnen des Anteils der zufriedenstellenden Bewertungen (z.B. >= 4.0) für jede Gruppe\n",
    "group_satisfaction_df = (\n",
    "    individual_ratings_df[individual_ratings_df['Rating'] >= satisfaction_threshold]  # Filter auf Zufriedenheitsbewertungen\n",
    "    .groupby('GroupID').size()  # Anzahl zufriedener Bewertungen pro Gruppe\n",
    "    .reset_index(name='SatisfiedCount')\n",
    ")\n",
    "\n",
    "# Berechnung der Gesamtanzahl der Bewertungen pro Gruppe\n",
    "total_ratings_df = individual_ratings_df.groupby('GroupID').size().reset_index(name='TotalRatings')\n",
    "\n",
    "# Merge der beiden DataFrames: Zufriedene Bewertungen + Gesamtanzahl\n",
    "group_satisfaction_df = pd.merge(group_satisfaction_df, total_ratings_df, on='GroupID')\n",
    "\n",
    "# Berechnung der Satisfaction Rate\n",
    "group_satisfaction_df['SatisfactionRate'] = group_satisfaction_df['SatisfiedCount'] / group_satisfaction_df['TotalRatings']\n",
    "\n",
    "# Schritt 4: Berechnung der durchschnittlichen Werte\n",
    "overall_avg_rating = round(group_avg_ratings_df['AverageRating'].mean(), 2)\n",
    "overall_fairness = round(group_fairness_df['FairnessScore'].mean(), 2)\n",
    "overall_satisfaction = round(group_satisfaction_df['SatisfactionRate'].mean(), 2)\n",
    "\n",
    "# Schritt 5: Ausgabe der durchschnittlichen Werte\n",
    "print(f\"Average Fairness Score: {overall_fairness}\")\n",
    "print(f\"Average Satisfaction Rate: {overall_satisfaction}\")\n",
    "print(f\"Average Bewertung über alle Gruppen: {overall_avg_rating}\")\n",
    "\n",
    "# Schritt 6: Visualisierung der Fairness Scores als Histogramm\n",
    "plt.figure(figsize=(10, 6))\n",
    "plt.hist(group_fairness_df['FairnessScore'].dropna(), bins=10, color='lightblue', edgecolor='black')\n",
    "plt.xlabel('Fairness Score')\n",
    "plt.ylabel('Number of Groups')\n",
    "plt.title('Distribution of Fairness Scores Across Groups')\n",
    "plt.grid(axis='y', linestyle='--', alpha=0.7)\n",
    "plt.show()\n",
    "\n",
    "# Schritt 7: Visualisierung der Satisfaction Rates als Histogramm\n",
    "plt.figure(figsize=(10, 6))\n",
    "plt.hist(group_satisfaction_df['SatisfactionRate'].dropna(), bins=10, color='lightgreen', edgecolor='black')\n",
    "plt.xlabel('Satisfaction Rate')\n",
    "plt.ylabel('Number of Groups')\n",
    "plt.title('Distribution of Satisfaction Rates Across Groups')\n",
    "plt.grid(axis='y', linestyle='--', alpha=0.7)\n",
    "plt.show()\n"
   ]
  }
 ],
 "metadata": {
  "kernelspec": {
   "display_name": "Python 3",
   "language": "python",
   "name": "python3"
  },
  "language_info": {
   "codemirror_mode": {
    "name": "ipython",
    "version": 3
   },
   "file_extension": ".py",
   "mimetype": "text/x-python",
   "name": "python",
   "nbconvert_exporter": "python",
   "pygments_lexer": "ipython3",
   "version": "3.11.9"
  }
 },
 "nbformat": 4,
 "nbformat_minor": 2
}
